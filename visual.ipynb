{
 "cells": [
  {
   "cell_type": "markdown",
   "metadata": {},
   "source": [
    "### **Import Library**"
   ]
  },
  {
   "cell_type": "code",
   "execution_count": 38,
   "metadata": {},
   "outputs": [],
   "source": [
    "import pandas as pd\n",
    "import matplotlib.pyplot as plt\n",
    "import seaborn as sns\n",
    "import plotly.express as px\n",
    "import json\n",
    "import numpy as np\n",
    "from sklearn.linear_model import LinearRegression\n",
    "from sklearn.model_selection import train_test_split\n",
    "from sklearn.metrics import mean_squared_error, r2_score"
   ]
  },
  {
   "cell_type": "markdown",
   "metadata": {},
   "source": [
    "### **Muat data kanji dari file JSON**"
   ]
  },
  {
   "cell_type": "code",
   "execution_count": 2,
   "metadata": {},
   "outputs": [],
   "source": [
    "with open('kanji.json', 'r', encoding='utf-8') as file:\n",
    "    kanji_data = json.load(file)"
   ]
  },
  {
   "cell_type": "markdown",
   "metadata": {},
   "source": [
    "### **Ubah data menjadi dataframe pandas**"
   ]
  },
  {
   "cell_type": "code",
   "execution_count": 39,
   "metadata": {},
   "outputs": [],
   "source": [
    "df = pd.DataFrame.from_dict(kanji_data, orient='index')"
   ]
  },
  {
   "cell_type": "markdown",
   "metadata": {},
   "source": [
    "### **Hapus baris dengan nilai NaN**"
   ]
  },
  {
   "cell_type": "code",
   "execution_count": 40,
   "metadata": {},
   "outputs": [],
   "source": [
    "df.dropna(inplace=True)"
   ]
  },
  {
   "cell_type": "markdown",
   "metadata": {},
   "source": [
    "### **Normalisasi jumlah pembacaan on dan kun**"
   ]
  },
  {
   "cell_type": "code",
   "execution_count": 41,
   "metadata": {},
   "outputs": [],
   "source": [
    "df['readings_on_count'] = df['readings_on'].apply(len)\n",
    "df['readings_kun_count'] = df['readings_kun'].apply(len)"
   ]
  },
  {
   "cell_type": "markdown",
   "metadata": {},
   "source": [
    "### **Analisis Regresi**"
   ]
  },
  {
   "cell_type": "code",
   "execution_count": 42,
   "metadata": {},
   "outputs": [],
   "source": [
    "X = df[['grade', 'strokes', 'readings_on_count', 'readings_kun_count']]\n",
    "y = df['freq']"
   ]
  },
  {
   "cell_type": "markdown",
   "metadata": {},
   "source": [
    "### **Bagi data menjadi data latih dan data uji**"
   ]
  },
  {
   "cell_type": "code",
   "execution_count": 43,
   "metadata": {},
   "outputs": [],
   "source": [
    "X_train, X_test, y_train, y_test = train_test_split(X, y, test_size=0.2, random_state=0)"
   ]
  },
  {
   "cell_type": "markdown",
   "metadata": {},
   "source": [
    "### **Buat model regresi linear**"
   ]
  },
  {
   "cell_type": "code",
   "execution_count": 44,
   "metadata": {},
   "outputs": [
    {
     "data": {
      "text/html": [
       "<style>#sk-container-id-1 {\n",
       "  /* Definition of color scheme common for light and dark mode */\n",
       "  --sklearn-color-text: black;\n",
       "  --sklearn-color-line: gray;\n",
       "  /* Definition of color scheme for unfitted estimators */\n",
       "  --sklearn-color-unfitted-level-0: #fff5e6;\n",
       "  --sklearn-color-unfitted-level-1: #f6e4d2;\n",
       "  --sklearn-color-unfitted-level-2: #ffe0b3;\n",
       "  --sklearn-color-unfitted-level-3: chocolate;\n",
       "  /* Definition of color scheme for fitted estimators */\n",
       "  --sklearn-color-fitted-level-0: #f0f8ff;\n",
       "  --sklearn-color-fitted-level-1: #d4ebff;\n",
       "  --sklearn-color-fitted-level-2: #b3dbfd;\n",
       "  --sklearn-color-fitted-level-3: cornflowerblue;\n",
       "\n",
       "  /* Specific color for light theme */\n",
       "  --sklearn-color-text-on-default-background: var(--sg-text-color, var(--theme-code-foreground, var(--jp-content-font-color1, black)));\n",
       "  --sklearn-color-background: var(--sg-background-color, var(--theme-background, var(--jp-layout-color0, white)));\n",
       "  --sklearn-color-border-box: var(--sg-text-color, var(--theme-code-foreground, var(--jp-content-font-color1, black)));\n",
       "  --sklearn-color-icon: #696969;\n",
       "\n",
       "  @media (prefers-color-scheme: dark) {\n",
       "    /* Redefinition of color scheme for dark theme */\n",
       "    --sklearn-color-text-on-default-background: var(--sg-text-color, var(--theme-code-foreground, var(--jp-content-font-color1, white)));\n",
       "    --sklearn-color-background: var(--sg-background-color, var(--theme-background, var(--jp-layout-color0, #111)));\n",
       "    --sklearn-color-border-box: var(--sg-text-color, var(--theme-code-foreground, var(--jp-content-font-color1, white)));\n",
       "    --sklearn-color-icon: #878787;\n",
       "  }\n",
       "}\n",
       "\n",
       "#sk-container-id-1 {\n",
       "  color: var(--sklearn-color-text);\n",
       "}\n",
       "\n",
       "#sk-container-id-1 pre {\n",
       "  padding: 0;\n",
       "}\n",
       "\n",
       "#sk-container-id-1 input.sk-hidden--visually {\n",
       "  border: 0;\n",
       "  clip: rect(1px 1px 1px 1px);\n",
       "  clip: rect(1px, 1px, 1px, 1px);\n",
       "  height: 1px;\n",
       "  margin: -1px;\n",
       "  overflow: hidden;\n",
       "  padding: 0;\n",
       "  position: absolute;\n",
       "  width: 1px;\n",
       "}\n",
       "\n",
       "#sk-container-id-1 div.sk-dashed-wrapped {\n",
       "  border: 1px dashed var(--sklearn-color-line);\n",
       "  margin: 0 0.4em 0.5em 0.4em;\n",
       "  box-sizing: border-box;\n",
       "  padding-bottom: 0.4em;\n",
       "  background-color: var(--sklearn-color-background);\n",
       "}\n",
       "\n",
       "#sk-container-id-1 div.sk-container {\n",
       "  /* jupyter's `normalize.less` sets `[hidden] { display: none; }`\n",
       "     but bootstrap.min.css set `[hidden] { display: none !important; }`\n",
       "     so we also need the `!important` here to be able to override the\n",
       "     default hidden behavior on the sphinx rendered scikit-learn.org.\n",
       "     See: https://github.com/scikit-learn/scikit-learn/issues/21755 */\n",
       "  display: inline-block !important;\n",
       "  position: relative;\n",
       "}\n",
       "\n",
       "#sk-container-id-1 div.sk-text-repr-fallback {\n",
       "  display: none;\n",
       "}\n",
       "\n",
       "div.sk-parallel-item,\n",
       "div.sk-serial,\n",
       "div.sk-item {\n",
       "  /* draw centered vertical line to link estimators */\n",
       "  background-image: linear-gradient(var(--sklearn-color-text-on-default-background), var(--sklearn-color-text-on-default-background));\n",
       "  background-size: 2px 100%;\n",
       "  background-repeat: no-repeat;\n",
       "  background-position: center center;\n",
       "}\n",
       "\n",
       "/* Parallel-specific style estimator block */\n",
       "\n",
       "#sk-container-id-1 div.sk-parallel-item::after {\n",
       "  content: \"\";\n",
       "  width: 100%;\n",
       "  border-bottom: 2px solid var(--sklearn-color-text-on-default-background);\n",
       "  flex-grow: 1;\n",
       "}\n",
       "\n",
       "#sk-container-id-1 div.sk-parallel {\n",
       "  display: flex;\n",
       "  align-items: stretch;\n",
       "  justify-content: center;\n",
       "  background-color: var(--sklearn-color-background);\n",
       "  position: relative;\n",
       "}\n",
       "\n",
       "#sk-container-id-1 div.sk-parallel-item {\n",
       "  display: flex;\n",
       "  flex-direction: column;\n",
       "}\n",
       "\n",
       "#sk-container-id-1 div.sk-parallel-item:first-child::after {\n",
       "  align-self: flex-end;\n",
       "  width: 50%;\n",
       "}\n",
       "\n",
       "#sk-container-id-1 div.sk-parallel-item:last-child::after {\n",
       "  align-self: flex-start;\n",
       "  width: 50%;\n",
       "}\n",
       "\n",
       "#sk-container-id-1 div.sk-parallel-item:only-child::after {\n",
       "  width: 0;\n",
       "}\n",
       "\n",
       "/* Serial-specific style estimator block */\n",
       "\n",
       "#sk-container-id-1 div.sk-serial {\n",
       "  display: flex;\n",
       "  flex-direction: column;\n",
       "  align-items: center;\n",
       "  background-color: var(--sklearn-color-background);\n",
       "  padding-right: 1em;\n",
       "  padding-left: 1em;\n",
       "}\n",
       "\n",
       "\n",
       "/* Toggleable style: style used for estimator/Pipeline/ColumnTransformer box that is\n",
       "clickable and can be expanded/collapsed.\n",
       "- Pipeline and ColumnTransformer use this feature and define the default style\n",
       "- Estimators will overwrite some part of the style using the `sk-estimator` class\n",
       "*/\n",
       "\n",
       "/* Pipeline and ColumnTransformer style (default) */\n",
       "\n",
       "#sk-container-id-1 div.sk-toggleable {\n",
       "  /* Default theme specific background. It is overwritten whether we have a\n",
       "  specific estimator or a Pipeline/ColumnTransformer */\n",
       "  background-color: var(--sklearn-color-background);\n",
       "}\n",
       "\n",
       "/* Toggleable label */\n",
       "#sk-container-id-1 label.sk-toggleable__label {\n",
       "  cursor: pointer;\n",
       "  display: block;\n",
       "  width: 100%;\n",
       "  margin-bottom: 0;\n",
       "  padding: 0.5em;\n",
       "  box-sizing: border-box;\n",
       "  text-align: center;\n",
       "}\n",
       "\n",
       "#sk-container-id-1 label.sk-toggleable__label-arrow:before {\n",
       "  /* Arrow on the left of the label */\n",
       "  content: \"▸\";\n",
       "  float: left;\n",
       "  margin-right: 0.25em;\n",
       "  color: var(--sklearn-color-icon);\n",
       "}\n",
       "\n",
       "#sk-container-id-1 label.sk-toggleable__label-arrow:hover:before {\n",
       "  color: var(--sklearn-color-text);\n",
       "}\n",
       "\n",
       "/* Toggleable content - dropdown */\n",
       "\n",
       "#sk-container-id-1 div.sk-toggleable__content {\n",
       "  max-height: 0;\n",
       "  max-width: 0;\n",
       "  overflow: hidden;\n",
       "  text-align: left;\n",
       "  /* unfitted */\n",
       "  background-color: var(--sklearn-color-unfitted-level-0);\n",
       "}\n",
       "\n",
       "#sk-container-id-1 div.sk-toggleable__content.fitted {\n",
       "  /* fitted */\n",
       "  background-color: var(--sklearn-color-fitted-level-0);\n",
       "}\n",
       "\n",
       "#sk-container-id-1 div.sk-toggleable__content pre {\n",
       "  margin: 0.2em;\n",
       "  border-radius: 0.25em;\n",
       "  color: var(--sklearn-color-text);\n",
       "  /* unfitted */\n",
       "  background-color: var(--sklearn-color-unfitted-level-0);\n",
       "}\n",
       "\n",
       "#sk-container-id-1 div.sk-toggleable__content.fitted pre {\n",
       "  /* unfitted */\n",
       "  background-color: var(--sklearn-color-fitted-level-0);\n",
       "}\n",
       "\n",
       "#sk-container-id-1 input.sk-toggleable__control:checked~div.sk-toggleable__content {\n",
       "  /* Expand drop-down */\n",
       "  max-height: 200px;\n",
       "  max-width: 100%;\n",
       "  overflow: auto;\n",
       "}\n",
       "\n",
       "#sk-container-id-1 input.sk-toggleable__control:checked~label.sk-toggleable__label-arrow:before {\n",
       "  content: \"▾\";\n",
       "}\n",
       "\n",
       "/* Pipeline/ColumnTransformer-specific style */\n",
       "\n",
       "#sk-container-id-1 div.sk-label input.sk-toggleable__control:checked~label.sk-toggleable__label {\n",
       "  color: var(--sklearn-color-text);\n",
       "  background-color: var(--sklearn-color-unfitted-level-2);\n",
       "}\n",
       "\n",
       "#sk-container-id-1 div.sk-label.fitted input.sk-toggleable__control:checked~label.sk-toggleable__label {\n",
       "  background-color: var(--sklearn-color-fitted-level-2);\n",
       "}\n",
       "\n",
       "/* Estimator-specific style */\n",
       "\n",
       "/* Colorize estimator box */\n",
       "#sk-container-id-1 div.sk-estimator input.sk-toggleable__control:checked~label.sk-toggleable__label {\n",
       "  /* unfitted */\n",
       "  background-color: var(--sklearn-color-unfitted-level-2);\n",
       "}\n",
       "\n",
       "#sk-container-id-1 div.sk-estimator.fitted input.sk-toggleable__control:checked~label.sk-toggleable__label {\n",
       "  /* fitted */\n",
       "  background-color: var(--sklearn-color-fitted-level-2);\n",
       "}\n",
       "\n",
       "#sk-container-id-1 div.sk-label label.sk-toggleable__label,\n",
       "#sk-container-id-1 div.sk-label label {\n",
       "  /* The background is the default theme color */\n",
       "  color: var(--sklearn-color-text-on-default-background);\n",
       "}\n",
       "\n",
       "/* On hover, darken the color of the background */\n",
       "#sk-container-id-1 div.sk-label:hover label.sk-toggleable__label {\n",
       "  color: var(--sklearn-color-text);\n",
       "  background-color: var(--sklearn-color-unfitted-level-2);\n",
       "}\n",
       "\n",
       "/* Label box, darken color on hover, fitted */\n",
       "#sk-container-id-1 div.sk-label.fitted:hover label.sk-toggleable__label.fitted {\n",
       "  color: var(--sklearn-color-text);\n",
       "  background-color: var(--sklearn-color-fitted-level-2);\n",
       "}\n",
       "\n",
       "/* Estimator label */\n",
       "\n",
       "#sk-container-id-1 div.sk-label label {\n",
       "  font-family: monospace;\n",
       "  font-weight: bold;\n",
       "  display: inline-block;\n",
       "  line-height: 1.2em;\n",
       "}\n",
       "\n",
       "#sk-container-id-1 div.sk-label-container {\n",
       "  text-align: center;\n",
       "}\n",
       "\n",
       "/* Estimator-specific */\n",
       "#sk-container-id-1 div.sk-estimator {\n",
       "  font-family: monospace;\n",
       "  border: 1px dotted var(--sklearn-color-border-box);\n",
       "  border-radius: 0.25em;\n",
       "  box-sizing: border-box;\n",
       "  margin-bottom: 0.5em;\n",
       "  /* unfitted */\n",
       "  background-color: var(--sklearn-color-unfitted-level-0);\n",
       "}\n",
       "\n",
       "#sk-container-id-1 div.sk-estimator.fitted {\n",
       "  /* fitted */\n",
       "  background-color: var(--sklearn-color-fitted-level-0);\n",
       "}\n",
       "\n",
       "/* on hover */\n",
       "#sk-container-id-1 div.sk-estimator:hover {\n",
       "  /* unfitted */\n",
       "  background-color: var(--sklearn-color-unfitted-level-2);\n",
       "}\n",
       "\n",
       "#sk-container-id-1 div.sk-estimator.fitted:hover {\n",
       "  /* fitted */\n",
       "  background-color: var(--sklearn-color-fitted-level-2);\n",
       "}\n",
       "\n",
       "/* Specification for estimator info (e.g. \"i\" and \"?\") */\n",
       "\n",
       "/* Common style for \"i\" and \"?\" */\n",
       "\n",
       ".sk-estimator-doc-link,\n",
       "a:link.sk-estimator-doc-link,\n",
       "a:visited.sk-estimator-doc-link {\n",
       "  float: right;\n",
       "  font-size: smaller;\n",
       "  line-height: 1em;\n",
       "  font-family: monospace;\n",
       "  background-color: var(--sklearn-color-background);\n",
       "  border-radius: 1em;\n",
       "  height: 1em;\n",
       "  width: 1em;\n",
       "  text-decoration: none !important;\n",
       "  margin-left: 1ex;\n",
       "  /* unfitted */\n",
       "  border: var(--sklearn-color-unfitted-level-1) 1pt solid;\n",
       "  color: var(--sklearn-color-unfitted-level-1);\n",
       "}\n",
       "\n",
       ".sk-estimator-doc-link.fitted,\n",
       "a:link.sk-estimator-doc-link.fitted,\n",
       "a:visited.sk-estimator-doc-link.fitted {\n",
       "  /* fitted */\n",
       "  border: var(--sklearn-color-fitted-level-1) 1pt solid;\n",
       "  color: var(--sklearn-color-fitted-level-1);\n",
       "}\n",
       "\n",
       "/* On hover */\n",
       "div.sk-estimator:hover .sk-estimator-doc-link:hover,\n",
       ".sk-estimator-doc-link:hover,\n",
       "div.sk-label-container:hover .sk-estimator-doc-link:hover,\n",
       ".sk-estimator-doc-link:hover {\n",
       "  /* unfitted */\n",
       "  background-color: var(--sklearn-color-unfitted-level-3);\n",
       "  color: var(--sklearn-color-background);\n",
       "  text-decoration: none;\n",
       "}\n",
       "\n",
       "div.sk-estimator.fitted:hover .sk-estimator-doc-link.fitted:hover,\n",
       ".sk-estimator-doc-link.fitted:hover,\n",
       "div.sk-label-container:hover .sk-estimator-doc-link.fitted:hover,\n",
       ".sk-estimator-doc-link.fitted:hover {\n",
       "  /* fitted */\n",
       "  background-color: var(--sklearn-color-fitted-level-3);\n",
       "  color: var(--sklearn-color-background);\n",
       "  text-decoration: none;\n",
       "}\n",
       "\n",
       "/* Span, style for the box shown on hovering the info icon */\n",
       ".sk-estimator-doc-link span {\n",
       "  display: none;\n",
       "  z-index: 9999;\n",
       "  position: relative;\n",
       "  font-weight: normal;\n",
       "  right: .2ex;\n",
       "  padding: .5ex;\n",
       "  margin: .5ex;\n",
       "  width: min-content;\n",
       "  min-width: 20ex;\n",
       "  max-width: 50ex;\n",
       "  color: var(--sklearn-color-text);\n",
       "  box-shadow: 2pt 2pt 4pt #999;\n",
       "  /* unfitted */\n",
       "  background: var(--sklearn-color-unfitted-level-0);\n",
       "  border: .5pt solid var(--sklearn-color-unfitted-level-3);\n",
       "}\n",
       "\n",
       ".sk-estimator-doc-link.fitted span {\n",
       "  /* fitted */\n",
       "  background: var(--sklearn-color-fitted-level-0);\n",
       "  border: var(--sklearn-color-fitted-level-3);\n",
       "}\n",
       "\n",
       ".sk-estimator-doc-link:hover span {\n",
       "  display: block;\n",
       "}\n",
       "\n",
       "/* \"?\"-specific style due to the `<a>` HTML tag */\n",
       "\n",
       "#sk-container-id-1 a.estimator_doc_link {\n",
       "  float: right;\n",
       "  font-size: 1rem;\n",
       "  line-height: 1em;\n",
       "  font-family: monospace;\n",
       "  background-color: var(--sklearn-color-background);\n",
       "  border-radius: 1rem;\n",
       "  height: 1rem;\n",
       "  width: 1rem;\n",
       "  text-decoration: none;\n",
       "  /* unfitted */\n",
       "  color: var(--sklearn-color-unfitted-level-1);\n",
       "  border: var(--sklearn-color-unfitted-level-1) 1pt solid;\n",
       "}\n",
       "\n",
       "#sk-container-id-1 a.estimator_doc_link.fitted {\n",
       "  /* fitted */\n",
       "  border: var(--sklearn-color-fitted-level-1) 1pt solid;\n",
       "  color: var(--sklearn-color-fitted-level-1);\n",
       "}\n",
       "\n",
       "/* On hover */\n",
       "#sk-container-id-1 a.estimator_doc_link:hover {\n",
       "  /* unfitted */\n",
       "  background-color: var(--sklearn-color-unfitted-level-3);\n",
       "  color: var(--sklearn-color-background);\n",
       "  text-decoration: none;\n",
       "}\n",
       "\n",
       "#sk-container-id-1 a.estimator_doc_link.fitted:hover {\n",
       "  /* fitted */\n",
       "  background-color: var(--sklearn-color-fitted-level-3);\n",
       "}\n",
       "</style><div id=\"sk-container-id-1\" class=\"sk-top-container\"><div class=\"sk-text-repr-fallback\"><pre>LinearRegression()</pre><b>In a Jupyter environment, please rerun this cell to show the HTML representation or trust the notebook. <br />On GitHub, the HTML representation is unable to render, please try loading this page with nbviewer.org.</b></div><div class=\"sk-container\" hidden><div class=\"sk-item\"><div class=\"sk-estimator fitted sk-toggleable\"><input class=\"sk-toggleable__control sk-hidden--visually\" id=\"sk-estimator-id-1\" type=\"checkbox\" checked><label for=\"sk-estimator-id-1\" class=\"sk-toggleable__label fitted sk-toggleable__label-arrow fitted\">&nbsp;&nbsp;LinearRegression<a class=\"sk-estimator-doc-link fitted\" rel=\"noreferrer\" target=\"_blank\" href=\"https://scikit-learn.org/1.5/modules/generated/sklearn.linear_model.LinearRegression.html\">?<span>Documentation for LinearRegression</span></a><span class=\"sk-estimator-doc-link fitted\">i<span>Fitted</span></span></label><div class=\"sk-toggleable__content fitted\"><pre>LinearRegression()</pre></div> </div></div></div></div>"
      ],
      "text/plain": [
       "LinearRegression()"
      ]
     },
     "execution_count": 44,
     "metadata": {},
     "output_type": "execute_result"
    }
   ],
   "source": [
    "model = LinearRegression()\n",
    "model.fit(X_train, y_train)"
   ]
  },
  {
   "cell_type": "markdown",
   "metadata": {},
   "source": [
    "### **Prediksi pada data uji**"
   ]
  },
  {
   "cell_type": "code",
   "execution_count": 45,
   "metadata": {},
   "outputs": [],
   "source": [
    "y_pred = model.predict(X_test)"
   ]
  },
  {
   "cell_type": "markdown",
   "metadata": {},
   "source": [
    "### **Evaluasi Model**"
   ]
  },
  {
   "cell_type": "code",
   "execution_count": 66,
   "metadata": {},
   "outputs": [
    {
     "name": "stdout",
     "output_type": "stream",
     "text": [
      "Mean Squared Error (MSE): 195899.03554736148\n",
      "R-squared (R2): 0.48021242291356914\n"
     ]
    }
   ],
   "source": [
    "mse = mean_squared_error(y_test, y_pred)\n",
    "r2 = r2_score(y_test, y_pred)\n",
    "\n",
    "print(f'Mean Squared Error (MSE): {mse}')\n",
    "print(f'R-squared (R2): {r2}')"
   ]
  },
  {
   "cell_type": "markdown",
   "metadata": {},
   "source": [
    "### **Visualisasi hasil regresi**"
   ]
  },
  {
   "cell_type": "code",
   "execution_count": 49,
   "metadata": {},
   "outputs": [
    {
     "data": {
      "image/png": "[encoded data removed]",
      "text/plain": [
       "<Figure size 1000x600 with 1 Axes>"
      ]
     },
     "metadata": {},
     "output_type": "display_data"
    }
   ],
   "source": [
    "plt.figure(figsize=(10, 6))\n",
    "plt.scatter(y_test, y_pred)\n",
    "plt.plot([y_test.min(), y_test.max()], [y_test.min(), y_test.max()], 'k--', lw=2)\n",
    "plt.xlabel('Frekuensi Penggunaan Sebenarnya')\n",
    "plt.ylabel('Frekuensi Penggunaan Prediksi')\n",
    "plt.title('Hasil Regresi Linear: Frekuensi Penggunaan vs. Prediksi')\n",
    "plt.show()"
   ]
  },
  {
   "cell_type": "markdown",
   "metadata": {},
   "source": [
    "### **Visualisasi 3D**"
   ]
  },
  {
   "cell_type": "code",
   "execution_count": 65,
   "metadata": {},
   "outputs": [
    {
     "data": {
      "application/vnd.plotly.v1+json": {
       "config": {
        "plotlyServerURL": "https://plot.ly"
       },
       "data": [
        {
         "customdata": [
          [
           "Kanji: 一<br>Frekuensi: 2.0<br>Grade: 1.0<br>Strokes: 1"
          ],
          [
           "Kanji: 二<br>Frekuensi: 9.0<br>Grade: 1.0<br>Strokes: 2"
          ],
          [
           "Kanji: 九<br>Frekuensi: 55.0<br>Grade: 1.0<br>Strokes: 2"
          ],
          [
           "Kanji: 七<br>Frekuensi: 115.0<br>Grade: 1.0<br>Strokes: 2"
          ],
          [
           "Kanji: 人<br>Frekuensi: 5.0<br>Grade: 1.0<br>Strokes: 2"
          ],
          [
           "Kanji: 入<br>Frekuensi: 56.0<br>Grade: 1.0<br>Strokes: 2"
          ],
          [
           "Kanji: 八<br>Frekuensi: 92.0<br>Grade: 1.0<br>Strokes: 2"
          ],
          [
           "Kanji: 力<br>Frekuensi: 62.0<br>Grade: 1.0<br>Strokes: 2"
          ],
          [
           "Kanji: 十<br>Frekuensi: 8.0<br>Grade: 1.0<br>Strokes: 2"
          ],
          [
           "Kanji: 三<br>Frekuensi: 14.0<br>Grade: 1.0<br>Strokes: 3"
          ],
          [
           "Kanji: 上<br>Frekuensi: 35.0<br>Grade: 1.0<br>Strokes: 3"
          ],
          [
           "Kanji: 下<br>Frekuensi: 97.0<br>Grade: 1.0<br>Strokes: 3"
          ],
          [
           "Kanji: 口<br>Frekuensi: 284.0<br>Grade: 1.0<br>Strokes: 3"
          ],
          [
           "Kanji: 大<br>Frekuensi: 7.0<br>Grade: 1.0<br>Strokes: 3"
          ],
          [
           "Kanji: 女<br>Frekuensi: 151.0<br>Grade: 1.0<br>Strokes: 3"
          ],
          [
           "Kanji: 山<br>Frekuensi: 131.0<br>Grade: 1.0<br>Strokes: 3"
          ],
          [
           "Kanji: 川<br>Frekuensi: 181.0<br>Grade: 1.0<br>Strokes: 3"
          ],
          [
           "Kanji: 工<br>Frekuensi: 299.0<br>Grade: 2.0<br>Strokes: 3"
          ],
          [
           "Kanji: 土<br>Frekuensi: 307.0<br>Grade: 1.0<br>Strokes: 3"
          ],
          [
           "Kanji: 千<br>Frekuensi: 195.0<br>Grade: 1.0<br>Strokes: 3"
          ],
          [
           "Kanji: 子<br>Frekuensi: 72.0<br>Grade: 1.0<br>Strokes: 3"
          ],
          [
           "Kanji: 小<br>Frekuensi: 114.0<br>Grade: 1.0<br>Strokes: 3"
          ],
          [
           "Kanji: 中<br>Frekuensi: 11.0<br>Grade: 1.0<br>Strokes: 4"
          ],
          [
           "Kanji: 五<br>Frekuensi: 31.0<br>Grade: 1.0<br>Strokes: 4"
          ],
          [
           "Kanji: 六<br>Frekuensi: 93.0<br>Grade: 1.0<br>Strokes: 4"
          ],
          [
           "Kanji: 円<br>Frekuensi: 69.0<br>Grade: 1.0<br>Strokes: 4"
          ],
          [
           "Kanji: 手<br>Frekuensi: 60.0<br>Grade: 1.0<br>Strokes: 4"
          ],
          [
           "Kanji: 文<br>Frekuensi: 190.0<br>Grade: 1.0<br>Strokes: 4"
          ],
          [
           "Kanji: 日<br>Frekuensi: 1.0<br>Grade: 1.0<br>Strokes: 4"
          ],
          [
           "Kanji: 月<br>Frekuensi: 23.0<br>Grade: 1.0<br>Strokes: 4"
          ],
          [
           "Kanji: 木<br>Frekuensi: 317.0<br>Grade: 1.0<br>Strokes: 4"
          ],
          [
           "Kanji: 水<br>Frekuensi: 223.0<br>Grade: 1.0<br>Strokes: 4"
          ],
          [
           "Kanji: 出<br>Frekuensi: 13.0<br>Grade: 1.0<br>Strokes: 5"
          ],
          [
           "Kanji: 四<br>Frekuensi: 47.0<br>Grade: 1.0<br>Strokes: 5"
          ],
          [
           "Kanji: 本<br>Frekuensi: 10.0<br>Grade: 1.0<br>Strokes: 5"
          ],
          [
           "Kanji: 正<br>Frekuensi: 143.0<br>Grade: 1.0<br>Strokes: 5"
          ],
          [
           "Kanji: 田<br>Frekuensi: 90.0<br>Grade: 1.0<br>Strokes: 5"
          ],
          [
           "Kanji: 白<br>Frekuensi: 483.0<br>Grade: 1.0<br>Strokes: 5"
          ],
          [
           "Kanji: 目<br>Frekuensi: 76.0<br>Grade: 1.0<br>Strokes: 5"
          ],
          [
           "Kanji: 石<br>Frekuensi: 342.0<br>Grade: 1.0<br>Strokes: 5"
          ],
          [
           "Kanji: 立<br>Frekuensi: 58.0<br>Grade: 1.0<br>Strokes: 5"
          ],
          [
           "Kanji: 万<br>Frekuensi: 375.0<br>Grade: 2.0<br>Strokes: 3"
          ],
          [
           "Kanji: 今<br>Frekuensi: 49.0<br>Grade: 2.0<br>Strokes: 4"
          ],
          [
           "Kanji: 元<br>Frekuensi: 192.0<br>Grade: 2.0<br>Strokes: 4"
          ],
          [
           "Kanji: 公<br>Frekuensi: 118.0<br>Grade: 2.0<br>Strokes: 4"
          ],
          [
           "Kanji: 内<br>Frekuensi: 44.0<br>Grade: 2.0<br>Strokes: 4"
          ],
          [
           "Kanji: 切<br>Frekuensi: 324.0<br>Grade: 2.0<br>Strokes: 4"
          ],
          [
           "Kanji: 午<br>Frekuensi: 154.0<br>Grade: 2.0<br>Strokes: 4"
          ],
          [
           "Kanji: 少<br>Frekuensi: 287.0<br>Grade: 2.0<br>Strokes: 4"
          ],
          [
           "Kanji: 引<br>Frekuensi: 218.0<br>Grade: 2.0<br>Strokes: 4"
          ],
          [
           "Kanji: 心<br>Frekuensi: 157.0<br>Grade: 2.0<br>Strokes: 4"
          ],
          [
           "Kanji: 方<br>Frekuensi: 46.0<br>Grade: 2.0<br>Strokes: 4"
          ],
          [
           "Kanji: 止<br>Frekuensi: 310.0<br>Grade: 2.0<br>Strokes: 4"
          ],
          [
           "Kanji: 北<br>Frekuensi: 153.0<br>Grade: 2.0<br>Strokes: 5"
          ],
          [
           "Kanji: 半<br>Frekuensi: 224.0<br>Grade: 2.0<br>Strokes: 5"
          ],
          [
           "Kanji: 台<br>Frekuensi: 262.0<br>Grade: 2.0<br>Strokes: 5"
          ],
          [
           "Kanji: 外<br>Frekuensi: 81.0<br>Grade: 2.0<br>Strokes: 5"
          ],
          [
           "Kanji: 市<br>Frekuensi: 42.0<br>Grade: 2.0<br>Strokes: 5"
          ],
          [
           "Kanji: 広<br>Frekuensi: 263.0<br>Grade: 2.0<br>Strokes: 5"
          ],
          [
           "Kanji: 用<br>Frekuensi: 107.0<br>Grade: 2.0<br>Strokes: 5"
          ],
          [
           "Kanji: 世<br>Frekuensi: 135.0<br>Grade: 3.0<br>Strokes: 5"
          ],
          [
           "Kanji: 主<br>Frekuensi: 95.0<br>Grade: 3.0<br>Strokes: 5"
          ],
          [
           "Kanji: 代<br>Frekuensi: 66.0<br>Grade: 3.0<br>Strokes: 5"
          ],
          [
           "Kanji: 写<br>Frekuensi: 453.0<br>Grade: 3.0<br>Strokes: 5"
          ],
          [
           "Kanji: 去<br>Frekuensi: 440.0<br>Grade: 3.0<br>Strokes: 5"
          ],
          [
           "Kanji: 平<br>Frekuensi: 128.0<br>Grade: 3.0<br>Strokes: 5"
          ],
          [
           "Kanji: 打<br>Frekuensi: 239.0<br>Grade: 3.0<br>Strokes: 5"
          ],
          [
           "Kanji: 申<br>Frekuensi: 492.0<br>Grade: 3.0<br>Strokes: 5"
          ],
          [
           "Kanji: 先<br>Frekuensi: 173.0<br>Grade: 1.0<br>Strokes: 6"
          ],
          [
           "Kanji: 名<br>Frekuensi: 177.0<br>Grade: 1.0<br>Strokes: 6"
          ],
          [
           "Kanji: 字<br>Frekuensi: 485.0<br>Grade: 1.0<br>Strokes: 6"
          ],
          [
           "Kanji: 年<br>Frekuensi: 6.0<br>Grade: 1.0<br>Strokes: 6"
          ],
          [
           "Kanji: 早<br>Frekuensi: 402.0<br>Grade: 1.0<br>Strokes: 6"
          ],
          [
           "Kanji: 気<br>Frekuensi: 113.0<br>Grade: 1.0<br>Strokes: 6"
          ],
          [
           "Kanji: 百<br>Frekuensi: 163.0<br>Grade: 1.0<br>Strokes: 6"
          ],
          [
           "Kanji: 村<br>Frekuensi: 253.0<br>Grade: 1.0<br>Strokes: 7"
          ],
          [
           "Kanji: 男<br>Frekuensi: 240.0<br>Grade: 1.0<br>Strokes: 7"
          ],
          [
           "Kanji: 町<br>Frekuensi: 292.0<br>Grade: 1.0<br>Strokes: 7"
          ],
          [
           "Kanji: 見<br>Frekuensi: 22.0<br>Grade: 1.0<br>Strokes: 7"
          ],
          [
           "Kanji: 足<br>Frekuensi: 343.0<br>Grade: 1.0<br>Strokes: 7"
          ],
          [
           "Kanji: 車<br>Frekuensi: 333.0<br>Grade: 1.0<br>Strokes: 7"
          ],
          [
           "Kanji: 不<br>Frekuensi: 101.0<br>Grade: 4.0<br>Strokes: 4"
          ],
          [
           "Kanji: 仕<br>Frekuensi: 439.0<br>Grade: 3.0<br>Strokes: 5"
          ],
          [
           "Kanji: 交<br>Frekuensi: 178.0<br>Grade: 2.0<br>Strokes: 6"
          ],
          [
           "Kanji: 会<br>Frekuensi: 4.0<br>Grade: 2.0<br>Strokes: 6"
          ],
          [
           "Kanji: 同<br>Frekuensi: 15.0<br>Grade: 2.0<br>Strokes: 6"
          ],
          [
           "Kanji: 回<br>Frekuensi: 50.0<br>Grade: 2.0<br>Strokes: 6"
          ],
          [
           "Kanji: 多<br>Frekuensi: 139.0<br>Grade: 2.0<br>Strokes: 6"
          ],
          [
           "Kanji: 当<br>Frekuensi: 91.0<br>Grade: 2.0<br>Strokes: 6"
          ],
          [
           "Kanji: 毎<br>Frekuensi: 436.0<br>Grade: 2.0<br>Strokes: 6"
          ],
          [
           "Kanji: 米<br>Frekuensi: 61.0<br>Grade: 2.0<br>Strokes: 6"
          ],
          [
           "Kanji: 考<br>Frekuensi: 196.0<br>Grade: 2.0<br>Strokes: 6"
          ],
          [
           "Kanji: 自<br>Frekuensi: 19.0<br>Grade: 2.0<br>Strokes: 6"
          ],
          [
           "Kanji: 行<br>Frekuensi: 20.0<br>Grade: 2.0<br>Strokes: 6"
          ],
          [
           "Kanji: 西<br>Frekuensi: 259.0<br>Grade: 2.0<br>Strokes: 6"
          ],
          [
           "Kanji: 何<br>Frekuensi: 340.0<br>Grade: 2.0<br>Strokes: 7"
          ],
          [
           "Kanji: 体<br>Frekuensi: 88.0<br>Grade: 2.0<br>Strokes: 7"
          ],
          [
           "Kanji: 作<br>Frekuensi: 103.0<br>Grade: 2.0<br>Strokes: 7"
          ],
          [
           "Kanji: 声<br>Frekuensi: 388.0<br>Grade: 2.0<br>Strokes: 7"
          ],
          [
           "Kanji: 売<br>Frekuensi: 202.0<br>Grade: 2.0<br>Strokes: 7"
          ],
          [
           "Kanji: 形<br>Frekuensi: 418.0<br>Grade: 2.0<br>Strokes: 7"
          ],
          [
           "Kanji: 来<br>Frekuensi: 102.0<br>Grade: 2.0<br>Strokes: 7"
          ],
          [
           "Kanji: 社<br>Frekuensi: 21.0<br>Grade: 2.0<br>Strokes: 7"
          ],
          [
           "Kanji: 言<br>Frekuensi: 83.0<br>Grade: 2.0<br>Strokes: 7"
          ],
          [
           "Kanji: 近<br>Frekuensi: 194.0<br>Grade: 2.0<br>Strokes: 7"
          ],
          [
           "Kanji: 学<br>Frekuensi: 63.0<br>Grade: 1.0<br>Strokes: 8"
          ],
          [
           "Kanji: 空<br>Frekuensi: 304.0<br>Grade: 1.0<br>Strokes: 8"
          ],
          [
           "Kanji: 金<br>Frekuensi: 53.0<br>Grade: 1.0<br>Strokes: 8"
          ],
          [
           "Kanji: 音<br>Frekuensi: 491.0<br>Grade: 1.0<br>Strokes: 9"
          ],
          [
           "Kanji: 化<br>Frekuensi: 89.0<br>Grade: 3.0<br>Strokes: 4"
          ],
          [
           "Kanji: 地<br>Frekuensi: 40.0<br>Grade: 2.0<br>Strokes: 6"
          ],
          [
           "Kanji: 両<br>Frekuensi: 247.0<br>Grade: 3.0<br>Strokes: 6"
          ],
          [
           "Kanji: 全<br>Frekuensi: 75.0<br>Grade: 3.0<br>Strokes: 6"
          ],
          [
           "Kanji: 向<br>Frekuensi: 182.0<br>Grade: 3.0<br>Strokes: 6"
          ],
          [
           "Kanji: 安<br>Frekuensi: 144.0<br>Grade: 3.0<br>Strokes: 6"
          ],
          [
           "Kanji: 州<br>Frekuensi: 386.0<br>Grade: 3.0<br>Strokes: 6"
          ],
          [
           "Kanji: 有<br>Frekuensi: 282.0<br>Grade: 3.0<br>Strokes: 6"
          ],
          [
           "Kanji: 次<br>Frekuensi: 222.0<br>Grade: 3.0<br>Strokes: 6"
          ],
          [
           "Kanji: 死<br>Frekuensi: 229.0<br>Grade: 3.0<br>Strokes: 6"
          ],
          [
           "Kanji: 京<br>Frekuensi: 74.0<br>Grade: 2.0<br>Strokes: 8"
          ],
          [
           "Kanji: 国<br>Frekuensi: 3.0<br>Grade: 2.0<br>Strokes: 8"
          ],
          [
           "Kanji: 夜<br>Frekuensi: 487.0<br>Grade: 2.0<br>Strokes: 8"
          ],
          [
           "Kanji: 店<br>Frekuensi: 378.0<br>Grade: 2.0<br>Strokes: 8"
          ],
          [
           "Kanji: 明<br>Frekuensi: 67.0<br>Grade: 2.0<br>Strokes: 8"
          ],
          [
           "Kanji: 東<br>Frekuensi: 37.0<br>Grade: 2.0<br>Strokes: 8"
          ],
          [
           "Kanji: 画<br>Frekuensi: 199.0<br>Grade: 2.0<br>Strokes: 8"
          ],
          [
           "Kanji: 直<br>Frekuensi: 246.0<br>Grade: 2.0<br>Strokes: 8"
          ],
          [
           "Kanji: 知<br>Frekuensi: 205.0<br>Grade: 2.0<br>Strokes: 8"
          ],
          [
           "Kanji: 長<br>Frekuensi: 12.0<br>Grade: 2.0<br>Strokes: 8"
          ],
          [
           "Kanji: 前<br>Frekuensi: 27.0<br>Grade: 2.0<br>Strokes: 9"
          ],
          [
           "Kanji: 南<br>Frekuensi: 341.0<br>Grade: 2.0<br>Strokes: 9"
          ],
          [
           "Kanji: 後<br>Frekuensi: 26.0<br>Grade: 2.0<br>Strokes: 9"
          ],
          [
           "Kanji: 思<br>Frekuensi: 132.0<br>Grade: 2.0<br>Strokes: 9"
          ],
          [
           "Kanji: 活<br>Frekuensi: 171.0<br>Grade: 2.0<br>Strokes: 9"
          ],
          [
           "Kanji: 海<br>Frekuensi: 200.0<br>Grade: 2.0<br>Strokes: 9"
          ],
          [
           "Kanji: 点<br>Frekuensi: 165.0<br>Grade: 2.0<br>Strokes: 9"
          ],
          [
           "Kanji: 食<br>Frekuensi: 328.0<br>Grade: 2.0<br>Strokes: 9"
          ],
          [
           "Kanji: 首<br>Frekuensi: 98.0<br>Grade: 2.0<br>Strokes: 9"
          ],
          [
           "Kanji: 氏<br>Frekuensi: 84.0<br>Grade: 4.0<br>Strokes: 4"
          ],
          [
           "Kanji: 由<br>Frekuensi: 325.0<br>Grade: 3.0<br>Strokes: 5"
          ],
          [
           "Kanji: 民<br>Frekuensi: 28.0<br>Grade: 4.0<br>Strokes: 5"
          ],
          [
           "Kanji: 辺<br>Frekuensi: 428.0<br>Grade: 4.0<br>Strokes: 5"
          ],
          [
           "Kanji: 付<br>Frekuensi: 322.0<br>Grade: 4.0<br>Strokes: 5"
          ],
          [
           "Kanji: 以<br>Frekuensi: 126.0<br>Grade: 4.0<br>Strokes: 5"
          ],
          [
           "Kanji: 失<br>Frekuensi: 447.0<br>Grade: 4.0<br>Strokes: 5"
          ],
          [
           "Kanji: 必<br>Frekuensi: 265.0<br>Grade: 4.0<br>Strokes: 5"
          ],
          [
           "Kanji: 末<br>Frekuensi: 456.0<br>Grade: 4.0<br>Strokes: 5"
          ],
          [
           "Kanji: 校<br>Frekuensi: 294.0<br>Grade: 1.0<br>Strokes: 10"
          ],
          [
           "Kanji: 家<br>Frekuensi: 133.0<br>Grade: 2.0<br>Strokes: 10"
          ],
          [
           "Kanji: 時<br>Frekuensi: 16.0<br>Grade: 2.0<br>Strokes: 10"
          ],
          [
           "Kanji: 記<br>Frekuensi: 149.0<br>Grade: 2.0<br>Strokes: 10"
          ],
          [
           "Kanji: 通<br>Frekuensi: 80.0<br>Grade: 2.0<br>Strokes: 10"
          ],
          [
           "Kanji: 高<br>Frekuensi: 65.0<br>Grade: 2.0<br>Strokes: 10"
          ],
          [
           "Kanji: 強<br>Frekuensi: 112.0<br>Grade: 2.0<br>Strokes: 11"
          ],
          [
           "Kanji: 教<br>Frekuensi: 166.0<br>Grade: 2.0<br>Strokes: 11"
          ],
          [
           "Kanji: 理<br>Frekuensi: 86.0<br>Grade: 2.0<br>Strokes: 11"
          ],
          [
           "Kanji: 組<br>Frekuensi: 204.0<br>Grade: 2.0<br>Strokes: 11"
          ],
          [
           "Kanji: 支<br>Frekuensi: 159.0<br>Grade: 5.0<br>Strokes: 4"
          ],
          [
           "Kanji: 住<br>Frekuensi: 270.0<br>Grade: 3.0<br>Strokes: 7"
          ],
          [
           "Kanji: 助<br>Frekuensi: 397.0<br>Grade: 3.0<br>Strokes: 7"
          ],
          [
           "Kanji: 医<br>Frekuensi: 437.0<br>Grade: 3.0<br>Strokes: 7"
          ],
          [
           "Kanji: 対<br>Frekuensi: 34.0<br>Grade: 3.0<br>Strokes: 7"
          ],
          [
           "Kanji: 局<br>Frekuensi: 286.0<br>Grade: 3.0<br>Strokes: 7"
          ],
          [
           "Kanji: 役<br>Frekuensi: 315.0<br>Grade: 3.0<br>Strokes: 7"
          ],
          [
           "Kanji: 投<br>Frekuensi: 236.0<br>Grade: 3.0<br>Strokes: 7"
          ],
          [
           "Kanji: 決<br>Frekuensi: 71.0<br>Grade: 3.0<br>Strokes: 7"
          ],
          [
           "Kanji: 究<br>Frekuensi: 368.0<br>Grade: 3.0<br>Strokes: 7"
          ],
          [
           "Kanji: 者<br>Frekuensi: 38.0<br>Grade: 3.0<br>Strokes: 8"
          ],
          [
           "Kanji: 研<br>Frekuensi: 336.0<br>Grade: 3.0<br>Strokes: 9"
          ],
          [
           "Kanji: 場<br>Frekuensi: 52.0<br>Grade: 2.0<br>Strokes: 12"
          ],
          [
           "Kanji: 朝<br>Frekuensi: 248.0<br>Grade: 2.0<br>Strokes: 12"
          ],
          [
           "Kanji: 番<br>Frekuensi: 348.0<br>Grade: 2.0<br>Strokes: 12"
          ],
          [
           "Kanji: 答<br>Frekuensi: 486.0<br>Grade: 2.0<br>Strokes: 12"
          ],
          [
           "Kanji: 道<br>Frekuensi: 207.0<br>Grade: 2.0<br>Strokes: 12"
          ],
          [
           "Kanji: 間<br>Frekuensi: 33.0<br>Grade: 2.0<br>Strokes: 12"
          ],
          [
           "Kanji: 数<br>Frekuensi: 148.0<br>Grade: 2.0<br>Strokes: 13"
          ],
          [
           "Kanji: 楽<br>Frekuensi: 373.0<br>Grade: 2.0<br>Strokes: 13"
          ],
          [
           "Kanji: 話<br>Frekuensi: 134.0<br>Grade: 2.0<br>Strokes: 13"
          ],
          [
           "Kanji: 電<br>Frekuensi: 268.0<br>Grade: 2.0<br>Strokes: 13"
          ],
          [
           "Kanji: 所<br>Frekuensi: 221.0<br>Grade: 3.0<br>Strokes: 8"
          ],
          [
           "Kanji: 事<br>Frekuensi: 18.0<br>Grade: 3.0<br>Strokes: 8"
          ],
          [
           "Kanji: 使<br>Frekuensi: 219.0<br>Grade: 3.0<br>Strokes: 8"
          ],
          [
           "Kanji: 受<br>Frekuensi: 136.0<br>Grade: 3.0<br>Strokes: 8"
          ],
          [
           "Kanji: 和<br>Frekuensi: 124.0<br>Grade: 3.0<br>Strokes: 8"
          ],
          [
           "Kanji: 始<br>Frekuensi: 244.0<br>Grade: 3.0<br>Strokes: 8"
          ],
          [
           "Kanji: 定<br>Frekuensi: 48.0<br>Grade: 3.0<br>Strokes: 8"
          ],
          [
           "Kanji: 実<br>Frekuensi: 68.0<br>Grade: 3.0<br>Strokes: 8"
          ],
          [
           "Kanji: 物<br>Frekuensi: 215.0<br>Grade: 3.0<br>Strokes: 8"
          ],
          [
           "Kanji: 表<br>Frekuensi: 77.0<br>Grade: 3.0<br>Strokes: 8"
          ],
          [
           "Kanji: 部<br>Frekuensi: 36.0<br>Grade: 3.0<br>Strokes: 11"
          ],
          [
           "Kanji: 乗<br>Frekuensi: 377.0<br>Grade: 3.0<br>Strokes: 9"
          ],
          [
           "Kanji: 度<br>Frekuensi: 110.0<br>Grade: 3.0<br>Strokes: 9"
          ],
          [
           "Kanji: 待<br>Frekuensi: 391.0<br>Grade: 3.0<br>Strokes: 9"
          ],
          [
           "Kanji: 持<br>Frekuensi: 119.0<br>Grade: 3.0<br>Strokes: 9"
          ],
          [
           "Kanji: 界<br>Frekuensi: 158.0<br>Grade: 3.0<br>Strokes: 9"
          ],
          [
           "Kanji: 発<br>Frekuensi: 32.0<br>Grade: 3.0<br>Strokes: 9"
          ],
          [
           "Kanji: 相<br>Frekuensi: 45.0<br>Grade: 3.0<br>Strokes: 9"
          ],
          [
           "Kanji: 県<br>Frekuensi: 140.0<br>Grade: 3.0<br>Strokes: 9"
          ],
          [
           "Kanji: 美<br>Frekuensi: 462.0<br>Grade: 3.0<br>Strokes: 9"
          ],
          [
           "Kanji: 負<br>Frekuensi: 443.0<br>Grade: 3.0<br>Strokes: 9"
          ],
          [
           "Kanji: 送<br>Frekuensi: 311.0<br>Grade: 3.0<br>Strokes: 9"
          ],
          [
           "Kanji: 重<br>Frekuensi: 193.0<br>Grade: 3.0<br>Strokes: 9"
          ],
          [
           "Kanji: 談<br>Frekuensi: 272.0<br>Grade: 3.0<br>Strokes: 15"
          ],
          [
           "Kanji: 要<br>Frekuensi: 106.0<br>Grade: 4.0<br>Strokes: 9"
          ],
          [
           "Kanji: 勝<br>Frekuensi: 185.0<br>Grade: 3.0<br>Strokes: 12"
          ],
          [
           "Kanji: 起<br>Frekuensi: 374.0<br>Grade: 3.0<br>Strokes: 10"
          ],
          [
           "Kanji: 配<br>Frekuensi: 359.0<br>Grade: 3.0<br>Strokes: 10"
          ],
          [
           "Kanji: 院<br>Frekuensi: 150.0<br>Grade: 3.0<br>Strokes: 10"
          ],
          [
           "Kanji: 終<br>Frekuensi: 256.0<br>Grade: 3.0<br>Strokes: 11"
          ],
          [
           "Kanji: 転<br>Frekuensi: 327.0<br>Grade: 3.0<br>Strokes: 11"
          ],
          [
           "Kanji: 進<br>Frekuensi: 142.0<br>Grade: 3.0<br>Strokes: 11"
          ],
          [
           "Kanji: 落<br>Frekuensi: 420.0<br>Grade: 3.0<br>Strokes: 12"
          ],
          [
           "Kanji: 葉<br>Frekuensi: 414.0<br>Grade: 3.0<br>Strokes: 12"
          ],
          [
           "Kanji: 運<br>Frekuensi: 255.0<br>Grade: 3.0<br>Strokes: 12"
          ],
          [
           "Kanji: 開<br>Frekuensi: 59.0<br>Grade: 3.0<br>Strokes: 12"
          ],
          [
           "Kanji: 集<br>Frekuensi: 210.0<br>Grade: 3.0<br>Strokes: 12"
          ],
          [
           "Kanji: 業<br>Frekuensi: 43.0<br>Grade: 3.0<br>Strokes: 13"
          ],
          [
           "Kanji: 農<br>Frekuensi: 385.0<br>Grade: 3.0<br>Strokes: 13"
          ],
          [
           "Kanji: 算<br>Frekuensi: 361.0<br>Grade: 2.0<br>Strokes: 14"
          ],
          [
           "Kanji: 聞<br>Frekuensi: 319.0<br>Grade: 2.0<br>Strokes: 14"
          ],
          [
           "Kanji: 語<br>Frekuensi: 301.0<br>Grade: 2.0<br>Strokes: 14"
          ],
          [
           "Kanji: 線<br>Frekuensi: 382.0<br>Grade: 2.0<br>Strokes: 15"
          ],
          [
           "Kanji: 横<br>Frekuensi: 480.0<br>Grade: 3.0<br>Strokes: 15"
          ],
          [
           "Kanji: 調<br>Frekuensi: 87.0<br>Grade: 3.0<br>Strokes: 15"
          ],
          [
           "Kanji: 親<br>Frekuensi: 406.0<br>Grade: 2.0<br>Strokes: 16"
          ],
          [
           "Kanji: 頭<br>Frekuensi: 433.0<br>Grade: 2.0<br>Strokes: 16"
          ],
          [
           "Kanji: 病<br>Frekuensi: 384.0<br>Grade: 3.0<br>Strokes: 10"
          ],
          [
           "Kanji: 最<br>Frekuensi: 82.0<br>Grade: 4.0<br>Strokes: 12"
          ],
          [
           "Kanji: 争<br>Frekuensi: 271.0<br>Grade: 4.0<br>Strokes: 6"
          ],
          [
           "Kanji: 伝<br>Frekuensi: 416.0<br>Grade: 4.0<br>Strokes: 6"
          ],
          [
           "Kanji: 共<br>Frekuensi: 174.0<br>Grade: 4.0<br>Strokes: 6"
          ],
          [
           "Kanji: 好<br>Frekuensi: 423.0<br>Grade: 4.0<br>Strokes: 6"
          ],
          [
           "Kanji: 成<br>Frekuensi: 116.0<br>Grade: 4.0<br>Strokes: 6"
          ],
          [
           "Kanji: 位<br>Frekuensi: 276.0<br>Grade: 4.0<br>Strokes: 7"
          ],
          [
           "Kanji: 低<br>Frekuensi: 435.0<br>Grade: 4.0<br>Strokes: 7"
          ],
          [
           "Kanji: 初<br>Frekuensi: 152.0<br>Grade: 4.0<br>Strokes: 7"
          ],
          [
           "Kanji: 別<br>Frekuensi: 214.0<br>Grade: 4.0<br>Strokes: 7"
          ],
          [
           "Kanji: 利<br>Frekuensi: 203.0<br>Grade: 4.0<br>Strokes: 7"
          ],
          [
           "Kanji: 労<br>Frekuensi: 398.0<br>Grade: 4.0<br>Strokes: 7"
          ],
          [
           "Kanji: 命<br>Frekuensi: 465.0<br>Grade: 3.0<br>Strokes: 8"
          ],
          [
           "Kanji: 放<br>Frekuensi: 288.0<br>Grade: 3.0<br>Strokes: 8"
          ],
          [
           "Kanji: 注<br>Frekuensi: 497.0<br>Grade: 3.0<br>Strokes: 8"
          ],
          [
           "Kanji: 育<br>Frekuensi: 369.0<br>Grade: 3.0<br>Strokes: 8"
          ],
          [
           "Kanji: 指<br>Frekuensi: 155.0<br>Grade: 3.0<br>Strokes: 9"
          ],
          [
           "Kanji: 神<br>Frekuensi: 347.0<br>Grade: 3.0<br>Strokes: 9"
          ],
          [
           "Kanji: 追<br>Frekuensi: 411.0<br>Grade: 3.0<br>Strokes: 9"
          ],
          [
           "Kanji: 戦<br>Frekuensi: 78.0<br>Grade: 4.0<br>Strokes: 13"
          ],
          [
           "Kanji: 特<br>Frekuensi: 234.0<br>Grade: 4.0<br>Strokes: 10"
          ],
          [
           "Kanji: 働<br>Frekuensi: 417.0<br>Grade: 4.0<br>Strokes: 13"
          ],
          [
           "Kanji: 意<br>Frekuensi: 99.0<br>Grade: 3.0<br>Strokes: 13"
          ],
          [
           "Kanji: 味<br>Frekuensi: 442.0<br>Grade: 3.0<br>Strokes: 8"
          ],
          [
           "Kanji: 流<br>Frekuensi: 280.0<br>Grade: 3.0<br>Strokes: 10"
          ],
          [
           "Kanji: 消<br>Frekuensi: 345.0<br>Grade: 3.0<br>Strokes: 10"
          ],
          [
           "Kanji: 員<br>Frekuensi: 54.0<br>Grade: 3.0<br>Strokes: 10"
          ],
          [
           "Kanji: 島<br>Frekuensi: 245.0<br>Grade: 3.0<br>Strokes: 10"
          ],
          [
           "Kanji: 第<br>Frekuensi: 160.0<br>Grade: 3.0<br>Strokes: 11"
          ],
          [
           "Kanji: 都<br>Frekuensi: 123.0<br>Grade: 3.0<br>Strokes: 11"
          ],
          [
           "Kanji: 動<br>Frekuensi: 73.0<br>Grade: 3.0<br>Strokes: 11"
          ],
          [
           "Kanji: 商<br>Frekuensi: 413.0<br>Grade: 3.0<br>Strokes: 11"
          ],
          [
           "Kanji: 族<br>Frekuensi: 393.0<br>Grade: 3.0<br>Strokes: 11"
          ],
          [
           "Kanji: 深<br>Frekuensi: 484.0<br>Grade: 3.0<br>Strokes: 11"
          ],
          [
           "Kanji: 球<br>Frekuensi: 302.0<br>Grade: 3.0<br>Strokes: 11"
          ],
          [
           "Kanji: 期<br>Frekuensi: 117.0<br>Grade: 3.0<br>Strokes: 12"
          ],
          [
           "Kanji: 港<br>Frekuensi: 495.0<br>Grade: 3.0<br>Strokes: 12"
          ],
          [
           "Kanji: 着<br>Frekuensi: 376.0<br>Grade: 3.0<br>Strokes: 12"
          ],
          [
           "Kanji: 野<br>Frekuensi: 120.0<br>Grade: 2.0<br>Strokes: 11"
          ],
          [
           "Kanji: 生<br>Frekuensi: 29.0<br>Grade: 1.0<br>Strokes: 5"
          ],
          [
           "Kanji: 合<br>Frekuensi: 41.0<br>Grade: 2.0<br>Strokes: 6"
          ],
          [
           "Kanji: 予<br>Frekuensi: 180.0<br>Grade: 3.0<br>Strokes: 4"
          ],
          [
           "Kanji: 反<br>Frekuensi: 191.0<br>Grade: 3.0<br>Strokes: 4"
          ],
          [
           "Kanji: 新<br>Frekuensi: 51.0<br>Grade: 2.0<br>Strokes: 13"
          ],
          [
           "Kanji: 問<br>Frekuensi: 64.0<br>Grade: 3.0<br>Strokes: 11"
          ],
          [
           "Kanji: 想<br>Frekuensi: 381.0<br>Grade: 3.0<br>Strokes: 13"
          ],
          [
           "Kanji: 感<br>Frekuensi: 233.0<br>Grade: 3.0<br>Strokes: 13"
          ],
          [
           "Kanji: 整<br>Frekuensi: 478.0<br>Grade: 3.0<br>Strokes: 16"
          ],
          [
           "Kanji: 様<br>Frekuensi: 493.0<br>Grade: 3.0<br>Strokes: 14"
          ],
          [
           "Kanji: 福<br>Frekuensi: 467.0<br>Grade: 3.0<br>Strokes: 13"
          ],
          [
           "Kanji: 銀<br>Frekuensi: 395.0<br>Grade: 3.0<br>Strokes: 14"
          ],
          [
           "Kanji: 題<br>Frekuensi: 96.0<br>Grade: 3.0<br>Strokes: 18"
          ],
          [
           "Kanji: 料<br>Frekuensi: 295.0<br>Grade: 4.0<br>Strokes: 10"
          ],
          [
           "Kanji: 然<br>Frekuensi: 401.0<br>Grade: 4.0<br>Strokes: 12"
          ],
          [
           "Kanji: 課<br>Frekuensi: 455.0<br>Grade: 4.0<br>Strokes: 15"
          ],
          [
           "Kanji: 賞<br>Frekuensi: 426.0<br>Grade: 4.0<br>Strokes: 15"
          ],
          [
           "Kanji: 選<br>Frekuensi: 57.0<br>Grade: 4.0<br>Strokes: 15"
          ],
          [
           "Kanji: 情<br>Frekuensi: 235.0<br>Grade: 5.0<br>Strokes: 11"
          ],
          [
           "Kanji: 映<br>Frekuensi: 404.0<br>Grade: 6.0<br>Strokes: 9"
          ],
          [
           "Kanji: 疑<br>Frekuensi: 283.0<br>Grade: 6.0<br>Strokes: 14"
          ],
          [
           "Kanji: 例<br>Frekuensi: 399.0<br>Grade: 4.0<br>Strokes: 8"
          ],
          [
           "Kanji: 協<br>Frekuensi: 121.0<br>Grade: 4.0<br>Strokes: 8"
          ],
          [
           "Kanji: 参<br>Frekuensi: 201.0<br>Grade: 4.0<br>Strokes: 8"
          ],
          [
           "Kanji: 念<br>Frekuensi: 390.0<br>Grade: 4.0<br>Strokes: 8"
          ],
          [
           "Kanji: 望<br>Frekuensi: 470.0<br>Grade: 4.0<br>Strokes: 11"
          ],
          [
           "Kanji: 松<br>Frekuensi: 471.0<br>Grade: 4.0<br>Strokes: 8"
          ],
          [
           "Kanji: 残<br>Frekuensi: 380.0<br>Grade: 4.0<br>Strokes: 10"
          ],
          [
           "Kanji: 求<br>Frekuensi: 220.0<br>Grade: 4.0<br>Strokes: 7"
          ],
          [
           "Kanji: 約<br>Frekuensi: 94.0<br>Grade: 4.0<br>Strokes: 9"
          ],
          [
           "Kanji: 基<br>Frekuensi: 241.0<br>Grade: 5.0<br>Strokes: 11"
          ],
          [
           "Kanji: 性<br>Frekuensi: 104.0<br>Grade: 5.0<br>Strokes: 8"
          ],
          [
           "Kanji: 技<br>Frekuensi: 434.0<br>Grade: 5.0<br>Strokes: 7"
          ],
          [
           "Kanji: 格<br>Frekuensi: 281.0<br>Grade: 5.0<br>Strokes: 10"
          ],
          [
           "Kanji: 能<br>Frekuensi: 273.0<br>Grade: 5.0<br>Strokes: 10"
          ],
          [
           "Kanji: 術<br>Frekuensi: 350.0<br>Grade: 5.0<br>Strokes: 11"
          ],
          [
           "Kanji: 私<br>Frekuensi: 242.0<br>Grade: 6.0<br>Strokes: 7"
          ],
          [
           "Kanji: 計<br>Frekuensi: 228.0<br>Grade: 2.0<br>Strokes: 9"
          ],
          [
           "Kanji: 区<br>Frekuensi: 137.0<br>Grade: 3.0<br>Strokes: 4"
          ],
          [
           "Kanji: 式<br>Frekuensi: 251.0<br>Grade: 3.0<br>Strokes: 6"
          ],
          [
           "Kanji: 信<br>Frekuensi: 208.0<br>Grade: 4.0<br>Strokes: 9"
          ],
          [
           "Kanji: 変<br>Frekuensi: 238.0<br>Grade: 4.0<br>Strokes: 9"
          ],
          [
           "Kanji: 夫<br>Frekuensi: 335.0<br>Grade: 4.0<br>Strokes: 4"
          ],
          [
           "Kanji: 建<br>Frekuensi: 300.0<br>Grade: 4.0<br>Strokes: 9"
          ],
          [
           "Kanji: 昨<br>Frekuensi: 226.0<br>Grade: 4.0<br>Strokes: 9"
          ],
          [
           "Kanji: 法<br>Frekuensi: 100.0<br>Grade: 4.0<br>Strokes: 8"
          ],
          [
           "Kanji: 英<br>Frekuensi: 430.0<br>Grade: 4.0<br>Strokes: 8"
          ],
          [
           "Kanji: 軍<br>Frekuensi: 189.0<br>Grade: 4.0<br>Strokes: 9"
          ],
          [
           "Kanji: 書<br>Frekuensi: 169.0<br>Grade: 2.0<br>Strokes: 10"
          ],
          [
           "Kanji: 門<br>Frekuensi: 452.0<br>Grade: 2.0<br>Strokes: 8"
          ],
          [
           "Kanji: 係<br>Frekuensi: 232.0<br>Grade: 3.0<br>Strokes: 9"
          ],
          [
           "Kanji: 取<br>Frekuensi: 122.0<br>Grade: 3.0<br>Strokes: 8"
          ],
          [
           "Kanji: 品<br>Frekuensi: 225.0<br>Grade: 3.0<br>Strokes: 9"
          ],
          [
           "Kanji: 守<br>Frekuensi: 457.0<br>Grade: 3.0<br>Strokes: 6"
          ],
          [
           "Kanji: 急<br>Frekuensi: 309.0<br>Grade: 3.0<br>Strokes: 9"
          ],
          [
           "Kanji: 真<br>Frekuensi: 279.0<br>Grade: 3.0<br>Strokes: 10"
          ],
          [
           "Kanji: 面<br>Frekuensi: 186.0<br>Grade: 3.0<br>Strokes: 9"
          ],
          [
           "Kanji: 府<br>Frekuensi: 170.0<br>Grade: 4.0<br>Strokes: 8"
          ],
          [
           "Kanji: 治<br>Frekuensi: 109.0<br>Grade: 4.0<br>Strokes: 8"
          ],
          [
           "Kanji: 関<br>Frekuensi: 70.0<br>Grade: 4.0<br>Strokes: 14"
          ],
          [
           "Kanji: 保<br>Frekuensi: 146.0<br>Grade: 5.0<br>Strokes: 9"
          ],
          [
           "Kanji: 政<br>Frekuensi: 17.0<br>Grade: 5.0<br>Strokes: 9"
          ],
          [
           "Kanji: 証<br>Frekuensi: 306.0<br>Grade: 5.0<br>Strokes: 12"
          ],
          [
           "Kanji: 原<br>Frekuensi: 172.0<br>Grade: 2.0<br>Strokes: 10"
          ],
          [
           "Kanji: 側<br>Frekuensi: 216.0<br>Grade: 4.0<br>Strokes: 11"
          ],
          [
           "Kanji: 席<br>Frekuensi: 370.0<br>Grade: 4.0<br>Strokes: 10"
          ],
          [
           "Kanji: 果<br>Frekuensi: 258.0<br>Grade: 4.0<br>Strokes: 8"
          ],
          [
           "Kanji: 結<br>Frekuensi: 162.0<br>Grade: 4.0<br>Strokes: 12"
          ],
          [
           "Kanji: 常<br>Frekuensi: 293.0<br>Grade: 5.0<br>Strokes: 11"
          ],
          [
           "Kanji: 識<br>Frekuensi: 496.0<br>Grade: 5.0<br>Strokes: 19"
          ],
          [
           "Kanji: 非<br>Frekuensi: 472.0<br>Grade: 5.0<br>Strokes: 8"
          ],
          [
           "Kanji: 渉<br>Frekuensi: 499.0<br>Grade: 8.0<br>Strokes: 11"
          ],
          [
           "Kanji: 官<br>Frekuensi: 230.0<br>Grade: 4.0<br>Strokes: 8"
          ],
          [
           "Kanji: 察<br>Frekuensi: 477.0<br>Grade: 4.0<br>Strokes: 14"
          ],
          [
           "Kanji: 警<br>Frekuensi: 366.0<br>Grade: 6.0<br>Strokes: 19"
          ],
          [
           "Kanji: 説<br>Frekuensi: 326.0<br>Grade: 4.0<br>Strokes: 14"
          ],
          [
           "Kanji: 試<br>Frekuensi: 392.0<br>Grade: 4.0<br>Strokes: 13"
          ],
          [
           "Kanji: 告<br>Frekuensi: 188.0<br>Grade: 4.0<br>Strokes: 7"
          ],
          [
           "Kanji: 種<br>Frekuensi: 461.0<br>Grade: 4.0<br>Strokes: 14"
          ],
          [
           "Kanji: 達<br>Frekuensi: 500.0<br>Grade: 4.0<br>Strokes: 12"
          ],
          [
           "Kanji: 報<br>Frekuensi: 167.0<br>Grade: 5.0<br>Strokes: 12"
          ],
          [
           "Kanji: 脳<br>Frekuensi: 459.0<br>Grade: 6.0<br>Strokes: 11"
          ],
          [
           "Kanji: 験<br>Frekuensi: 410.0<br>Grade: 4.0<br>Strokes: 18"
          ],
          [
           "Kanji: 加<br>Frekuensi: 130.0<br>Grade: 4.0<br>Strokes: 5"
          ],
          [
           "Kanji: 減<br>Frekuensi: 261.0<br>Grade: 5.0<br>Strokes: 12"
          ],
          [
           "Kanji: 容<br>Frekuensi: 264.0<br>Grade: 5.0<br>Strokes: 10"
          ],
          [
           "Kanji: 財<br>Frekuensi: 494.0<br>Grade: 5.0<br>Strokes: 10"
          ],
          [
           "Kanji: 若<br>Frekuensi: 458.0<br>Grade: 6.0<br>Strokes: 8"
          ],
          [
           "Kanji: 団<br>Frekuensi: 213.0<br>Grade: 5.0<br>Strokes: 6"
          ],
          [
           "Kanji: 得<br>Frekuensi: 175.0<br>Grade: 4.0<br>Strokes: 11"
          ],
          [
           "Kanji: 改<br>Frekuensi: 147.0<br>Grade: 4.0<br>Strokes: 7"
          ],
          [
           "Kanji: 続<br>Frekuensi: 141.0<br>Grade: 4.0<br>Strokes: 13"
          ],
          [
           "Kanji: 連<br>Frekuensi: 30.0<br>Grade: 4.0<br>Strokes: 10"
          ],
          [
           "Kanji: 比<br>Frekuensi: 329.0<br>Grade: 5.0<br>Strokes: 4"
          ],
          [
           "Kanji: 機<br>Frekuensi: 127.0<br>Grade: 4.0<br>Strokes: 16"
          ],
          [
           "Kanji: 率<br>Frekuensi: 383.0<br>Grade: 5.0<br>Strokes: 11"
          ],
          [
           "Kanji: 害<br>Frekuensi: 358.0<br>Grade: 4.0<br>Strokes: 10"
          ],
          [
           "Kanji: 難<br>Frekuensi: 330.0<br>Grade: 6.0<br>Strokes: 18"
          ],
          [
           "Kanji: 被<br>Frekuensi: 431.0<br>Grade: 8.0<br>Strokes: 10"
          ],
          [
           "Kanji: 確<br>Frekuensi: 252.0<br>Grade: 5.0<br>Strokes: 15"
          ],
          [
           "Kanji: 個<br>Frekuensi: 451.0<br>Grade: 5.0<br>Strokes: 10"
          ],
          [
           "Kanji: 在<br>Frekuensi: 211.0<br>Grade: 5.0<br>Strokes: 6"
          ],
          [
           "Kanji: 産<br>Frekuensi: 161.0<br>Grade: 4.0<br>Strokes: 11"
          ],
          [
           "Kanji: 議<br>Frekuensi: 25.0<br>Grade: 4.0<br>Strokes: 20"
          ],
          [
           "Kanji: 防<br>Frekuensi: 331.0<br>Grade: 5.0<br>Strokes: 7"
          ],
          [
           "Kanji: 論<br>Frekuensi: 227.0<br>Grade: 6.0<br>Strokes: 15"
          ],
          [
           "Kanji: 経<br>Frekuensi: 79.0<br>Grade: 5.0<br>Strokes: 11"
          ],
          [
           "Kanji: 済<br>Frekuensi: 168.0<br>Grade: 6.0<br>Strokes: 11"
          ],
          [
           "Kanji: 委<br>Frekuensi: 187.0<br>Grade: 3.0<br>Strokes: 8"
          ],
          [
           "Kanji: 挙<br>Frekuensi: 257.0<br>Grade: 4.0<br>Strokes: 10"
          ],
          [
           "Kanji: 判<br>Frekuensi: 197.0<br>Grade: 5.0<br>Strokes: 7"
          ],
          [
           "Kanji: 制<br>Frekuensi: 108.0<br>Grade: 5.0<br>Strokes: 8"
          ],
          [
           "Kanji: 務<br>Frekuensi: 111.0<br>Grade: 5.0<br>Strokes: 11"
          ],
          [
           "Kanji: 査<br>Frekuensi: 184.0<br>Grade: 5.0<br>Strokes: 9"
          ],
          [
           "Kanji: 総<br>Frekuensi: 129.0<br>Grade: 5.0<br>Strokes: 14"
          ],
          [
           "Kanji: 設<br>Frekuensi: 145.0<br>Grade: 5.0<br>Strokes: 11"
          ],
          [
           "Kanji: 資<br>Frekuensi: 179.0<br>Grade: 5.0<br>Strokes: 13"
          ],
          [
           "Kanji: 権<br>Frekuensi: 156.0<br>Grade: 6.0<br>Strokes: 15"
          ],
          [
           "Kanji: 件<br>Frekuensi: 212.0<br>Grade: 5.0<br>Strokes: 6"
          ],
          [
           "Kanji: 派<br>Frekuensi: 164.0<br>Grade: 6.0<br>Strokes: 9"
          ],
          [
           "Kanji: 断<br>Frekuensi: 338.0<br>Grade: 5.0<br>Strokes: 11"
          ],
          [
           "Kanji: 評<br>Frekuensi: 454.0<br>Grade: 5.0<br>Strokes: 12"
          ],
          [
           "Kanji: 任<br>Frekuensi: 217.0<br>Grade: 5.0<br>Strokes: 6"
          ],
          [
           "Kanji: 検<br>Frekuensi: 290.0<br>Grade: 5.0<br>Strokes: 12"
          ],
          [
           "Kanji: 審<br>Frekuensi: 412.0<br>Grade: 8.0<br>Strokes: 15"
          ],
          [
           "Kanji: 条<br>Frekuensi: 363.0<br>Grade: 5.0<br>Strokes: 7"
          ],
          [
           "Kanji: 増<br>Frekuensi: 231.0<br>Grade: 5.0<br>Strokes: 14"
          ],
          [
           "Kanji: 税<br>Frekuensi: 289.0<br>Grade: 5.0<br>Strokes: 12"
          ],
          [
           "Kanji: 解<br>Frekuensi: 176.0<br>Grade: 5.0<br>Strokes: 13"
          ],
          [
           "Kanji: 際<br>Frekuensi: 183.0<br>Grade: 5.0<br>Strokes: 14"
          ],
          [
           "Kanji: 認<br>Frekuensi: 198.0<br>Grade: 6.0<br>Strokes: 14"
          ],
          [
           "Kanji: 企<br>Frekuensi: 278.0<br>Grade: 8.0<br>Strokes: 6"
          ],
          [
           "Kanji: 義<br>Frekuensi: 415.0<br>Grade: 5.0<br>Strokes: 13"
          ],
          [
           "Kanji: 過<br>Frekuensi: 285.0<br>Grade: 5.0<br>Strokes: 12"
          ],
          [
           "Kanji: 宮<br>Frekuensi: 367.0<br>Grade: 3.0<br>Strokes: 10"
          ],
          [
           "Kanji: 各<br>Frekuensi: 243.0<br>Grade: 4.0<br>Strokes: 6"
          ],
          [
           "Kanji: 案<br>Frekuensi: 206.0<br>Grade: 4.0<br>Strokes: 10"
          ],
          [
           "Kanji: 置<br>Frekuensi: 277.0<br>Grade: 4.0<br>Strokes: 13"
          ],
          [
           "Kanji: 費<br>Frekuensi: 321.0<br>Grade: 4.0<br>Strokes: 12"
          ],
          [
           "Kanji: 価<br>Frekuensi: 250.0<br>Grade: 5.0<br>Strokes: 8"
          ],
          [
           "Kanji: 勢<br>Frekuensi: 260.0<br>Grade: 5.0<br>Strokes: 13"
          ],
          [
           "Kanji: 営<br>Frekuensi: 303.0<br>Grade: 5.0<br>Strokes: 12"
          ],
          [
           "Kanji: 示<br>Frekuensi: 237.0<br>Grade: 5.0<br>Strokes: 5"
          ],
          [
           "Kanji: 統<br>Frekuensi: 125.0<br>Grade: 5.0<br>Strokes: 12"
          ],
          [
           "Kanji: 領<br>Frekuensi: 138.0<br>Grade: 5.0<br>Strokes: 14"
          ],
          [
           "Kanji: 策<br>Frekuensi: 209.0<br>Grade: 6.0<br>Strokes: 12"
          ],
          [
           "Kanji: 藤<br>Frekuensi: 291.0<br>Grade: 8.0<br>Strokes: 18"
          ],
          [
           "Kanji: 副<br>Frekuensi: 360.0<br>Grade: 4.0<br>Strokes: 11"
          ],
          [
           "Kanji: 観<br>Frekuensi: 476.0<br>Grade: 4.0<br>Strokes: 18"
          ],
          [
           "Kanji: 域<br>Frekuensi: 396.0<br>Grade: 6.0<br>Strokes: 11"
          ],
          [
           "Kanji: 姿<br>Frekuensi: 441.0<br>Grade: 6.0<br>Strokes: 9"
          ],
          [
           "Kanji: 応<br>Frekuensi: 266.0<br>Grade: 5.0<br>Strokes: 7"
          ],
          [
           "Kanji: 提<br>Frekuensi: 254.0<br>Grade: 5.0<br>Strokes: 12"
          ],
          [
           "Kanji: 援<br>Frekuensi: 312.0<br>Grade: 8.0<br>Strokes: 12"
          ],
          [
           "Kanji: 状<br>Frekuensi: 298.0<br>Grade: 5.0<br>Strokes: 7"
          ],
          [
           "Kanji: 態<br>Frekuensi: 353.0<br>Grade: 5.0<br>Strokes: 14"
          ],
          [
           "Kanji: 収<br>Frekuensi: 337.0<br>Grade: 6.0<br>Strokes: 4"
          ],
          [
           "Kanji: 革<br>Frekuensi: 249.0<br>Grade: 6.0<br>Strokes: 9"
          ],
          [
           "Kanji: 職<br>Frekuensi: 305.0<br>Grade: 5.0<br>Strokes: 18"
          ],
          [
           "Kanji: 規<br>Frekuensi: 349.0<br>Grade: 5.0<br>Strokes: 11"
          ],
          [
           "Kanji: 護<br>Frekuensi: 351.0<br>Grade: 5.0<br>Strokes: 20"
          ],
          [
           "Kanji: 割<br>Frekuensi: 318.0<br>Grade: 6.0<br>Strokes: 12"
          ],
          [
           "Kanji: 裁<br>Frekuensi: 297.0<br>Grade: 6.0<br>Strokes: 12"
          ],
          [
           "Kanji: 演<br>Frekuensi: 267.0<br>Grade: 5.0<br>Strokes: 14"
          ],
          [
           "Kanji: 準<br>Frekuensi: 425.0<br>Grade: 5.0<br>Strokes: 13"
          ],
          [
           "Kanji: 備<br>Frekuensi: 356.0<br>Grade: 5.0<br>Strokes: 12"
          ],
          [
           "Kanji: 導<br>Frekuensi: 354.0<br>Grade: 5.0<br>Strokes: 15"
          ],
          [
           "Kanji: 幹<br>Frekuensi: 364.0<br>Grade: 5.0<br>Strokes: 13"
          ],
          [
           "Kanji: 張<br>Frekuensi: 403.0<br>Grade: 5.0<br>Strokes: 11"
          ],
          [
           "Kanji: 優<br>Frekuensi: 334.0<br>Grade: 6.0<br>Strokes: 17"
          ],
          [
           "Kanji: 宅<br>Frekuensi: 357.0<br>Grade: 6.0<br>Strokes: 6"
          ],
          [
           "Kanji: 沢<br>Frekuensi: 296.0<br>Grade: 8.0<br>Strokes: 7"
          ],
          [
           "Kanji: 施<br>Frekuensi: 323.0<br>Grade: 8.0<br>Strokes: 9"
          ],
          [
           "Kanji: 現<br>Frekuensi: 85.0<br>Grade: 5.0<br>Strokes: 11"
          ],
          [
           "Kanji: 呼<br>Frekuensi: 498.0<br>Grade: 6.0<br>Strokes: 8"
          ],
          [
           "Kanji: 担<br>Frekuensi: 422.0<br>Grade: 6.0<br>Strokes: 8"
          ],
          [
           "Kanji: 額<br>Frekuensi: 407.0<br>Grade: 5.0<br>Strokes: 18"
          ],
          [
           "Kanji: 製<br>Frekuensi: 488.0<br>Grade: 5.0<br>Strokes: 14"
          ],
          [
           "Kanji: 違<br>Frekuensi: 344.0<br>Grade: 8.0<br>Strokes: 13"
          ],
          [
           "Kanji: 輸<br>Frekuensi: 371.0<br>Grade: 5.0<br>Strokes: 16"
          ],
          [
           "Kanji: 型<br>Frekuensi: 482.0<br>Grade: 4.0<br>Strokes: 9"
          ],
          [
           "Kanji: 視<br>Frekuensi: 362.0<br>Grade: 6.0<br>Strokes: 11"
          ],
          [
           "Kanji: 差<br>Frekuensi: 449.0<br>Grade: 4.0<br>Strokes: 10"
          ],
          [
           "Kanji: 象<br>Frekuensi: 394.0<br>Grade: 4.0<br>Strokes: 12"
          ],
          [
           "Kanji: 量<br>Frekuensi: 469.0<br>Grade: 4.0<br>Strokes: 12"
          ],
          [
           "Kanji: 境<br>Frekuensi: 346.0<br>Grade: 5.0<br>Strokes: 14"
          ],
          [
           "Kanji: 環<br>Frekuensi: 409.0<br>Grade: 8.0<br>Strokes: 17"
          ],
          [
           "Kanji: 武<br>Frekuensi: 387.0<br>Grade: 5.0<br>Strokes: 8"
          ],
          [
           "Kanji: 質<br>Frekuensi: 389.0<br>Grade: 5.0<br>Strokes: 15"
          ],
          [
           "Kanji: 述<br>Frekuensi: 379.0<br>Grade: 5.0<br>Strokes: 8"
          ],
          [
           "Kanji: 供<br>Frekuensi: 313.0<br>Grade: 6.0<br>Strokes: 8"
          ],
          [
           "Kanji: 展<br>Frekuensi: 352.0<br>Grade: 6.0<br>Strokes: 10"
          ],
          [
           "Kanji: 株<br>Frekuensi: 432.0<br>Grade: 6.0<br>Strokes: 10"
          ],
          [
           "Kanji: 限<br>Frekuensi: 405.0<br>Grade: 5.0<br>Strokes: 9"
          ],
          [
           "Kanji: 与<br>Frekuensi: 308.0<br>Grade: 8.0<br>Strokes: 3"
          ],
          [
           "Kanji: 含<br>Frekuensi: 466.0<br>Grade: 8.0<br>Strokes: 7"
          ],
          [
           "Kanji: 影<br>Frekuensi: 464.0<br>Grade: 8.0<br>Strokes: 15"
          ],
          [
           "Kanji: 況<br>Frekuensi: 490.0<br>Grade: 8.0<br>Strokes: 8"
          ],
          [
           "Kanji: 渡<br>Frekuensi: 446.0<br>Grade: 8.0<br>Strokes: 12"
          ],
          [
           "Kanji: 票<br>Frekuensi: 489.0<br>Grade: 4.0<br>Strokes: 11"
          ],
          [
           "Kanji: 景<br>Frekuensi: 419.0<br>Grade: 4.0<br>Strokes: 12"
          ],
          [
           "Kanji: 訴<br>Frekuensi: 427.0<br>Grade: 8.0<br>Strokes: 12"
          ],
          [
           "Kanji: 補<br>Frekuensi: 332.0<br>Grade: 6.0<br>Strokes: 12"
          ],
          [
           "Kanji: 構<br>Frekuensi: 316.0<br>Grade: 5.0<br>Strokes: 14"
          ],
          [
           "Kanji: 鮮<br>Frekuensi: 355.0<br>Grade: 8.0<br>Strokes: 17"
          ],
          [
           "Kanji: 造<br>Frekuensi: 429.0<br>Grade: 5.0<br>Strokes: 10"
          ],
          [
           "Kanji: 復<br>Frekuensi: 438.0<br>Grade: 5.0<br>Strokes: 12"
          ],
          [
           "Kanji: 再<br>Frekuensi: 275.0<br>Grade: 5.0<br>Strokes: 6"
          ],
          [
           "Kanji: 独<br>Frekuensi: 365.0<br>Grade: 5.0<br>Strokes: 9"
          ],
          [
           "Kanji: 段<br>Frekuensi: 479.0<br>Grade: 6.0<br>Strokes: 9"
          ],
          [
           "Kanji: 退<br>Frekuensi: 424.0<br>Grade: 5.0<br>Strokes: 9"
          ],
          [
           "Kanji: 訪<br>Frekuensi: 372.0<br>Grade: 6.0<br>Strokes: 11"
          ],
          [
           "Kanji: 極<br>Frekuensi: 460.0<br>Grade: 4.0<br>Strokes: 12"
          ],
          [
           "Kanji: 移<br>Frekuensi: 448.0<br>Grade: 5.0<br>Strokes: 11"
          ],
          [
           "Kanji: 衆<br>Frekuensi: 450.0<br>Grade: 6.0<br>Strokes: 12"
          ],
          [
           "Kanji: 撃<br>Frekuensi: 473.0<br>Grade: 8.0<br>Strokes: 15"
          ],
          [
           "Kanji: 監<br>Frekuensi: 408.0<br>Grade: 8.0<br>Strokes: 15"
          ],
          [
           "Kanji: 欧<br>Frekuensi: 421.0<br>Grade: 8.0<br>Strokes: 8"
          ],
          [
           "Kanji: 閣<br>Frekuensi: 444.0<br>Grade: 6.0<br>Strokes: 14"
          ],
          [
           "Kanji: 融<br>Frekuensi: 481.0<br>Grade: 8.0<br>Strokes: 16"
          ],
          [
           "Kanji: 衛<br>Frekuensi: 400.0<br>Grade: 5.0<br>Strokes: 16"
          ],
          [
           "Kanji: 党<br>Frekuensi: 39.0<br>Grade: 6.0<br>Strokes: 10"
          ],
          [
           "Kanji: 蔵<br>Frekuensi: 468.0<br>Grade: 6.0<br>Strokes: 15"
          ],
          [
           "Kanji: 核<br>Frekuensi: 475.0<br>Grade: 8.0<br>Strokes: 10"
          ],
          [
           "Kanji: 井<br>Frekuensi: 339.0<br>Grade: 8.0<br>Strokes: 4"
          ],
          [
           "Kanji: 歳<br>Frekuensi: 269.0<br>Grade: 8.0<br>Strokes: 13"
          ],
          [
           "Kanji: 佐<br>Frekuensi: 474.0<br>Grade: 8.0<br>Strokes: 7"
          ]
         ],
         "hovertemplate": "%{customdata}",
         "legendgroup": "biru frekuensi 0 - 500",
         "marker": {
          "color": "#636efa",
          "symbol": "circle"
         },
         "mode": "markers",
         "name": "biru frekuensi 0 - 500",
         "scene": "scene",
         "showlegend": true,
         "type": "scatter3d",
         "x": [
          1,
          1,
          1,
          1,
          1,
          1,
          1,
          1,
          1,
          1,
          1,
          1,
          1,
          1,
          1,
          1,
          1,
          2,
          1,
          1,
          1,
          1,
          1,
          1,
          1,
          1,
          1,
          1,
          1,
          1,
          1,
          1,
          1,
          1,
          1,
          1,
          1,
          1,
          1,
          1,
          1,
          2,
          2,
          2,
          2,
          2,
          2,
          2,
          2,
          2,
          2,
          2,
          2,
          2,
          2,
          2,
          2,
          2,
          2,
          2,
          3,
          3,
          3,
          3,
          3,
          3,
          3,
          3,
          1,
          1,
          1,
          1,
          1,
          1,
          1,
          1,
          1,
          1,
          1,
          1,
          1,
          4,
          3,
          2,
          2,
          2,
          2,
          2,
          2,
          2,
          2,
          2,
          2,
          2,
          2,
          2,
          2,
          2,
          2,
          2,
          2,
          2,
          2,
          2,
          2,
          1,
          1,
          1,
          1,
          3,
          2,
          3,
          3,
          3,
          3,
          3,
          3,
          3,
          3,
          2,
          2,
          2,
          2,
          2,
          2,
          2,
          2,
          2,
          2,
          2,
          2,
          2,
          2,
          2,
          2,
          2,
          2,
          2,
          4,
          3,
          4,
          4,
          4,
          4,
          4,
          4,
          4,
          1,
          2,
          2,
          2,
          2,
          2,
          2,
          2,
          2,
          2,
          5,
          3,
          3,
          3,
          3,
          3,
          3,
          3,
          3,
          3,
          3,
          3,
          2,
          2,
          2,
          2,
          2,
          2,
          2,
          2,
          2,
          2,
          3,
          3,
          3,
          3,
          3,
          3,
          3,
          3,
          3,
          3,
          3,
          3,
          3,
          3,
          3,
          3,
          3,
          3,
          3,
          3,
          3,
          3,
          3,
          3,
          4,
          3,
          3,
          3,
          3,
          3,
          3,
          3,
          3,
          3,
          3,
          3,
          3,
          3,
          3,
          2,
          2,
          2,
          2,
          3,
          3,
          2,
          2,
          3,
          4,
          4,
          4,
          4,
          4,
          4,
          4,
          4,
          4,
          4,
          4,
          4,
          3,
          3,
          3,
          3,
          3,
          3,
          3,
          4,
          4,
          4,
          3,
          3,
          3,
          3,
          3,
          3,
          3,
          3,
          3,
          3,
          3,
          3,
          3,
          3,
          3,
          3,
          2,
          1,
          2,
          3,
          3,
          2,
          3,
          3,
          3,
          3,
          3,
          3,
          3,
          3,
          4,
          4,
          4,
          4,
          4,
          5,
          6,
          6,
          4,
          4,
          4,
          4,
          4,
          4,
          4,
          4,
          4,
          5,
          5,
          5,
          5,
          5,
          5,
          6,
          2,
          3,
          3,
          4,
          4,
          4,
          4,
          4,
          4,
          4,
          4,
          2,
          2,
          3,
          3,
          3,
          3,
          3,
          3,
          3,
          4,
          4,
          4,
          5,
          5,
          5,
          2,
          4,
          4,
          4,
          4,
          5,
          5,
          5,
          8,
          4,
          4,
          6,
          4,
          4,
          4,
          4,
          4,
          5,
          6,
          4,
          4,
          5,
          5,
          5,
          6,
          5,
          4,
          4,
          4,
          4,
          5,
          4,
          5,
          4,
          6,
          8,
          5,
          5,
          5,
          4,
          4,
          5,
          6,
          5,
          6,
          3,
          4,
          5,
          5,
          5,
          5,
          5,
          5,
          5,
          6,
          5,
          6,
          5,
          5,
          5,
          5,
          8,
          5,
          5,
          5,
          5,
          5,
          6,
          8,
          5,
          5,
          3,
          4,
          4,
          4,
          4,
          5,
          5,
          5,
          5,
          5,
          5,
          6,
          8,
          4,
          4,
          6,
          6,
          5,
          5,
          8,
          5,
          5,
          6,
          6,
          5,
          5,
          5,
          6,
          6,
          5,
          5,
          5,
          5,
          5,
          5,
          6,
          6,
          8,
          8,
          5,
          6,
          6,
          5,
          5,
          8,
          5,
          4,
          6,
          4,
          4,
          4,
          5,
          8,
          5,
          5,
          5,
          6,
          6,
          6,
          5,
          8,
          8,
          8,
          8,
          8,
          4,
          4,
          8,
          6,
          5,
          8,
          5,
          5,
          5,
          5,
          6,
          5,
          6,
          4,
          5,
          6,
          8,
          8,
          8,
          6,
          8,
          5,
          6,
          6,
          8,
          8,
          8,
          8
         ],
         "y": [
          1,
          2,
          2,
          2,
          2,
          2,
          2,
          2,
          2,
          3,
          3,
          3,
          3,
          3,
          3,
          3,
          3,
          3,
          3,
          3,
          3,
          3,
          4,
          4,
          4,
          4,
          4,
          4,
          4,
          4,
          4,
          4,
          5,
          5,
          5,
          5,
          5,
          5,
          5,
          5,
          5,
          3,
          4,
          4,
          4,
          4,
          4,
          4,
          4,
          4,
          4,
          4,
          4,
          5,
          5,
          5,
          5,
          5,
          5,
          5,
          5,
          5,
          5,
          5,
          5,
          5,
          5,
          5,
          6,
          6,
          6,
          6,
          6,
          6,
          6,
          7,
          7,
          7,
          7,
          7,
          7,
          4,
          5,
          6,
          6,
          6,
          6,
          6,
          6,
          6,
          6,
          6,
          6,
          6,
          6,
          7,
          7,
          7,
          7,
          7,
          7,
          7,
          7,
          7,
          7,
          8,
          8,
          8,
          9,
          4,
          6,
          6,
          6,
          6,
          6,
          6,
          6,
          6,
          6,
          8,
          8,
          8,
          8,
          8,
          8,
          8,
          8,
          8,
          8,
          9,
          9,
          9,
          9,
          9,
          9,
          9,
          9,
          9,
          4,
          5,
          5,
          5,
          5,
          5,
          5,
          5,
          5,
          10,
          10,
          10,
          10,
          10,
          10,
          11,
          11,
          11,
          11,
          4,
          7,
          7,
          7,
          7,
          7,
          7,
          7,
          7,
          7,
          8,
          9,
          12,
          12,
          12,
          12,
          12,
          12,
          13,
          13,
          13,
          13,
          8,
          8,
          8,
          8,
          8,
          8,
          8,
          8,
          8,
          8,
          11,
          9,
          9,
          9,
          9,
          9,
          9,
          9,
          9,
          9,
          9,
          9,
          9,
          15,
          9,
          12,
          10,
          10,
          10,
          11,
          11,
          11,
          12,
          12,
          12,
          12,
          12,
          13,
          13,
          14,
          14,
          14,
          15,
          15,
          15,
          16,
          16,
          10,
          12,
          6,
          6,
          6,
          6,
          6,
          7,
          7,
          7,
          7,
          7,
          7,
          8,
          8,
          8,
          8,
          9,
          9,
          9,
          13,
          10,
          13,
          13,
          8,
          10,
          10,
          10,
          10,
          11,
          11,
          11,
          11,
          11,
          11,
          11,
          12,
          12,
          12,
          11,
          5,
          6,
          4,
          4,
          13,
          11,
          13,
          13,
          16,
          14,
          13,
          14,
          18,
          10,
          12,
          15,
          15,
          15,
          11,
          9,
          14,
          8,
          8,
          8,
          8,
          11,
          8,
          10,
          7,
          9,
          11,
          8,
          7,
          10,
          10,
          11,
          7,
          9,
          4,
          6,
          9,
          9,
          4,
          9,
          9,
          8,
          8,
          9,
          10,
          8,
          9,
          8,
          9,
          6,
          9,
          10,
          9,
          8,
          8,
          14,
          9,
          9,
          12,
          10,
          11,
          10,
          8,
          12,
          11,
          19,
          8,
          11,
          8,
          14,
          19,
          14,
          13,
          7,
          14,
          12,
          12,
          11,
          18,
          5,
          12,
          10,
          10,
          8,
          6,
          11,
          7,
          13,
          10,
          4,
          16,
          11,
          10,
          18,
          10,
          15,
          10,
          6,
          11,
          20,
          7,
          15,
          11,
          11,
          8,
          10,
          7,
          8,
          11,
          9,
          14,
          11,
          13,
          15,
          6,
          9,
          11,
          12,
          6,
          12,
          15,
          7,
          14,
          12,
          13,
          14,
          14,
          6,
          13,
          12,
          10,
          6,
          10,
          13,
          12,
          8,
          13,
          12,
          5,
          12,
          14,
          12,
          18,
          11,
          18,
          11,
          9,
          7,
          12,
          12,
          7,
          14,
          4,
          9,
          18,
          11,
          20,
          12,
          12,
          14,
          13,
          12,
          15,
          13,
          11,
          17,
          6,
          7,
          9,
          11,
          8,
          8,
          18,
          14,
          13,
          16,
          9,
          11,
          10,
          12,
          12,
          14,
          17,
          8,
          15,
          8,
          8,
          10,
          10,
          9,
          3,
          7,
          15,
          8,
          12,
          11,
          12,
          12,
          12,
          14,
          17,
          10,
          12,
          6,
          9,
          9,
          9,
          11,
          12,
          11,
          12,
          15,
          15,
          8,
          14,
          16,
          16,
          10,
          15,
          10,
          4,
          13,
          7
         ],
         "z": [
          2,
          9,
          55,
          115,
          5,
          56,
          92,
          62,
          8,
          14,
          35,
          97,
          284,
          7,
          151,
          131,
          181,
          299,
          307,
          195,
          72,
          114,
          11,
          31,
          93,
          69,
          60,
          190,
          1,
          23,
          317,
          223,
          13,
          47,
          10,
          143,
          90,
          483,
          76,
          342,
          58,
          375,
          49,
          192,
          118,
          44,
          324,
          154,
          287,
          218,
          157,
          46,
          310,
          153,
          224,
          262,
          81,
          42,
          263,
          107,
          135,
          95,
          66,
          453,
          440,
          128,
          239,
          492,
          173,
          177,
          485,
          6,
          402,
          113,
          163,
          253,
          240,
          292,
          22,
          343,
          333,
          101,
          439,
          178,
          4,
          15,
          50,
          139,
          91,
          436,
          61,
          196,
          19,
          20,
          259,
          340,
          88,
          103,
          388,
          202,
          418,
          102,
          21,
          83,
          194,
          63,
          304,
          53,
          491,
          89,
          40,
          247,
          75,
          182,
          144,
          386,
          282,
          222,
          229,
          74,
          3,
          487,
          378,
          67,
          37,
          199,
          246,
          205,
          12,
          27,
          341,
          26,
          132,
          171,
          200,
          165,
          328,
          98,
          84,
          325,
          28,
          428,
          322,
          126,
          447,
          265,
          456,
          294,
          133,
          16,
          149,
          80,
          65,
          112,
          166,
          86,
          204,
          159,
          270,
          397,
          437,
          34,
          286,
          315,
          236,
          71,
          368,
          38,
          336,
          52,
          248,
          348,
          486,
          207,
          33,
          148,
          373,
          134,
          268,
          221,
          18,
          219,
          136,
          124,
          244,
          48,
          68,
          215,
          77,
          36,
          377,
          110,
          391,
          119,
          158,
          32,
          45,
          140,
          462,
          443,
          311,
          193,
          272,
          106,
          185,
          374,
          359,
          150,
          256,
          327,
          142,
          420,
          414,
          255,
          59,
          210,
          43,
          385,
          361,
          319,
          301,
          382,
          480,
          87,
          406,
          433,
          384,
          82,
          271,
          416,
          174,
          423,
          116,
          276,
          435,
          152,
          214,
          203,
          398,
          465,
          288,
          497,
          369,
          155,
          347,
          411,
          78,
          234,
          417,
          99,
          442,
          280,
          345,
          54,
          245,
          160,
          123,
          73,
          413,
          393,
          484,
          302,
          117,
          495,
          376,
          120,
          29,
          41,
          180,
          191,
          51,
          64,
          381,
          233,
          478,
          493,
          467,
          395,
          96,
          295,
          401,
          455,
          426,
          57,
          235,
          404,
          283,
          399,
          121,
          201,
          390,
          470,
          471,
          380,
          220,
          94,
          241,
          104,
          434,
          281,
          273,
          350,
          242,
          228,
          137,
          251,
          208,
          238,
          335,
          300,
          226,
          100,
          430,
          189,
          169,
          452,
          232,
          122,
          225,
          457,
          309,
          279,
          186,
          170,
          109,
          70,
          146,
          17,
          306,
          172,
          216,
          370,
          258,
          162,
          293,
          496,
          472,
          499,
          230,
          477,
          366,
          326,
          392,
          188,
          461,
          500,
          167,
          459,
          410,
          130,
          261,
          264,
          494,
          458,
          213,
          175,
          147,
          141,
          30,
          329,
          127,
          383,
          358,
          330,
          431,
          252,
          451,
          211,
          161,
          25,
          331,
          227,
          79,
          168,
          187,
          257,
          197,
          108,
          111,
          184,
          129,
          145,
          179,
          156,
          212,
          164,
          338,
          454,
          217,
          290,
          412,
          363,
          231,
          289,
          176,
          183,
          198,
          278,
          415,
          285,
          367,
          243,
          206,
          277,
          321,
          250,
          260,
          303,
          237,
          125,
          138,
          209,
          291,
          360,
          476,
          396,
          441,
          266,
          254,
          312,
          298,
          353,
          337,
          249,
          305,
          349,
          351,
          318,
          297,
          267,
          425,
          356,
          354,
          364,
          403,
          334,
          357,
          296,
          323,
          85,
          498,
          422,
          407,
          488,
          344,
          371,
          482,
          362,
          449,
          394,
          469,
          346,
          409,
          387,
          389,
          379,
          313,
          352,
          432,
          405,
          308,
          466,
          464,
          490,
          446,
          489,
          419,
          427,
          332,
          316,
          355,
          429,
          438,
          275,
          365,
          479,
          424,
          372,
          460,
          448,
          450,
          473,
          408,
          421,
          444,
          481,
          400,
          39,
          468,
          475,
          339,
          269,
          474
         ]
        },
        {
         "customdata": [
          [
           "Kanji: 刀<br>Frekuensi: 1794.0<br>Grade: 2.0<br>Strokes: 2"
          ],
          [
           "Kanji: 丁<br>Frekuensi: 1312.0<br>Grade: 3.0<br>Strokes: 2"
          ],
          [
           "Kanji: 又<br>Frekuensi: 1874.0<br>Grade: 8.0<br>Strokes: 2"
          ],
          [
           "Kanji: 才<br>Frekuensi: 1497.0<br>Grade: 2.0<br>Strokes: 3"
          ],
          [
           "Kanji: 犬<br>Frekuensi: 1326.0<br>Grade: 1.0<br>Strokes: 4"
          ],
          [
           "Kanji: 牛<br>Frekuensi: 1202.0<br>Grade: 2.0<br>Strokes: 4"
          ],
          [
           "Kanji: 毛<br>Frekuensi: 1179.0<br>Grade: 2.0<br>Strokes: 4"
          ],
          [
           "Kanji: 兄<br>Frekuensi: 1219.0<br>Grade: 2.0<br>Strokes: 5"
          ],
          [
           "Kanji: 冬<br>Frekuensi: 1090.0<br>Grade: 2.0<br>Strokes: 5"
          ],
          [
           "Kanji: 矢<br>Frekuensi: 1294.0<br>Grade: 2.0<br>Strokes: 5"
          ],
          [
           "Kanji: 氷<br>Frekuensi: 1450.0<br>Grade: 3.0<br>Strokes: 5"
          ],
          [
           "Kanji: 皮<br>Frekuensi: 1092.0<br>Grade: 3.0<br>Strokes: 5"
          ],
          [
           "Kanji: 皿<br>Frekuensi: 1812.0<br>Grade: 3.0<br>Strokes: 5"
          ],
          [
           "Kanji: 礼<br>Frekuensi: 1185.0<br>Grade: 3.0<br>Strokes: 5"
          ],
          [
           "Kanji: 糸<br>Frekuensi: 1488.0<br>Grade: 1.0<br>Strokes: 6"
          ],
          [
           "Kanji: 耳<br>Frekuensi: 1328.0<br>Grade: 1.0<br>Strokes: 6"
          ],
          [
           "Kanji: 虫<br>Frekuensi: 1351.0<br>Grade: 1.0<br>Strokes: 6"
          ],
          [
           "Kanji: 貝<br>Frekuensi: 1787.0<br>Grade: 1.0<br>Strokes: 7"
          ],
          [
           "Kanji: 弟<br>Frekuensi: 1161.0<br>Grade: 2.0<br>Strokes: 7"
          ],
          [
           "Kanji: 麦<br>Frekuensi: 1615.0<br>Grade: 2.0<br>Strokes: 7"
          ],
          [
           "Kanji: 羊<br>Frekuensi: 1852.0<br>Grade: 3.0<br>Strokes: 6"
          ],
          [
           "Kanji: 妹<br>Frekuensi: 1446.0<br>Grade: 2.0<br>Strokes: 8"
          ],
          [
           "Kanji: 姉<br>Frekuensi: 1473.0<br>Grade: 2.0<br>Strokes: 8"
          ],
          [
           "Kanji: 茶<br>Frekuensi: 1116.0<br>Grade: 2.0<br>Strokes: 9"
          ],
          [
           "Kanji: 雪<br>Frekuensi: 1131.0<br>Grade: 2.0<br>Strokes: 11"
          ],
          [
           "Kanji: 魚<br>Frekuensi: 1208.0<br>Grade: 2.0<br>Strokes: 11"
          ],
          [
           "Kanji: 鳥<br>Frekuensi: 1043.0<br>Grade: 2.0<br>Strokes: 11"
          ],
          [
           "Kanji: 黄<br>Frekuensi: 1240.0<br>Grade: 2.0<br>Strokes: 11"
          ],
          [
           "Kanji: 雲<br>Frekuensi: 1256.0<br>Grade: 2.0<br>Strokes: 12"
          ],
          [
           "Kanji: 泳<br>Frekuensi: 1223.0<br>Grade: 3.0<br>Strokes: 8"
          ],
          [
           "Kanji: 仮<br>Frekuensi: 1039.0<br>Grade: 5.0<br>Strokes: 6"
          ],
          [
           "Kanji: 酒<br>Frekuensi: 1006.0<br>Grade: 3.0<br>Strokes: 10"
          ],
          [
           "Kanji: 漢<br>Frekuensi: 1487.0<br>Grade: 3.0<br>Strokes: 13"
          ],
          [
           "Kanji: 鳴<br>Frekuensi: 1279.0<br>Grade: 2.0<br>Strokes: 14"
          ],
          [
           "Kanji: 昔<br>Frekuensi: 1197.0<br>Grade: 3.0<br>Strokes: 8"
          ],
          [
           "Kanji: 拾<br>Frekuensi: 1479.0<br>Grade: 3.0<br>Strokes: 9"
          ],
          [
           "Kanji: 秒<br>Frekuensi: 1015.0<br>Grade: 3.0<br>Strokes: 9"
          ],
          [
           "Kanji: 勉<br>Frekuensi: 1066.0<br>Grade: 3.0<br>Strokes: 10"
          ],
          [
           "Kanji: 祭<br>Frekuensi: 1124.0<br>Grade: 3.0<br>Strokes: 11"
          ],
          [
           "Kanji: 童<br>Frekuensi: 1138.0<br>Grade: 3.0<br>Strokes: 12"
          ],
          [
           "Kanji: 陽<br>Frekuensi: 1071.0<br>Grade: 3.0<br>Strokes: 12"
          ],
          [
           "Kanji: 寒<br>Frekuensi: 1456.0<br>Grade: 3.0<br>Strokes: 12"
          ],
          [
           "Kanji: 悲<br>Frekuensi: 1014.0<br>Grade: 3.0<br>Strokes: 12"
          ],
          [
           "Kanji: 暑<br>Frekuensi: 1442.0<br>Grade: 3.0<br>Strokes: 12"
          ],
          [
           "Kanji: 歯<br>Frekuensi: 1106.0<br>Grade: 3.0<br>Strokes: 12"
          ],
          [
           "Kanji: 湯<br>Frekuensi: 1356.0<br>Grade: 3.0<br>Strokes: 12"
          ],
          [
           "Kanji: 泉<br>Frekuensi: 1086.0<br>Grade: 6.0<br>Strokes: 9"
          ],
          [
           "Kanji: 暗<br>Frekuensi: 1040.0<br>Grade: 3.0<br>Strokes: 13"
          ],
          [
           "Kanji: 緑<br>Frekuensi: 1180.0<br>Grade: 3.0<br>Strokes: 14"
          ],
          [
           "Kanji: 詩<br>Frekuensi: 1196.0<br>Grade: 3.0<br>Strokes: 13"
          ],
          [
           "Kanji: 鏡<br>Frekuensi: 1506.0<br>Grade: 4.0<br>Strokes: 19"
          ],
          [
           "Kanji: 謝<br>Frekuensi: 1028.0<br>Grade: 5.0<br>Strokes: 17"
          ],
          [
           "Kanji: 皆<br>Frekuensi: 1267.0<br>Grade: 8.0<br>Strokes: 9"
          ],
          [
           "Kanji: 妥<br>Frekuensi: 1102.0<br>Grade: 8.0<br>Strokes: 7"
          ],
          [
           "Kanji: 雰<br>Frekuensi: 1341.0<br>Grade: 8.0<br>Strokes: 12"
          ],
          [
           "Kanji: 頑<br>Frekuensi: 1247.0<br>Grade: 8.0<br>Strokes: 13"
          ],
          [
           "Kanji: 昼<br>Frekuensi: 1115.0<br>Grade: 2.0<br>Strokes: 9"
          ],
          [
           "Kanji: 晴<br>Frekuensi: 1022.0<br>Grade: 2.0<br>Strokes: 12"
          ],
          [
           "Kanji: 勇<br>Frekuensi: 1319.0<br>Grade: 4.0<br>Strokes: 9"
          ],
          [
           "Kanji: 毒<br>Frekuensi: 1419.0<br>Grade: 4.0<br>Strokes: 8"
          ],
          [
           "Kanji: 泣<br>Frekuensi: 1380.0<br>Grade: 4.0<br>Strokes: 8"
          ],
          [
           "Kanji: 浅<br>Frekuensi: 1253.0<br>Grade: 4.0<br>Strokes: 9"
          ],
          [
           "Kanji: 飯<br>Frekuensi: 1046.0<br>Grade: 4.0<br>Strokes: 12"
          ],
          [
           "Kanji: 晩<br>Frekuensi: 1424.0<br>Grade: 6.0<br>Strokes: 12"
          ],
          [
           "Kanji: 猫<br>Frekuensi: 1702.0<br>Grade: 8.0<br>Strokes: 11"
          ],
          [
           "Kanji: 箱<br>Frekuensi: 1357.0<br>Grade: 3.0<br>Strokes: 15"
          ],
          [
           "Kanji: 荷<br>Frekuensi: 1230.0<br>Grade: 3.0<br>Strokes: 10"
          ],
          [
           "Kanji: 典<br>Frekuensi: 1055.0<br>Grade: 4.0<br>Strokes: 8"
          ],
          [
           "Kanji: 浴<br>Frekuensi: 1136.0<br>Grade: 4.0<br>Strokes: 10"
          ],
          [
           "Kanji: 冒<br>Frekuensi: 1317.0<br>Grade: 8.0<br>Strokes: 9"
          ],
          [
           "Kanji: 冗<br>Frekuensi: 1782.0<br>Grade: 8.0<br>Strokes: 4"
          ],
          [
           "Kanji: 鼻<br>Frekuensi: 1632.0<br>Grade: 3.0<br>Strokes: 14"
          ],
          [
           "Kanji: 堂<br>Frekuensi: 1010.0<br>Grade: 4.0<br>Strokes: 11"
          ],
          [
           "Kanji: 塩<br>Frekuensi: 1148.0<br>Grade: 4.0<br>Strokes: 13"
          ],
          [
           "Kanji: 梅<br>Frekuensi: 1232.0<br>Grade: 4.0<br>Strokes: 10"
          ],
          [
           "Kanji: 干<br>Frekuensi: 1349.0<br>Grade: 6.0<br>Strokes: 3"
          ],
          [
           "Kanji: 是<br>Frekuensi: 1045.0<br>Grade: 8.0<br>Strokes: 9"
          ],
          [
           "Kanji: 虚<br>Frekuensi: 1454.0<br>Grade: 8.0<br>Strokes: 11"
          ],
          [
           "Kanji: 恋<br>Frekuensi: 1296.0<br>Grade: 8.0<br>Strokes: 10"
          ],
          [
           "Kanji: 幻<br>Frekuensi: 1564.0<br>Grade: 8.0<br>Strokes: 4"
          ],
          [
           "Kanji: 訓<br>Frekuensi: 1134.0<br>Grade: 4.0<br>Strokes: 10"
          ],
          [
           "Kanji: 弓<br>Frekuensi: 1802.0<br>Grade: 2.0<br>Strokes: 3"
          ],
          [
           "Kanji: 祈<br>Frekuensi: 1462.0<br>Grade: 8.0<br>Strokes: 8"
          ],
          [
           "Kanji: 忘<br>Frekuensi: 1129.0<br>Grade: 6.0<br>Strokes: 7"
          ],
          [
           "Kanji: 洗<br>Frekuensi: 1168.0<br>Grade: 6.0<br>Strokes: 9"
          ],
          [
           "Kanji: 胸<br>Frekuensi: 1144.0<br>Grade: 6.0<br>Strokes: 10"
          ],
          [
           "Kanji: 僧<br>Frekuensi: 1724.0<br>Grade: 8.0<br>Strokes: 13"
          ],
          [
           "Kanji: 禅<br>Frekuensi: 1902.0<br>Grade: 8.0<br>Strokes: 13"
          ],
          [
           "Kanji: 句<br>Frekuensi: 1244.0<br>Grade: 5.0<br>Strokes: 5"
          ],
          [
           "Kanji: 喫<br>Frekuensi: 1347.0<br>Grade: 8.0<br>Strokes: 12"
          ],
          [
           "Kanji: 煙<br>Frekuensi: 1290.0<br>Grade: 8.0<br>Strokes: 13"
          ],
          [
           "Kanji: 詞<br>Frekuensi: 1636.0<br>Grade: 6.0<br>Strokes: 12"
          ],
          [
           "Kanji: 昆<br>Frekuensi: 1688.0<br>Grade: 8.0<br>Strokes: 8"
          ],
          [
           "Kanji: 閥<br>Frekuensi: 1072.0<br>Grade: 8.0<br>Strokes: 14"
          ],
          [
           "Kanji: 舌<br>Frekuensi: 1830.0<br>Grade: 5.0<br>Strokes: 6"
          ],
          [
           "Kanji: 冊<br>Frekuensi: 1313.0<br>Grade: 6.0<br>Strokes: 5"
          ],
          [
           "Kanji: 宙<br>Frekuensi: 1005.0<br>Grade: 6.0<br>Strokes: 8"
          ],
          [
           "Kanji: 忙<br>Frekuensi: 1475.0<br>Grade: 8.0<br>Strokes: 6"
          ],
          [
           "Kanji: 履<br>Frekuensi: 1619.0<br>Grade: 8.0<br>Strokes: 15"
          ],
          [
           "Kanji: 妨<br>Frekuensi: 1482.0<br>Grade: 8.0<br>Strokes: 7"
          ],
          [
           "Kanji: 裕<br>Frekuensi: 1048.0<br>Grade: 8.0<br>Strokes: 12"
          ],
          [
           "Kanji: 械<br>Frekuensi: 1321.0<br>Grade: 4.0<br>Strokes: 11"
          ],
          [
           "Kanji: 嫌<br>Frekuensi: 1207.0<br>Grade: 8.0<br>Strokes: 13"
          ],
          [
           "Kanji: 臭<br>Frekuensi: 1760.0<br>Grade: 8.0<br>Strokes: 9"
          ],
          [
           "Kanji: 穴<br>Frekuensi: 1366.0<br>Grade: 6.0<br>Strokes: 5"
          ],
          [
           "Kanji: 笛<br>Frekuensi: 1928.0<br>Grade: 3.0<br>Strokes: 11"
          ],
          [
           "Kanji: 敵<br>Frekuensi: 1205.0<br>Grade: 5.0<br>Strokes: 15"
          ],
          [
           "Kanji: 罰<br>Frekuensi: 1220.0<br>Grade: 8.0<br>Strokes: 14"
          ],
          [
           "Kanji: 誕<br>Frekuensi: 1024.0<br>Grade: 6.0<br>Strokes: 15"
          ],
          [
           "Kanji: 寝<br>Frekuensi: 1034.0<br>Grade: 8.0<br>Strokes: 13"
          ],
          [
           "Kanji: 吸<br>Frekuensi: 1054.0<br>Grade: 6.0<br>Strokes: 6"
          ],
          [
           "Kanji: 賀<br>Frekuensi: 1056.0<br>Grade: 5.0<br>Strokes: 12"
          ],
          [
           "Kanji: 鬼<br>Frekuensi: 1557.0<br>Grade: 8.0<br>Strokes: 10"
          ],
          [
           "Kanji: 看<br>Frekuensi: 1060.0<br>Grade: 6.0<br>Strokes: 9"
          ],
          [
           "Kanji: 乳<br>Frekuensi: 1289.0<br>Grade: 6.0<br>Strokes: 8"
          ],
          [
           "Kanji: 俳<br>Frekuensi: 1137.0<br>Grade: 6.0<br>Strokes: 10"
          ],
          [
           "Kanji: 祝<br>Frekuensi: 1184.0<br>Grade: 4.0<br>Strokes: 9"
          ],
          [
           "Kanji: 狭<br>Frekuensi: 1346.0<br>Grade: 8.0<br>Strokes: 9"
          ],
          [
           "Kanji: 肩<br>Frekuensi: 1215.0<br>Grade: 8.0<br>Strokes: 8"
          ],
          [
           "Kanji: 腕<br>Frekuensi: 1163.0<br>Grade: 8.0<br>Strokes: 12"
          ],
          [
           "Kanji: 腰<br>Frekuensi: 1306.0<br>Grade: 8.0<br>Strokes: 13"
          ],
          [
           "Kanji: 訟<br>Frekuensi: 1061.0<br>Grade: 8.0<br>Strokes: 11"
          ],
          [
           "Kanji: 慣<br>Frekuensi: 1177.0<br>Grade: 5.0<br>Strokes: 14"
          ],
          [
           "Kanji: 肥<br>Frekuensi: 1469.0<br>Grade: 5.0<br>Strokes: 8"
          ],
          [
           "Kanji: 絞<br>Frekuensi: 1288.0<br>Grade: 8.0<br>Strokes: 12"
          ],
          [
           "Kanji: 輩<br>Frekuensi: 1365.0<br>Grade: 8.0<br>Strokes: 15"
          ],
          [
           "Kanji: 隠<br>Frekuensi: 1089.0<br>Grade: 8.0<br>Strokes: 14"
          ],
          [
           "Kanji: 掛<br>Frekuensi: 1027.0<br>Grade: 8.0<br>Strokes: 11"
          ],
          [
           "Kanji: 往<br>Frekuensi: 1421.0<br>Grade: 5.0<br>Strokes: 8"
          ],
          [
           "Kanji: 較<br>Frekuensi: 1172.0<br>Grade: 8.0<br>Strokes: 13"
          ],
          [
           "Kanji: 筆<br>Frekuensi: 1132.0<br>Grade: 3.0<br>Strokes: 12"
          ],
          [
           "Kanji: 鉛<br>Frekuensi: 1710.0<br>Grade: 8.0<br>Strokes: 13"
          ],
          [
           "Kanji: 貯<br>Frekuensi: 1100.0<br>Grade: 4.0<br>Strokes: 12"
          ],
          [
           "Kanji: 刺<br>Frekuensi: 1031.0<br>Grade: 8.0<br>Strokes: 8"
          ],
          [
           "Kanji: 励<br>Frekuensi: 1254.0<br>Grade: 8.0<br>Strokes: 7"
          ],
          [
           "Kanji: 怪<br>Frekuensi: 1634.0<br>Grade: 8.0<br>Strokes: 8"
          ],
          [
           "Kanji: 獣<br>Frekuensi: 1714.0<br>Grade: 8.0<br>Strokes: 16"
          ],
          [
           "Kanji: 菓<br>Frekuensi: 1719.0<br>Grade: 8.0<br>Strokes: 11"
          ],
          [
           "Kanji: 汗<br>Frekuensi: 1502.0<br>Grade: 8.0<br>Strokes: 6"
          ],
          [
           "Kanji: 豚<br>Frekuensi: 1864.0<br>Grade: 8.0<br>Strokes: 11"
          ],
          [
           "Kanji: 胃<br>Frekuensi: 1647.0<br>Grade: 4.0<br>Strokes: 9"
          ],
          [
           "Kanji: 腹<br>Frekuensi: 1286.0<br>Grade: 6.0<br>Strokes: 13"
          ],
          [
           "Kanji: 屈<br>Frekuensi: 1434.0<br>Grade: 8.0<br>Strokes: 8"
          ],
          [
           "Kanji: 悩<br>Frekuensi: 1084.0<br>Grade: 8.0<br>Strokes: 10"
          ],
          [
           "Kanji: 暇<br>Frekuensi: 1386.0<br>Grade: 8.0<br>Strokes: 13"
          ],
          [
           "Kanji: 怒<br>Frekuensi: 1221.0<br>Grade: 8.0<br>Strokes: 9"
          ],
          [
           "Kanji: 眠<br>Frekuensi: 1315.0<br>Grade: 8.0<br>Strokes: 10"
          ],
          [
           "Kanji: 睡<br>Frekuensi: 1739.0<br>Grade: 8.0<br>Strokes: 13"
          ],
          [
           "Kanji: 症<br>Frekuensi: 1111.0<br>Grade: 8.0<br>Strokes: 10"
          ],
          [
           "Kanji: 靴<br>Frekuensi: 1561.0<br>Grade: 8.0<br>Strokes: 13"
          ],
          [
           "Kanji: 濃<br>Frekuensi: 1200.0<br>Grade: 8.0<br>Strokes: 16"
          ],
          [
           "Kanji: 凍<br>Frekuensi: 1284.0<br>Grade: 8.0<br>Strokes: 10"
          ],
          [
           "Kanji: 幼<br>Frekuensi: 1227.0<br>Grade: 6.0<br>Strokes: 5"
          ],
          [
           "Kanji: 稚<br>Frekuensi: 1560.0<br>Grade: 8.0<br>Strokes: 13"
          ],
          [
           "Kanji: 潔<br>Frekuensi: 1595.0<br>Grade: 5.0<br>Strokes: 15"
          ],
          [
           "Kanji: 奇<br>Frekuensi: 1367.0<br>Grade: 8.0<br>Strokes: 8"
          ],
          [
           "Kanji: 妙<br>Frekuensi: 1122.0<br>Grade: 8.0<br>Strokes: 7"
          ],
          [
           "Kanji: 麗<br>Frekuensi: 1758.0<br>Grade: 8.0<br>Strokes: 19"
          ],
          [
           "Kanji: 微<br>Frekuensi: 1108.0<br>Grade: 8.0<br>Strokes: 13"
          ],
          [
           "Kanji: 傘<br>Frekuensi: 1694.0<br>Grade: 8.0<br>Strokes: 12"
          ],
          [
           "Kanji: 杯<br>Frekuensi: 1235.0<br>Grade: 8.0<br>Strokes: 8"
          ],
          [
           "Kanji: 乾<br>Frekuensi: 1453.0<br>Grade: 8.0<br>Strokes: 11"
          ],
          [
           "Kanji: 診<br>Frekuensi: 1019.0<br>Grade: 8.0<br>Strokes: 12"
          ],
          [
           "Kanji: 臣<br>Frekuensi: 1249.0<br>Grade: 4.0<br>Strokes: 7"
          ],
          [
           "Kanji: 娘<br>Frekuensi: 1145.0<br>Grade: 8.0<br>Strokes: 10"
          ],
          [
           "Kanji: 宴<br>Frekuensi: 1675.0<br>Grade: 8.0<br>Strokes: 10"
          ],
          [
           "Kanji: 怖<br>Frekuensi: 1325.0<br>Grade: 8.0<br>Strokes: 8"
          ],
          [
           "Kanji: 添<br>Frekuensi: 1501.0<br>Grade: 8.0<br>Strokes: 11"
          ],
          [
           "Kanji: 猛<br>Frekuensi: 1301.0<br>Grade: 8.0<br>Strokes: 11"
          ],
          [
           "Kanji: 烈<br>Frekuensi: 1397.0<br>Grade: 8.0<br>Strokes: 10"
          ],
          [
           "Kanji: 索<br>Frekuensi: 1127.0<br>Grade: 8.0<br>Strokes: 10"
          ],
          [
           "Kanji: 詰<br>Frekuensi: 1020.0<br>Grade: 8.0<br>Strokes: 13"
          ],
          [
           "Kanji: 詳<br>Frekuensi: 1178.0<br>Grade: 8.0<br>Strokes: 13"
          ],
          [
           "Kanji: 魅<br>Frekuensi: 1206.0<br>Grade: 8.0<br>Strokes: 15"
          ],
          [
           "Kanji: 渇<br>Frekuensi: 1944.0<br>Grade: 8.0<br>Strokes: 11"
          ],
          [
           "Kanji: 旗<br>Frekuensi: 1190.0<br>Grade: 4.0<br>Strokes: 14"
          ],
          [
           "Kanji: 照<br>Frekuensi: 1004.0<br>Grade: 4.0<br>Strokes: 13"
          ],
          [
           "Kanji: 快<br>Frekuensi: 1074.0<br>Grade: 5.0<br>Strokes: 7"
          ],
          [
           "Kanji: 貧<br>Frekuensi: 1211.0<br>Grade: 5.0<br>Strokes: 11"
          ],
          [
           "Kanji: 乏<br>Frekuensi: 1646.0<br>Grade: 8.0<br>Strokes: 4"
          ],
          [
           "Kanji: 翌<br>Frekuensi: 1070.0<br>Grade: 6.0<br>Strokes: 11"
          ],
          [
           "Kanji: 覧<br>Frekuensi: 1510.0<br>Grade: 6.0<br>Strokes: 17"
          ],
          [
           "Kanji: 懐<br>Frekuensi: 1493.0<br>Grade: 8.0<br>Strokes: 16"
          ],
          [
           "Kanji: 漏<br>Frekuensi: 1298.0<br>Grade: 8.0<br>Strokes: 14"
          ],
          [
           "Kanji: 符<br>Frekuensi: 1798.0<br>Grade: 8.0<br>Strokes: 11"
          ],
          [
           "Kanji: 飾<br>Frekuensi: 1193.0<br>Grade: 8.0<br>Strokes: 13"
          ],
          [
           "Kanji: 騒<br>Frekuensi: 1069.0<br>Grade: 8.0<br>Strokes: 18"
          ],
          [
           "Kanji: 撮<br>Frekuensi: 1023.0<br>Grade: 8.0<br>Strokes: 15"
          ],
          [
           "Kanji: 盗<br>Frekuensi: 1051.0<br>Grade: 8.0<br>Strokes: 11"
          ],
          [
           "Kanji: 華<br>Frekuensi: 1085.0<br>Grade: 8.0<br>Strokes: 10"
          ],
          [
           "Kanji: 既<br>Frekuensi: 1081.0<br>Grade: 8.0<br>Strokes: 10"
          ],
          [
           "Kanji: 豪<br>Frekuensi: 1104.0<br>Grade: 8.0<br>Strokes: 14"
          ],
          [
           "Kanji: 鑑<br>Frekuensi: 1391.0<br>Grade: 8.0<br>Strokes: 23"
          ],
          [
           "Kanji: 尋<br>Frekuensi: 1398.0<br>Grade: 8.0<br>Strokes: 12"
          ],
          [
           "Kanji: 幾<br>Frekuensi: 1725.0<br>Grade: 8.0<br>Strokes: 12"
          ],
          [
           "Kanji: 廊<br>Frekuensi: 1598.0<br>Grade: 8.0<br>Strokes: 12"
          ],
          [
           "Kanji: 掃<br>Frekuensi: 1255.0<br>Grade: 8.0<br>Strokes: 11"
          ],
          [
           "Kanji: 泥<br>Frekuensi: 1589.0<br>Grade: 8.0<br>Strokes: 8"
          ],
          [
           "Kanji: 棒<br>Frekuensi: 1455.0<br>Grade: 6.0<br>Strokes: 12"
          ],
          [
           "Kanji: 驚<br>Frekuensi: 1141.0<br>Grade: 8.0<br>Strokes: 22"
          ],
          [
           "Kanji: 嘆<br>Frekuensi: 1584.0<br>Grade: 8.0<br>Strokes: 13"
          ],
          [
           "Kanji: 倉<br>Frekuensi: 1114.0<br>Grade: 4.0<br>Strokes: 10"
          ],
          [
           "Kanji: 孫<br>Frekuensi: 1388.0<br>Grade: 4.0<br>Strokes: 10"
          ],
          [
           "Kanji: 巣<br>Frekuensi: 1588.0<br>Grade: 4.0<br>Strokes: 11"
          ],
          [
           "Kanji: 径<br>Frekuensi: 1435.0<br>Grade: 4.0<br>Strokes: 8"
          ],
          [
           "Kanji: 粉<br>Frekuensi: 1484.0<br>Grade: 4.0<br>Strokes: 10"
          ],
          [
           "Kanji: 脈<br>Frekuensi: 1477.0<br>Grade: 4.0<br>Strokes: 10"
          ],
          [
           "Kanji: 菜<br>Frekuensi: 1327.0<br>Grade: 4.0<br>Strokes: 11"
          ],
          [
           "Kanji: 墓<br>Frekuensi: 1337.0<br>Grade: 5.0<br>Strokes: 13"
          ],
          [
           "Kanji: 徳<br>Frekuensi: 1091.0<br>Grade: 5.0<br>Strokes: 14"
          ],
          [
           "Kanji: 偵<br>Frekuensi: 1857.0<br>Grade: 8.0<br>Strokes: 11"
          ],
          [
           "Kanji: 序<br>Frekuensi: 1160.0<br>Grade: 5.0<br>Strokes: 7"
          ],
          [
           "Kanji: 恩<br>Frekuensi: 1418.0<br>Grade: 5.0<br>Strokes: 10"
          ],
          [
           "Kanji: 桜<br>Frekuensi: 1237.0<br>Grade: 5.0<br>Strokes: 10"
          ],
          [
           "Kanji: 液<br>Frekuensi: 1210.0<br>Grade: 5.0<br>Strokes: 11"
          ],
          [
           "Kanji: 眼<br>Frekuensi: 1527.0<br>Grade: 5.0<br>Strokes: 11"
          ],
          [
           "Kanji: 祖<br>Frekuensi: 1226.0<br>Grade: 5.0<br>Strokes: 9"
          ],
          [
           "Kanji: 酸<br>Frekuensi: 1218.0<br>Grade: 5.0<br>Strokes: 14"
          ],
          [
           "Kanji: 銭<br>Frekuensi: 1008.0<br>Grade: 5.0<br>Strokes: 14"
          ],
          [
           "Kanji: 飼<br>Frekuensi: 1392.0<br>Grade: 5.0<br>Strokes: 13"
          ],
          [
           "Kanji: 卵<br>Frekuensi: 1342.0<br>Grade: 6.0<br>Strokes: 7"
          ],
          [
           "Kanji: 捨<br>Frekuensi: 1266.0<br>Grade: 6.0<br>Strokes: 11"
          ],
          [
           "Kanji: 暖<br>Frekuensi: 1371.0<br>Grade: 6.0<br>Strokes: 13"
          ],
          [
           "Kanji: 机<br>Frekuensi: 1671.0<br>Grade: 6.0<br>Strokes: 6"
          ],
          [
           "Kanji: 訳<br>Frekuensi: 1050.0<br>Grade: 6.0<br>Strokes: 11"
          ],
          [
           "Kanji: 窓<br>Frekuensi: 1186.0<br>Grade: 6.0<br>Strokes: 11"
          ],
          [
           "Kanji: 垂<br>Frekuensi: 1720.0<br>Grade: 6.0<br>Strokes: 8"
          ],
          [
           "Kanji: 宝<br>Frekuensi: 1139.0<br>Grade: 6.0<br>Strokes: 8"
          ],
          [
           "Kanji: 尊<br>Frekuensi: 1181.0<br>Grade: 6.0<br>Strokes: 12"
          ],
          [
           "Kanji: 忠<br>Frekuensi: 1113.0<br>Grade: 6.0<br>Strokes: 8"
          ],
          [
           "Kanji: 操<br>Frekuensi: 1016.0<br>Grade: 6.0<br>Strokes: 16"
          ],
          [
           "Kanji: 敬<br>Frekuensi: 1078.0<br>Grade: 6.0<br>Strokes: 12"
          ],
          [
           "Kanji: 灰<br>Frekuensi: 1717.0<br>Grade: 6.0<br>Strokes: 6"
          ],
          [
           "Kanji: 熟<br>Frekuensi: 1415.0<br>Grade: 6.0<br>Strokes: 15"
          ],
          [
           "Kanji: 砂<br>Frekuensi: 1146.0<br>Grade: 6.0<br>Strokes: 9"
          ],
          [
           "Kanji: 漠<br>Frekuensi: 1611.0<br>Grade: 8.0<br>Strokes: 13"
          ],
          [
           "Kanji: 糖<br>Frekuensi: 1471.0<br>Grade: 6.0<br>Strokes: 16"
          ],
          [
           "Kanji: 肺<br>Frekuensi: 1387.0<br>Grade: 6.0<br>Strokes: 9"
          ],
          [
           "Kanji: 蒸<br>Frekuensi: 1552.0<br>Grade: 6.0<br>Strokes: 13"
          ],
          [
           "Kanji: 誤<br>Frekuensi: 1150.0<br>Grade: 6.0<br>Strokes: 14"
          ],
          [
           "Kanji: 吐<br>Frekuensi: 1674.0<br>Grade: 8.0<br>Strokes: 6"
          ],
          [
           "Kanji: 奴<br>Frekuensi: 1932.0<br>Grade: 8.0<br>Strokes: 5"
          ],
          [
           "Kanji: 純<br>Frekuensi: 1044.0<br>Grade: 6.0<br>Strokes: 10"
          ],
          [
           "Kanji: 縦<br>Frekuensi: 1258.0<br>Grade: 6.0<br>Strokes: 16"
          ],
          [
           "Kanji: 粋<br>Frekuensi: 1768.0<br>Grade: 8.0<br>Strokes: 10"
          ],
          [
           "Kanji: 聖<br>Frekuensi: 1165.0<br>Grade: 6.0<br>Strokes: 13"
          ],
          [
           "Kanji: 磁<br>Frekuensi: 1686.0<br>Grade: 6.0<br>Strokes: 14"
          ],
          [
           "Kanji: 紅<br>Frekuensi: 1299.0<br>Grade: 6.0<br>Strokes: 9"
          ],
          [
           "Kanji: 拝<br>Frekuensi: 1443.0<br>Grade: 6.0<br>Strokes: 8"
          ],
          [
           "Kanji: 薦<br>Frekuensi: 1082.0<br>Grade: 8.0<br>Strokes: 16"
          ],
          [
           "Kanji: 沿<br>Frekuensi: 1121.0<br>Grade: 6.0<br>Strokes: 8"
          ],
          [
           "Kanji: 歓<br>Frekuensi: 1065.0<br>Grade: 8.0<br>Strokes: 15"
          ],
          [
           "Kanji: 枝<br>Frekuensi: 1401.0<br>Grade: 5.0<br>Strokes: 8"
          ],
          [
           "Kanji: 豆<br>Frekuensi: 1422.0<br>Grade: 3.0<br>Strokes: 7"
          ],
          [
           "Kanji: 腐<br>Frekuensi: 1225.0<br>Grade: 8.0<br>Strokes: 14"
          ],
          [
           "Kanji: 彫<br>Frekuensi: 1533.0<br>Grade: 8.0<br>Strokes: 11"
          ],
          [
           "Kanji: 舎<br>Frekuensi: 1170.0<br>Grade: 5.0<br>Strokes: 8"
          ],
          [
           "Kanji: 滞<br>Frekuensi: 1107.0<br>Grade: 8.0<br>Strokes: 13"
          ],
          [
           "Kanji: 己<br>Frekuensi: 1098.0<br>Grade: 6.0<br>Strokes: 3"
          ],
          [
           "Kanji: 亀<br>Frekuensi: 1353.0<br>Grade: 8.0<br>Strokes: 11"
          ],
          [
           "Kanji: 剣<br>Frekuensi: 1305.0<br>Grade: 8.0<br>Strokes: 10"
          ],
          [
           "Kanji: 恥<br>Frekuensi: 1575.0<br>Grade: 8.0<br>Strokes: 10"
          ],
          [
           "Kanji: 杉<br>Frekuensi: 1095.0<br>Grade: 8.0<br>Strokes: 7"
          ],
          [
           "Kanji: 汁<br>Frekuensi: 1843.0<br>Grade: 8.0<br>Strokes: 5"
          ],
          [
           "Kanji: 炎<br>Frekuensi: 1242.0<br>Grade: 8.0<br>Strokes: 8"
          ],
          [
           "Kanji: 熊<br>Frekuensi: 1105.0<br>Grade: 8.0<br>Strokes: 14"
          ],
          [
           "Kanji: 獄<br>Frekuensi: 1529.0<br>Grade: 8.0<br>Strokes: 14"
          ],
          [
           "Kanji: 酔<br>Frekuensi: 1640.0<br>Grade: 8.0<br>Strokes: 11"
          ],
          [
           "Kanji: 酢<br>Frekuensi: 1955.0<br>Grade: 8.0<br>Strokes: 12"
          ],
          [
           "Kanji: 湖<br>Frekuensi: 1344.0<br>Grade: 3.0<br>Strokes: 12"
          ],
          [
           "Kanji: 銅<br>Frekuensi: 1505.0<br>Grade: 5.0<br>Strokes: 14"
          ],
          [
           "Kanji: 姓<br>Frekuensi: 1628.0<br>Grade: 8.0<br>Strokes: 8"
          ],
          [
           "Kanji: 甘<br>Frekuensi: 1248.0<br>Grade: 8.0<br>Strokes: 5"
          ],
          [
           "Kanji: 縄<br>Frekuensi: 1075.0<br>Grade: 8.0<br>Strokes: 15"
          ],
          [
           "Kanji: 津<br>Frekuensi: 1036.0<br>Grade: 8.0<br>Strokes: 9"
          ],
          [
           "Kanji: 諾<br>Frekuensi: 1490.0<br>Grade: 8.0<br>Strokes: 15"
          ],
          [
           "Kanji: 跳<br>Frekuensi: 1716.0<br>Grade: 8.0<br>Strokes: 13"
          ],
          [
           "Kanji: 漁<br>Frekuensi: 1094.0<br>Grade: 4.0<br>Strokes: 14"
          ],
          [
           "Kanji: 抵<br>Frekuensi: 1182.0<br>Grade: 8.0<br>Strokes: 8"
          ],
          [
           "Kanji: 旬<br>Frekuensi: 1162.0<br>Grade: 8.0<br>Strokes: 6"
          ],
          [
           "Kanji: 兆<br>Frekuensi: 1174.0<br>Grade: 4.0<br>Strokes: 6"
          ],
          [
           "Kanji: 宜<br>Frekuensi: 1766.0<br>Grade: 8.0<br>Strokes: 8"
          ],
          [
           "Kanji: 妊<br>Frekuensi: 1413.0<br>Grade: 8.0<br>Strokes: 7"
          ],
          [
           "Kanji: 娠<br>Frekuensi: 1623.0<br>Grade: 8.0<br>Strokes: 10"
          ],
          [
           "Kanji: 奏<br>Frekuensi: 1067.0<br>Grade: 6.0<br>Strokes: 9"
          ],
          [
           "Kanji: 奥<br>Frekuensi: 1018.0<br>Grade: 8.0<br>Strokes: 12"
          ],
          [
           "Kanji: 扱<br>Frekuensi: 1057.0<br>Grade: 8.0<br>Strokes: 6"
          ],
          [
           "Kanji: 託<br>Frekuensi: 1021.0<br>Grade: 8.0<br>Strokes: 10"
          ],
          [
           "Kanji: 賄<br>Frekuensi: 1282.0<br>Grade: 8.0<br>Strokes: 13"
          ],
          [
           "Kanji: 贈<br>Frekuensi: 1001.0<br>Grade: 8.0<br>Strokes: 18"
          ],
          [
           "Kanji: 岐<br>Frekuensi: 1428.0<br>Grade: 8.0<br>Strokes: 7"
          ],
          [
           "Kanji: 隆<br>Frekuensi: 1109.0<br>Grade: 8.0<br>Strokes: 11"
          ],
          [
           "Kanji: 壁<br>Frekuensi: 1037.0<br>Grade: 8.0<br>Strokes: 16"
          ],
          [
           "Kanji: 棋<br>Frekuensi: 1311.0<br>Grade: 8.0<br>Strokes: 12"
          ],
          [
           "Kanji: 渋<br>Frekuensi: 1011.0<br>Grade: 8.0<br>Strokes: 11"
          ],
          [
           "Kanji: 片<br>Frekuensi: 1076.0<br>Grade: 6.0<br>Strokes: 4"
          ],
          [
           "Kanji: 群<br>Frekuensi: 1012.0<br>Grade: 5.0<br>Strokes: 13"
          ],
          [
           "Kanji: 仙<br>Frekuensi: 1157.0<br>Grade: 8.0<br>Strokes: 5"
          ],
          [
           "Kanji: 免<br>Frekuensi: 1080.0<br>Grade: 8.0<br>Strokes: 8"
          ],
          [
           "Kanji: 勧<br>Frekuensi: 1068.0<br>Grade: 8.0<br>Strokes: 13"
          ],
          [
           "Kanji: 圏<br>Frekuensi: 1216.0<br>Grade: 8.0<br>Strokes: 12"
          ],
          [
           "Kanji: 埋<br>Frekuensi: 1110.0<br>Grade: 8.0<br>Strokes: 10"
          ],
          [
           "Kanji: 御<br>Frekuensi: 1087.0<br>Grade: 8.0<br>Strokes: 12"
          ],
          [
           "Kanji: 甲<br>Frekuensi: 1073.0<br>Grade: 8.0<br>Strokes: 5"
          ],
          [
           "Kanji: 祉<br>Frekuensi: 1063.0<br>Grade: 8.0<br>Strokes: 8"
          ],
          [
           "Kanji: 稲<br>Frekuensi: 1038.0<br>Grade: 8.0<br>Strokes: 14"
          ],
          [
           "Kanji: 謙<br>Frekuensi: 1582.0<br>Grade: 8.0<br>Strokes: 17"
          ],
          [
           "Kanji: 銃<br>Frekuensi: 1013.0<br>Grade: 8.0<br>Strokes: 14"
          ],
          [
           "Kanji: 鋼<br>Frekuensi: 1246.0<br>Grade: 6.0<br>Strokes: 16"
          ],
          [
           "Kanji: 顧<br>Frekuensi: 1058.0<br>Grade: 8.0<br>Strokes: 21"
          ],
          [
           "Kanji: 駆<br>Frekuensi: 1033.0<br>Grade: 8.0<br>Strokes: 14"
          ],
          [
           "Kanji: 柱<br>Frekuensi: 1119.0<br>Grade: 3.0<br>Strokes: 9"
          ],
          [
           "Kanji: 唱<br>Frekuensi: 1123.0<br>Grade: 4.0<br>Strokes: 11"
          ],
          [
           "Kanji: 俊<br>Frekuensi: 1007.0<br>Grade: 8.0<br>Strokes: 9"
          ],
          [
           "Kanji: 兼<br>Frekuensi: 1164.0<br>Grade: 8.0<br>Strokes: 10"
          ],
          [
           "Kanji: 剤<br>Frekuensi: 1151.0<br>Grade: 8.0<br>Strokes: 10"
          ],
          [
           "Kanji: 吹<br>Frekuensi: 1133.0<br>Grade: 8.0<br>Strokes: 7"
          ],
          [
           "Kanji: 堀<br>Frekuensi: 1285.0<br>Grade: 8.0<br>Strokes: 11"
          ],
          [
           "Kanji: 巡<br>Frekuensi: 1262.0<br>Grade: 8.0<br>Strokes: 6"
          ],
          [
           "Kanji: 戒<br>Frekuensi: 1062.0<br>Grade: 8.0<br>Strokes: 7"
          ],
          [
           "Kanji: 排<br>Frekuensi: 1047.0<br>Grade: 8.0<br>Strokes: 11"
          ],
          [
           "Kanji: 携<br>Frekuensi: 1017.0<br>Grade: 8.0<br>Strokes: 13"
          ],
          [
           "Kanji: 敏<br>Frekuensi: 1042.0<br>Grade: 8.0<br>Strokes: 10"
          ],
          [
           "Kanji: 鋭<br>Frekuensi: 1395.0<br>Grade: 8.0<br>Strokes: 15"
          ],
          [
           "Kanji: 敷<br>Frekuensi: 1212.0<br>Grade: 8.0<br>Strokes: 15"
          ],
          [
           "Kanji: 殿<br>Frekuensi: 1199.0<br>Grade: 8.0<br>Strokes: 13"
          ],
          [
           "Kanji: 犠<br>Frekuensi: 1189.0<br>Grade: 8.0<br>Strokes: 17"
          ],
          [
           "Kanji: 茂<br>Frekuensi: 1188.0<br>Grade: 8.0<br>Strokes: 8"
          ],
          [
           "Kanji: 繁<br>Frekuensi: 1198.0<br>Grade: 8.0<br>Strokes: 16"
          ],
          [
           "Kanji: 頻<br>Frekuensi: 1590.0<br>Grade: 8.0<br>Strokes: 17"
          ],
          [
           "Kanji: 殖<br>Frekuensi: 1362.0<br>Grade: 8.0<br>Strokes: 12"
          ],
          [
           "Kanji: 薄<br>Frekuensi: 1009.0<br>Grade: 8.0<br>Strokes: 16"
          ],
          [
           "Kanji: 誉<br>Frekuensi: 1064.0<br>Grade: 8.0<br>Strokes: 13"
          ],
          [
           "Kanji: 透<br>Frekuensi: 1035.0<br>Grade: 8.0<br>Strokes: 10"
          ],
          [
           "Kanji: 隣<br>Frekuensi: 1083.0<br>Grade: 8.0<br>Strokes: 16"
          ],
          [
           "Kanji: 雅<br>Frekuensi: 1192.0<br>Grade: 8.0<br>Strokes: 13"
          ],
          [
           "Kanji: 瀬<br>Frekuensi: 1152.0<br>Grade: 8.0<br>Strokes: 19"
          ],
          [
           "Kanji: 虎<br>Frekuensi: 1653.0<br>Grade: 8.0<br>Strokes: 8"
          ],
          [
           "Kanji: 艦<br>Frekuensi: 1363.0<br>Grade: 8.0<br>Strokes: 21"
          ],
          [
           "Kanji: 潜<br>Frekuensi: 1329.0<br>Grade: 8.0<br>Strokes: 15"
          ],
          [
           "Kanji: 拳<br>Frekuensi: 1935.0<br>Grade: 8.0<br>Strokes: 10"
          ],
          [
           "Kanji: 炭<br>Frekuensi: 1307.0<br>Grade: 3.0<br>Strokes: 9"
          ],
          [
           "Kanji: 衣<br>Frekuensi: 1214.0<br>Grade: 4.0<br>Strokes: 6"
          ],
          [
           "Kanji: 仁<br>Frekuensi: 1332.0<br>Grade: 6.0<br>Strokes: 4"
          ],
          [
           "Kanji: 鉱<br>Frekuensi: 1376.0<br>Grade: 5.0<br>Strokes: 13"
          ],
          [
           "Kanji: 誠<br>Frekuensi: 1128.0<br>Grade: 6.0<br>Strokes: 13"
          ],
          [
           "Kanji: 郷<br>Frekuensi: 1077.0<br>Grade: 6.0<br>Strokes: 11"
          ],
          [
           "Kanji: 侵<br>Frekuensi: 1025.0<br>Grade: 8.0<br>Strokes: 9"
          ],
          [
           "Kanji: 偽<br>Frekuensi: 1171.0<br>Grade: 8.0<br>Strokes: 11"
          ],
          [
           "Kanji: 克<br>Frekuensi: 1333.0<br>Grade: 8.0<br>Strokes: 7"
          ],
          [
           "Kanji: 到<br>Frekuensi: 1032.0<br>Grade: 8.0<br>Strokes: 8"
          ],
          [
           "Kanji: 双<br>Frekuensi: 1029.0<br>Grade: 8.0<br>Strokes: 4"
          ],
          [
           "Kanji: 哲<br>Frekuensi: 1093.0<br>Grade: 8.0<br>Strokes: 10"
          ],
          [
           "Kanji: 堅<br>Frekuensi: 1049.0<br>Grade: 8.0<br>Strokes: 12"
          ],
          [
           "Kanji: 床<br>Frekuensi: 1175.0<br>Grade: 8.0<br>Strokes: 7"
          ],
          [
           "Kanji: 括<br>Frekuensi: 1026.0<br>Grade: 8.0<br>Strokes: 9"
          ],
          [
           "Kanji: 掘<br>Frekuensi: 1257.0<br>Grade: 8.0<br>Strokes: 11"
          ],
          [
           "Kanji: 揚<br>Frekuensi: 1316.0<br>Grade: 8.0<br>Strokes: 12"
          ],
          [
           "Kanji: 握<br>Frekuensi: 1003.0<br>Grade: 8.0<br>Strokes: 12"
          ],
          [
           "Kanji: 揺<br>Frekuensi: 1079.0<br>Grade: 8.0<br>Strokes: 12"
          ],
          [
           "Kanji: 斎<br>Frekuensi: 1155.0<br>Grade: 8.0<br>Strokes: 11"
          ],
          [
           "Kanji: 暫<br>Frekuensi: 1112.0<br>Grade: 8.0<br>Strokes: 15"
          ],
          [
           "Kanji: 枢<br>Frekuensi: 1791.0<br>Grade: 8.0<br>Strokes: 8"
          ],
          [
           "Kanji: 軸<br>Frekuensi: 1261.0<br>Grade: 8.0<br>Strokes: 12"
          ],
          [
           "Kanji: 柄<br>Frekuensi: 1140.0<br>Grade: 8.0<br>Strokes: 9"
          ],
          [
           "Kanji: 泊<br>Frekuensi: 1233.0<br>Grade: 8.0<br>Strokes: 8"
          ],
          [
           "Kanji: 滑<br>Frekuensi: 1238.0<br>Grade: 8.0<br>Strokes: 13"
          ],
          [
           "Kanji: 潟<br>Frekuensi: 1204.0<br>Grade: 8.0<br>Strokes: 15"
          ],
          [
           "Kanji: 範<br>Frekuensi: 1088.0<br>Grade: 8.0<br>Strokes: 15"
          ],
          [
           "Kanji: 糾<br>Frekuensi: 1820.0<br>Grade: 8.0<br>Strokes: 9"
          ],
          [
           "Kanji: 綱<br>Frekuensi: 1053.0<br>Grade: 8.0<br>Strokes: 14"
          ],
          [
           "Kanji: 網<br>Frekuensi: 1194.0<br>Grade: 8.0<br>Strokes: 14"
          ],
          [
           "Kanji: 肝<br>Frekuensi: 1118.0<br>Grade: 8.0<br>Strokes: 7"
          ],
          [
           "Kanji: 芝<br>Frekuensi: 1052.0<br>Grade: 8.0<br>Strokes: 6"
          ],
          [
           "Kanji: 荒<br>Frekuensi: 1099.0<br>Grade: 8.0<br>Strokes: 9"
          ],
          [
           "Kanji: 袋<br>Frekuensi: 1125.0<br>Grade: 8.0<br>Strokes: 11"
          ],
          [
           "Kanji: 珍<br>Frekuensi: 1330.0<br>Grade: 8.0<br>Strokes: 9"
          ],
          [
           "Kanji: 裂<br>Frekuensi: 1041.0<br>Grade: 8.0<br>Strokes: 12"
          ],
          [
           "Kanji: 襲<br>Frekuensi: 1130.0<br>Grade: 8.0<br>Strokes: 22"
          ],
          [
           "Kanji: 趣<br>Frekuensi: 1153.0<br>Grade: 8.0<br>Strokes: 15"
          ],
          [
           "Kanji: 距<br>Frekuensi: 1191.0<br>Grade: 8.0<br>Strokes: 12"
          ],
          [
           "Kanji: 牧<br>Frekuensi: 1360.0<br>Grade: 4.0<br>Strokes: 8"
          ],
          [
           "Kanji: 刷<br>Frekuensi: 1352.0<br>Grade: 4.0<br>Strokes: 8"
          ],
          [
           "Kanji: 朗<br>Frekuensi: 1374.0<br>Grade: 6.0<br>Strokes: 10"
          ],
          [
           "Kanji: 潮<br>Frekuensi: 1231.0<br>Grade: 6.0<br>Strokes: 15"
          ],
          [
           "Kanji: 即<br>Frekuensi: 1167.0<br>Grade: 8.0<br>Strokes: 7"
          ],
          [
           "Kanji: 垣<br>Frekuensi: 1539.0<br>Grade: 8.0<br>Strokes: 9"
          ],
          [
           "Kanji: 威<br>Frekuensi: 1103.0<br>Grade: 8.0<br>Strokes: 9"
          ],
          [
           "Kanji: 封<br>Frekuensi: 1143.0<br>Grade: 8.0<br>Strokes: 9"
          ],
          [
           "Kanji: 筒<br>Frekuensi: 1631.0<br>Grade: 8.0<br>Strokes: 12"
          ],
          [
           "Kanji: 岳<br>Frekuensi: 1334.0<br>Grade: 8.0<br>Strokes: 8"
          ],
          [
           "Kanji: 慰<br>Frekuensi: 1158.0<br>Grade: 8.0<br>Strokes: 15"
          ],
          [
           "Kanji: 懇<br>Frekuensi: 1135.0<br>Grade: 8.0<br>Strokes: 17"
          ],
          [
           "Kanji: 懲<br>Frekuensi: 1303.0<br>Grade: 8.0<br>Strokes: 18"
          ],
          [
           "Kanji: 摩<br>Frekuensi: 1252.0<br>Grade: 8.0<br>Strokes: 15"
          ],
          [
           "Kanji: 擦<br>Frekuensi: 1485.0<br>Grade: 8.0<br>Strokes: 17"
          ],
          [
           "Kanji: 撲<br>Frekuensi: 1283.0<br>Grade: 8.0<br>Strokes: 15"
          ],
          [
           "Kanji: 斉<br>Frekuensi: 1209.0<br>Grade: 8.0<br>Strokes: 8"
          ],
          [
           "Kanji: 旨<br>Frekuensi: 1166.0<br>Grade: 8.0<br>Strokes: 6"
          ],
          [
           "Kanji: 柔<br>Frekuensi: 1187.0<br>Grade: 8.0<br>Strokes: 9"
          ],
          [
           "Kanji: 沈<br>Frekuensi: 1271.0<br>Grade: 8.0<br>Strokes: 7"
          ],
          [
           "Kanji: 沼<br>Frekuensi: 1467.0<br>Grade: 8.0<br>Strokes: 8"
          ],
          [
           "Kanji: 泰<br>Frekuensi: 1281.0<br>Grade: 8.0<br>Strokes: 10"
          ],
          [
           "Kanji: 滅<br>Frekuensi: 1222.0<br>Grade: 8.0<br>Strokes: 13"
          ],
          [
           "Kanji: 滋<br>Frekuensi: 1563.0<br>Grade: 8.0<br>Strokes: 12"
          ],
          [
           "Kanji: 炉<br>Frekuensi: 1359.0<br>Grade: 8.0<br>Strokes: 8"
          ],
          [
           "Kanji: 琴<br>Frekuensi: 1591.0<br>Grade: 8.0<br>Strokes: 12"
          ],
          [
           "Kanji: 寸<br>Frekuensi: 1669.0<br>Grade: 6.0<br>Strokes: 3"
          ],
          [
           "Kanji: 竜<br>Frekuensi: 1195.0<br>Grade: 8.0<br>Strokes: 10"
          ],
          [
           "Kanji: 縁<br>Frekuensi: 1291.0<br>Grade: 8.0<br>Strokes: 15"
          ],
          [
           "Kanji: 翼<br>Frekuensi: 1201.0<br>Grade: 8.0<br>Strokes: 17"
          ],
          [
           "Kanji: 刃<br>Frekuensi: 1763.0<br>Grade: 8.0<br>Strokes: 3"
          ],
          [
           "Kanji: 忍<br>Frekuensi: 1700.0<br>Grade: 8.0<br>Strokes: 7"
          ],
          [
           "Kanji: 桃<br>Frekuensi: 1784.0<br>Grade: 8.0<br>Strokes: 10"
          ],
          [
           "Kanji: 辛<br>Frekuensi: 1607.0<br>Grade: 8.0<br>Strokes: 7"
          ],
          [
           "Kanji: 侍<br>Frekuensi: 1939.0<br>Grade: 8.0<br>Strokes: 8"
          ],
          [
           "Kanji: 娯<br>Frekuensi: 1827.0<br>Grade: 8.0<br>Strokes: 10"
          ],
          [
           "Kanji: 斗<br>Frekuensi: 1885.0<br>Grade: 8.0<br>Strokes: 4"
          ],
          [
           "Kanji: 朱<br>Frekuensi: 1788.0<br>Grade: 8.0<br>Strokes: 6"
          ],
          [
           "Kanji: 丘<br>Frekuensi: 1405.0<br>Grade: 8.0<br>Strokes: 5"
          ],
          [
           "Kanji: 梨<br>Frekuensi: 1331.0<br>Grade: 8.0<br>Strokes: 11"
          ],
          [
           "Kanji: 僕<br>Frekuensi: 1236.0<br>Grade: 8.0<br>Strokes: 14"
          ],
          [
           "Kanji: 匹<br>Frekuensi: 1384.0<br>Grade: 8.0<br>Strokes: 4"
          ],
          [
           "Kanji: 叫<br>Frekuensi: 1426.0<br>Grade: 8.0<br>Strokes: 6"
          ],
          [
           "Kanji: 釣<br>Frekuensi: 1542.0<br>Grade: 8.0<br>Strokes: 11"
          ],
          [
           "Kanji: 髪<br>Frekuensi: 1474.0<br>Grade: 8.0<br>Strokes: 14"
          ],
          [
           "Kanji: 嵐<br>Frekuensi: 1910.0<br>Grade: 8.0<br>Strokes: 12"
          ],
          [
           "Kanji: 涙<br>Frekuensi: 1381.0<br>Grade: 8.0<br>Strokes: 10"
          ],
          [
           "Kanji: 缶<br>Frekuensi: 1543.0<br>Grade: 8.0<br>Strokes: 6"
          ],
          [
           "Kanji: 姫<br>Frekuensi: 1566.0<br>Grade: 8.0<br>Strokes: 10"
          ],
          [
           "Kanji: 棚<br>Frekuensi: 1594.0<br>Grade: 8.0<br>Strokes: 12"
          ],
          [
           "Kanji: 粒<br>Frekuensi: 1635.0<br>Grade: 8.0<br>Strokes: 11"
          ],
          [
           "Kanji: 砲<br>Frekuensi: 1268.0<br>Grade: 8.0<br>Strokes: 10"
          ],
          [
           "Kanji: 雷<br>Frekuensi: 1491.0<br>Grade: 8.0<br>Strokes: 13"
          ],
          [
           "Kanji: 芽<br>Frekuensi: 1691.0<br>Grade: 4.0<br>Strokes: 8"
          ],
          [
           "Kanji: 塔<br>Frekuensi: 1708.0<br>Grade: 8.0<br>Strokes: 12"
          ],
          [
           "Kanji: 澄<br>Frekuensi: 1722.0<br>Grade: 8.0<br>Strokes: 15"
          ],
          [
           "Kanji: 矛<br>Frekuensi: 1538.0<br>Grade: 8.0<br>Strokes: 5"
          ],
          [
           "Kanji: 肌<br>Frekuensi: 1559.0<br>Grade: 8.0<br>Strokes: 6"
          ],
          [
           "Kanji: 舟<br>Frekuensi: 1786.0<br>Grade: 8.0<br>Strokes: 6"
          ],
          [
           "Kanji: 鐘<br>Frekuensi: 1681.0<br>Grade: 8.0<br>Strokes: 20"
          ],
          [
           "Kanji: 凶<br>Frekuensi: 1673.0<br>Grade: 8.0<br>Strokes: 4"
          ],
          [
           "Kanji: 塊<br>Frekuensi: 1800.0<br>Grade: 8.0<br>Strokes: 13"
          ],
          [
           "Kanji: 狩<br>Frekuensi: 1785.0<br>Grade: 8.0<br>Strokes: 9"
          ],
          [
           "Kanji: 魂<br>Frekuensi: 1748.0<br>Grade: 8.0<br>Strokes: 14"
          ],
          [
           "Kanji: 脚<br>Frekuensi: 1228.0<br>Grade: 8.0<br>Strokes: 11"
          ],
          [
           "Kanji: 也<br>Frekuensi: 1404.0<br>Grade: 9.0<br>Strokes: 3"
          ],
          [
           "Kanji: 暦<br>Frekuensi: 1765.0<br>Grade: 8.0<br>Strokes: 14"
          ],
          [
           "Kanji: 曇<br>Frekuensi: 1899.0<br>Grade: 8.0<br>Strokes: 16"
          ],
          [
           "Kanji: 眺<br>Frekuensi: 1726.0<br>Grade: 8.0<br>Strokes: 11"
          ],
          [
           "Kanji: 裸<br>Frekuensi: 1796.0<br>Grade: 8.0<br>Strokes: 13"
          ],
          [
           "Kanji: 疲<br>Frekuensi: 1263.0<br>Grade: 8.0<br>Strokes: 10"
          ],
          [
           "Kanji: 塾<br>Frekuensi: 1297.0<br>Grade: 8.0<br>Strokes: 14"
          ],
          [
           "Kanji: 卓<br>Frekuensi: 1348.0<br>Grade: 8.0<br>Strokes: 8"
          ],
          [
           "Kanji: 磨<br>Frekuensi: 1608.0<br>Grade: 8.0<br>Strokes: 16"
          ],
          [
           "Kanji: 菌<br>Frekuensi: 1586.0<br>Grade: 8.0<br>Strokes: 11"
          ],
          [
           "Kanji: 陰<br>Frekuensi: 1393.0<br>Grade: 8.0<br>Strokes: 11"
          ],
          [
           "Kanji: 霊<br>Frekuensi: 1458.0<br>Grade: 8.0<br>Strokes: 15"
          ],
          [
           "Kanji: 湿<br>Frekuensi: 1517.0<br>Grade: 8.0<br>Strokes: 12"
          ],
          [
           "Kanji: 硬<br>Frekuensi: 1101.0<br>Grade: 8.0<br>Strokes: 12"
          ],
          [
           "Kanji: 稼<br>Frekuensi: 1264.0<br>Grade: 8.0<br>Strokes: 15"
          ],
          [
           "Kanji: 嫁<br>Frekuensi: 1581.0<br>Grade: 8.0<br>Strokes: 13"
          ],
          [
           "Kanji: 溝<br>Frekuensi: 1736.0<br>Grade: 8.0<br>Strokes: 13"
          ],
          [
           "Kanji: 滝<br>Frekuensi: 1478.0<br>Grade: 8.0<br>Strokes: 13"
          ],
          [
           "Kanji: 狂<br>Frekuensi: 1425.0<br>Grade: 8.0<br>Strokes: 7"
          ],
          [
           "Kanji: 翔<br>Frekuensi: 1936.0<br>Grade: 9.0<br>Strokes: 12"
          ],
          [
           "Kanji: 墨<br>Frekuensi: 1616.0<br>Grade: 8.0<br>Strokes: 14"
          ],
          [
           "Kanji: 鳩<br>Frekuensi: 1637.0<br>Grade: 9.0<br>Strokes: 13"
          ],
          [
           "Kanji: 穏<br>Frekuensi: 1535.0<br>Grade: 8.0<br>Strokes: 16"
          ],
          [
           "Kanji: 鈍<br>Frekuensi: 1574.0<br>Grade: 8.0<br>Strokes: 12"
          ],
          [
           "Kanji: 魔<br>Frekuensi: 1514.0<br>Grade: 8.0<br>Strokes: 21"
          ],
          [
           "Kanji: 寮<br>Frekuensi: 1705.0<br>Grade: 8.0<br>Strokes: 15"
          ],
          [
           "Kanji: 盆<br>Frekuensi: 1654.0<br>Grade: 8.0<br>Strokes: 9"
          ],
          [
           "Kanji: 棟<br>Frekuensi: 1406.0<br>Grade: 8.0<br>Strokes: 12"
          ],
          [
           "Kanji: 寧<br>Frekuensi: 1697.0<br>Grade: 8.0<br>Strokes: 14"
          ],
          [
           "Kanji: 涼<br>Frekuensi: 1783.0<br>Grade: 8.0<br>Strokes: 11"
          ],
          [
           "Kanji: 猿<br>Frekuensi: 1772.0<br>Grade: 8.0<br>Strokes: 13"
          ],
          [
           "Kanji: 零<br>Frekuensi: 1217.0<br>Grade: 8.0<br>Strokes: 13"
          ],
          [
           "Kanji: 碁<br>Frekuensi: 1609.0<br>Grade: 8.0<br>Strokes: 13"
          ],
          [
           "Kanji: 幽<br>Frekuensi: 1996.0<br>Grade: 8.0<br>Strokes: 9"
          ],
          [
           "Kanji: 泡<br>Frekuensi: 1872.0<br>Grade: 8.0<br>Strokes: 8"
          ],
          [
           "Kanji: 癖<br>Frekuensi: 1973.0<br>Grade: 8.0<br>Strokes: 18"
          ],
          [
           "Kanji: 鍛<br>Frekuensi: 1793.0<br>Grade: 8.0<br>Strokes: 17"
          ],
          [
           "Kanji: 穂<br>Frekuensi: 1656.0<br>Grade: 8.0<br>Strokes: 15"
          ],
          [
           "Kanji: 帝<br>Frekuensi: 1276.0<br>Grade: 8.0<br>Strokes: 9"
          ],
          [
           "Kanji: 瞬<br>Frekuensi: 1265.0<br>Grade: 8.0<br>Strokes: 18"
          ],
          [
           "Kanji: 菊<br>Frekuensi: 1287.0<br>Grade: 8.0<br>Strokes: 11"
          ],
          [
           "Kanji: 誇<br>Frekuensi: 1272.0<br>Grade: 8.0<br>Strokes: 13"
          ],
          [
           "Kanji: 庄<br>Frekuensi: 1693.0<br>Grade: 9.0<br>Strokes: 6"
          ],
          [
           "Kanji: 阻<br>Frekuensi: 1280.0<br>Grade: 8.0<br>Strokes: 8"
          ],
          [
           "Kanji: 黙<br>Frekuensi: 1338.0<br>Grade: 8.0<br>Strokes: 15"
          ],
          [
           "Kanji: 俵<br>Frekuensi: 1481.0<br>Grade: 5.0<br>Strokes: 10"
          ],
          [
           "Kanji: 綿<br>Frekuensi: 1495.0<br>Grade: 5.0<br>Strokes: 14"
          ],
          [
           "Kanji: 架<br>Frekuensi: 1555.0<br>Grade: 8.0<br>Strokes: 9"
          ],
          [
           "Kanji: 砕<br>Frekuensi: 1579.0<br>Grade: 8.0<br>Strokes: 9"
          ],
          [
           "Kanji: 粘<br>Frekuensi: 1410.0<br>Grade: 8.0<br>Strokes: 11"
          ],
          [
           "Kanji: 欺<br>Frekuensi: 1541.0<br>Grade: 8.0<br>Strokes: 12"
          ],
          [
           "Kanji: 詐<br>Frekuensi: 1511.0<br>Grade: 8.0<br>Strokes: 12"
          ],
          [
           "Kanji: 霧<br>Frekuensi: 1747.0<br>Grade: 8.0<br>Strokes: 19"
          ],
          [
           "Kanji: 柳<br>Frekuensi: 1169.0<br>Grade: 8.0<br>Strokes: 9"
          ],
          [
           "Kanji: 尺<br>Frekuensi: 1940.0<br>Grade: 6.0<br>Strokes: 4"
          ],
          [
           "Kanji: 哀<br>Frekuensi: 1715.0<br>Grade: 8.0<br>Strokes: 9"
          ],
          [
           "Kanji: 唇<br>Frekuensi: 1992.0<br>Grade: 8.0<br>Strokes: 10"
          ],
          [
           "Kanji: 塀<br>Frekuensi: 1991.0<br>Grade: 8.0<br>Strokes: 12"
          ],
          [
           "Kanji: 墜<br>Frekuensi: 1466.0<br>Grade: 8.0<br>Strokes: 15"
          ],
          [
           "Kanji: 如<br>Frekuensi: 1704.0<br>Grade: 8.0<br>Strokes: 6"
          ],
          [
           "Kanji: 帽<br>Frekuensi: 1742.0<br>Grade: 8.0<br>Strokes: 12"
          ],
          [
           "Kanji: 幣<br>Frekuensi: 1803.0<br>Grade: 8.0<br>Strokes: 15"
          ],
          [
           "Kanji: 恨<br>Frekuensi: 1877.0<br>Grade: 8.0<br>Strokes: 9"
          ],
          [
           "Kanji: 憎<br>Frekuensi: 1808.0<br>Grade: 8.0<br>Strokes: 14"
          ],
          [
           "Kanji: 憩<br>Frekuensi: 1731.0<br>Grade: 8.0<br>Strokes: 16"
          ],
          [
           "Kanji: 扇<br>Frekuensi: 1805.0<br>Grade: 8.0<br>Strokes: 10"
          ],
          [
           "Kanji: 扉<br>Frekuensi: 1866.0<br>Grade: 8.0<br>Strokes: 12"
          ],
          [
           "Kanji: 挿<br>Frekuensi: 1908.0<br>Grade: 8.0<br>Strokes: 10"
          ],
          [
           "Kanji: 掌<br>Frekuensi: 1757.0<br>Grade: 8.0<br>Strokes: 12"
          ],
          [
           "Kanji: 炊<br>Frekuensi: 1777.0<br>Grade: 8.0<br>Strokes: 8"
          ],
          [
           "Kanji: 畳<br>Frekuensi: 1665.0<br>Grade: 8.0<br>Strokes: 12"
          ],
          [
           "Kanji: 胴<br>Frekuensi: 1904.0<br>Grade: 8.0<br>Strokes: 10"
          ],
          [
           "Kanji: 帳<br>Frekuensi: 1459.0<br>Grade: 3.0<br>Strokes: 11"
          ],
          [
           "Kanji: 蛇<br>Frekuensi: 1721.0<br>Grade: 8.0<br>Strokes: 11"
          ],
          [
           "Kanji: 辱<br>Frekuensi: 1769.0<br>Grade: 8.0<br>Strokes: 10"
          ],
          [
           "Kanji: 鉢<br>Frekuensi: 1890.0<br>Grade: 8.0<br>Strokes: 13"
          ],
          [
           "Kanji: 飢<br>Frekuensi: 1659.0<br>Grade: 8.0<br>Strokes: 10"
          ],
          [
           "Kanji: 餓<br>Frekuensi: 1754.0<br>Grade: 8.0<br>Strokes: 15"
          ],
          [
           "Kanji: 畜<br>Frekuensi: 1824.0<br>Grade: 8.0<br>Strokes: 10"
          ],
          [
           "Kanji: 迅<br>Frekuensi: 1888.0<br>Grade: 8.0<br>Strokes: 6"
          ],
          [
           "Kanji: 騎<br>Frekuensi: 1696.0<br>Grade: 8.0<br>Strokes: 18"
          ],
          [
           "Kanji: 蓄<br>Frekuensi: 1260.0<br>Grade: 8.0<br>Strokes: 13"
          ],
          [
           "Kanji: 尽<br>Frekuensi: 1234.0<br>Grade: 8.0<br>Strokes: 6"
          ],
          [
           "Kanji: 彩<br>Frekuensi: 1251.0<br>Grade: 8.0<br>Strokes: 11"
          ],
          [
           "Kanji: 憶<br>Frekuensi: 1324.0<br>Grade: 8.0<br>Strokes: 16"
          ],
          [
           "Kanji: 溶<br>Frekuensi: 1364.0<br>Grade: 8.0<br>Strokes: 13"
          ],
          [
           "Kanji: 耐<br>Frekuensi: 1295.0<br>Grade: 8.0<br>Strokes: 9"
          ],
          [
           "Kanji: 踊<br>Frekuensi: 1308.0<br>Grade: 8.0<br>Strokes: 14"
          ],
          [
           "Kanji: 賢<br>Frekuensi: 1159.0<br>Grade: 8.0<br>Strokes: 16"
          ],
          [
           "Kanji: 輝<br>Frekuensi: 1259.0<br>Grade: 8.0<br>Strokes: 15"
          ],
          [
           "Kanji: 脅<br>Frekuensi: 1183.0<br>Grade: 8.0<br>Strokes: 10"
          ],
          [
           "Kanji: 麻<br>Frekuensi: 1142.0<br>Grade: 8.0<br>Strokes: 11"
          ],
          [
           "Kanji: 灯<br>Frekuensi: 1605.0<br>Grade: 4.0<br>Strokes: 6"
          ],
          [
           "Kanji: 咲<br>Frekuensi: 1534.0<br>Grade: 8.0<br>Strokes: 9"
          ],
          [
           "Kanji: 培<br>Frekuensi: 1431.0<br>Grade: 8.0<br>Strokes: 11"
          ],
          [
           "Kanji: 悔<br>Frekuensi: 1460.0<br>Grade: 8.0<br>Strokes: 9"
          ],
          [
           "Kanji: 遂<br>Frekuensi: 1423.0<br>Grade: 8.0<br>Strokes: 12"
          ],
          [
           "Kanji: 班<br>Frekuensi: 1592.0<br>Grade: 6.0<br>Strokes: 10"
          ],
          [
           "Kanji: 塗<br>Frekuensi: 1414.0<br>Grade: 8.0<br>Strokes: 13"
          ],
          [
           "Kanji: 斜<br>Frekuensi: 1504.0<br>Grade: 8.0<br>Strokes: 11"
          ],
          [
           "Kanji: 殴<br>Frekuensi: 1622.0<br>Grade: 8.0<br>Strokes: 8"
          ],
          [
           "Kanji: 盾<br>Frekuensi: 1476.0<br>Grade: 8.0<br>Strokes: 9"
          ],
          [
           "Kanji: 穫<br>Frekuensi: 1642.0<br>Grade: 8.0<br>Strokes: 18"
          ],
          [
           "Kanji: 駒<br>Frekuensi: 1452.0<br>Grade: 8.0<br>Strokes: 15"
          ],
          [
           "Kanji: 紫<br>Frekuensi: 1516.0<br>Grade: 8.0<br>Strokes: 12"
          ],
          [
           "Kanji: 抽<br>Frekuensi: 1437.0<br>Grade: 8.0<br>Strokes: 8"
          ],
          [
           "Kanji: 誓<br>Frekuensi: 1567.0<br>Grade: 8.0<br>Strokes: 14"
          ],
          [
           "Kanji: 悟<br>Frekuensi: 1411.0<br>Grade: 8.0<br>Strokes: 10"
          ],
          [
           "Kanji: 拓<br>Frekuensi: 1526.0<br>Grade: 8.0<br>Strokes: 8"
          ],
          [
           "Kanji: 拘<br>Frekuensi: 1336.0<br>Grade: 8.0<br>Strokes: 8"
          ],
          [
           "Kanji: 礎<br>Frekuensi: 1224.0<br>Grade: 8.0<br>Strokes: 18"
          ],
          [
           "Kanji: 鶴<br>Frekuensi: 1369.0<br>Grade: 8.0<br>Strokes: 21"
          ],
          [
           "Kanji: 刈<br>Frekuensi: 1738.0<br>Grade: 8.0<br>Strokes: 4"
          ],
          [
           "Kanji: 剛<br>Frekuensi: 1576.0<br>Grade: 8.0<br>Strokes: 10"
          ],
          [
           "Kanji: 唯<br>Frekuensi: 1292.0<br>Grade: 8.0<br>Strokes: 11"
          ],
          [
           "Kanji: 壇<br>Frekuensi: 1512.0<br>Grade: 8.0<br>Strokes: 16"
          ],
          [
           "Kanji: 尼<br>Frekuensi: 1844.0<br>Grade: 8.0<br>Strokes: 5"
          ],
          [
           "Kanji: 概<br>Frekuensi: 1335.0<br>Grade: 8.0<br>Strokes: 14"
          ],
          [
           "Kanji: 浸<br>Frekuensi: 1447.0<br>Grade: 8.0<br>Strokes: 10"
          ],
          [
           "Kanji: 淡<br>Frekuensi: 1436.0<br>Grade: 8.0<br>Strokes: 11"
          ],
          [
           "Kanji: 煮<br>Frekuensi: 1565.0<br>Grade: 8.0<br>Strokes: 12"
          ],
          [
           "Kanji: 覆<br>Frekuensi: 1378.0<br>Grade: 8.0<br>Strokes: 18"
          ],
          [
           "Kanji: 謀<br>Frekuensi: 1370.0<br>Grade: 8.0<br>Strokes: 16"
          ],
          [
           "Kanji: 陶<br>Frekuensi: 1680.0<br>Grade: 8.0<br>Strokes: 11"
          ],
          [
           "Kanji: 隔<br>Frekuensi: 1382.0<br>Grade: 8.0<br>Strokes: 13"
          ],
          [
           "Kanji: 征<br>Frekuensi: 1578.0<br>Grade: 8.0<br>Strokes: 8"
          ],
          [
           "Kanji: 陛<br>Frekuensi: 1429.0<br>Grade: 6.0<br>Strokes: 10"
          ],
          [
           "Kanji: 俗<br>Frekuensi: 1610.0<br>Grade: 8.0<br>Strokes: 9"
          ],
          [
           "Kanji: 桑<br>Frekuensi: 1650.0<br>Grade: 8.0<br>Strokes: 10"
          ],
          [
           "Kanji: 潤<br>Frekuensi: 1644.0<br>Grade: 8.0<br>Strokes: 15"
          ],
          [
           "Kanji: 珠<br>Frekuensi: 1711.0<br>Grade: 8.0<br>Strokes: 10"
          ],
          [
           "Kanji: 衰<br>Frekuensi: 1432.0<br>Grade: 8.0<br>Strokes: 10"
          ],
          [
           "Kanji: 奨<br>Frekuensi: 1445.0<br>Grade: 8.0<br>Strokes: 13"
          ],
          [
           "Kanji: 劣<br>Frekuensi: 1620.0<br>Grade: 8.0<br>Strokes: 6"
          ],
          [
           "Kanji: 勘<br>Frekuensi: 1494.0<br>Grade: 8.0<br>Strokes: 11"
          ],
          [
           "Kanji: 妃<br>Frekuensi: 1752.0<br>Grade: 8.0<br>Strokes: 6"
          ],
          [
           "Kanji: 峰<br>Frekuensi: 1836.0<br>Grade: 8.0<br>Strokes: 10"
          ],
          [
           "Kanji: 巧<br>Frekuensi: 1537.0<br>Grade: 8.0<br>Strokes: 5"
          ],
          [
           "Kanji: 邪<br>Frekuensi: 1612.0<br>Grade: 8.0<br>Strokes: 8"
          ],
          [
           "Kanji: 駄<br>Frekuensi: 1500.0<br>Grade: 8.0<br>Strokes: 14"
          ],
          [
           "Kanji: 廷<br>Frekuensi: 1439.0<br>Grade: 8.0<br>Strokes: 7"
          ],
          [
           "Kanji: 簿<br>Frekuensi: 1358.0<br>Grade: 8.0<br>Strokes: 19"
          ],
          [
           "Kanji: 彰<br>Frekuensi: 1310.0<br>Grade: 8.0<br>Strokes: 14"
          ],
          [
           "Kanji: 漫<br>Frekuensi: 1408.0<br>Grade: 8.0<br>Strokes: 14"
          ],
          [
           "Kanji: 訂<br>Frekuensi: 1690.0<br>Grade: 8.0<br>Strokes: 9"
          ],
          [
           "Kanji: 諮<br>Frekuensi: 1345.0<br>Grade: 8.0<br>Strokes: 16"
          ],
          [
           "Kanji: 銘<br>Frekuensi: 1394.0<br>Grade: 8.0<br>Strokes: 14"
          ],
          [
           "Kanji: 堤<br>Frekuensi: 1658.0<br>Grade: 8.0<br>Strokes: 12"
          ],
          [
           "Kanji: 漂<br>Frekuensi: 1492.0<br>Grade: 8.0<br>Strokes: 14"
          ],
          [
           "Kanji: 翻<br>Frekuensi: 1465.0<br>Grade: 8.0<br>Strokes: 18"
          ],
          [
           "Kanji: 軌<br>Frekuensi: 1480.0<br>Grade: 8.0<br>Strokes: 9"
          ],
          [
           "Kanji: 后<br>Frekuensi: 1583.0<br>Grade: 6.0<br>Strokes: 6"
          ],
          [
           "Kanji: 奮<br>Frekuensi: 1521.0<br>Grade: 6.0<br>Strokes: 16"
          ],
          [
           "Kanji: 亭<br>Frekuensi: 1627.0<br>Grade: 8.0<br>Strokes: 9"
          ],
          [
           "Kanji: 仰<br>Frekuensi: 1573.0<br>Grade: 8.0<br>Strokes: 6"
          ],
          [
           "Kanji: 伯<br>Frekuensi: 1741.0<br>Grade: 8.0<br>Strokes: 7"
          ],
          [
           "Kanji: 偶<br>Frekuensi: 1602.0<br>Grade: 8.0<br>Strokes: 11"
          ],
          [
           "Kanji: 墳<br>Frekuensi: 1822.0<br>Grade: 8.0<br>Strokes: 15"
          ],
          [
           "Kanji: 壮<br>Frekuensi: 1657.0<br>Grade: 8.0<br>Strokes: 6"
          ],
          [
           "Kanji: 把<br>Frekuensi: 1569.0<br>Grade: 8.0<br>Strokes: 7"
          ],
          [
           "Kanji: 搬<br>Frekuensi: 1664.0<br>Grade: 8.0<br>Strokes: 13"
          ],
          [
           "Kanji: 晶<br>Frekuensi: 1613.0<br>Grade: 8.0<br>Strokes: 12"
          ],
          [
           "Kanji: 洞<br>Frekuensi: 1618.0<br>Grade: 8.0<br>Strokes: 9"
          ],
          [
           "Kanji: 涯<br>Frekuensi: 1525.0<br>Grade: 8.0<br>Strokes: 11"
          ],
          [
           "Kanji: 疫<br>Frekuensi: 1661.0<br>Grade: 8.0<br>Strokes: 9"
          ],
          [
           "Kanji: 偉<br>Frekuensi: 1639.0<br>Grade: 8.0<br>Strokes: 12"
          ],
          [
           "Kanji: 頂<br>Frekuensi: 1350.0<br>Grade: 6.0<br>Strokes: 11"
          ],
          [
           "Kanji: 召<br>Frekuensi: 1540.0<br>Grade: 8.0<br>Strokes: 5"
          ],
          [
           "Kanji: 挟<br>Frekuensi: 1870.0<br>Grade: 8.0<br>Strokes: 9"
          ],
          [
           "Kanji: 枯<br>Frekuensi: 1749.0<br>Grade: 8.0<br>Strokes: 9"
          ],
          [
           "Kanji: 沸<br>Frekuensi: 1709.0<br>Grade: 8.0<br>Strokes: 8"
          ],
          [
           "Kanji: 濯<br>Frekuensi: 1698.0<br>Grade: 8.0<br>Strokes: 17"
          ],
          [
           "Kanji: 燥<br>Frekuensi: 1819.0<br>Grade: 8.0<br>Strokes: 17"
          ],
          [
           "Kanji: 瓶<br>Frekuensi: 1528.0<br>Grade: 8.0<br>Strokes: 11"
          ],
          [
           "Kanji: 耕<br>Frekuensi: 1568.0<br>Grade: 5.0<br>Strokes: 10"
          ],
          [
           "Kanji: 肯<br>Frekuensi: 1813.0<br>Grade: 8.0<br>Strokes: 8"
          ],
          [
           "Kanji: 脂<br>Frekuensi: 1548.0<br>Grade: 8.0<br>Strokes: 10"
          ],
          [
           "Kanji: 膚<br>Frekuensi: 1679.0<br>Grade: 8.0<br>Strokes: 15"
          ],
          [
           "Kanji: 軒<br>Frekuensi: 1416.0<br>Grade: 8.0<br>Strokes: 10"
          ],
          [
           "Kanji: 軟<br>Frekuensi: 1269.0<br>Grade: 8.0<br>Strokes: 11"
          ],
          [
           "Kanji: 郊<br>Frekuensi: 1304.0<br>Grade: 8.0<br>Strokes: 9"
          ],
          [
           "Kanji: 隅<br>Frekuensi: 1601.0<br>Grade: 8.0<br>Strokes: 12"
          ],
          [
           "Kanji: 隻<br>Frekuensi: 1546.0<br>Grade: 8.0<br>Strokes: 10"
          ],
          [
           "Kanji: 釈<br>Frekuensi: 1097.0<br>Grade: 8.0<br>Strokes: 11"
          ],
          [
           "Kanji: 肪<br>Frekuensi: 1878.0<br>Grade: 8.0<br>Strokes: 8"
          ],
          [
           "Kanji: 喚<br>Frekuensi: 1120.0<br>Grade: 8.0<br>Strokes: 12"
          ],
          [
           "Kanji: 媛<br>Frekuensi: 1735.0<br>Grade: 8.0<br>Strokes: 12"
          ],
          [
           "Kanji: 貞<br>Frekuensi: 1389.0<br>Grade: 8.0<br>Strokes: 9"
          ],
          [
           "Kanji: 玄<br>Frekuensi: 1409.0<br>Grade: 8.0<br>Strokes: 5"
          ],
          [
           "Kanji: 苗<br>Frekuensi: 1713.0<br>Grade: 8.0<br>Strokes: 8"
          ],
          [
           "Kanji: 渦<br>Frekuensi: 1789.0<br>Grade: 8.0<br>Strokes: 12"
          ],
          [
           "Kanji: 慈<br>Frekuensi: 1811.0<br>Grade: 8.0<br>Strokes: 13"
          ],
          [
           "Kanji: 蓮<br>Frekuensi: 1839.0<br>Grade: 9.0<br>Strokes: 13"
          ],
          [
           "Kanji: 亮<br>Frekuensi: 1821.0<br>Grade: 9.0<br>Strokes: 9"
          ],
          [
           "Kanji: 聡<br>Frekuensi: 1507.0<br>Grade: 9.0<br>Strokes: 14"
          ],
          [
           "Kanji: 陥<br>Frekuensi: 1154.0<br>Grade: 8.0<br>Strokes: 10"
          ],
          [
           "Kanji: 貫<br>Frekuensi: 1156.0<br>Grade: 8.0<br>Strokes: 11"
          ],
          [
           "Kanji: 覇<br>Frekuensi: 1173.0<br>Grade: 8.0<br>Strokes: 19"
          ],
          [
           "Kanji: 擁<br>Frekuensi: 1213.0<br>Grade: 8.0<br>Strokes: 16"
          ],
          [
           "Kanji: 孤<br>Frekuensi: 1239.0<br>Grade: 8.0<br>Strokes: 9"
          ],
          [
           "Kanji: 賠<br>Frekuensi: 1243.0<br>Grade: 8.0<br>Strokes: 15"
          ],
          [
           "Kanji: 鎖<br>Frekuensi: 1250.0<br>Grade: 8.0<br>Strokes: 18"
          ],
          [
           "Kanji: 噴<br>Frekuensi: 1270.0<br>Grade: 8.0<br>Strokes: 15"
          ],
          [
           "Kanji: 祥<br>Frekuensi: 1273.0<br>Grade: 8.0<br>Strokes: 10"
          ],
          [
           "Kanji: 牲<br>Frekuensi: 1274.0<br>Grade: 8.0<br>Strokes: 9"
          ],
          [
           "Kanji: 秩<br>Frekuensi: 1275.0<br>Grade: 8.0<br>Strokes: 10"
          ],
          [
           "Kanji: 唆<br>Frekuensi: 1278.0<br>Grade: 8.0<br>Strokes: 10"
          ],
          [
           "Kanji: 膨<br>Frekuensi: 1293.0<br>Grade: 8.0<br>Strokes: 16"
          ],
          [
           "Kanji: 芳<br>Frekuensi: 1302.0<br>Grade: 8.0<br>Strokes: 7"
          ],
          [
           "Kanji: 恒<br>Frekuensi: 1314.0<br>Grade: 8.0<br>Strokes: 9"
          ],
          [
           "Kanji: 倫<br>Frekuensi: 1322.0<br>Grade: 8.0<br>Strokes: 10"
          ],
          [
           "Kanji: 陳<br>Frekuensi: 1323.0<br>Grade: 8.0<br>Strokes: 11"
          ],
          [
           "Kanji: 須<br>Frekuensi: 1339.0<br>Grade: 8.0<br>Strokes: 12"
          ],
          [
           "Kanji: 偏<br>Frekuensi: 1340.0<br>Grade: 8.0<br>Strokes: 11"
          ],
          [
           "Kanji: 遇<br>Frekuensi: 1343.0<br>Grade: 8.0<br>Strokes: 12"
          ],
          [
           "Kanji: 糧<br>Frekuensi: 1354.0<br>Grade: 8.0<br>Strokes: 18"
          ],
          [
           "Kanji: 殊<br>Frekuensi: 1361.0<br>Grade: 8.0<br>Strokes: 10"
          ],
          [
           "Kanji: 慢<br>Frekuensi: 1368.0<br>Grade: 8.0<br>Strokes: 14"
          ],
          [
           "Kanji: 没<br>Frekuensi: 1385.0<br>Grade: 8.0<br>Strokes: 7"
          ],
          [
           "Kanji: 怠<br>Frekuensi: 1703.0<br>Grade: 8.0<br>Strokes: 9"
          ],
          [
           "Kanji: 遭<br>Frekuensi: 1554.0<br>Grade: 8.0<br>Strokes: 14"
          ],
          [
           "Kanji: 猟<br>Frekuensi: 1851.0<br>Grade: 8.0<br>Strokes: 11"
          ],
          [
           "Kanji: 乃<br>Frekuensi: 1978.0<br>Grade: 9.0<br>Strokes: 2"
          ],
          [
           "Kanji: 綾<br>Frekuensi: 1759.0<br>Grade: 9.0<br>Strokes: 14"
          ],
          [
           "Kanji: 輔<br>Frekuensi: 1898.0<br>Grade: 9.0<br>Strokes: 14"
          ],
          [
           "Kanji: 寛<br>Frekuensi: 1377.0<br>Grade: 8.0<br>Strokes: 13"
          ],
          [
           "Kanji: 胞<br>Frekuensi: 1379.0<br>Grade: 8.0<br>Strokes: 9"
          ],
          [
           "Kanji: 浄<br>Frekuensi: 1383.0<br>Grade: 8.0<br>Strokes: 9"
          ],
          [
           "Kanji: 随<br>Frekuensi: 1396.0<br>Grade: 8.0<br>Strokes: 12"
          ],
          [
           "Kanji: 稿<br>Frekuensi: 1400.0<br>Grade: 8.0<br>Strokes: 15"
          ],
          [
           "Kanji: 丹<br>Frekuensi: 1402.0<br>Grade: 8.0<br>Strokes: 4"
          ],
          [
           "Kanji: 壌<br>Frekuensi: 1407.0<br>Grade: 8.0<br>Strokes: 16"
          ],
          [
           "Kanji: 舗<br>Frekuensi: 1412.0<br>Grade: 8.0<br>Strokes: 15"
          ],
          [
           "Kanji: 騰<br>Frekuensi: 1420.0<br>Grade: 8.0<br>Strokes: 20"
          ],
          [
           "Kanji: 緯<br>Frekuensi: 1430.0<br>Grade: 8.0<br>Strokes: 16"
          ],
          [
           "Kanji: 艇<br>Frekuensi: 1433.0<br>Grade: 8.0<br>Strokes: 13"
          ],
          [
           "Kanji: 披<br>Frekuensi: 1438.0<br>Grade: 8.0<br>Strokes: 8"
          ],
          [
           "Kanji: 錦<br>Frekuensi: 1440.0<br>Grade: 8.0<br>Strokes: 16"
          ],
          [
           "Kanji: 准<br>Frekuensi: 1441.0<br>Grade: 8.0<br>Strokes: 10"
          ],
          [
           "Kanji: 剰<br>Frekuensi: 1448.0<br>Grade: 8.0<br>Strokes: 11"
          ],
          [
           "Kanji: 繊<br>Frekuensi: 1451.0<br>Grade: 8.0<br>Strokes: 17"
          ],
          [
           "Kanji: 諭<br>Frekuensi: 1461.0<br>Grade: 8.0<br>Strokes: 16"
          ],
          [
           "Kanji: 惨<br>Frekuensi: 1463.0<br>Grade: 8.0<br>Strokes: 11"
          ],
          [
           "Kanji: 虐<br>Frekuensi: 1464.0<br>Grade: 8.0<br>Strokes: 9"
          ],
          [
           "Kanji: 据<br>Frekuensi: 1468.0<br>Grade: 8.0<br>Strokes: 11"
          ],
          [
           "Kanji: 徐<br>Frekuensi: 1470.0<br>Grade: 8.0<br>Strokes: 10"
          ],
          [
           "Kanji: 搭<br>Frekuensi: 1472.0<br>Grade: 8.0<br>Strokes: 12"
          ],
          [
           "Kanji: 曙<br>Frekuensi: 1518.0<br>Grade: 9.0<br>Strokes: 17"
          ],
          [
           "Kanji: 胡<br>Frekuensi: 1995.0<br>Grade: 9.0<br>Strokes: 9"
          ],
          [
           "Kanji: 啓<br>Frekuensi: 1403.0<br>Grade: 8.0<br>Strokes: 11"
          ],
          [
           "Kanji: 駿<br>Frekuensi: 1817.0<br>Grade: 9.0<br>Strokes: 17"
          ],
          [
           "Kanji: 鯨<br>Frekuensi: 1486.0<br>Grade: 8.0<br>Strokes: 19"
          ],
          [
           "Kanji: 荘<br>Frekuensi: 1489.0<br>Grade: 8.0<br>Strokes: 9"
          ],
          [
           "Kanji: 栽<br>Frekuensi: 1496.0<br>Grade: 8.0<br>Strokes: 10"
          ],
          [
           "Kanji: 拐<br>Frekuensi: 1498.0<br>Grade: 8.0<br>Strokes: 8"
          ],
          [
           "Kanji: 冠<br>Frekuensi: 1503.0<br>Grade: 8.0<br>Strokes: 9"
          ],
          [
           "Kanji: 勲<br>Frekuensi: 1513.0<br>Grade: 8.0<br>Strokes: 15"
          ],
          [
           "Kanji: 酬<br>Frekuensi: 1515.0<br>Grade: 8.0<br>Strokes: 13"
          ],
          [
           "Kanji: 紋<br>Frekuensi: 1519.0<br>Grade: 8.0<br>Strokes: 10"
          ],
          [
           "Kanji: 卸<br>Frekuensi: 1520.0<br>Grade: 8.0<br>Strokes: 9"
          ],
          [
           "Kanji: 欄<br>Frekuensi: 1523.0<br>Grade: 8.0<br>Strokes: 20"
          ],
          [
           "Kanji: 逸<br>Frekuensi: 1524.0<br>Grade: 8.0<br>Strokes: 11"
          ],
          [
           "Kanji: 尚<br>Frekuensi: 1531.0<br>Grade: 8.0<br>Strokes: 8"
          ],
          [
           "Kanji: 顕<br>Frekuensi: 1536.0<br>Grade: 8.0<br>Strokes: 18"
          ],
          [
           "Kanji: 粛<br>Frekuensi: 1549.0<br>Grade: 8.0<br>Strokes: 11"
          ],
          [
           "Kanji: 愚<br>Frekuensi: 1551.0<br>Grade: 8.0<br>Strokes: 13"
          ],
          [
           "Kanji: 庶<br>Frekuensi: 1558.0<br>Grade: 8.0<br>Strokes: 11"
          ],
          [
           "Kanji: 践<br>Frekuensi: 1570.0<br>Grade: 8.0<br>Strokes: 13"
          ],
          [
           "Kanji: 呈<br>Frekuensi: 1571.0<br>Grade: 8.0<br>Strokes: 7"
          ],
          [
           "Kanji: 疎<br>Frekuensi: 1572.0<br>Grade: 8.0<br>Strokes: 12"
          ],
          [
           "Kanji: 疾<br>Frekuensi: 1577.0<br>Grade: 8.0<br>Strokes: 10"
          ],
          [
           "Kanji: 謡<br>Frekuensi: 1580.0<br>Grade: 8.0<br>Strokes: 16"
          ],
          [
           "Kanji: 鎌<br>Frekuensi: 1587.0<br>Grade: 8.0<br>Strokes: 18"
          ],
          [
           "Kanji: 酷<br>Frekuensi: 1596.0<br>Grade: 8.0<br>Strokes: 14"
          ],
          [
           "Kanji: 叙<br>Frekuensi: 1954.0<br>Grade: 8.0<br>Strokes: 9"
          ],
          [
           "Kanji: 痴<br>Frekuensi: 1663.0<br>Grade: 8.0<br>Strokes: 13"
          ],
          [
           "Kanji: 阿<br>Frekuensi: 1126.0<br>Grade: 9.0<br>Strokes: 8"
          ],
          [
           "Kanji: 悠<br>Frekuensi: 1921.0<br>Grade: 8.0<br>Strokes: 11"
          ],
          [
           "Kanji: 伏<br>Frekuensi: 1604.0<br>Grade: 8.0<br>Strokes: 6"
          ],
          [
           "Kanji: 鎮<br>Frekuensi: 1617.0<br>Grade: 8.0<br>Strokes: 18"
          ],
          [
           "Kanji: 奉<br>Frekuensi: 1624.0<br>Grade: 8.0<br>Strokes: 8"
          ],
          [
           "Kanji: 憂<br>Frekuensi: 1625.0<br>Grade: 8.0<br>Strokes: 15"
          ],
          [
           "Kanji: 朴<br>Frekuensi: 1626.0<br>Grade: 8.0<br>Strokes: 6"
          ],
          [
           "Kanji: 惜<br>Frekuensi: 1641.0<br>Grade: 8.0<br>Strokes: 11"
          ],
          [
           "Kanji: 佳<br>Frekuensi: 1643.0<br>Grade: 8.0<br>Strokes: 8"
          ],
          [
           "Kanji: 悼<br>Frekuensi: 1645.0<br>Grade: 8.0<br>Strokes: 11"
          ],
          [
           "Kanji: 該<br>Frekuensi: 1648.0<br>Grade: 8.0<br>Strokes: 13"
          ],
          [
           "Kanji: 赴<br>Frekuensi: 1649.0<br>Grade: 8.0<br>Strokes: 9"
          ],
          [
           "Kanji: 髄<br>Frekuensi: 1652.0<br>Grade: 8.0<br>Strokes: 19"
          ],
          [
           "Kanji: 傍<br>Frekuensi: 1660.0<br>Grade: 8.0<br>Strokes: 12"
          ],
          [
           "Kanji: 累<br>Frekuensi: 1662.0<br>Grade: 8.0<br>Strokes: 11"
          ],
          [
           "Kanji: 癒<br>Frekuensi: 1667.0<br>Grade: 8.0<br>Strokes: 18"
          ],
          [
           "Kanji: 郭<br>Frekuensi: 1670.0<br>Grade: 8.0<br>Strokes: 11"
          ],
          [
           "Kanji: 尿<br>Frekuensi: 1672.0<br>Grade: 8.0<br>Strokes: 7"
          ],
          [
           "Kanji: 賓<br>Frekuensi: 1677.0<br>Grade: 8.0<br>Strokes: 15"
          ],
          [
           "Kanji: 虜<br>Frekuensi: 1678.0<br>Grade: 8.0<br>Strokes: 13"
          ],
          [
           "Kanji: 憾<br>Frekuensi: 1682.0<br>Grade: 8.0<br>Strokes: 16"
          ],
          [
           "Kanji: 弥<br>Frekuensi: 1687.0<br>Grade: 8.0<br>Strokes: 8"
          ],
          [
           "Kanji: 粗<br>Frekuensi: 1689.0<br>Grade: 8.0<br>Strokes: 11"
          ],
          [
           "Kanji: 循<br>Frekuensi: 1699.0<br>Grade: 8.0<br>Strokes: 12"
          ],
          [
           "Kanji: 凝<br>Frekuensi: 1712.0<br>Grade: 8.0<br>Strokes: 16"
          ],
          [
           "Kanji: 昌<br>Frekuensi: 1372.0<br>Grade: 9.0<br>Strokes: 8"
          ],
          [
           "Kanji: 愉<br>Frekuensi: 1974.0<br>Grade: 8.0<br>Strokes: 12"
          ],
          [
           "Kanji: 之<br>Frekuensi: 1318.0<br>Grade: 9.0<br>Strokes: 3"
          ],
          [
           "Kanji: 那<br>Frekuensi: 1621.0<br>Grade: 8.0<br>Strokes: 7"
          ],
          [
           "Kanji: 拍<br>Frekuensi: 1373.0<br>Grade: 8.0<br>Strokes: 8"
          ],
          [
           "Kanji: 猶<br>Frekuensi: 1799.0<br>Grade: 8.0<br>Strokes: 12"
          ],
          [
           "Kanji: 宰<br>Frekuensi: 1597.0<br>Grade: 8.0<br>Strokes: 10"
          ],
          [
           "Kanji: 寂<br>Frekuensi: 1599.0<br>Grade: 8.0<br>Strokes: 11"
          ],
          [
           "Kanji: 縫<br>Frekuensi: 1723.0<br>Grade: 8.0<br>Strokes: 16"
          ],
          [
           "Kanji: 呉<br>Frekuensi: 1729.0<br>Grade: 8.0<br>Strokes: 7"
          ],
          [
           "Kanji: 凡<br>Frekuensi: 1730.0<br>Grade: 8.0<br>Strokes: 3"
          ],
          [
           "Kanji: 恭<br>Frekuensi: 1737.0<br>Grade: 8.0<br>Strokes: 10"
          ],
          [
           "Kanji: 錯<br>Frekuensi: 1740.0<br>Grade: 8.0<br>Strokes: 16"
          ],
          [
           "Kanji: 穀<br>Frekuensi: 1744.0<br>Grade: 6.0<br>Strokes: 14"
          ],
          [
           "Kanji: 陵<br>Frekuensi: 1746.0<br>Grade: 8.0<br>Strokes: 11"
          ],
          [
           "Kanji: 弊<br>Frekuensi: 1750.0<br>Grade: 8.0<br>Strokes: 15"
          ],
          [
           "Kanji: 舶<br>Frekuensi: 1753.0<br>Grade: 8.0<br>Strokes: 11"
          ],
          [
           "Kanji: 窮<br>Frekuensi: 1756.0<br>Grade: 8.0<br>Strokes: 15"
          ],
          [
           "Kanji: 悦<br>Frekuensi: 1762.0<br>Grade: 8.0<br>Strokes: 10"
          ],
          [
           "Kanji: 縛<br>Frekuensi: 1764.0<br>Grade: 8.0<br>Strokes: 16"
          ],
          [
           "Kanji: 轄<br>Frekuensi: 1771.0<br>Grade: 8.0<br>Strokes: 17"
          ],
          [
           "Kanji: 弦<br>Frekuensi: 1773.0<br>Grade: 8.0<br>Strokes: 8"
          ],
          [
           "Kanji: 窒<br>Frekuensi: 1776.0<br>Grade: 8.0<br>Strokes: 11"
          ],
          [
           "Kanji: 洪<br>Frekuensi: 1778.0<br>Grade: 8.0<br>Strokes: 9"
          ],
          [
           "Kanji: 摂<br>Frekuensi: 1779.0<br>Grade: 8.0<br>Strokes: 13"
          ],
          [
           "Kanji: 飽<br>Frekuensi: 1780.0<br>Grade: 8.0<br>Strokes: 13"
          ],
          [
           "Kanji: 紳<br>Frekuensi: 1790.0<br>Grade: 8.0<br>Strokes: 11"
          ],
          [
           "Kanji: 靖<br>Frekuensi: 1390.0<br>Grade: 9.0<br>Strokes: 13"
          ],
          [
           "Kanji: 嘉<br>Frekuensi: 1553.0<br>Grade: 9.0<br>Strokes: 14"
          ],
          [
           "Kanji: 碑<br>Frekuensi: 1792.0<br>Grade: 8.0<br>Strokes: 14"
          ],
          [
           "Kanji: 匠<br>Frekuensi: 1718.0<br>Grade: 8.0<br>Strokes: 6"
          ],
          [
           "Kanji: 智<br>Frekuensi: 1002.0<br>Grade: 9.0<br>Strokes: 12"
          ],
          [
           "Kanji: 鼓<br>Frekuensi: 1795.0<br>Grade: 8.0<br>Strokes: 13"
          ],
          [
           "Kanji: 旋<br>Frekuensi: 1801.0<br>Grade: 8.0<br>Strokes: 11"
          ],
          [
           "Kanji: 腸<br>Frekuensi: 1807.0<br>Grade: 4.0<br>Strokes: 13"
          ],
          [
           "Kanji: 槽<br>Frekuensi: 1809.0<br>Grade: 8.0<br>Strokes: 15"
          ],
          [
           "Kanji: 伐<br>Frekuensi: 1816.0<br>Grade: 8.0<br>Strokes: 6"
          ],
          [
           "Kanji: 漬<br>Frekuensi: 1818.0<br>Grade: 8.0<br>Strokes: 14"
          ],
          [
           "Kanji: 坪<br>Frekuensi: 1823.0<br>Grade: 8.0<br>Strokes: 8"
          ],
          [
           "Kanji: 紺<br>Frekuensi: 1825.0<br>Grade: 8.0<br>Strokes: 11"
          ],
          [
           "Kanji: 羅<br>Frekuensi: 1831.0<br>Grade: 8.0<br>Strokes: 19"
          ],
          [
           "Kanji: 峡<br>Frekuensi: 1833.0<br>Grade: 8.0<br>Strokes: 9"
          ],
          [
           "Kanji: 俸<br>Frekuensi: 1834.0<br>Grade: 8.0<br>Strokes: 10"
          ],
          [
           "Kanji: 醸<br>Frekuensi: 1838.0<br>Grade: 8.0<br>Strokes: 20"
          ],
          [
           "Kanji: 弔<br>Frekuensi: 1840.0<br>Grade: 8.0<br>Strokes: 4"
          ],
          [
           "Kanji: 乙<br>Frekuensi: 1841.0<br>Grade: 8.0<br>Strokes: 1"
          ],
          [
           "Kanji: 遍<br>Frekuensi: 1845.0<br>Grade: 8.0<br>Strokes: 12"
          ],
          [
           "Kanji: 衡<br>Frekuensi: 1847.0<br>Grade: 8.0<br>Strokes: 16"
          ],
          [
           "Kanji: 款<br>Frekuensi: 1854.0<br>Grade: 8.0<br>Strokes: 12"
          ],
          [
           "Kanji: 閲<br>Frekuensi: 1855.0<br>Grade: 8.0<br>Strokes: 15"
          ],
          [
           "Kanji: 喝<br>Frekuensi: 1858.0<br>Grade: 8.0<br>Strokes: 11"
          ],
          [
           "Kanji: 敢<br>Frekuensi: 1859.0<br>Grade: 8.0<br>Strokes: 12"
          ],
          [
           "Kanji: 膜<br>Frekuensi: 1804.0<br>Grade: 8.0<br>Strokes: 14"
          ],
          [
           "Kanji: 盲<br>Frekuensi: 1767.0<br>Grade: 8.0<br>Strokes: 8"
          ],
          [
           "Kanji: 胎<br>Frekuensi: 1861.0<br>Grade: 8.0<br>Strokes: 9"
          ],
          [
           "Kanji: 酵<br>Frekuensi: 1862.0<br>Grade: 8.0<br>Strokes: 14"
          ],
          [
           "Kanji: 遮<br>Frekuensi: 1865.0<br>Grade: 8.0<br>Strokes: 14"
          ],
          [
           "Kanji: 硫<br>Frekuensi: 1867.0<br>Grade: 8.0<br>Strokes: 12"
          ],
          [
           "Kanji: 赦<br>Frekuensi: 1868.0<br>Grade: 8.0<br>Strokes: 11"
          ],
          [
           "Kanji: 窃<br>Frekuensi: 1871.0<br>Grade: 8.0<br>Strokes: 9"
          ],
          [
           "Kanji: 慨<br>Frekuensi: 1875.0<br>Grade: 8.0<br>Strokes: 13"
          ],
          [
           "Kanji: 扶<br>Frekuensi: 1879.0<br>Grade: 8.0<br>Strokes: 7"
          ],
          [
           "Kanji: 戯<br>Frekuensi: 1880.0<br>Grade: 8.0<br>Strokes: 15"
          ],
          [
           "Kanji: 忌<br>Frekuensi: 1882.0<br>Grade: 8.0<br>Strokes: 7"
          ],
          [
           "Kanji: 濁<br>Frekuensi: 1883.0<br>Grade: 8.0<br>Strokes: 16"
          ],
          [
           "Kanji: 奔<br>Frekuensi: 1884.0<br>Grade: 8.0<br>Strokes: 8"
          ],
          [
           "Kanji: 肖<br>Frekuensi: 1889.0<br>Grade: 8.0<br>Strokes: 7"
          ],
          [
           "Kanji: 朽<br>Frekuensi: 1891.0<br>Grade: 8.0<br>Strokes: 6"
          ],
          [
           "Kanji: 殻<br>Frekuensi: 1892.0<br>Grade: 8.0<br>Strokes: 11"
          ],
          [
           "Kanji: 享<br>Frekuensi: 1893.0<br>Grade: 8.0<br>Strokes: 8"
          ],
          [
           "Kanji: 藩<br>Frekuensi: 1896.0<br>Grade: 8.0<br>Strokes: 18"
          ],
          [
           "Kanji: 媒<br>Frekuensi: 1900.0<br>Grade: 8.0<br>Strokes: 12"
          ],
          [
           "Kanji: 鶏<br>Frekuensi: 1901.0<br>Grade: 8.0<br>Strokes: 19"
          ],
          [
           "Kanji: 嘱<br>Frekuensi: 1903.0<br>Grade: 8.0<br>Strokes: 15"
          ],
          [
           "Kanji: 迭<br>Frekuensi: 1907.0<br>Grade: 8.0<br>Strokes: 8"
          ],
          [
           "Kanji: 椎<br>Frekuensi: 1911.0<br>Grade: 8.0<br>Strokes: 12"
          ],
          [
           "Kanji: 絹<br>Frekuensi: 1916.0<br>Grade: 6.0<br>Strokes: 13"
          ],
          [
           "Kanji: 陪<br>Frekuensi: 1917.0<br>Grade: 8.0<br>Strokes: 11"
          ],
          [
           "Kanji: 剖<br>Frekuensi: 1918.0<br>Grade: 8.0<br>Strokes: 10"
          ],
          [
           "Kanji: 譜<br>Frekuensi: 1919.0<br>Grade: 8.0<br>Strokes: 19"
          ],
          [
           "Kanji: 淑<br>Frekuensi: 1922.0<br>Grade: 8.0<br>Strokes: 11"
          ],
          [
           "Kanji: 帆<br>Frekuensi: 1923.0<br>Grade: 8.0<br>Strokes: 6"
          ],
          [
           "Kanji: 憤<br>Frekuensi: 1863.0<br>Grade: 8.0<br>Strokes: 15"
          ],
          [
           "Kanji: 暁<br>Frekuensi: 1924.0<br>Grade: 8.0<br>Strokes: 12"
          ],
          [
           "Kanji: 傑<br>Frekuensi: 1926.0<br>Grade: 8.0<br>Strokes: 13"
          ],
          [
           "Kanji: 錠<br>Frekuensi: 1934.0<br>Grade: 8.0<br>Strokes: 16"
          ],
          [
           "Kanji: 瑞<br>Frekuensi: 1873.0<br>Grade: 9.0<br>Strokes: 13"
          ],
          [
           "Kanji: 遷<br>Frekuensi: 1937.0<br>Grade: 8.0<br>Strokes: 15"
          ],
          [
           "Kanji: 拙<br>Frekuensi: 1938.0<br>Grade: 8.0<br>Strokes: 8"
          ],
          [
           "Kanji: 峠<br>Frekuensi: 1941.0<br>Grade: 8.0<br>Strokes: 9"
          ],
          [
           "Kanji: 篤<br>Frekuensi: 1942.0<br>Grade: 8.0<br>Strokes: 16"
          ],
          [
           "Kanji: 叔<br>Frekuensi: 1950.0<br>Grade: 8.0<br>Strokes: 8"
          ],
          [
           "Kanji: 雌<br>Frekuensi: 1951.0<br>Grade: 8.0<br>Strokes: 14"
          ],
          [
           "Kanji: 堪<br>Frekuensi: 1953.0<br>Grade: 8.0<br>Strokes: 12"
          ],
          [
           "Kanji: 吟<br>Frekuensi: 1956.0<br>Grade: 8.0<br>Strokes: 7"
          ],
          [
           "Kanji: 甚<br>Frekuensi: 1961.0<br>Grade: 8.0<br>Strokes: 9"
          ],
          [
           "Kanji: 崇<br>Frekuensi: 1970.0<br>Grade: 8.0<br>Strokes: 11"
          ],
          [
           "Kanji: 漆<br>Frekuensi: 1971.0<br>Grade: 8.0<br>Strokes: 14"
          ],
          [
           "Kanji: 岬<br>Frekuensi: 1972.0<br>Grade: 8.0<br>Strokes: 8"
          ],
          [
           "Kanji: 紡<br>Frekuensi: 1876.0<br>Grade: 8.0<br>Strokes: 10"
          ],
          [
           "Kanji: 礁<br>Frekuensi: 1977.0<br>Grade: 8.0<br>Strokes: 17"
          ],
          [
           "Kanji: 屯<br>Frekuensi: 1980.0<br>Grade: 8.0<br>Strokes: 4"
          ],
          [
           "Kanji: 姻<br>Frekuensi: 1985.0<br>Grade: 8.0<br>Strokes: 9"
          ],
          [
           "Kanji: 擬<br>Frekuensi: 1990.0<br>Grade: 8.0<br>Strokes: 17"
          ],
          [
           "Kanji: 睦<br>Frekuensi: 1993.0<br>Grade: 8.0<br>Strokes: 13"
          ],
          [
           "Kanji: 閑<br>Frekuensi: 1994.0<br>Grade: 8.0<br>Strokes: 12"
          ],
          [
           "Kanji: 曹<br>Frekuensi: 1998.0<br>Grade: 8.0<br>Strokes: 11"
          ],
          [
           "Kanji: 詠<br>Frekuensi: 2000.0<br>Grade: 8.0<br>Strokes: 12"
          ],
          [
           "Kanji: 胆<br>Frekuensi: 1449.0<br>Grade: 8.0<br>Strokes: 9"
          ],
          [
           "Kanji: 浪<br>Frekuensi: 1508.0<br>Grade: 8.0<br>Strokes: 10"
          ],
          [
           "Kanji: 慶<br>Frekuensi: 1300.0<br>Grade: 8.0<br>Strokes: 15"
          ],
          [
           "Kanji: 亜<br>Frekuensi: 1509.0<br>Grade: 8.0<br>Strokes: 7"
          ],
          [
           "Kanji: 沙<br>Frekuensi: 1897.0<br>Grade: 8.0<br>Strokes: 7"
          ]
         ],
         "hovertemplate": "%{customdata}",
         "legendgroup": "oranye frekuensi 1000 - 2000",
         "marker": {
          "color": "#EF553B",
          "symbol": "circle"
         },
         "mode": "markers",
         "name": "oranye frekuensi 1000 - 2000",
         "scene": "scene",
         "showlegend": true,
         "type": "scatter3d",
         "x": [
          2,
          3,
          8,
          2,
          1,
          2,
          2,
          2,
          2,
          2,
          3,
          3,
          3,
          3,
          1,
          1,
          1,
          1,
          2,
          2,
          3,
          2,
          2,
          2,
          2,
          2,
          2,
          2,
          2,
          3,
          5,
          3,
          3,
          2,
          3,
          3,
          3,
          3,
          3,
          3,
          3,
          3,
          3,
          3,
          3,
          3,
          6,
          3,
          3,
          3,
          4,
          5,
          8,
          8,
          8,
          8,
          2,
          2,
          4,
          4,
          4,
          4,
          4,
          6,
          8,
          3,
          3,
          4,
          4,
          8,
          8,
          3,
          4,
          4,
          4,
          6,
          8,
          8,
          8,
          8,
          4,
          2,
          8,
          6,
          6,
          6,
          8,
          8,
          5,
          8,
          8,
          6,
          8,
          8,
          5,
          6,
          6,
          8,
          8,
          8,
          8,
          4,
          8,
          8,
          6,
          3,
          5,
          8,
          6,
          8,
          6,
          5,
          8,
          6,
          6,
          6,
          4,
          8,
          8,
          8,
          8,
          8,
          5,
          5,
          8,
          8,
          8,
          8,
          5,
          8,
          3,
          8,
          4,
          8,
          8,
          8,
          8,
          8,
          8,
          8,
          4,
          6,
          8,
          8,
          8,
          8,
          8,
          8,
          8,
          8,
          8,
          8,
          6,
          8,
          5,
          8,
          8,
          8,
          8,
          8,
          8,
          8,
          8,
          4,
          8,
          8,
          8,
          8,
          8,
          8,
          8,
          8,
          8,
          8,
          8,
          4,
          4,
          5,
          5,
          8,
          6,
          6,
          8,
          8,
          8,
          8,
          8,
          8,
          8,
          8,
          8,
          8,
          8,
          8,
          8,
          8,
          8,
          8,
          6,
          8,
          8,
          4,
          4,
          4,
          4,
          4,
          4,
          4,
          5,
          5,
          8,
          5,
          5,
          5,
          5,
          5,
          5,
          5,
          5,
          5,
          6,
          6,
          6,
          6,
          6,
          6,
          6,
          6,
          6,
          6,
          6,
          6,
          6,
          6,
          6,
          8,
          6,
          6,
          6,
          6,
          8,
          8,
          6,
          6,
          8,
          6,
          6,
          6,
          6,
          8,
          6,
          8,
          5,
          3,
          8,
          8,
          5,
          8,
          6,
          8,
          8,
          8,
          8,
          8,
          8,
          8,
          8,
          8,
          8,
          3,
          5,
          8,
          8,
          8,
          8,
          8,
          8,
          4,
          8,
          8,
          4,
          8,
          8,
          8,
          6,
          8,
          8,
          8,
          8,
          8,
          8,
          8,
          8,
          8,
          8,
          6,
          5,
          8,
          8,
          8,
          8,
          8,
          8,
          8,
          8,
          8,
          8,
          8,
          6,
          8,
          8,
          3,
          4,
          8,
          8,
          8,
          8,
          8,
          8,
          8,
          8,
          8,
          8,
          8,
          8,
          8,
          8,
          8,
          8,
          8,
          8,
          8,
          8,
          8,
          8,
          8,
          8,
          8,
          8,
          8,
          8,
          3,
          4,
          6,
          5,
          6,
          6,
          8,
          8,
          8,
          8,
          8,
          8,
          8,
          8,
          8,
          8,
          8,
          8,
          8,
          8,
          8,
          8,
          8,
          8,
          8,
          8,
          8,
          8,
          8,
          8,
          8,
          8,
          8,
          8,
          8,
          8,
          8,
          8,
          8,
          8,
          4,
          4,
          6,
          6,
          8,
          8,
          8,
          8,
          8,
          8,
          8,
          8,
          8,
          8,
          8,
          8,
          8,
          8,
          8,
          8,
          8,
          8,
          8,
          8,
          8,
          8,
          6,
          8,
          8,
          8,
          8,
          8,
          8,
          8,
          8,
          8,
          8,
          8,
          8,
          8,
          8,
          8,
          8,
          8,
          8,
          8,
          8,
          8,
          8,
          8,
          8,
          8,
          8,
          4,
          8,
          8,
          8,
          8,
          8,
          8,
          8,
          8,
          8,
          8,
          8,
          9,
          8,
          8,
          8,
          8,
          8,
          8,
          8,
          8,
          8,
          8,
          8,
          8,
          8,
          8,
          8,
          8,
          8,
          8,
          9,
          8,
          9,
          8,
          8,
          8,
          8,
          8,
          8,
          8,
          8,
          8,
          8,
          8,
          8,
          8,
          8,
          8,
          8,
          8,
          8,
          8,
          8,
          9,
          8,
          8,
          5,
          5,
          8,
          8,
          8,
          8,
          8,
          8,
          8,
          6,
          8,
          8,
          8,
          8,
          8,
          8,
          8,
          8,
          8,
          8,
          8,
          8,
          8,
          8,
          8,
          8,
          8,
          3,
          8,
          8,
          8,
          8,
          8,
          8,
          8,
          8,
          8,
          8,
          8,
          8,
          8,
          8,
          8,
          8,
          8,
          8,
          8,
          4,
          8,
          8,
          8,
          8,
          6,
          8,
          8,
          8,
          8,
          8,
          8,
          8,
          8,
          8,
          8,
          8,
          8,
          8,
          8,
          8,
          8,
          8,
          8,
          8,
          8,
          8,
          8,
          8,
          8,
          8,
          8,
          8,
          8,
          6,
          8,
          8,
          8,
          8,
          8,
          8,
          8,
          8,
          8,
          8,
          8,
          8,
          8,
          8,
          8,
          8,
          8,
          8,
          8,
          8,
          8,
          8,
          8,
          8,
          6,
          6,
          8,
          8,
          8,
          8,
          8,
          8,
          8,
          8,
          8,
          8,
          8,
          8,
          8,
          6,
          8,
          8,
          8,
          8,
          8,
          8,
          8,
          5,
          8,
          8,
          8,
          8,
          8,
          8,
          8,
          8,
          8,
          8,
          8,
          8,
          8,
          8,
          8,
          8,
          8,
          9,
          9,
          9,
          8,
          8,
          8,
          8,
          8,
          8,
          8,
          8,
          8,
          8,
          8,
          8,
          8,
          8,
          8,
          8,
          8,
          8,
          8,
          8,
          8,
          8,
          8,
          8,
          8,
          8,
          8,
          9,
          9,
          9,
          8,
          8,
          8,
          8,
          8,
          8,
          8,
          8,
          8,
          8,
          8,
          8,
          8,
          8,
          8,
          8,
          8,
          8,
          8,
          8,
          8,
          8,
          9,
          9,
          8,
          9,
          8,
          8,
          8,
          8,
          8,
          8,
          8,
          8,
          8,
          8,
          8,
          8,
          8,
          8,
          8,
          8,
          8,
          8,
          8,
          8,
          8,
          8,
          8,
          8,
          8,
          9,
          8,
          8,
          8,
          8,
          8,
          8,
          8,
          8,
          8,
          8,
          8,
          8,
          8,
          8,
          8,
          8,
          8,
          8,
          8,
          8,
          8,
          8,
          8,
          8,
          9,
          8,
          9,
          8,
          8,
          8,
          8,
          8,
          8,
          8,
          8,
          8,
          8,
          6,
          8,
          8,
          8,
          8,
          8,
          8,
          8,
          8,
          8,
          8,
          8,
          8,
          8,
          9,
          9,
          8,
          8,
          9,
          8,
          8,
          4,
          8,
          8,
          8,
          8,
          8,
          8,
          8,
          8,
          8,
          8,
          8,
          8,
          8,
          8,
          8,
          8,
          8,
          8,
          8,
          8,
          8,
          8,
          8,
          8,
          8,
          8,
          8,
          8,
          8,
          8,
          8,
          8,
          8,
          8,
          8,
          8,
          8,
          8,
          8,
          8,
          8,
          6,
          8,
          8,
          8,
          8,
          8,
          8,
          8,
          8,
          8,
          9,
          8,
          8,
          8,
          8,
          8,
          8,
          8,
          8,
          8,
          8,
          8,
          8,
          8,
          8,
          8,
          8,
          8,
          8,
          8,
          8,
          8,
          8,
          8,
          8,
          8,
          8
         ],
         "y": [
          2,
          2,
          2,
          3,
          4,
          4,
          4,
          5,
          5,
          5,
          5,
          5,
          5,
          5,
          6,
          6,
          6,
          7,
          7,
          7,
          6,
          8,
          8,
          9,
          11,
          11,
          11,
          11,
          12,
          8,
          6,
          10,
          13,
          14,
          8,
          9,
          9,
          10,
          11,
          12,
          12,
          12,
          12,
          12,
          12,
          12,
          9,
          13,
          14,
          13,
          19,
          17,
          9,
          7,
          12,
          13,
          9,
          12,
          9,
          8,
          8,
          9,
          12,
          12,
          11,
          15,
          10,
          8,
          10,
          9,
          4,
          14,
          11,
          13,
          10,
          3,
          9,
          11,
          10,
          4,
          10,
          3,
          8,
          7,
          9,
          10,
          13,
          13,
          5,
          12,
          13,
          12,
          8,
          14,
          6,
          5,
          8,
          6,
          15,
          7,
          12,
          11,
          13,
          9,
          5,
          11,
          15,
          14,
          15,
          13,
          6,
          12,
          10,
          9,
          8,
          10,
          9,
          9,
          8,
          12,
          13,
          11,
          14,
          8,
          12,
          15,
          14,
          11,
          8,
          13,
          12,
          13,
          12,
          8,
          7,
          8,
          16,
          11,
          6,
          11,
          9,
          13,
          8,
          10,
          13,
          9,
          10,
          13,
          10,
          13,
          16,
          10,
          5,
          13,
          15,
          8,
          7,
          19,
          13,
          12,
          8,
          11,
          12,
          7,
          10,
          10,
          8,
          11,
          11,
          10,
          10,
          13,
          13,
          15,
          11,
          14,
          13,
          7,
          11,
          4,
          11,
          17,
          16,
          14,
          11,
          13,
          18,
          15,
          11,
          10,
          10,
          14,
          23,
          12,
          12,
          12,
          11,
          8,
          12,
          22,
          13,
          10,
          10,
          11,
          8,
          10,
          10,
          11,
          13,
          14,
          11,
          7,
          10,
          10,
          11,
          11,
          9,
          14,
          14,
          13,
          7,
          11,
          13,
          6,
          11,
          11,
          8,
          8,
          12,
          8,
          16,
          12,
          6,
          15,
          9,
          13,
          16,
          9,
          13,
          14,
          6,
          5,
          10,
          16,
          10,
          13,
          14,
          9,
          8,
          16,
          8,
          15,
          8,
          7,
          14,
          11,
          8,
          13,
          3,
          11,
          10,
          10,
          7,
          5,
          8,
          14,
          14,
          11,
          12,
          12,
          14,
          8,
          5,
          15,
          9,
          15,
          13,
          14,
          8,
          6,
          6,
          8,
          7,
          10,
          9,
          12,
          6,
          10,
          13,
          18,
          7,
          11,
          16,
          12,
          11,
          4,
          13,
          5,
          8,
          13,
          12,
          10,
          12,
          5,
          8,
          14,
          17,
          14,
          16,
          21,
          14,
          9,
          11,
          9,
          10,
          10,
          7,
          11,
          6,
          7,
          11,
          13,
          10,
          15,
          15,
          13,
          17,
          8,
          16,
          17,
          12,
          16,
          13,
          10,
          16,
          13,
          19,
          8,
          21,
          15,
          10,
          9,
          6,
          4,
          13,
          13,
          11,
          9,
          11,
          7,
          8,
          4,
          10,
          12,
          7,
          9,
          11,
          12,
          12,
          12,
          11,
          15,
          8,
          12,
          9,
          8,
          13,
          15,
          15,
          9,
          14,
          14,
          7,
          6,
          9,
          11,
          9,
          12,
          22,
          15,
          12,
          8,
          8,
          10,
          15,
          7,
          9,
          9,
          9,
          12,
          8,
          15,
          17,
          18,
          15,
          17,
          15,
          8,
          6,
          9,
          7,
          8,
          10,
          13,
          12,
          8,
          12,
          3,
          10,
          15,
          17,
          3,
          7,
          10,
          7,
          8,
          10,
          4,
          6,
          5,
          11,
          14,
          4,
          6,
          11,
          14,
          12,
          10,
          6,
          10,
          12,
          11,
          10,
          13,
          8,
          12,
          15,
          5,
          6,
          6,
          20,
          4,
          13,
          9,
          14,
          11,
          3,
          14,
          16,
          11,
          13,
          10,
          14,
          8,
          16,
          11,
          11,
          15,
          12,
          12,
          15,
          13,
          13,
          13,
          7,
          12,
          14,
          13,
          16,
          12,
          21,
          15,
          9,
          12,
          14,
          11,
          13,
          13,
          13,
          9,
          8,
          18,
          17,
          15,
          9,
          18,
          11,
          13,
          6,
          8,
          15,
          10,
          14,
          9,
          9,
          11,
          12,
          12,
          19,
          9,
          4,
          9,
          10,
          12,
          15,
          6,
          12,
          15,
          9,
          14,
          16,
          10,
          12,
          10,
          12,
          8,
          12,
          10,
          11,
          11,
          10,
          13,
          10,
          15,
          10,
          6,
          18,
          13,
          6,
          11,
          16,
          13,
          9,
          14,
          16,
          15,
          10,
          11,
          6,
          9,
          11,
          9,
          12,
          10,
          13,
          11,
          8,
          9,
          18,
          15,
          12,
          8,
          14,
          10,
          8,
          8,
          18,
          21,
          4,
          10,
          11,
          16,
          5,
          14,
          10,
          11,
          12,
          18,
          16,
          11,
          13,
          8,
          10,
          9,
          10,
          15,
          10,
          10,
          13,
          6,
          11,
          6,
          10,
          5,
          8,
          14,
          7,
          19,
          14,
          14,
          9,
          16,
          14,
          12,
          14,
          18,
          9,
          6,
          16,
          9,
          6,
          7,
          11,
          15,
          6,
          7,
          13,
          12,
          9,
          11,
          9,
          12,
          11,
          5,
          9,
          9,
          8,
          17,
          17,
          11,
          10,
          8,
          10,
          15,
          10,
          11,
          9,
          12,
          10,
          11,
          8,
          12,
          12,
          9,
          5,
          8,
          12,
          13,
          13,
          9,
          14,
          10,
          11,
          19,
          16,
          9,
          15,
          18,
          15,
          10,
          9,
          10,
          10,
          16,
          7,
          9,
          10,
          11,
          12,
          11,
          12,
          18,
          10,
          14,
          7,
          9,
          14,
          11,
          2,
          14,
          14,
          13,
          9,
          9,
          12,
          15,
          4,
          16,
          15,
          20,
          16,
          13,
          8,
          16,
          10,
          11,
          17,
          16,
          11,
          9,
          11,
          10,
          12,
          17,
          9,
          11,
          17,
          19,
          9,
          10,
          8,
          9,
          15,
          13,
          10,
          9,
          20,
          11,
          8,
          18,
          11,
          13,
          11,
          13,
          7,
          12,
          10,
          16,
          18,
          14,
          9,
          13,
          8,
          11,
          6,
          18,
          8,
          15,
          6,
          11,
          8,
          11,
          13,
          9,
          19,
          12,
          11,
          18,
          11,
          7,
          15,
          13,
          16,
          8,
          11,
          12,
          16,
          8,
          12,
          3,
          7,
          8,
          12,
          10,
          11,
          16,
          7,
          3,
          10,
          16,
          14,
          11,
          15,
          11,
          15,
          10,
          16,
          17,
          8,
          11,
          9,
          13,
          13,
          11,
          13,
          14,
          14,
          6,
          12,
          13,
          11,
          13,
          15,
          6,
          14,
          8,
          11,
          19,
          9,
          10,
          20,
          4,
          1,
          12,
          16,
          12,
          15,
          11,
          12,
          14,
          8,
          9,
          14,
          14,
          12,
          11,
          9,
          13,
          7,
          15,
          7,
          16,
          8,
          7,
          6,
          11,
          8,
          18,
          12,
          19,
          15,
          8,
          12,
          13,
          11,
          10,
          19,
          11,
          6,
          15,
          12,
          13,
          16,
          13,
          15,
          8,
          9,
          16,
          8,
          14,
          12,
          7,
          9,
          11,
          14,
          8,
          10,
          17,
          4,
          9,
          17,
          13,
          12,
          11,
          12,
          9,
          10,
          15,
          7,
          7
         ],
         "z": [
          1794,
          1312,
          1874,
          1497,
          1326,
          1202,
          1179,
          1219,
          1090,
          1294,
          1450,
          1092,
          1812,
          1185,
          1488,
          1328,
          1351,
          1787,
          1161,
          1615,
          1852,
          1446,
          1473,
          1116,
          1131,
          1208,
          1043,
          1240,
          1256,
          1223,
          1039,
          1006,
          1487,
          1279,
          1197,
          1479,
          1015,
          1066,
          1124,
          1138,
          1071,
          1456,
          1014,
          1442,
          1106,
          1356,
          1086,
          1040,
          1180,
          1196,
          1506,
          1028,
          1267,
          1102,
          1341,
          1247,
          1115,
          1022,
          1319,
          1419,
          1380,
          1253,
          1046,
          1424,
          1702,
          1357,
          1230,
          1055,
          1136,
          1317,
          1782,
          1632,
          1010,
          1148,
          1232,
          1349,
          1045,
          1454,
          1296,
          1564,
          1134,
          1802,
          1462,
          1129,
          1168,
          1144,
          1724,
          1902,
          1244,
          1347,
          1290,
          1636,
          1688,
          1072,
          1830,
          1313,
          1005,
          1475,
          1619,
          1482,
          1048,
          1321,
          1207,
          1760,
          1366,
          1928,
          1205,
          1220,
          1024,
          1034,
          1054,
          1056,
          1557,
          1060,
          1289,
          1137,
          1184,
          1346,
          1215,
          1163,
          1306,
          1061,
          1177,
          1469,
          1288,
          1365,
          1089,
          1027,
          1421,
          1172,
          1132,
          1710,
          1100,
          1031,
          1254,
          1634,
          1714,
          1719,
          1502,
          1864,
          1647,
          1286,
          1434,
          1084,
          1386,
          1221,
          1315,
          1739,
          1111,
          1561,
          1200,
          1284,
          1227,
          1560,
          1595,
          1367,
          1122,
          1758,
          1108,
          1694,
          1235,
          1453,
          1019,
          1249,
          1145,
          1675,
          1325,
          1501,
          1301,
          1397,
          1127,
          1020,
          1178,
          1206,
          1944,
          1190,
          1004,
          1074,
          1211,
          1646,
          1070,
          1510,
          1493,
          1298,
          1798,
          1193,
          1069,
          1023,
          1051,
          1085,
          1081,
          1104,
          1391,
          1398,
          1725,
          1598,
          1255,
          1589,
          1455,
          1141,
          1584,
          1114,
          1388,
          1588,
          1435,
          1484,
          1477,
          1327,
          1337,
          1091,
          1857,
          1160,
          1418,
          1237,
          1210,
          1527,
          1226,
          1218,
          1008,
          1392,
          1342,
          1266,
          1371,
          1671,
          1050,
          1186,
          1720,
          1139,
          1181,
          1113,
          1016,
          1078,
          1717,
          1415,
          1146,
          1611,
          1471,
          1387,
          1552,
          1150,
          1674,
          1932,
          1044,
          1258,
          1768,
          1165,
          1686,
          1299,
          1443,
          1082,
          1121,
          1065,
          1401,
          1422,
          1225,
          1533,
          1170,
          1107,
          1098,
          1353,
          1305,
          1575,
          1095,
          1843,
          1242,
          1105,
          1529,
          1640,
          1955,
          1344,
          1505,
          1628,
          1248,
          1075,
          1036,
          1490,
          1716,
          1094,
          1182,
          1162,
          1174,
          1766,
          1413,
          1623,
          1067,
          1018,
          1057,
          1021,
          1282,
          1001,
          1428,
          1109,
          1037,
          1311,
          1011,
          1076,
          1012,
          1157,
          1080,
          1068,
          1216,
          1110,
          1087,
          1073,
          1063,
          1038,
          1582,
          1013,
          1246,
          1058,
          1033,
          1119,
          1123,
          1007,
          1164,
          1151,
          1133,
          1285,
          1262,
          1062,
          1047,
          1017,
          1042,
          1395,
          1212,
          1199,
          1189,
          1188,
          1198,
          1590,
          1362,
          1009,
          1064,
          1035,
          1083,
          1192,
          1152,
          1653,
          1363,
          1329,
          1935,
          1307,
          1214,
          1332,
          1376,
          1128,
          1077,
          1025,
          1171,
          1333,
          1032,
          1029,
          1093,
          1049,
          1175,
          1026,
          1257,
          1316,
          1003,
          1079,
          1155,
          1112,
          1791,
          1261,
          1140,
          1233,
          1238,
          1204,
          1088,
          1820,
          1053,
          1194,
          1118,
          1052,
          1099,
          1125,
          1330,
          1041,
          1130,
          1153,
          1191,
          1360,
          1352,
          1374,
          1231,
          1167,
          1539,
          1103,
          1143,
          1631,
          1334,
          1158,
          1135,
          1303,
          1252,
          1485,
          1283,
          1209,
          1166,
          1187,
          1271,
          1467,
          1281,
          1222,
          1563,
          1359,
          1591,
          1669,
          1195,
          1291,
          1201,
          1763,
          1700,
          1784,
          1607,
          1939,
          1827,
          1885,
          1788,
          1405,
          1331,
          1236,
          1384,
          1426,
          1542,
          1474,
          1910,
          1381,
          1543,
          1566,
          1594,
          1635,
          1268,
          1491,
          1691,
          1708,
          1722,
          1538,
          1559,
          1786,
          1681,
          1673,
          1800,
          1785,
          1748,
          1228,
          1404,
          1765,
          1899,
          1726,
          1796,
          1263,
          1297,
          1348,
          1608,
          1586,
          1393,
          1458,
          1517,
          1101,
          1264,
          1581,
          1736,
          1478,
          1425,
          1936,
          1616,
          1637,
          1535,
          1574,
          1514,
          1705,
          1654,
          1406,
          1697,
          1783,
          1772,
          1217,
          1609,
          1996,
          1872,
          1973,
          1793,
          1656,
          1276,
          1265,
          1287,
          1272,
          1693,
          1280,
          1338,
          1481,
          1495,
          1555,
          1579,
          1410,
          1541,
          1511,
          1747,
          1169,
          1940,
          1715,
          1992,
          1991,
          1466,
          1704,
          1742,
          1803,
          1877,
          1808,
          1731,
          1805,
          1866,
          1908,
          1757,
          1777,
          1665,
          1904,
          1459,
          1721,
          1769,
          1890,
          1659,
          1754,
          1824,
          1888,
          1696,
          1260,
          1234,
          1251,
          1324,
          1364,
          1295,
          1308,
          1159,
          1259,
          1183,
          1142,
          1605,
          1534,
          1431,
          1460,
          1423,
          1592,
          1414,
          1504,
          1622,
          1476,
          1642,
          1452,
          1516,
          1437,
          1567,
          1411,
          1526,
          1336,
          1224,
          1369,
          1738,
          1576,
          1292,
          1512,
          1844,
          1335,
          1447,
          1436,
          1565,
          1378,
          1370,
          1680,
          1382,
          1578,
          1429,
          1610,
          1650,
          1644,
          1711,
          1432,
          1445,
          1620,
          1494,
          1752,
          1836,
          1537,
          1612,
          1500,
          1439,
          1358,
          1310,
          1408,
          1690,
          1345,
          1394,
          1658,
          1492,
          1465,
          1480,
          1583,
          1521,
          1627,
          1573,
          1741,
          1602,
          1822,
          1657,
          1569,
          1664,
          1613,
          1618,
          1525,
          1661,
          1639,
          1350,
          1540,
          1870,
          1749,
          1709,
          1698,
          1819,
          1528,
          1568,
          1813,
          1548,
          1679,
          1416,
          1269,
          1304,
          1601,
          1546,
          1097,
          1878,
          1120,
          1735,
          1389,
          1409,
          1713,
          1789,
          1811,
          1839,
          1821,
          1507,
          1154,
          1156,
          1173,
          1213,
          1239,
          1243,
          1250,
          1270,
          1273,
          1274,
          1275,
          1278,
          1293,
          1302,
          1314,
          1322,
          1323,
          1339,
          1340,
          1343,
          1354,
          1361,
          1368,
          1385,
          1703,
          1554,
          1851,
          1978,
          1759,
          1898,
          1377,
          1379,
          1383,
          1396,
          1400,
          1402,
          1407,
          1412,
          1420,
          1430,
          1433,
          1438,
          1440,
          1441,
          1448,
          1451,
          1461,
          1463,
          1464,
          1468,
          1470,
          1472,
          1518,
          1995,
          1403,
          1817,
          1486,
          1489,
          1496,
          1498,
          1503,
          1513,
          1515,
          1519,
          1520,
          1523,
          1524,
          1531,
          1536,
          1549,
          1551,
          1558,
          1570,
          1571,
          1572,
          1577,
          1580,
          1587,
          1596,
          1954,
          1663,
          1126,
          1921,
          1604,
          1617,
          1624,
          1625,
          1626,
          1641,
          1643,
          1645,
          1648,
          1649,
          1652,
          1660,
          1662,
          1667,
          1670,
          1672,
          1677,
          1678,
          1682,
          1687,
          1689,
          1699,
          1712,
          1372,
          1974,
          1318,
          1621,
          1373,
          1799,
          1597,
          1599,
          1723,
          1729,
          1730,
          1737,
          1740,
          1744,
          1746,
          1750,
          1753,
          1756,
          1762,
          1764,
          1771,
          1773,
          1776,
          1778,
          1779,
          1780,
          1790,
          1390,
          1553,
          1792,
          1718,
          1002,
          1795,
          1801,
          1807,
          1809,
          1816,
          1818,
          1823,
          1825,
          1831,
          1833,
          1834,
          1838,
          1840,
          1841,
          1845,
          1847,
          1854,
          1855,
          1858,
          1859,
          1804,
          1767,
          1861,
          1862,
          1865,
          1867,
          1868,
          1871,
          1875,
          1879,
          1880,
          1882,
          1883,
          1884,
          1889,
          1891,
          1892,
          1893,
          1896,
          1900,
          1901,
          1903,
          1907,
          1911,
          1916,
          1917,
          1918,
          1919,
          1922,
          1923,
          1863,
          1924,
          1926,
          1934,
          1873,
          1937,
          1938,
          1941,
          1942,
          1950,
          1951,
          1953,
          1956,
          1961,
          1970,
          1971,
          1972,
          1876,
          1977,
          1980,
          1985,
          1990,
          1993,
          1994,
          1998,
          2000,
          1449,
          1508,
          1300,
          1509,
          1897
         ]
        },
        {
         "customdata": [
          [
           "Kanji: 夕<br>Frekuensi: 924.0<br>Grade: 1.0<br>Strokes: 3"
          ],
          [
           "Kanji: 了<br>Frekuensi: 792.0<br>Grade: 8.0<br>Strokes: 2"
          ],
          [
           "Kanji: 丸<br>Frekuensi: 542.0<br>Grade: 2.0<br>Strokes: 3"
          ],
          [
           "Kanji: 天<br>Frekuensi: 512.0<br>Grade: 1.0<br>Strokes: 4"
          ],
          [
           "Kanji: 火<br>Frekuensi: 574.0<br>Grade: 1.0<br>Strokes: 4"
          ],
          [
           "Kanji: 王<br>Frekuensi: 684.0<br>Grade: 1.0<br>Strokes: 4"
          ],
          [
           "Kanji: 右<br>Frekuensi: 602.0<br>Grade: 1.0<br>Strokes: 5"
          ],
          [
           "Kanji: 左<br>Frekuensi: 630.0<br>Grade: 1.0<br>Strokes: 5"
          ],
          [
           "Kanji: 玉<br>Frekuensi: 737.0<br>Grade: 1.0<br>Strokes: 5"
          ],
          [
           "Kanji: 久<br>Frekuensi: 688.0<br>Grade: 5.0<br>Strokes: 3"
          ],
          [
           "Kanji: 友<br>Frekuensi: 622.0<br>Grade: 2.0<br>Strokes: 4"
          ],
          [
           "Kanji: 太<br>Frekuensi: 552.0<br>Grade: 2.0<br>Strokes: 4"
          ],
          [
           "Kanji: 戸<br>Frekuensi: 575.0<br>Grade: 2.0<br>Strokes: 4"
          ],
          [
           "Kanji: 父<br>Frekuensi: 646.0<br>Grade: 2.0<br>Strokes: 4"
          ],
          [
           "Kanji: 古<br>Frekuensi: 509.0<br>Grade: 2.0<br>Strokes: 5"
          ],
          [
           "Kanji: 母<br>Frekuensi: 570.0<br>Grade: 2.0<br>Strokes: 5"
          ],
          [
           "Kanji: 他<br>Frekuensi: 543.0<br>Grade: 3.0<br>Strokes: 5"
          ],
          [
           "Kanji: 号<br>Frekuensi: 585.0<br>Grade: 3.0<br>Strokes: 5"
          ],
          [
           "Kanji: 央<br>Frekuensi: 582.0<br>Grade: 3.0<br>Strokes: 5"
          ],
          [
           "Kanji: 休<br>Frekuensi: 642.0<br>Grade: 1.0<br>Strokes: 6"
          ],
          [
           "Kanji: 竹<br>Frekuensi: 593.0<br>Grade: 1.0<br>Strokes: 6"
          ],
          [
           "Kanji: 花<br>Frekuensi: 578.0<br>Grade: 1.0<br>Strokes: 7"
          ],
          [
           "Kanji: 赤<br>Frekuensi: 584.0<br>Grade: 1.0<br>Strokes: 7"
          ],
          [
           "Kanji: 光<br>Frekuensi: 527.0<br>Grade: 2.0<br>Strokes: 6"
          ],
          [
           "Kanji: 池<br>Frekuensi: 827.0<br>Grade: 2.0<br>Strokes: 6"
          ],
          [
           "Kanji: 羽<br>Frekuensi: 748.0<br>Grade: 2.0<br>Strokes: 6"
          ],
          [
           "Kanji: 肉<br>Frekuensi: 986.0<br>Grade: 2.0<br>Strokes: 6"
          ],
          [
           "Kanji: 色<br>Frekuensi: 621.0<br>Grade: 2.0<br>Strokes: 6"
          ],
          [
           "Kanji: 図<br>Frekuensi: 539.0<br>Grade: 2.0<br>Strokes: 7"
          ],
          [
           "Kanji: 角<br>Frekuensi: 805.0<br>Grade: 2.0<br>Strokes: 7"
          ],
          [
           "Kanji: 谷<br>Frekuensi: 508.0<br>Grade: 2.0<br>Strokes: 7"
          ],
          [
           "Kanji: 走<br>Frekuensi: 626.0<br>Grade: 2.0<br>Strokes: 7"
          ],
          [
           "Kanji: 林<br>Frekuensi: 656.0<br>Grade: 1.0<br>Strokes: 8"
          ],
          [
           "Kanji: 雨<br>Frekuensi: 950.0<br>Grade: 1.0<br>Strokes: 8"
          ],
          [
           "Kanji: 青<br>Frekuensi: 589.0<br>Grade: 1.0<br>Strokes: 8"
          ],
          [
           "Kanji: 草<br>Frekuensi: 967.0<br>Grade: 1.0<br>Strokes: 9"
          ],
          [
           "Kanji: 曲<br>Frekuensi: 810.0<br>Grade: 3.0<br>Strokes: 6"
          ],
          [
           "Kanji: 血<br>Frekuensi: 832.0<br>Grade: 3.0<br>Strokes: 6"
          ],
          [
           "Kanji: 歩<br>Frekuensi: 554.0<br>Grade: 2.0<br>Strokes: 8"
          ],
          [
           "Kanji: 室<br>Frekuensi: 550.0<br>Grade: 2.0<br>Strokes: 9"
          ],
          [
           "Kanji: 星<br>Frekuensi: 844.0<br>Grade: 2.0<br>Strokes: 9"
          ],
          [
           "Kanji: 科<br>Frekuensi: 531.0<br>Grade: 2.0<br>Strokes: 9"
          ],
          [
           "Kanji: 欠<br>Frekuensi: 860.0<br>Grade: 4.0<br>Strokes: 4"
          ],
          [
           "Kanji: 札<br>Frekuensi: 921.0<br>Grade: 4.0<br>Strokes: 5"
          ],
          [
           "Kanji: 未<br>Frekuensi: 650.0<br>Grade: 4.0<br>Strokes: 5"
          ],
          [
           "Kanji: 夏<br>Frekuensi: 659.0<br>Grade: 2.0<br>Strokes: 10"
          ],
          [
           "Kanji: 弱<br>Frekuensi: 958.0<br>Grade: 2.0<br>Strokes: 10"
          ],
          [
           "Kanji: 紙<br>Frekuensi: 559.0<br>Grade: 2.0<br>Strokes: 10"
          ],
          [
           "Kanji: 船<br>Frekuensi: 713.0<br>Grade: 2.0<br>Strokes: 11"
          ],
          [
           "Kanji: 週<br>Frekuensi: 540.0<br>Grade: 2.0<br>Strokes: 11"
          ],
          [
           "Kanji: 黒<br>Frekuensi: 573.0<br>Grade: 2.0<br>Strokes: 11"
          ],
          [
           "Kanji: 君<br>Frekuensi: 947.0<br>Grade: 3.0<br>Strokes: 7"
          ],
          [
           "Kanji: 馬<br>Frekuensi: 639.0<br>Grade: 2.0<br>Strokes: 10"
          ],
          [
           "Kanji: 森<br>Frekuensi: 609.0<br>Grade: 1.0<br>Strokes: 12"
          ],
          [
           "Kanji: 絵<br>Frekuensi: 895.0<br>Grade: 2.0<br>Strokes: 12"
          ],
          [
           "Kanji: 買<br>Frekuensi: 520.0<br>Grade: 2.0<br>Strokes: 12"
          ],
          [
           "Kanji: 具<br>Frekuensi: 629.0<br>Grade: 3.0<br>Strokes: 8"
          ],
          [
           "Kanji: 服<br>Frekuensi: 873.0<br>Grade: 3.0<br>Strokes: 8"
          ],
          [
           "Kanji: 苦<br>Frekuensi: 623.0<br>Grade: 3.0<br>Strokes: 8"
          ],
          [
           "Kanji: 客<br>Frekuensi: 557.0<br>Grade: 3.0<br>Strokes: 9"
          ],
          [
           "Kanji: 屋<br>Frekuensi: 616.0<br>Grade: 3.0<br>Strokes: 9"
          ],
          [
           "Kanji: 速<br>Frekuensi: 576.0<br>Grade: 3.0<br>Strokes: 10"
          ],
          [
           "Kanji: 習<br>Frekuensi: 706.0<br>Grade: 3.0<br>Strokes: 11"
          ],
          [
           "Kanji: 軽<br>Frekuensi: 790.0<br>Grade: 3.0<br>Strokes: 12"
          ],
          [
           "Kanji: 飲<br>Frekuensi: 969.0<br>Grade: 3.0<br>Strokes: 12"
          ],
          [
           "Kanji: 路<br>Frekuensi: 529.0<br>Grade: 3.0<br>Strokes: 13"
          ],
          [
           "Kanji: 鉄<br>Frekuensi: 672.0<br>Grade: 3.0<br>Strokes: 13"
          ],
          [
           "Kanji: 歌<br>Frekuensi: 519.0<br>Grade: 2.0<br>Strokes: 14"
          ],
          [
           "Kanji: 読<br>Frekuensi: 618.0<br>Grade: 2.0<br>Strokes: 14"
          ],
          [
           "Kanji: 顔<br>Frekuensi: 676.0<br>Grade: 2.0<br>Strokes: 18"
          ],
          [
           "Kanji: 仲<br>Frekuensi: 919.0<br>Grade: 4.0<br>Strokes: 6"
          ],
          [
           "Kanji: 老<br>Frekuensi: 803.0<br>Grade: 4.0<br>Strokes: 6"
          ],
          [
           "Kanji: 努<br>Frekuensi: 749.0<br>Grade: 4.0<br>Strokes: 7"
          ],
          [
           "Kanji: 岸<br>Frekuensi: 556.0<br>Grade: 3.0<br>Strokes: 8"
          ],
          [
           "Kanji: 波<br>Frekuensi: 740.0<br>Grade: 3.0<br>Strokes: 8"
          ],
          [
           "Kanji: 洋<br>Frekuensi: 763.0<br>Grade: 3.0<br>Strokes: 9"
          ],
          [
           "Kanji: 級<br>Frekuensi: 785.0<br>Grade: 3.0<br>Strokes: 9"
          ],
          [
           "Kanji: 競<br>Frekuensi: 610.0<br>Grade: 4.0<br>Strokes: 20"
          ],
          [
           "Kanji: 良<br>Frekuensi: 501.0<br>Grade: 4.0<br>Strokes: 7"
          ],
          [
           "Kanji: 功<br>Frekuensi: 857.0<br>Grade: 4.0<br>Strokes: 5"
          ],
          [
           "Kanji: 便<br>Frekuensi: 729.0<br>Grade: 4.0<br>Strokes: 9"
          ],
          [
           "Kanji: 令<br>Frekuensi: 804.0<br>Grade: 4.0<br>Strokes: 5"
          ],
          [
           "Kanji: 庭<br>Frekuensi: 816.0<br>Grade: 3.0<br>Strokes: 10"
          ],
          [
           "Kanji: 息<br>Frekuensi: 882.0<br>Grade: 3.0<br>Strokes: 10"
          ],
          [
           "Kanji: 旅<br>Frekuensi: 783.0<br>Grade: 3.0<br>Strokes: 10"
          ],
          [
           "Kanji: 根<br>Frekuensi: 620.0<br>Grade: 3.0<br>Strokes: 10"
          ],
          [
           "Kanji: 倍<br>Frekuensi: 714.0<br>Grade: 3.0<br>Strokes: 10"
          ],
          [
           "Kanji: 章<br>Frekuensi: 990.0<br>Grade: 3.0<br>Strokes: 11"
          ],
          [
           "Kanji: 悪<br>Frekuensi: 530.0<br>Grade: 3.0<br>Strokes: 11"
          ],
          [
           "Kanji: 階<br>Frekuensi: 513.0<br>Grade: 3.0<br>Strokes: 12"
          ],
          [
           "Kanji: 植<br>Frekuensi: 699.0<br>Grade: 3.0<br>Strokes: 12"
          ],
          [
           "Kanji: 温<br>Frekuensi: 838.0<br>Grade: 3.0<br>Strokes: 12"
          ],
          [
           "Kanji: 登<br>Frekuensi: 566.0<br>Grade: 3.0<br>Strokes: 12"
          ],
          [
           "Kanji: 短<br>Frekuensi: 689.0<br>Grade: 3.0<br>Strokes: 12"
          ],
          [
           "Kanji: 亡<br>Frekuensi: 661.0<br>Grade: 6.0<br>Strokes: 3"
          ],
          [
           "Kanji: 風<br>Frekuensi: 558.0<br>Grade: 2.0<br>Strokes: 9"
          ],
          [
           "Kanji: 返<br>Frekuensi: 685.0<br>Grade: 3.0<br>Strokes: 7"
          ],
          [
           "Kanji: 宿<br>Frekuensi: 701.0<br>Grade: 3.0<br>Strokes: 11"
          ],
          [
           "Kanji: 橋<br>Frekuensi: 553.0<br>Grade: 3.0<br>Strokes: 16"
          ],
          [
           "Kanji: 練<br>Frekuensi: 788.0<br>Grade: 3.0<br>Strokes: 14"
          ],
          [
           "Kanji: 館<br>Frekuensi: 613.0<br>Grade: 3.0<br>Strokes: 16"
          ],
          [
           "Kanji: 駅<br>Frekuensi: 724.0<br>Grade: 3.0<br>Strokes: 14"
          ],
          [
           "Kanji: 億<br>Frekuensi: 716.0<br>Grade: 4.0<br>Strokes: 15"
          ],
          [
           "Kanji: 器<br>Frekuensi: 525.0<br>Grade: 4.0<br>Strokes: 15"
          ],
          [
           "Kanji: 士<br>Frekuensi: 526.0<br>Grade: 4.0<br>Strokes: 3"
          ],
          [
           "Kanji: 標<br>Frekuensi: 686.0<br>Grade: 4.0<br>Strokes: 15"
          ],
          [
           "Kanji: 殺<br>Frekuensi: 581.0<br>Grade: 4.0<br>Strokes: 10"
          ],
          [
           "Kanji: 熱<br>Frekuensi: 700.0<br>Grade: 4.0<br>Strokes: 15"
          ],
          [
           "Kanji: 輪<br>Frekuensi: 693.0<br>Grade: 4.0<br>Strokes: 15"
          ],
          [
           "Kanji: 願<br>Frekuensi: 894.0<br>Grade: 4.0<br>Strokes: 19"
          ],
          [
           "Kanji: 養<br>Frekuensi: 888.0<br>Grade: 4.0<br>Strokes: 15"
          ],
          [
           "Kanji: 像<br>Frekuensi: 856.0<br>Grade: 5.0<br>Strokes: 14"
          ],
          [
           "Kanji: 卒<br>Frekuensi: 772.0<br>Grade: 4.0<br>Strokes: 8"
          ],
          [
           "Kanji: 周<br>Frekuensi: 562.0<br>Grade: 4.0<br>Strokes: 8"
          ],
          [
           "Kanji: 囲<br>Frekuensi: 771.0<br>Grade: 4.0<br>Strokes: 7"
          ],
          [
           "Kanji: 固<br>Frekuensi: 750.0<br>Grade: 4.0<br>Strokes: 8"
          ],
          [
           "Kanji: 季<br>Frekuensi: 842.0<br>Grade: 4.0<br>Strokes: 8"
          ],
          [
           "Kanji: 完<br>Frekuensi: 595.0<br>Grade: 4.0<br>Strokes: 7"
          ],
          [
           "Kanji: 希<br>Frekuensi: 896.0<br>Grade: 4.0<br>Strokes: 7"
          ],
          [
           "Kanji: 折<br>Frekuensi: 962.0<br>Grade: 4.0<br>Strokes: 7"
          ],
          [
           "Kanji: 材<br>Frekuensi: 565.0<br>Grade: 4.0<br>Strokes: 7"
          ],
          [
           "Kanji: 束<br>Frekuensi: 918.0<br>Grade: 4.0<br>Strokes: 7"
          ],
          [
           "Kanji: 芸<br>Frekuensi: 719.0<br>Grade: 4.0<br>Strokes: 7"
          ],
          [
           "Kanji: 骨<br>Frekuensi: 936.0<br>Grade: 6.0<br>Strokes: 10"
          ],
          [
           "Kanji: 寺<br>Frekuensi: 879.0<br>Grade: 2.0<br>Strokes: 6"
          ],
          [
           "Kanji: 岩<br>Frekuensi: 787.0<br>Grade: 2.0<br>Strokes: 8"
          ],
          [
           "Kanji: 帰<br>Frekuensi: 504.0<br>Grade: 2.0<br>Strokes: 10"
          ],
          [
           "Kanji: 春<br>Frekuensi: 579.0<br>Grade: 2.0<br>Strokes: 9"
          ],
          [
           "Kanji: 秋<br>Frekuensi: 635.0<br>Grade: 2.0<br>Strokes: 9"
          ],
          [
           "Kanji: 列<br>Frekuensi: 927.0<br>Grade: 3.0<br>Strokes: 6"
          ],
          [
           "Kanji: 坂<br>Frekuensi: 865.0<br>Grade: 3.0<br>Strokes: 7"
          ],
          [
           "Kanji: 単<br>Frekuensi: 586.0<br>Grade: 4.0<br>Strokes: 9"
          ],
          [
           "Kanji: 司<br>Frekuensi: 759.0<br>Grade: 4.0<br>Strokes: 5"
          ],
          [
           "Kanji: 紀<br>Frekuensi: 780.0<br>Grade: 4.0<br>Strokes: 9"
          ],
          [
           "Kanji: 仏<br>Frekuensi: 819.0<br>Grade: 5.0<br>Strokes: 4"
          ],
          [
           "Kanji: 築<br>Frekuensi: 821.0<br>Grade: 5.0<br>Strokes: 16"
          ],
          [
           "Kanji: 園<br>Frekuensi: 628.0<br>Grade: 2.0<br>Strokes: 13"
          ],
          [
           "Kanji: 曜<br>Frekuensi: 940.0<br>Grade: 2.0<br>Strokes: 18"
          ],
          [
           "Kanji: 遠<br>Frekuensi: 887.0<br>Grade: 2.0<br>Strokes: 13"
          ],
          [
           "Kanji: 幸<br>Frekuensi: 786.0<br>Grade: 3.0<br>Strokes: 8"
          ],
          [
           "Kanji: 喜<br>Frekuensi: 769.0<br>Grade: 4.0<br>Strokes: 12"
          ],
          [
           "Kanji: 笑<br>Frekuensi: 913.0<br>Grade: 4.0<br>Strokes: 10"
          ],
          [
           "Kanji: 辞<br>Frekuensi: 633.0<br>Grade: 4.0<br>Strokes: 13"
          ],
          [
           "Kanji: 弁<br>Frekuensi: 619.0<br>Grade: 5.0<br>Strokes: 5"
          ],
          [
           "Kanji: 留<br>Frekuensi: 731.0<br>Grade: 5.0<br>Strokes: 10"
          ],
          [
           "Kanji: 険<br>Frekuensi: 707.0<br>Grade: 5.0<br>Strokes: 11"
          ],
          [
           "Kanji: 危<br>Frekuensi: 606.0<br>Grade: 6.0<br>Strokes: 6"
          ],
          [
           "Kanji: 存<br>Frekuensi: 577.0<br>Grade: 6.0<br>Strokes: 6"
          ],
          [
           "Kanji: 専<br>Frekuensi: 506.0<br>Grade: 6.0<br>Strokes: 9"
          ],
          [
           "Kanji: 細<br>Frekuensi: 537.0<br>Grade: 2.0<br>Strokes: 11"
          ],
          [
           "Kanji: 薬<br>Frekuensi: 702.0<br>Grade: 3.0<br>Strokes: 16"
          ],
          [
           "Kanji: 兵<br>Frekuensi: 522.0<br>Grade: 4.0<br>Strokes: 7"
          ],
          [
           "Kanji: 敗<br>Frekuensi: 516.0<br>Grade: 4.0<br>Strokes: 11"
          ],
          [
           "Kanji: 栄<br>Frekuensi: 920.0<br>Grade: 4.0<br>Strokes: 9"
          ],
          [
           "Kanji: 因<br>Frekuensi: 636.0<br>Grade: 5.0<br>Strokes: 6"
          ],
          [
           "Kanji: 底<br>Frekuensi: 867.0<br>Grade: 4.0<br>Strokes: 8"
          ],
          [
           "Kanji: 愛<br>Frekuensi: 640.0<br>Grade: 4.0<br>Strokes: 13"
          ],
          [
           "Kanji: 署<br>Frekuensi: 725.0<br>Grade: 6.0<br>Strokes: 13"
          ],
          [
           "Kanji: 覚<br>Frekuensi: 710.0<br>Grade: 4.0<br>Strokes: 12"
          ],
          [
           "Kanji: 類<br>Frekuensi: 678.0<br>Grade: 4.0<br>Strokes: 18"
          ],
          [
           "Kanji: 等<br>Frekuensi: 798.0<br>Grade: 3.0<br>Strokes: 12"
          ],
          [
           "Kanji: 借<br>Frekuensi: 932.0<br>Grade: 4.0<br>Strokes: 10"
          ],
          [
           "Kanji: 焼<br>Frekuensi: 982.0<br>Grade: 4.0<br>Strokes: 12"
          ],
          [
           "Kanji: 座<br>Frekuensi: 588.0<br>Grade: 6.0<br>Strokes: 10"
          ],
          [
           "Kanji: 許<br>Frekuensi: 720.0<br>Grade: 5.0<br>Strokes: 11"
          ],
          [
           "Kanji: 枚<br>Frekuensi: 911.0<br>Grade: 6.0<br>Strokes: 8"
          ],
          [
           "Kanji: 静<br>Frekuensi: 764.0<br>Grade: 4.0<br>Strokes: 14"
          ],
          [
           "Kanji: 禁<br>Frekuensi: 681.0<br>Grade: 5.0<br>Strokes: 13"
          ],
          [
           "Kanji: 節<br>Frekuensi: 934.0<br>Grade: 4.0<br>Strokes: 13"
          ],
          [
           "Kanji: 順<br>Frekuensi: 779.0<br>Grade: 4.0<br>Strokes: 12"
          ],
          [
           "Kanji: 布<br>Frekuensi: 877.0<br>Grade: 5.0<br>Strokes: 5"
          ],
          [
           "Kanji: 易<br>Frekuensi: 571.0<br>Grade: 5.0<br>Strokes: 8"
          ],
          [
           "Kanji: 歴<br>Frekuensi: 632.0<br>Grade: 4.0<br>Strokes: 14"
          ],
          [
           "Kanji: 宇<br>Frekuensi: 883.0<br>Grade: 6.0<br>Strokes: 6"
          ],
          [
           "Kanji: 暴<br>Frekuensi: 692.0<br>Grade: 5.0<br>Strokes: 15"
          ],
          [
           "Kanji: 混<br>Frekuensi: 824.0<br>Grade: 5.0<br>Strokes: 11"
          ],
          [
           "Kanji: 乱<br>Frekuensi: 755.0<br>Grade: 6.0<br>Strokes: 7"
          ],
          [
           "Kanji: 徒<br>Frekuensi: 817.0<br>Grade: 4.0<br>Strokes: 10"
          ],
          [
           "Kanji: 善<br>Frekuensi: 765.0<br>Grade: 6.0<br>Strokes: 12"
          ],
          [
           "Kanji: 困<br>Frekuensi: 843.0<br>Grade: 6.0<br>Strokes: 7"
          ],
          [
           "Kanji: 絡<br>Frekuensi: 806.0<br>Grade: 8.0<br>Strokes: 12"
          ],
          [
           "Kanji: 災<br>Frekuensi: 976.0<br>Grade: 5.0<br>Strokes: 7"
          ],
          [
           "Kanji: 飛<br>Frekuensi: 580.0<br>Grade: 4.0<br>Strokes: 9"
          ],
          [
           "Kanji: 余<br>Frekuensi: 680.0<br>Grade: 5.0<br>Strokes: 7"
          ],
          [
           "Kanji: 震<br>Frekuensi: 893.0<br>Grade: 8.0<br>Strokes: 15"
          ],
          [
           "Kanji: 尾<br>Frekuensi: 875.0<br>Grade: 8.0<br>Strokes: 7"
          ],
          [
           "Kanji: 圧<br>Frekuensi: 718.0<br>Grade: 5.0<br>Strokes: 5"
          ],
          [
           "Kanji: 夢<br>Frekuensi: 943.0<br>Grade: 5.0<br>Strokes: 13"
          ],
          [
           "Kanji: 倒<br>Frekuensi: 791.0<br>Grade: 8.0<br>Strokes: 10"
          ],
          [
           "Kanji: 厚<br>Frekuensi: 768.0<br>Grade: 5.0<br>Strokes: 9"
          ],
          [
           "Kanji: 妻<br>Frekuensi: 691.0<br>Grade: 5.0<br>Strokes: 8"
          ],
          [
           "Kanji: 犯<br>Frekuensi: 874.0<br>Grade: 5.0<br>Strokes: 5"
          ],
          [
           "Kanji: 罪<br>Frekuensi: 732.0<br>Grade: 5.0<br>Strokes: 13"
          ],
          [
           "Kanji: 史<br>Frekuensi: 511.0<br>Grade: 4.0<br>Strokes: 5"
          ],
          [
           "Kanji: 素<br>Frekuensi: 660.0<br>Grade: 5.0<br>Strokes: 10"
          ],
          [
           "Kanji: 批<br>Frekuensi: 568.0<br>Grade: 6.0<br>Strokes: 7"
          ],
          [
           "Kanji: 責<br>Frekuensi: 598.0<br>Grade: 5.0<br>Strokes: 11"
          ],
          [
           "Kanji: 省<br>Frekuensi: 548.0<br>Grade: 4.0<br>Strokes: 9"
          ],
          [
           "Kanji: 脱<br>Frekuensi: 782.0<br>Grade: 8.0<br>Strokes: 11"
          ],
          [
           "Kanji: 値<br>Frekuensi: 518.0<br>Grade: 6.0<br>Strokes: 10"
          ],
          [
           "Kanji: 停<br>Frekuensi: 733.0<br>Grade: 4.0<br>Strokes: 11"
          ],
          [
           "Kanji: 崎<br>Frekuensi: 533.0<br>Grade: 8.0<br>Strokes: 11"
          ],
          [
           "Kanji: 律<br>Frekuensi: 992.0<br>Grade: 6.0<br>Strokes: 9"
          ],
          [
           "Kanji: 師<br>Frekuensi: 563.0<br>Grade: 5.0<br>Strokes: 10"
          ],
          [
           "Kanji: 則<br>Frekuensi: 753.0<br>Grade: 5.0<br>Strokes: 9"
          ],
          [
           "Kanji: 城<br>Frekuensi: 795.0<br>Grade: 6.0<br>Strokes: 9"
          ],
          [
           "Kanji: 秀<br>Frekuensi: 848.0<br>Grade: 8.0<br>Strokes: 7"
          ],
          [
           "Kanji: 燃<br>Frekuensi: 948.0<br>Grade: 5.0<br>Strokes: 16"
          ],
          [
           "Kanji: 届<br>Frekuensi: 939.0<br>Grade: 6.0<br>Strokes: 8"
          ],
          [
           "Kanji: 触<br>Frekuensi: 904.0<br>Grade: 8.0<br>Strokes: 13"
          ],
          [
           "Kanji: 載<br>Frekuensi: 825.0<br>Grade: 8.0<br>Strokes: 13"
          ],
          [
           "Kanji: 層<br>Frekuensi: 801.0<br>Grade: 6.0<br>Strokes: 14"
          ],
          [
           "Kanji: 庁<br>Frekuensi: 793.0<br>Grade: 6.0<br>Strokes: 5"
          ],
          [
           "Kanji: 管<br>Frekuensi: 517.0<br>Grade: 4.0<br>Strokes: 14"
          ],
          [
           "Kanji: 販<br>Frekuensi: 627.0<br>Grade: 8.0<br>Strokes: 11"
          ],
          [
           "Kanji: 響<br>Frekuensi: 502.0<br>Grade: 8.0<br>Strokes: 20"
          ],
          [
           "Kanji: 抜<br>Frekuensi: 726.0<br>Grade: 8.0<br>Strokes: 7"
          ],
          [
           "Kanji: 逮<br>Frekuensi: 766.0<br>Grade: 8.0<br>Strokes: 11"
          ],
          [
           "Kanji: 候<br>Frekuensi: 510.0<br>Grade: 4.0<br>Strokes: 10"
          ],
          [
           "Kanji: 模<br>Frekuensi: 668.0<br>Grade: 6.0<br>Strokes: 14"
          ],
          [
           "Kanji: 捕<br>Frekuensi: 604.0<br>Grade: 8.0<br>Strokes: 10"
          ],
          [
           "Kanji: 効<br>Frekuensi: 538.0<br>Grade: 5.0<br>Strokes: 8"
          ],
          [
           "Kanji: 属<br>Frekuensi: 912.0<br>Grade: 5.0<br>Strokes: 12"
          ],
          [
           "Kanji: 豊<br>Frekuensi: 762.0<br>Grade: 5.0<br>Strokes: 13"
          ],
          [
           "Kanji: 満<br>Frekuensi: 515.0<br>Grade: 4.0<br>Strokes: 12"
          ],
          [
           "Kanji: 巻<br>Frekuensi: 944.0<br>Grade: 6.0<br>Strokes: 9"
          ],
          [
           "Kanji: 捜<br>Frekuensi: 592.0<br>Grade: 8.0<br>Strokes: 10"
          ],
          [
           "Kanji: 替<br>Frekuensi: 979.0<br>Grade: 8.0<br>Strokes: 12"
          ],
          [
           "Kanji: 居<br>Frekuensi: 836.0<br>Grade: 5.0<br>Strokes: 8"
          ],
          [
           "Kanji: 授<br>Frekuensi: 535.0<br>Grade: 5.0<br>Strokes: 11"
          ],
          [
           "Kanji: 印<br>Frekuensi: 682.0<br>Grade: 4.0<br>Strokes: 6"
          ],
          [
           "Kanji: 創<br>Frekuensi: 741.0<br>Grade: 6.0<br>Strokes: 12"
          ],
          [
           "Kanji: 故<br>Frekuensi: 612.0<br>Grade: 5.0<br>Strokes: 9"
          ],
          [
           "Kanji: 障<br>Frekuensi: 742.0<br>Grade: 6.0<br>Strokes: 14"
          ],
          [
           "Kanji: 従<br>Frekuensi: 601.0<br>Grade: 6.0<br>Strokes: 10"
          ],
          [
           "Kanji: 我<br>Frekuensi: 829.0<br>Grade: 6.0<br>Strokes: 7"
          ],
          [
           "Kanji: 激<br>Frekuensi: 560.0<br>Grade: 6.0<br>Strokes: 16"
          ],
          [
           "Kanji: 討<br>Frekuensi: 528.0<br>Grade: 6.0<br>Strokes: 10"
          ],
          [
           "Kanji: 郵<br>Frekuensi: 917.0<br>Grade: 6.0<br>Strokes: 11"
          ],
          [
           "Kanji: 針<br>Frekuensi: 505.0<br>Grade: 6.0<br>Strokes: 10"
          ],
          [
           "Kanji: 徴<br>Frekuensi: 850.0<br>Grade: 8.0<br>Strokes: 14"
          ],
          [
           "Kanji: 突<br>Frekuensi: 521.0<br>Grade: 8.0<br>Strokes: 8"
          ],
          [
           "Kanji: 河<br>Frekuensi: 663.0<br>Grade: 5.0<br>Strokes: 8"
          ],
          [
           "Kanji: 振<br>Frekuensi: 614.0<br>Grade: 8.0<br>Strokes: 10"
          ],
          [
           "Kanji: 接<br>Frekuensi: 523.0<br>Grade: 5.0<br>Strokes: 11"
          ],
          [
           "Kanji: 占<br>Frekuensi: 694.0<br>Grade: 8.0<br>Strokes: 5"
          ],
          [
           "Kanji: 招<br>Frekuensi: 840.0<br>Grade: 5.0<br>Strokes: 8"
          ],
          [
           "Kanji: 痛<br>Frekuensi: 903.0<br>Grade: 6.0<br>Strokes: 12"
          ],
          [
           "Kanji: 織<br>Frekuensi: 608.0<br>Grade: 5.0<br>Strokes: 18"
          ],
          [
           "Kanji: 貸<br>Frekuensi: 995.0<br>Grade: 5.0<br>Strokes: 12"
          ],
          [
           "Kanji: 迷<br>Frekuensi: 942.0<br>Grade: 5.0<br>Strokes: 9"
          ],
          [
           "Kanji: 惑<br>Frekuensi: 777.0<br>Grade: 8.0<br>Strokes: 12"
          ],
          [
           "Kanji: 誘<br>Frekuensi: 993.0<br>Grade: 8.0<br>Strokes: 14"
          ],
          [
           "Kanji: 就<br>Frekuensi: 624.0<br>Grade: 6.0<br>Strokes: 12"
          ],
          [
           "Kanji: 昇<br>Frekuensi: 826.0<br>Grade: 8.0<br>Strokes: 8"
          ],
          [
           "Kanji: 締<br>Frekuensi: 797.0<br>Grade: 8.0<br>Strokes: 15"
          ],
          [
           "Kanji: 迫<br>Frekuensi: 773.0<br>Grade: 8.0<br>Strokes: 8"
          ],
          [
           "Kanji: 端<br>Frekuensi: 960.0<br>Grade: 8.0<br>Strokes: 14"
          ],
          [
           "Kanji: 途<br>Frekuensi: 717.0<br>Grade: 8.0<br>Strokes: 10"
          ],
          [
           "Kanji: 健<br>Frekuensi: 572.0<br>Grade: 4.0<br>Strokes: 11"
          ],
          [
           "Kanji: 康<br>Frekuensi: 760.0<br>Grade: 4.0<br>Strokes: 11"
          ],
          [
           "Kanji: 郎<br>Frekuensi: 569.0<br>Grade: 8.0<br>Strokes: 9"
          ],
          [
           "Kanji: 給<br>Frekuensi: 615.0<br>Grade: 4.0<br>Strokes: 12"
          ],
          [
           "Kanji: 逆<br>Frekuensi: 683.0<br>Grade: 5.0<br>Strokes: 9"
          ],
          [
           "Kanji: 巨<br>Frekuensi: 892.0<br>Grade: 8.0<br>Strokes: 5"
          ],
          [
           "Kanji: 庫<br>Frekuensi: 852.0<br>Grade: 3.0<br>Strokes: 10"
          ],
          [
           "Kanji: 児<br>Frekuensi: 679.0<br>Grade: 4.0<br>Strokes: 7"
          ],
          [
           "Kanji: 冷<br>Frekuensi: 667.0<br>Grade: 4.0<br>Strokes: 7"
          ],
          [
           "Kanji: 処<br>Frekuensi: 547.0<br>Grade: 6.0<br>Strokes: 5"
          ],
          [
           "Kanji: 博<br>Frekuensi: 794.0<br>Grade: 4.0<br>Strokes: 12"
          ],
          [
           "Kanji: 清<br>Frekuensi: 705.0<br>Grade: 4.0<br>Strokes: 11"
          ],
          [
           "Kanji: 録<br>Frekuensi: 546.0<br>Grade: 4.0<br>Strokes: 16"
          ],
          [
           "Kanji: 隊<br>Frekuensi: 605.0<br>Grade: 4.0<br>Strokes: 12"
          ],
          [
           "Kanji: 修<br>Frekuensi: 603.0<br>Grade: 5.0<br>Strokes: 10"
          ],
          [
           "Kanji: 券<br>Frekuensi: 583.0<br>Grade: 5.0<br>Strokes: 8"
          ],
          [
           "Kanji: 婦<br>Frekuensi: 671.0<br>Grade: 5.0<br>Strokes: 11"
          ],
          [
           "Kanji: 益<br>Frekuensi: 674.0<br>Grade: 5.0<br>Strokes: 10"
          ],
          [
           "Kanji: 程<br>Frekuensi: 514.0<br>Grade: 5.0<br>Strokes: 12"
          ],
          [
           "Kanji: 精<br>Frekuensi: 752.0<br>Grade: 5.0<br>Strokes: 14"
          ],
          [
           "Kanji: 絶<br>Frekuensi: 784.0<br>Grade: 5.0<br>Strokes: 12"
          ],
          [
           "Kanji: 並<br>Frekuensi: 599.0<br>Grade: 6.0<br>Strokes: 8"
          ],
          [
           "Kanji: 憲<br>Frekuensi: 551.0<br>Grade: 6.0<br>Strokes: 16"
          ],
          [
           "Kanji: 浜<br>Frekuensi: 645.0<br>Grade: 8.0<br>Strokes: 10"
          ],
          [
           "Kanji: 攻<br>Frekuensi: 532.0<br>Grade: 8.0<br>Strokes: 7"
          ],
          [
           "Kanji: 催<br>Frekuensi: 536.0<br>Grade: 8.0<br>Strokes: 13"
          ],
          [
           "Kanji: 促<br>Frekuensi: 998.0<br>Grade: 8.0<br>Strokes: 9"
          ],
          [
           "Kanji: 江<br>Frekuensi: 704.0<br>Grade: 8.0<br>Strokes: 6"
          ],
          [
           "Kanji: 請<br>Frekuensi: 524.0<br>Grade: 8.0<br>Strokes: 15"
          ],
          [
           "Kanji: 雄<br>Frekuensi: 669.0<br>Grade: 8.0<br>Strokes: 12"
          ],
          [
           "Kanji: 壊<br>Frekuensi: 727.0<br>Grade: 8.0<br>Strokes: 16"
          ],
          [
           "Kanji: 僚<br>Frekuensi: 709.0<br>Grade: 8.0<br>Strokes: 14"
          ],
          [
           "Kanji: 積<br>Frekuensi: 541.0<br>Grade: 4.0<br>Strokes: 16"
          ],
          [
           "Kanji: 督<br>Frekuensi: 534.0<br>Grade: 8.0<br>Strokes: 13"
          ],
          [
           "Kanji: 略<br>Frekuensi: 774.0<br>Grade: 5.0<br>Strokes: 11"
          ],
          [
           "Kanji: 航<br>Frekuensi: 665.0<br>Grade: 4.0<br>Strokes: 10"
          ],
          [
           "Kanji: 寄<br>Frekuensi: 673.0<br>Grade: 5.0<br>Strokes: 11"
          ],
          [
           "Kanji: 板<br>Frekuensi: 926.0<br>Grade: 3.0<br>Strokes: 8"
          ],
          [
           "Kanji: 街<br>Frekuensi: 891.0<br>Grade: 4.0<br>Strokes: 12"
          ],
          [
           "Kanji: 宗<br>Frekuensi: 997.0<br>Grade: 6.0<br>Strokes: 8"
          ],
          [
           "Kanji: 緊<br>Frekuensi: 677.0<br>Grade: 8.0<br>Strokes: 15"
          ],
          [
           "Kanji: 恐<br>Frekuensi: 878.0<br>Grade: 8.0<br>Strokes: 10"
          ],
          [
           "Kanji: 系<br>Frekuensi: 567.0<br>Grade: 6.0<br>Strokes: 7"
          ],
          [
           "Kanji: 婚<br>Frekuensi: 767.0<br>Grade: 8.0<br>Strokes: 11"
          ],
          [
           "Kanji: 遊<br>Frekuensi: 941.0<br>Grade: 3.0<br>Strokes: 12"
          ],
          [
           "Kanji: 版<br>Frekuensi: 802.0<br>Grade: 5.0<br>Strokes: 8"
          ],
          [
           "Kanji: 適<br>Frekuensi: 670.0<br>Grade: 5.0<br>Strokes: 14"
          ],
          [
           "Kanji: 預<br>Frekuensi: 981.0<br>Grade: 5.0<br>Strokes: 13"
          ],
          [
           "Kanji: 延<br>Frekuensi: 747.0<br>Grade: 6.0<br>Strokes: 8"
          ],
          [
           "Kanji: 押<br>Frekuensi: 789.0<br>Grade: 8.0<br>Strokes: 8"
          ],
          [
           "Kanji: 更<br>Frekuensi: 861.0<br>Grade: 8.0<br>Strokes: 7"
          ],
          [
           "Kanji: 浮<br>Frekuensi: 776.0<br>Grade: 8.0<br>Strokes: 10"
          ],
          [
           "Kanji: 購<br>Frekuensi: 945.0<br>Grade: 8.0<br>Strokes: 17"
          ],
          [
           "Kanji: 越<br>Frekuensi: 897.0<br>Grade: 8.0<br>Strokes: 12"
          ],
          [
           "Kanji: 背<br>Frekuensi: 696.0<br>Grade: 6.0<br>Strokes: 9"
          ],
          [
           "Kanji: 離<br>Frekuensi: 555.0<br>Grade: 8.0<br>Strokes: 19"
          ],
          [
           "Kanji: 編<br>Frekuensi: 591.0<br>Grade: 5.0<br>Strokes: 15"
          ],
          [
           "Kanji: 普<br>Frekuensi: 757.0<br>Grade: 8.0<br>Strokes: 12"
          ],
          [
           "Kanji: 除<br>Frekuensi: 594.0<br>Grade: 6.0<br>Strokes: 10"
          ],
          [
           "Kanji: 帯<br>Frekuensi: 746.0<br>Grade: 4.0<br>Strokes: 10"
          ],
          [
           "Kanji: 救<br>Frekuensi: 799.0<br>Grade: 4.0<br>Strokes: 11"
          ],
          [
           "Kanji: 散<br>Frekuensi: 758.0<br>Grade: 4.0<br>Strokes: 12"
          ],
          [
           "Kanji: 貨<br>Frekuensi: 822.0<br>Grade: 4.0<br>Strokes: 11"
          ],
          [
           "Kanji: 陸<br>Frekuensi: 736.0<br>Grade: 4.0<br>Strokes: 11"
          ],
          [
           "Kanji: 似<br>Frekuensi: 923.0<br>Grade: 5.0<br>Strokes: 7"
          ],
          [
           "Kanji: 均<br>Frekuensi: 715.0<br>Grade: 5.0<br>Strokes: 7"
          ],
          [
           "Kanji: 富<br>Frekuensi: 644.0<br>Grade: 5.0<br>Strokes: 12"
          ],
          [
           "Kanji: 探<br>Frekuensi: 930.0<br>Grade: 6.0<br>Strokes: 11"
          ],
          [
           "Kanji: 迎<br>Frekuensi: 625.0<br>Grade: 8.0<br>Strokes: 7"
          ],
          [
           "Kanji: 志<br>Frekuensi: 823.0<br>Grade: 5.0<br>Strokes: 7"
          ],
          [
           "Kanji: 採<br>Frekuensi: 607.0<br>Grade: 5.0<br>Strokes: 11"
          ],
          [
           "Kanji: 永<br>Frekuensi: 846.0<br>Grade: 5.0<br>Strokes: 5"
          ],
          [
           "Kanji: 績<br>Frekuensi: 820.0<br>Grade: 5.0<br>Strokes: 17"
          ],
          [
           "Kanji: 興<br>Frekuensi: 734.0<br>Grade: 5.0<br>Strokes: 16"
          ],
          [
           "Kanji: 複<br>Frekuensi: 915.0<br>Grade: 5.0<br>Strokes: 14"
          ],
          [
           "Kanji: 雑<br>Frekuensi: 839.0<br>Grade: 5.0<br>Strokes: 14"
          ],
          [
           "Kanji: 賛<br>Frekuensi: 868.0<br>Grade: 5.0<br>Strokes: 15"
          ],
          [
           "Kanji: 傷<br>Frekuensi: 845.0<br>Grade: 6.0<br>Strokes: 13"
          ],
          [
           "Kanji: 厳<br>Frekuensi: 638.0<br>Grade: 6.0<br>Strokes: 17"
          ],
          [
           "Kanji: 込<br>Frekuensi: 675.0<br>Grade: 8.0<br>Strokes: 5"
          ],
          [
           "Kanji: 密<br>Frekuensi: 815.0<br>Grade: 6.0<br>Strokes: 11"
          ],
          [
           "Kanji: 汚<br>Frekuensi: 908.0<br>Grade: 8.0<br>Strokes: 6"
          ],
          [
           "Kanji: 欲<br>Frekuensi: 902.0<br>Grade: 6.0<br>Strokes: 11"
          ],
          [
           "Kanji: 秘<br>Frekuensi: 862.0<br>Grade: 6.0<br>Strokes: 10"
          ],
          [
           "Kanji: 染<br>Frekuensi: 837.0<br>Grade: 6.0<br>Strokes: 9"
          ],
          [
           "Kanji: 簡<br>Frekuensi: 983.0<br>Grade: 6.0<br>Strokes: 18"
          ],
          [
           "Kanji: 閉<br>Frekuensi: 951.0<br>Grade: 6.0<br>Strokes: 11"
          ],
          [
           "Kanji: 誌<br>Frekuensi: 851.0<br>Grade: 6.0<br>Strokes: 14"
          ],
          [
           "Kanji: 否<br>Frekuensi: 561.0<br>Grade: 6.0<br>Strokes: 7"
          ],
          [
           "Kanji: 筋<br>Frekuensi: 744.0<br>Grade: 6.0<br>Strokes: 12"
          ],
          [
           "Kanji: 宣<br>Frekuensi: 695.0<br>Grade: 6.0<br>Strokes: 9"
          ],
          [
           "Kanji: 拡<br>Frekuensi: 611.0<br>Grade: 6.0<br>Strokes: 8"
          ],
          [
           "Kanji: 暮<br>Frekuensi: 978.0<br>Grade: 6.0<br>Strokes: 14"
          ],
          [
           "Kanji: 異<br>Frekuensi: 631.0<br>Grade: 6.0<br>Strokes: 11"
          ],
          [
           "Kanji: 皇<br>Frekuensi: 721.0<br>Grade: 6.0<br>Strokes: 9"
          ],
          [
           "Kanji: 盛<br>Frekuensi: 712.0<br>Grade: 6.0<br>Strokes: 11"
          ],
          [
           "Kanji: 納<br>Frekuensi: 987.0<br>Grade: 6.0<br>Strokes: 10"
          ],
          [
           "Kanji: 著<br>Frekuensi: 849.0<br>Grade: 6.0<br>Strokes: 11"
          ],
          [
           "Kanji: 装<br>Frekuensi: 657.0<br>Grade: 6.0<br>Strokes: 12"
          ],
          [
           "Kanji: 裏<br>Frekuensi: 812.0<br>Grade: 6.0<br>Strokes: 13"
          ],
          [
           "Kanji: 諸<br>Frekuensi: 658.0<br>Grade: 6.0<br>Strokes: 15"
          ],
          [
           "Kanji: 賃<br>Frekuensi: 961.0<br>Grade: 6.0<br>Strokes: 13"
          ],
          [
           "Kanji: 臓<br>Frekuensi: 991.0<br>Grade: 6.0<br>Strokes: 19"
          ],
          [
           "Kanji: 貴<br>Frekuensi: 970.0<br>Grade: 6.0<br>Strokes: 12"
          ],
          [
           "Kanji: 降<br>Frekuensi: 596.0<br>Grade: 6.0<br>Strokes: 10"
          ],
          [
           "Kanji: 縮<br>Frekuensi: 909.0<br>Grade: 6.0<br>Strokes: 17"
          ],
          [
           "Kanji: 射<br>Frekuensi: 937.0<br>Grade: 6.0<br>Strokes: 10"
          ],
          [
           "Kanji: 幕<br>Frekuensi: 835.0<br>Grade: 6.0<br>Strokes: 13"
          ],
          [
           "Kanji: 推<br>Frekuensi: 507.0<br>Grade: 6.0<br>Strokes: 11"
          ],
          [
           "Kanji: 揮<br>Frekuensi: 946.0<br>Grade: 6.0<br>Strokes: 12"
          ],
          [
           "Kanji: 源<br>Frekuensi: 738.0<br>Grade: 6.0<br>Strokes: 13"
          ],
          [
           "Kanji: 劇<br>Frekuensi: 662.0<br>Grade: 6.0<br>Strokes: 15"
          ],
          [
           "Kanji: 勤<br>Frekuensi: 830.0<br>Grade: 6.0<br>Strokes: 12"
          ],
          [
           "Kanji: 承<br>Frekuensi: 775.0<br>Grade: 5.0<br>Strokes: 8"
          ],
          [
           "Kanji: 損<br>Frekuensi: 807.0<br>Grade: 5.0<br>Strokes: 13"
          ],
          [
           "Kanji: 刻<br>Frekuensi: 866.0<br>Grade: 6.0<br>Strokes: 8"
          ],
          [
           "Kanji: 遅<br>Frekuensi: 833.0<br>Grade: 8.0<br>Strokes: 12"
          ],
          [
           "Kanji: 測<br>Frekuensi: 761.0<br>Grade: 5.0<br>Strokes: 12"
          ],
          [
           "Kanji: 破<br>Frekuensi: 590.0<br>Grade: 5.0<br>Strokes: 10"
          ],
          [
           "Kanji: 講<br>Frekuensi: 653.0<br>Grade: 5.0<br>Strokes: 17"
          ],
          [
           "Kanji: 紹<br>Frekuensi: 963.0<br>Grade: 8.0<br>Strokes: 11"
          ],
          [
           "Kanji: 介<br>Frekuensi: 617.0<br>Grade: 8.0<br>Strokes: 4"
          ],
          [
           "Kanji: 互<br>Frekuensi: 914.0<br>Grade: 8.0<br>Strokes: 4"
          ],
          [
           "Kanji: 彼<br>Frekuensi: 648.0<br>Grade: 8.0<br>Strokes: 8"
          ],
          [
           "Kanji: 為<br>Frekuensi: 831.0<br>Grade: 8.0<br>Strokes: 9"
          ],
          [
           "Kanji: 払<br>Frekuensi: 813.0<br>Grade: 8.0<br>Strokes: 5"
          ],
          [
           "Kanji: 油<br>Frekuensi: 690.0<br>Grade: 3.0<br>Strokes: 8"
          ],
          [
           "Kanji: 旧<br>Frekuensi: 549.0<br>Grade: 5.0<br>Strokes: 5"
          ],
          [
           "Kanji: 貿<br>Frekuensi: 652.0<br>Grade: 5.0<br>Strokes: 12"
          ],
          [
           "Kanji: 将<br>Frekuensi: 634.0<br>Grade: 6.0<br>Strokes: 10"
          ],
          [
           "Kanji: 盟<br>Frekuensi: 587.0<br>Grade: 6.0<br>Strokes: 13"
          ],
          [
           "Kanji: 遺<br>Frekuensi: 647.0<br>Grade: 6.0<br>Strokes: 15"
          ],
          [
           "Kanji: 伸<br>Frekuensi: 730.0<br>Grade: 8.0<br>Strokes: 7"
          ],
          [
           "Kanji: 債<br>Frekuensi: 728.0<br>Grade: 8.0<br>Strokes: 13"
          ],
          [
           "Kanji: 及<br>Frekuensi: 544.0<br>Grade: 8.0<br>Strokes: 3"
          ],
          [
           "Kanji: 奈<br>Frekuensi: 841.0<br>Grade: 8.0<br>Strokes: 8"
          ],
          [
           "Kanji: 幅<br>Frekuensi: 641.0<br>Grade: 8.0<br>Strokes: 12"
          ],
          [
           "Kanji: 廃<br>Frekuensi: 698.0<br>Grade: 8.0<br>Strokes: 12"
          ],
          [
           "Kanji: 換<br>Frekuensi: 687.0<br>Grade: 8.0<br>Strokes: 12"
          ],
          [
           "Kanji: 摘<br>Frekuensi: 564.0<br>Grade: 8.0<br>Strokes: 14"
          ],
          [
           "Kanji: 沖<br>Frekuensi: 929.0<br>Grade: 8.0<br>Strokes: 7"
          ],
          [
           "Kanji: 献<br>Frekuensi: 637.0<br>Grade: 8.0<br>Strokes: 13"
          ],
          [
           "Kanji: 療<br>Frekuensi: 600.0<br>Grade: 8.0<br>Strokes: 17"
          ],
          [
           "Kanji: 継<br>Frekuensi: 743.0<br>Grade: 8.0<br>Strokes: 13"
          ],
          [
           "Kanji: 維<br>Frekuensi: 643.0<br>Grade: 8.0<br>Strokes: 14"
          ],
          [
           "Kanji: 舞<br>Frekuensi: 655.0<br>Grade: 8.0<br>Strokes: 15"
          ],
          [
           "Kanji: 踏<br>Frekuensi: 723.0<br>Grade: 8.0<br>Strokes: 15"
          ],
          [
           "Kanji: 般<br>Frekuensi: 649.0<br>Grade: 8.0<br>Strokes: 10"
          ],
          [
           "Kanji: 頼<br>Frekuensi: 708.0<br>Grade: 8.0<br>Strokes: 16"
          ],
          [
           "Kanji: 依<br>Frekuensi: 906.0<br>Grade: 8.0<br>Strokes: 8"
          ],
          [
           "Kanji: 鹿<br>Frekuensi: 957.0<br>Grade: 8.0<br>Strokes: 11"
          ],
          [
           "Kanji: 昭<br>Frekuensi: 697.0<br>Grade: 3.0<br>Strokes: 9"
          ],
          [
           "Kanji: 償<br>Frekuensi: 854.0<br>Grade: 8.0<br>Strokes: 17"
          ],
          [
           "Kanji: 刑<br>Frekuensi: 864.0<br>Grade: 8.0<br>Strokes: 6"
          ],
          [
           "Kanji: 募<br>Frekuensi: 809.0<br>Grade: 8.0<br>Strokes: 12"
          ],
          [
           "Kanji: 執<br>Frekuensi: 800.0<br>Grade: 8.0<br>Strokes: 11"
          ],
          [
           "Kanji: 塁<br>Frekuensi: 651.0<br>Grade: 8.0<br>Strokes: 12"
          ],
          [
           "Kanji: 崩<br>Frekuensi: 778.0<br>Grade: 8.0<br>Strokes: 11"
          ],
          [
           "Kanji: 患<br>Frekuensi: 796.0<br>Grade: 8.0<br>Strokes: 11"
          ],
          [
           "Kanji: 戻<br>Frekuensi: 890.0<br>Grade: 8.0<br>Strokes: 7"
          ],
          [
           "Kanji: 抗<br>Frekuensi: 666.0<br>Grade: 8.0<br>Strokes: 7"
          ],
          [
           "Kanji: 湾<br>Frekuensi: 545.0<br>Grade: 8.0<br>Strokes: 12"
          ],
          [
           "Kanji: 爆<br>Frekuensi: 735.0<br>Grade: 8.0<br>Strokes: 19"
          ],
          [
           "Kanji: 弾<br>Frekuensi: 853.0<br>Grade: 8.0<br>Strokes: 12"
          ],
          [
           "Kanji: 聴<br>Frekuensi: 781.0<br>Grade: 8.0<br>Strokes: 17"
          ],
          [
           "Kanji: 跡<br>Frekuensi: 953.0<br>Grade: 8.0<br>Strokes: 13"
          ],
          [
           "Kanji: 遣<br>Frekuensi: 664.0<br>Grade: 8.0<br>Strokes: 13"
          ],
          [
           "Kanji: 闘<br>Frekuensi: 751.0<br>Grade: 8.0<br>Strokes: 18"
          ],
          [
           "Kanji: 陣<br>Frekuensi: 828.0<br>Grade: 8.0<br>Strokes: 10"
          ],
          [
           "Kanji: 香<br>Frekuensi: 859.0<br>Grade: 8.0<br>Strokes: 9"
          ],
          [
           "Kanji: 臨<br>Frekuensi: 722.0<br>Grade: 6.0<br>Strokes: 18"
          ],
          [
           "Kanji: 削<br>Frekuensi: 814.0<br>Grade: 8.0<br>Strokes: 9"
          ],
          [
           "Kanji: 契<br>Frekuensi: 898.0<br>Grade: 8.0<br>Strokes: 9"
          ],
          [
           "Kanji: 恵<br>Frekuensi: 925.0<br>Grade: 8.0<br>Strokes: 10"
          ],
          [
           "Kanji: 抱<br>Frekuensi: 871.0<br>Grade: 8.0<br>Strokes: 8"
          ],
          [
           "Kanji: 掲<br>Frekuensi: 899.0<br>Grade: 8.0<br>Strokes: 11"
          ],
          [
           "Kanji: 葬<br>Frekuensi: 754.0<br>Grade: 8.0<br>Strokes: 12"
          ],
          [
           "Kanji: 需<br>Frekuensi: 935.0<br>Grade: 8.0<br>Strokes: 14"
          ],
          [
           "Kanji: 齢<br>Frekuensi: 770.0<br>Grade: 8.0<br>Strokes: 17"
          ],
          [
           "Kanji: 繰<br>Frekuensi: 872.0<br>Grade: 8.0<br>Strokes: 19"
          ],
          [
           "Kanji: 避<br>Frekuensi: 756.0<br>Grade: 8.0<br>Strokes: 16"
          ],
          [
           "Kanji: 致<br>Frekuensi: 870.0<br>Grade: 8.0<br>Strokes: 10"
          ],
          [
           "Kanji: 刊<br>Frekuensi: 855.0<br>Grade: 5.0<br>Strokes: 5"
          ],
          [
           "Kanji: 伴<br>Frekuensi: 886.0<br>Grade: 8.0<br>Strokes: 7"
          ],
          [
           "Kanji: 併<br>Frekuensi: 966.0<br>Grade: 8.0<br>Strokes: 8"
          ],
          [
           "Kanji: 傾<br>Frekuensi: 938.0<br>Grade: 8.0<br>Strokes: 13"
          ],
          [
           "Kanji: 却<br>Frekuensi: 959.0<br>Grade: 8.0<br>Strokes: 7"
          ],
          [
           "Kanji: 慮<br>Frekuensi: 916.0<br>Grade: 8.0<br>Strokes: 15"
          ],
          [
           "Kanji: 懸<br>Frekuensi: 889.0<br>Grade: 8.0<br>Strokes: 20"
          ],
          [
           "Kanji: 房<br>Frekuensi: 808.0<br>Grade: 8.0<br>Strokes: 8"
          ],
          [
           "Kanji: 抑<br>Frekuensi: 834.0<br>Grade: 8.0<br>Strokes: 7"
          ],
          [
           "Kanji: 択<br>Frekuensi: 847.0<br>Grade: 8.0<br>Strokes: 7"
          ],
          [
           "Kanji: 描<br>Frekuensi: 876.0<br>Grade: 8.0<br>Strokes: 11"
          ],
          [
           "Kanji: 盤<br>Frekuensi: 881.0<br>Grade: 8.0<br>Strokes: 15"
          ],
          [
           "Kanji: 称<br>Frekuensi: 985.0<br>Grade: 8.0<br>Strokes: 10"
          ],
          [
           "Kanji: 緒<br>Frekuensi: 952.0<br>Grade: 8.0<br>Strokes: 14"
          ],
          [
           "Kanji: 緩<br>Frekuensi: 933.0<br>Grade: 8.0<br>Strokes: 15"
          ],
          [
           "Kanji: 逃<br>Frekuensi: 931.0<br>Grade: 8.0<br>Strokes: 9"
          ],
          [
           "Kanji: 還<br>Frekuensi: 910.0<br>Grade: 8.0<br>Strokes: 16"
          ],
          [
           "Kanji: 超<br>Frekuensi: 597.0<br>Grade: 8.0<br>Strokes: 12"
          ],
          [
           "Kanji: 邦<br>Frekuensi: 654.0<br>Grade: 8.0<br>Strokes: 7"
          ],
          [
           "Kanji: 鈴<br>Frekuensi: 880.0<br>Grade: 8.0<br>Strokes: 13"
          ],
          [
           "Kanji: 雇<br>Frekuensi: 975.0<br>Grade: 8.0<br>Strokes: 12"
          ],
          [
           "Kanji: 控<br>Frekuensi: 1000.0<br>Grade: 8.0<br>Strokes: 11"
          ],
          [
           "Kanji: 充<br>Frekuensi: 949.0<br>Grade: 8.0<br>Strokes: 6"
          ],
          [
           "Kanji: 奪<br>Frekuensi: 974.0<br>Grade: 8.0<br>Strokes: 14"
          ],
          [
           "Kanji: 慎<br>Frekuensi: 999.0<br>Grade: 8.0<br>Strokes: 13"
          ],
          [
           "Kanji: 拒<br>Frekuensi: 863.0<br>Grade: 8.0<br>Strokes: 8"
          ],
          [
           "Kanji: 枠<br>Frekuensi: 922.0<br>Grade: 8.0<br>Strokes: 8"
          ],
          [
           "Kanji: 譲<br>Frekuensi: 984.0<br>Grade: 8.0<br>Strokes: 20"
          ],
          [
           "Kanji: 躍<br>Frekuensi: 900.0<br>Grade: 8.0<br>Strokes: 21"
          ],
          [
           "Kanji: 項<br>Frekuensi: 884.0<br>Grade: 8.0<br>Strokes: 12"
          ],
          [
           "Kanji: 駐<br>Frekuensi: 955.0<br>Grade: 8.0<br>Strokes: 15"
          ],
          [
           "Kanji: 獲<br>Frekuensi: 964.0<br>Grade: 8.0<br>Strokes: 16"
          ],
          [
           "Kanji: 衝<br>Frekuensi: 972.0<br>Grade: 8.0<br>Strokes: 15"
          ],
          [
           "Kanji: 徹<br>Frekuensi: 968.0<br>Grade: 8.0<br>Strokes: 15"
          ],
          [
           "Kanji: 撤<br>Frekuensi: 811.0<br>Grade: 8.0<br>Strokes: 15"
          ],
          [
           "Kanji: 措<br>Frekuensi: 818.0<br>Grade: 8.0<br>Strokes: 11"
          ],
          [
           "Kanji: 拠<br>Frekuensi: 858.0<br>Grade: 8.0<br>Strokes: 8"
          ],
          [
           "Kanji: 儀<br>Frekuensi: 739.0<br>Grade: 8.0<br>Strokes: 15"
          ],
          [
           "Kanji: 樹<br>Frekuensi: 988.0<br>Grade: 6.0<br>Strokes: 16"
          ],
          [
           "Kanji: 棄<br>Frekuensi: 901.0<br>Grade: 8.0<br>Strokes: 13"
          ],
          [
           "Kanji: 包<br>Frekuensi: 954.0<br>Grade: 4.0<br>Strokes: 5"
          ],
          [
           "Kanji: 至<br>Frekuensi: 996.0<br>Grade: 6.0<br>Strokes: 6"
          ],
          [
           "Kanji: 喪<br>Frekuensi: 885.0<br>Grade: 8.0<br>Strokes: 12"
          ],
          [
           "Kanji: 挑<br>Frekuensi: 989.0<br>Grade: 8.0<br>Strokes: 9"
          ],
          [
           "Kanji: 析<br>Frekuensi: 980.0<br>Grade: 8.0<br>Strokes: 8"
          ],
          [
           "Kanji: 焦<br>Frekuensi: 973.0<br>Grade: 8.0<br>Strokes: 12"
          ],
          [
           "Kanji: 紛<br>Frekuensi: 994.0<br>Grade: 8.0<br>Strokes: 10"
          ],
          [
           "Kanji: 貢<br>Frekuensi: 956.0<br>Grade: 8.0<br>Strokes: 10"
          ],
          [
           "Kanji: 籍<br>Frekuensi: 907.0<br>Grade: 8.0<br>Strokes: 20"
          ],
          [
           "Kanji: 露<br>Frekuensi: 928.0<br>Grade: 8.0<br>Strokes: 21"
          ],
          [
           "Kanji: 吉<br>Frekuensi: 711.0<br>Grade: 8.0<br>Strokes: 6"
          ],
          [
           "Kanji: 伊<br>Frekuensi: 703.0<br>Grade: 9.0<br>Strokes: 6"
          ],
          [
           "Kanji: 邸<br>Frekuensi: 905.0<br>Grade: 8.0<br>Strokes: 8"
          ],
          [
           "Kanji: 郡<br>Frekuensi: 965.0<br>Grade: 4.0<br>Strokes: 10"
          ],
          [
           "Kanji: 浦<br>Frekuensi: 977.0<br>Grade: 8.0<br>Strokes: 10"
          ],
          [
           "Kanji: 塚<br>Frekuensi: 869.0<br>Grade: 8.0<br>Strokes: 12"
          ]
         ],
         "hovertemplate": "%{customdata}",
         "legendgroup": "hijau frekuensi 500 - 1000",
         "marker": {
          "color": "#00cc96",
          "symbol": "circle"
         },
         "mode": "markers",
         "name": "hijau frekuensi 500 - 1000",
         "scene": "scene",
         "showlegend": true,
         "type": "scatter3d",
         "x": [
          1,
          8,
          2,
          1,
          1,
          1,
          1,
          1,
          1,
          5,
          2,
          2,
          2,
          2,
          2,
          2,
          3,
          3,
          3,
          1,
          1,
          1,
          1,
          2,
          2,
          2,
          2,
          2,
          2,
          2,
          2,
          2,
          1,
          1,
          1,
          1,
          3,
          3,
          2,
          2,
          2,
          2,
          4,
          4,
          4,
          2,
          2,
          2,
          2,
          2,
          2,
          3,
          2,
          1,
          2,
          2,
          3,
          3,
          3,
          3,
          3,
          3,
          3,
          3,
          3,
          3,
          3,
          2,
          2,
          2,
          4,
          4,
          4,
          3,
          3,
          3,
          3,
          4,
          4,
          4,
          4,
          4,
          3,
          3,
          3,
          3,
          3,
          3,
          3,
          3,
          3,
          3,
          3,
          3,
          6,
          2,
          3,
          3,
          3,
          3,
          3,
          3,
          4,
          4,
          4,
          4,
          4,
          4,
          4,
          4,
          4,
          5,
          4,
          4,
          4,
          4,
          4,
          4,
          4,
          4,
          4,
          4,
          4,
          6,
          2,
          2,
          2,
          2,
          2,
          3,
          3,
          4,
          4,
          4,
          5,
          5,
          2,
          2,
          2,
          3,
          4,
          4,
          4,
          5,
          5,
          5,
          6,
          6,
          6,
          2,
          3,
          4,
          4,
          4,
          5,
          4,
          4,
          6,
          4,
          4,
          3,
          4,
          4,
          6,
          5,
          6,
          4,
          5,
          4,
          4,
          5,
          5,
          4,
          6,
          5,
          5,
          6,
          4,
          6,
          6,
          8,
          5,
          4,
          5,
          8,
          8,
          5,
          5,
          8,
          5,
          5,
          5,
          5,
          4,
          5,
          6,
          5,
          4,
          8,
          6,
          4,
          8,
          6,
          5,
          5,
          6,
          8,
          5,
          6,
          8,
          8,
          6,
          6,
          4,
          8,
          8,
          8,
          8,
          4,
          6,
          8,
          5,
          5,
          5,
          4,
          6,
          8,
          8,
          5,
          5,
          4,
          6,
          5,
          6,
          6,
          6,
          6,
          6,
          6,
          6,
          8,
          8,
          5,
          8,
          5,
          8,
          5,
          6,
          5,
          5,
          5,
          8,
          8,
          6,
          8,
          8,
          8,
          8,
          8,
          4,
          4,
          8,
          4,
          5,
          8,
          3,
          4,
          4,
          6,
          4,
          4,
          4,
          4,
          5,
          5,
          5,
          5,
          5,
          5,
          5,
          6,
          6,
          8,
          8,
          8,
          8,
          8,
          8,
          8,
          8,
          8,
          4,
          8,
          5,
          4,
          5,
          3,
          4,
          6,
          8,
          8,
          6,
          8,
          3,
          5,
          5,
          5,
          6,
          8,
          8,
          8,
          8,
          8,
          6,
          8,
          5,
          8,
          6,
          4,
          4,
          4,
          4,
          4,
          5,
          5,
          5,
          6,
          8,
          5,
          5,
          5,
          5,
          5,
          5,
          5,
          5,
          6,
          6,
          8,
          6,
          8,
          6,
          6,
          6,
          6,
          6,
          6,
          6,
          6,
          6,
          6,
          6,
          6,
          6,
          6,
          6,
          6,
          6,
          6,
          6,
          6,
          6,
          6,
          6,
          6,
          6,
          6,
          6,
          6,
          6,
          6,
          6,
          5,
          5,
          6,
          8,
          5,
          5,
          5,
          8,
          8,
          8,
          8,
          8,
          8,
          3,
          5,
          5,
          6,
          6,
          6,
          8,
          8,
          8,
          8,
          8,
          8,
          8,
          8,
          8,
          8,
          8,
          8,
          8,
          8,
          8,
          8,
          8,
          8,
          8,
          3,
          8,
          8,
          8,
          8,
          8,
          8,
          8,
          8,
          8,
          8,
          8,
          8,
          8,
          8,
          8,
          8,
          8,
          8,
          6,
          8,
          8,
          8,
          8,
          8,
          8,
          8,
          8,
          8,
          8,
          8,
          5,
          8,
          8,
          8,
          8,
          8,
          8,
          8,
          8,
          8,
          8,
          8,
          8,
          8,
          8,
          8,
          8,
          8,
          8,
          8,
          8,
          8,
          8,
          8,
          8,
          8,
          8,
          8,
          8,
          8,
          8,
          8,
          8,
          8,
          8,
          8,
          8,
          8,
          6,
          8,
          4,
          6,
          8,
          8,
          8,
          8,
          8,
          8,
          8,
          8,
          8,
          9,
          8,
          4,
          8,
          8
         ],
         "y": [
          3,
          2,
          3,
          4,
          4,
          4,
          5,
          5,
          5,
          3,
          4,
          4,
          4,
          4,
          5,
          5,
          5,
          5,
          5,
          6,
          6,
          7,
          7,
          6,
          6,
          6,
          6,
          6,
          7,
          7,
          7,
          7,
          8,
          8,
          8,
          9,
          6,
          6,
          8,
          9,
          9,
          9,
          4,
          5,
          5,
          10,
          10,
          10,
          11,
          11,
          11,
          7,
          10,
          12,
          12,
          12,
          8,
          8,
          8,
          9,
          9,
          10,
          11,
          12,
          12,
          13,
          13,
          14,
          14,
          18,
          6,
          6,
          7,
          8,
          8,
          9,
          9,
          20,
          7,
          5,
          9,
          5,
          10,
          10,
          10,
          10,
          10,
          11,
          11,
          12,
          12,
          12,
          12,
          12,
          3,
          9,
          7,
          11,
          16,
          14,
          16,
          14,
          15,
          15,
          3,
          15,
          10,
          15,
          15,
          19,
          15,
          14,
          8,
          8,
          7,
          8,
          8,
          7,
          7,
          7,
          7,
          7,
          7,
          10,
          6,
          8,
          10,
          9,
          9,
          6,
          7,
          9,
          5,
          9,
          4,
          16,
          13,
          18,
          13,
          8,
          12,
          10,
          13,
          5,
          10,
          11,
          6,
          6,
          9,
          11,
          16,
          7,
          11,
          9,
          6,
          8,
          13,
          13,
          12,
          18,
          12,
          10,
          12,
          10,
          11,
          8,
          14,
          13,
          13,
          12,
          5,
          8,
          14,
          6,
          15,
          11,
          7,
          10,
          12,
          7,
          12,
          7,
          9,
          7,
          15,
          7,
          5,
          13,
          10,
          9,
          8,
          5,
          13,
          5,
          10,
          7,
          11,
          9,
          11,
          10,
          11,
          11,
          9,
          10,
          9,
          9,
          7,
          16,
          8,
          13,
          13,
          14,
          5,
          14,
          11,
          20,
          7,
          11,
          10,
          14,
          10,
          8,
          12,
          13,
          12,
          9,
          10,
          12,
          8,
          11,
          6,
          12,
          9,
          14,
          10,
          7,
          16,
          10,
          11,
          10,
          14,
          8,
          8,
          10,
          11,
          5,
          8,
          12,
          18,
          12,
          9,
          12,
          14,
          12,
          8,
          15,
          8,
          14,
          10,
          11,
          11,
          9,
          12,
          9,
          5,
          10,
          7,
          7,
          5,
          12,
          11,
          16,
          12,
          10,
          8,
          11,
          10,
          12,
          14,
          12,
          8,
          16,
          10,
          7,
          13,
          9,
          6,
          15,
          12,
          16,
          14,
          16,
          13,
          11,
          10,
          11,
          8,
          12,
          8,
          15,
          10,
          7,
          11,
          12,
          8,
          14,
          13,
          8,
          8,
          7,
          10,
          17,
          12,
          9,
          19,
          15,
          12,
          10,
          10,
          11,
          12,
          11,
          11,
          7,
          7,
          12,
          11,
          7,
          7,
          11,
          5,
          17,
          16,
          14,
          14,
          15,
          13,
          17,
          5,
          11,
          6,
          11,
          10,
          9,
          18,
          11,
          14,
          7,
          12,
          9,
          8,
          14,
          11,
          9,
          11,
          10,
          11,
          12,
          13,
          15,
          13,
          19,
          12,
          10,
          17,
          10,
          13,
          11,
          12,
          13,
          15,
          12,
          8,
          13,
          8,
          12,
          12,
          10,
          17,
          11,
          4,
          4,
          8,
          9,
          5,
          8,
          5,
          12,
          10,
          13,
          15,
          7,
          13,
          3,
          8,
          12,
          12,
          12,
          14,
          7,
          13,
          17,
          13,
          14,
          15,
          15,
          10,
          16,
          8,
          11,
          9,
          17,
          6,
          12,
          11,
          12,
          11,
          11,
          7,
          7,
          12,
          19,
          12,
          17,
          13,
          13,
          18,
          10,
          9,
          18,
          9,
          9,
          10,
          8,
          11,
          12,
          14,
          17,
          19,
          16,
          10,
          5,
          7,
          8,
          13,
          7,
          15,
          20,
          8,
          7,
          7,
          11,
          15,
          10,
          14,
          15,
          9,
          16,
          12,
          7,
          13,
          12,
          11,
          6,
          14,
          13,
          8,
          8,
          20,
          21,
          12,
          15,
          16,
          15,
          15,
          15,
          11,
          8,
          15,
          16,
          13,
          5,
          6,
          12,
          9,
          8,
          12,
          10,
          10,
          20,
          21,
          6,
          6,
          8,
          10,
          10,
          12
         ],
         "z": [
          924,
          792,
          542,
          512,
          574,
          684,
          602,
          630,
          737,
          688,
          622,
          552,
          575,
          646,
          509,
          570,
          543,
          585,
          582,
          642,
          593,
          578,
          584,
          527,
          827,
          748,
          986,
          621,
          539,
          805,
          508,
          626,
          656,
          950,
          589,
          967,
          810,
          832,
          554,
          550,
          844,
          531,
          860,
          921,
          650,
          659,
          958,
          559,
          713,
          540,
          573,
          947,
          639,
          609,
          895,
          520,
          629,
          873,
          623,
          557,
          616,
          576,
          706,
          790,
          969,
          529,
          672,
          519,
          618,
          676,
          919,
          803,
          749,
          556,
          740,
          763,
          785,
          610,
          501,
          857,
          729,
          804,
          816,
          882,
          783,
          620,
          714,
          990,
          530,
          513,
          699,
          838,
          566,
          689,
          661,
          558,
          685,
          701,
          553,
          788,
          613,
          724,
          716,
          525,
          526,
          686,
          581,
          700,
          693,
          894,
          888,
          856,
          772,
          562,
          771,
          750,
          842,
          595,
          896,
          962,
          565,
          918,
          719,
          936,
          879,
          787,
          504,
          579,
          635,
          927,
          865,
          586,
          759,
          780,
          819,
          821,
          628,
          940,
          887,
          786,
          769,
          913,
          633,
          619,
          731,
          707,
          606,
          577,
          506,
          537,
          702,
          522,
          516,
          920,
          636,
          867,
          640,
          725,
          710,
          678,
          798,
          932,
          982,
          588,
          720,
          911,
          764,
          681,
          934,
          779,
          877,
          571,
          632,
          883,
          692,
          824,
          755,
          817,
          765,
          843,
          806,
          976,
          580,
          680,
          893,
          875,
          718,
          943,
          791,
          768,
          691,
          874,
          732,
          511,
          660,
          568,
          598,
          548,
          782,
          518,
          733,
          533,
          992,
          563,
          753,
          795,
          848,
          948,
          939,
          904,
          825,
          801,
          793,
          517,
          627,
          502,
          726,
          766,
          510,
          668,
          604,
          538,
          912,
          762,
          515,
          944,
          592,
          979,
          836,
          535,
          682,
          741,
          612,
          742,
          601,
          829,
          560,
          528,
          917,
          505,
          850,
          521,
          663,
          614,
          523,
          694,
          840,
          903,
          608,
          995,
          942,
          777,
          993,
          624,
          826,
          797,
          773,
          960,
          717,
          572,
          760,
          569,
          615,
          683,
          892,
          852,
          679,
          667,
          547,
          794,
          705,
          546,
          605,
          603,
          583,
          671,
          674,
          514,
          752,
          784,
          599,
          551,
          645,
          532,
          536,
          998,
          704,
          524,
          669,
          727,
          709,
          541,
          534,
          774,
          665,
          673,
          926,
          891,
          997,
          677,
          878,
          567,
          767,
          941,
          802,
          670,
          981,
          747,
          789,
          861,
          776,
          945,
          897,
          696,
          555,
          591,
          757,
          594,
          746,
          799,
          758,
          822,
          736,
          923,
          715,
          644,
          930,
          625,
          823,
          607,
          846,
          820,
          734,
          915,
          839,
          868,
          845,
          638,
          675,
          815,
          908,
          902,
          862,
          837,
          983,
          951,
          851,
          561,
          744,
          695,
          611,
          978,
          631,
          721,
          712,
          987,
          849,
          657,
          812,
          658,
          961,
          991,
          970,
          596,
          909,
          937,
          835,
          507,
          946,
          738,
          662,
          830,
          775,
          807,
          866,
          833,
          761,
          590,
          653,
          963,
          617,
          914,
          648,
          831,
          813,
          690,
          549,
          652,
          634,
          587,
          647,
          730,
          728,
          544,
          841,
          641,
          698,
          687,
          564,
          929,
          637,
          600,
          743,
          643,
          655,
          723,
          649,
          708,
          906,
          957,
          697,
          854,
          864,
          809,
          800,
          651,
          778,
          796,
          890,
          666,
          545,
          735,
          853,
          781,
          953,
          664,
          751,
          828,
          859,
          722,
          814,
          898,
          925,
          871,
          899,
          754,
          935,
          770,
          872,
          756,
          870,
          855,
          886,
          966,
          938,
          959,
          916,
          889,
          808,
          834,
          847,
          876,
          881,
          985,
          952,
          933,
          931,
          910,
          597,
          654,
          880,
          975,
          1000,
          949,
          974,
          999,
          863,
          922,
          984,
          900,
          884,
          955,
          964,
          972,
          968,
          811,
          818,
          858,
          739,
          988,
          901,
          954,
          996,
          885,
          989,
          980,
          973,
          994,
          956,
          907,
          928,
          711,
          703,
          905,
          965,
          977,
          869
         ]
        },
        {
         "customdata": [
          [
           "Kanji: 汽<br>Frekuensi: 2020.0<br>Grade: 2.0<br>Strokes: 7"
          ],
          [
           "Kanji: 綺<br>Frekuensi: 2413.0<br>Grade: 9.0<br>Strokes: 14"
          ],
          [
           "Kanji: 隷<br>Frekuensi: 2009.0<br>Grade: 8.0<br>Strokes: 16"
          ],
          [
           "Kanji: 芋<br>Frekuensi: 2418.0<br>Grade: 8.0<br>Strokes: 6"
          ],
          [
           "Kanji: 厄<br>Frekuensi: 2123.0<br>Grade: 8.0<br>Strokes: 4"
          ],
          [
           "Kanji: 斐<br>Frekuensi: 2103.0<br>Grade: 9.0<br>Strokes: 12"
          ],
          [
           "Kanji: 褒<br>Frekuensi: 2073.0<br>Grade: 8.0<br>Strokes: 15"
          ],
          [
           "Kanji: 伺<br>Frekuensi: 2209.0<br>Grade: 8.0<br>Strokes: 7"
          ],
          [
           "Kanji: 蛍<br>Frekuensi: 2031.0<br>Grade: 8.0<br>Strokes: 11"
          ],
          [
           "Kanji: 弧<br>Frekuensi: 2371.0<br>Grade: 8.0<br>Strokes: 9"
          ],
          [
           "Kanji: 嬢<br>Frekuensi: 2059.0<br>Grade: 8.0<br>Strokes: 16"
          ],
          [
           "Kanji: 瞳<br>Frekuensi: 2069.0<br>Grade: 8.0<br>Strokes: 17"
          ],
          [
           "Kanji: 租<br>Frekuensi: 2089.0<br>Grade: 8.0<br>Strokes: 10"
          ],
          [
           "Kanji: 錬<br>Frekuensi: 2221.0<br>Grade: 8.0<br>Strokes: 16"
          ],
          [
           "Kanji: 婆<br>Frekuensi: 2435.0<br>Grade: 8.0<br>Strokes: 11"
          ],
          [
           "Kanji: 滴<br>Frekuensi: 2019.0<br>Grade: 8.0<br>Strokes: 14"
          ],
          [
           "Kanji: 爽<br>Frekuensi: 2333.0<br>Grade: 8.0<br>Strokes: 11"
          ],
          [
           "Kanji: 虹<br>Frekuensi: 2110.0<br>Grade: 8.0<br>Strokes: 9"
          ],
          [
           "Kanji: 蚊<br>Frekuensi: 2121.0<br>Grade: 8.0<br>Strokes: 10"
          ],
          [
           "Kanji: 霜<br>Frekuensi: 2151.0<br>Grade: 8.0<br>Strokes: 17"
          ],
          [
           "Kanji: 孔<br>Frekuensi: 2052.0<br>Grade: 8.0<br>Strokes: 4"
          ],
          [
           "Kanji: 襟<br>Frekuensi: 2030.0<br>Grade: 8.0<br>Strokes: 18"
          ],
          [
           "Kanji: 呂<br>Frekuensi: 2055.0<br>Grade: 8.0<br>Strokes: 7"
          ],
          [
           "Kanji: 惰<br>Frekuensi: 2336.0<br>Grade: 8.0<br>Strokes: 12"
          ],
          [
           "Kanji: 隼<br>Frekuensi: 2224.0<br>Grade: 9.0<br>Strokes: 10"
          ],
          [
           "Kanji: 鯉<br>Frekuensi: 2369.0<br>Grade: 9.0<br>Strokes: 18"
          ],
          [
           "Kanji: 緋<br>Frekuensi: 2443.0<br>Grade: 9.0<br>Strokes: 14"
          ],
          [
           "Kanji: 帥<br>Frekuensi: 2016.0<br>Grade: 8.0<br>Strokes: 9"
          ],
          [
           "Kanji: 葵<br>Frekuensi: 2122.0<br>Grade: 9.0<br>Strokes: 12"
          ],
          [
           "Kanji: 茎<br>Frekuensi: 2013.0<br>Grade: 8.0<br>Strokes: 8"
          ],
          [
           "Kanji: 杏<br>Frekuensi: 2159.0<br>Grade: 9.0<br>Strokes: 7"
          ],
          [
           "Kanji: 茜<br>Frekuensi: 2422.0<br>Grade: 9.0<br>Strokes: 9"
          ],
          [
           "Kanji: 抹<br>Frekuensi: 2006.0<br>Grade: 8.0<br>Strokes: 8"
          ],
          [
           "Kanji: 栓<br>Frekuensi: 2199.0<br>Grade: 8.0<br>Strokes: 10"
          ],
          [
           "Kanji: 遼<br>Frekuensi: 2050.0<br>Grade: 9.0<br>Strokes: 15"
          ],
          [
           "Kanji: 瑛<br>Frekuensi: 2393.0<br>Grade: 9.0<br>Strokes: 12"
          ],
          [
           "Kanji: 庸<br>Frekuensi: 2038.0<br>Grade: 8.0<br>Strokes: 11"
          ],
          [
           "Kanji: 搾<br>Frekuensi: 2046.0<br>Grade: 8.0<br>Strokes: 13"
          ],
          [
           "Kanji: 蝶<br>Frekuensi: 2011.0<br>Grade: 9.0<br>Strokes: 15"
          ],
          [
           "Kanji: 尉<br>Frekuensi: 2007.0<br>Grade: 8.0<br>Strokes: 11"
          ],
          [
           "Kanji: 遥<br>Frekuensi: 2376.0<br>Grade: 9.0<br>Strokes: 12"
          ],
          [
           "Kanji: 賊<br>Frekuensi: 2045.0<br>Grade: 8.0<br>Strokes: 13"
          ],
          [
           "Kanji: 堕<br>Frekuensi: 2087.0<br>Grade: 8.0<br>Strokes: 12"
          ],
          [
           "Kanji: 凸<br>Frekuensi: 2143.0<br>Grade: 8.0<br>Strokes: 5"
          ],
          [
           "Kanji: 凹<br>Frekuensi: 2206.0<br>Grade: 8.0<br>Strokes: 5"
          ],
          [
           "Kanji: 蒼<br>Frekuensi: 2276.0<br>Grade: 9.0<br>Strokes: 13"
          ],
          [
           "Kanji: 瑠<br>Frekuensi: 2352.0<br>Grade: 8.0<br>Strokes: 14"
          ],
          [
           "Kanji: 萌<br>Frekuensi: 2346.0<br>Grade: 9.0<br>Strokes: 11"
          ],
          [
           "Kanji: 酌<br>Frekuensi: 2271.0<br>Grade: 8.0<br>Strokes: 10"
          ],
          [
           "Kanji: 凌<br>Frekuensi: 2423.0<br>Grade: 9.0<br>Strokes: 10"
          ],
          [
           "Kanji: 卑<br>Frekuensi: 2003.0<br>Grade: 8.0<br>Strokes: 9"
          ],
          [
           "Kanji: 侮<br>Frekuensi: 2004.0<br>Grade: 8.0<br>Strokes: 8"
          ],
          [
           "Kanji: 鋳<br>Frekuensi: 2005.0<br>Grade: 8.0<br>Strokes: 15"
          ],
          [
           "Kanji: 禍<br>Frekuensi: 2010.0<br>Grade: 8.0<br>Strokes: 13"
          ],
          [
           "Kanji: 酪<br>Frekuensi: 2012.0<br>Grade: 8.0<br>Strokes: 13"
          ],
          [
           "Kanji: 憧<br>Frekuensi: 2259.0<br>Grade: 8.0<br>Strokes: 15"
          ],
          [
           "Kanji: 梓<br>Frekuensi: 2301.0<br>Grade: 9.0<br>Strokes: 11"
          ],
          [
           "Kanji: 逝<br>Frekuensi: 2018.0<br>Grade: 8.0<br>Strokes: 10"
          ],
          [
           "Kanji: 匿<br>Frekuensi: 2024.0<br>Grade: 8.0<br>Strokes: 10"
          ],
          [
           "Kanji: 寡<br>Frekuensi: 2035.0<br>Grade: 8.0<br>Strokes: 14"
          ],
          [
           "Kanji: 痢<br>Frekuensi: 2037.0<br>Grade: 8.0<br>Strokes: 12"
          ],
          [
           "Kanji: 坑<br>Frekuensi: 2040.0<br>Grade: 8.0<br>Strokes: 7"
          ],
          [
           "Kanji: 藍<br>Frekuensi: 2043.0<br>Grade: 8.0<br>Strokes: 18"
          ],
          [
           "Kanji: 畔<br>Frekuensi: 2049.0<br>Grade: 8.0<br>Strokes: 10"
          ],
          [
           "Kanji: 唄<br>Frekuensi: 2051.0<br>Grade: 8.0<br>Strokes: 10"
          ],
          [
           "Kanji: 拷<br>Frekuensi: 2057.0<br>Grade: 8.0<br>Strokes: 9"
          ],
          [
           "Kanji: 渓<br>Frekuensi: 2063.0<br>Grade: 8.0<br>Strokes: 11"
          ],
          [
           "Kanji: 廉<br>Frekuensi: 2066.0<br>Grade: 8.0<br>Strokes: 13"
          ],
          [
           "Kanji: 謹<br>Frekuensi: 2068.0<br>Grade: 8.0<br>Strokes: 17"
          ],
          [
           "Kanji: 湧<br>Frekuensi: 2070.0<br>Grade: 8.0<br>Strokes: 12"
          ],
          [
           "Kanji: 醜<br>Frekuensi: 2074.0<br>Grade: 8.0<br>Strokes: 17"
          ],
          [
           "Kanji: 升<br>Frekuensi: 2077.0<br>Grade: 8.0<br>Strokes: 4"
          ],
          [
           "Kanji: 殉<br>Frekuensi: 2080.0<br>Grade: 8.0<br>Strokes: 10"
          ],
          [
           "Kanji: 煩<br>Frekuensi: 2081.0<br>Grade: 8.0<br>Strokes: 13"
          ],
          [
           "Kanji: 劾<br>Frekuensi: 2085.0<br>Grade: 8.0<br>Strokes: 8"
          ],
          [
           "Kanji: 桟<br>Frekuensi: 2093.0<br>Grade: 8.0<br>Strokes: 10"
          ],
          [
           "Kanji: 婿<br>Frekuensi: 2099.0<br>Grade: 8.0<br>Strokes: 12"
          ],
          [
           "Kanji: 慕<br>Frekuensi: 2100.0<br>Grade: 8.0<br>Strokes: 14"
          ],
          [
           "Kanji: 罷<br>Frekuensi: 2104.0<br>Grade: 8.0<br>Strokes: 15"
          ],
          [
           "Kanji: 矯<br>Frekuensi: 2105.0<br>Grade: 8.0<br>Strokes: 17"
          ],
          [
           "Kanji: 某<br>Frekuensi: 2106.0<br>Grade: 8.0<br>Strokes: 9"
          ],
          [
           "Kanji: 囚<br>Frekuensi: 2107.0<br>Grade: 8.0<br>Strokes: 5"
          ],
          [
           "Kanji: 泌<br>Frekuensi: 2112.0<br>Grade: 8.0<br>Strokes: 8"
          ],
          [
           "Kanji: 漸<br>Frekuensi: 2115.0<br>Grade: 8.0<br>Strokes: 14"
          ],
          [
           "Kanji: 藻<br>Frekuensi: 2124.0<br>Grade: 8.0<br>Strokes: 19"
          ],
          [
           "Kanji: 妄<br>Frekuensi: 2264.0<br>Grade: 8.0<br>Strokes: 6"
          ],
          [
           "Kanji: 蛮<br>Frekuensi: 2339.0<br>Grade: 8.0<br>Strokes: 12"
          ],
          [
           "Kanji: 倹<br>Frekuensi: 2479.0<br>Grade: 8.0<br>Strokes: 10"
          ]
         ],
         "hovertemplate": "%{customdata}",
         "legendgroup": "ungu frekuensi 2000 - 2500",
         "marker": {
          "color": "#ab63fa",
          "symbol": "circle"
         },
         "mode": "markers",
         "name": "ungu frekuensi 2000 - 2500",
         "scene": "scene",
         "showlegend": true,
         "type": "scatter3d",
         "x": [
          2,
          9,
          8,
          8,
          8,
          9,
          8,
          8,
          8,
          8,
          8,
          8,
          8,
          8,
          8,
          8,
          8,
          8,
          8,
          8,
          8,
          8,
          8,
          8,
          9,
          9,
          9,
          8,
          9,
          8,
          9,
          9,
          8,
          8,
          9,
          9,
          8,
          8,
          9,
          8,
          9,
          8,
          8,
          8,
          8,
          9,
          8,
          9,
          8,
          9,
          8,
          8,
          8,
          8,
          8,
          8,
          9,
          8,
          8,
          8,
          8,
          8,
          8,
          8,
          8,
          8,
          8,
          8,
          8,
          8,
          8,
          8,
          8,
          8,
          8,
          8,
          8,
          8,
          8,
          8,
          8,
          8,
          8,
          8,
          8,
          8,
          8,
          8
         ],
         "y": [
          7,
          14,
          16,
          6,
          4,
          12,
          15,
          7,
          11,
          9,
          16,
          17,
          10,
          16,
          11,
          14,
          11,
          9,
          10,
          17,
          4,
          18,
          7,
          12,
          10,
          18,
          14,
          9,
          12,
          8,
          7,
          9,
          8,
          10,
          15,
          12,
          11,
          13,
          15,
          11,
          12,
          13,
          12,
          5,
          5,
          13,
          14,
          11,
          10,
          10,
          9,
          8,
          15,
          13,
          13,
          15,
          11,
          10,
          10,
          14,
          12,
          7,
          18,
          10,
          10,
          9,
          11,
          13,
          17,
          12,
          17,
          4,
          10,
          13,
          8,
          10,
          12,
          14,
          15,
          17,
          9,
          5,
          8,
          14,
          19,
          6,
          12,
          10
         ],
         "z": [
          2020,
          2413,
          2009,
          2418,
          2123,
          2103,
          2073,
          2209,
          2031,
          2371,
          2059,
          2069,
          2089,
          2221,
          2435,
          2019,
          2333,
          2110,
          2121,
          2151,
          2052,
          2030,
          2055,
          2336,
          2224,
          2369,
          2443,
          2016,
          2122,
          2013,
          2159,
          2422,
          2006,
          2199,
          2050,
          2393,
          2038,
          2046,
          2011,
          2007,
          2376,
          2045,
          2087,
          2143,
          2206,
          2276,
          2352,
          2346,
          2271,
          2423,
          2003,
          2004,
          2005,
          2010,
          2012,
          2259,
          2301,
          2018,
          2024,
          2035,
          2037,
          2040,
          2043,
          2049,
          2051,
          2057,
          2063,
          2066,
          2068,
          2070,
          2074,
          2077,
          2080,
          2081,
          2085,
          2093,
          2099,
          2100,
          2104,
          2105,
          2106,
          2107,
          2112,
          2115,
          2124,
          2264,
          2339,
          2479
         ]
        }
       ],
       "layout": {
        "height": 800,
        "legend": {
         "title": {
          "text": "color"
         },
         "tracegroupgap": 0
        },
        "scene": {
         "domain": {
          "x": [
           0,
           1
          ],
          "y": [
           0,
           1
          ]
         },
         "xaxis": {
          "title": {
           "font": {
            "size": 16
           },
           "text": "Tingkat Kesulitan (Grade)"
          }
         },
         "yaxis": {
          "title": {
           "font": {
            "size": 16
           },
           "text": "Jumlah Goresan"
          }
         },
         "zaxis": {
          "title": {
           "font": {
            "size": 16
           },
           "text": "Frekuensi Penggunaan"
          }
         }
        },
        "template": {
         "data": {
          "bar": [
           {
            "error_x": {
             "color": "#2a3f5f"
            },
            "error_y": {
             "color": "#2a3f5f"
            },
            "marker": {
             "line": {
              "color": "#E5ECF6",
              "width": 0.5
             },
             "pattern": {
              "fillmode": "overlay",
              "size": 10,
              "solidity": 0.2
             }
            },
            "type": "bar"
           }
          ],
          "barpolar": [
           {
            "marker": {
             "line": {
              "color": "#E5ECF6",
              "width": 0.5
             },
             "pattern": {
              "fillmode": "overlay",
              "size": 10,
              "solidity": 0.2
             }
            },
            "type": "barpolar"
           }
          ],
          "carpet": [
           {
            "aaxis": {
             "endlinecolor": "#2a3f5f",
             "gridcolor": "white",
             "linecolor": "white",
             "minorgridcolor": "white",
             "startlinecolor": "#2a3f5f"
            },
            "baxis": {
             "endlinecolor": "#2a3f5f",
             "gridcolor": "white",
             "linecolor": "white",
             "minorgridcolor": "white",
             "startlinecolor": "#2a3f5f"
            },
            "type": "carpet"
           }
          ],
          "choropleth": [
           {
            "colorbar": {
             "outlinewidth": 0,
             "ticks": ""
            },
            "type": "choropleth"
           }
          ],
          "contour": [
           {
            "colorbar": {
             "outlinewidth": 0,
             "ticks": ""
            },
            "colorscale": [
             [
              0,
              "#0d0887"
             ],
             [
              0.1111111111111111,
              "#46039f"
             ],
             [
              0.2222222222222222,
              "#7201a8"
             ],
             [
              0.3333333333333333,
              "#9c179e"
             ],
             [
              0.4444444444444444,
              "#bd3786"
             ],
             [
              0.5555555555555556,
              "#d8576b"
             ],
             [
              0.6666666666666666,
              "#ed7953"
             ],
             [
              0.7777777777777778,
              "#fb9f3a"
             ],
             [
              0.8888888888888888,
              "#fdca26"
             ],
             [
              1,
              "#f0f921"
             ]
            ],
            "type": "contour"
           }
          ],
          "contourcarpet": [
           {
            "colorbar": {
             "outlinewidth": 0,
             "ticks": ""
            },
            "type": "contourcarpet"
           }
          ],
          "heatmap": [
           {
            "colorbar": {
             "outlinewidth": 0,
             "ticks": ""
            },
            "colorscale": [
             [
              0,
              "#0d0887"
             ],
             [
              0.1111111111111111,
              "#46039f"
             ],
             [
              0.2222222222222222,
              "#7201a8"
             ],
             [
              0.3333333333333333,
              "#9c179e"
             ],
             [
              0.4444444444444444,
              "#bd3786"
             ],
             [
              0.5555555555555556,
              "#d8576b"
             ],
             [
              0.6666666666666666,
              "#ed7953"
             ],
             [
              0.7777777777777778,
              "#fb9f3a"
             ],
             [
              0.8888888888888888,
              "#fdca26"
             ],
             [
              1,
              "#f0f921"
             ]
            ],
            "type": "heatmap"
           }
          ],
          "heatmapgl": [
           {
            "colorbar": {
             "outlinewidth": 0,
             "ticks": ""
            },
            "colorscale": [
             [
              0,
              "#0d0887"
             ],
             [
              0.1111111111111111,
              "#46039f"
             ],
             [
              0.2222222222222222,
              "#7201a8"
             ],
             [
              0.3333333333333333,
              "#9c179e"
             ],
             [
              0.4444444444444444,
              "#bd3786"
             ],
             [
              0.5555555555555556,
              "#d8576b"
             ],
             [
              0.6666666666666666,
              "#ed7953"
             ],
             [
              0.7777777777777778,
              "#fb9f3a"
             ],
             [
              0.8888888888888888,
              "#fdca26"
             ],
             [
              1,
              "#f0f921"
             ]
            ],
            "type": "heatmapgl"
           }
          ],
          "histogram": [
           {
            "marker": {
             "pattern": {
              "fillmode": "overlay",
              "size": 10,
              "solidity": 0.2
             }
            },
            "type": "histogram"
           }
          ],
          "histogram2d": [
           {
            "colorbar": {
             "outlinewidth": 0,
             "ticks": ""
            },
            "colorscale": [
             [
              0,
              "#0d0887"
             ],
             [
              0.1111111111111111,
              "#46039f"
             ],
             [
              0.2222222222222222,
              "#7201a8"
             ],
             [
              0.3333333333333333,
              "#9c179e"
             ],
             [
              0.4444444444444444,
              "#bd3786"
             ],
             [
              0.5555555555555556,
              "#d8576b"
             ],
             [
              0.6666666666666666,
              "#ed7953"
             ],
             [
              0.7777777777777778,
              "#fb9f3a"
             ],
             [
              0.8888888888888888,
              "#fdca26"
             ],
             [
              1,
              "#f0f921"
             ]
            ],
            "type": "histogram2d"
           }
          ],
          "histogram2dcontour": [
           {
            "colorbar": {
             "outlinewidth": 0,
             "ticks": ""
            },
            "colorscale": [
             [
              0,
              "#0d0887"
             ],
             [
              0.1111111111111111,
              "#46039f"
             ],
             [
              0.2222222222222222,
              "#7201a8"
             ],
             [
              0.3333333333333333,
              "#9c179e"
             ],
             [
              0.4444444444444444,
              "#bd3786"
             ],
             [
              0.5555555555555556,
              "#d8576b"
             ],
             [
              0.6666666666666666,
              "#ed7953"
             ],
             [
              0.7777777777777778,
              "#fb9f3a"
             ],
             [
              0.8888888888888888,
              "#fdca26"
             ],
             [
              1,
              "#f0f921"
             ]
            ],
            "type": "histogram2dcontour"
           }
          ],
          "mesh3d": [
           {
            "colorbar": {
             "outlinewidth": 0,
             "ticks": ""
            },
            "type": "mesh3d"
           }
          ],
          "parcoords": [
           {
            "line": {
             "colorbar": {
              "outlinewidth": 0,
              "ticks": ""
             }
            },
            "type": "parcoords"
           }
          ],
          "pie": [
           {
            "automargin": true,
            "type": "pie"
           }
          ],
          "scatter": [
           {
            "fillpattern": {
             "fillmode": "overlay",
             "size": 10,
             "solidity": 0.2
            },
            "type": "scatter"
           }
          ],
          "scatter3d": [
           {
            "line": {
             "colorbar": {
              "outlinewidth": 0,
              "ticks": ""
             }
            },
            "marker": {
             "colorbar": {
              "outlinewidth": 0,
              "ticks": ""
             }
            },
            "type": "scatter3d"
           }
          ],
          "scattercarpet": [
           {
            "marker": {
             "colorbar": {
              "outlinewidth": 0,
              "ticks": ""
             }
            },
            "type": "scattercarpet"
           }
          ],
          "scattergeo": [
           {
            "marker": {
             "colorbar": {
              "outlinewidth": 0,
              "ticks": ""
             }
            },
            "type": "scattergeo"
           }
          ],
          "scattergl": [
           {
            "marker": {
             "colorbar": {
              "outlinewidth": 0,
              "ticks": ""
             }
            },
            "type": "scattergl"
           }
          ],
          "scattermapbox": [
           {
            "marker": {
             "colorbar": {
              "outlinewidth": 0,
              "ticks": ""
             }
            },
            "type": "scattermapbox"
           }
          ],
          "scatterpolar": [
           {
            "marker": {
             "colorbar": {
              "outlinewidth": 0,
              "ticks": ""
             }
            },
            "type": "scatterpolar"
           }
          ],
          "scatterpolargl": [
           {
            "marker": {
             "colorbar": {
              "outlinewidth": 0,
              "ticks": ""
             }
            },
            "type": "scatterpolargl"
           }
          ],
          "scatterternary": [
           {
            "marker": {
             "colorbar": {
              "outlinewidth": 0,
              "ticks": ""
             }
            },
            "type": "scatterternary"
           }
          ],
          "surface": [
           {
            "colorbar": {
             "outlinewidth": 0,
             "ticks": ""
            },
            "colorscale": [
             [
              0,
              "#0d0887"
             ],
             [
              0.1111111111111111,
              "#46039f"
             ],
             [
              0.2222222222222222,
              "#7201a8"
             ],
             [
              0.3333333333333333,
              "#9c179e"
             ],
             [
              0.4444444444444444,
              "#bd3786"
             ],
             [
              0.5555555555555556,
              "#d8576b"
             ],
             [
              0.6666666666666666,
              "#ed7953"
             ],
             [
              0.7777777777777778,
              "#fb9f3a"
             ],
             [
              0.8888888888888888,
              "#fdca26"
             ],
             [
              1,
              "#f0f921"
             ]
            ],
            "type": "surface"
           }
          ],
          "table": [
           {
            "cells": {
             "fill": {
              "color": "#EBF0F8"
             },
             "line": {
              "color": "white"
             }
            },
            "header": {
             "fill": {
              "color": "#C8D4E3"
             },
             "line": {
              "color": "white"
             }
            },
            "type": "table"
           }
          ]
         },
         "layout": {
          "annotationdefaults": {
           "arrowcolor": "#2a3f5f",
           "arrowhead": 0,
           "arrowwidth": 1
          },
          "autotypenumbers": "strict",
          "coloraxis": {
           "colorbar": {
            "outlinewidth": 0,
            "ticks": ""
           }
          },
          "colorscale": {
           "diverging": [
            [
             0,
             "#8e0152"
            ],
            [
             0.1,
             "#c51b7d"
            ],
            [
             0.2,
             "#de77ae"
            ],
            [
             0.3,
             "#f1b6da"
            ],
            [
             0.4,
             "#fde0ef"
            ],
            [
             0.5,
             "#f7f7f7"
            ],
            [
             0.6,
             "#e6f5d0"
            ],
            [
             0.7,
             "#b8e186"
            ],
            [
             0.8,
             "#7fbc41"
            ],
            [
             0.9,
             "#4d9221"
            ],
            [
             1,
             "#276419"
            ]
           ],
           "sequential": [
            [
             0,
             "#0d0887"
            ],
            [
             0.1111111111111111,
             "#46039f"
            ],
            [
             0.2222222222222222,
             "#7201a8"
            ],
            [
             0.3333333333333333,
             "#9c179e"
            ],
            [
             0.4444444444444444,
             "#bd3786"
            ],
            [
             0.5555555555555556,
             "#d8576b"
            ],
            [
             0.6666666666666666,
             "#ed7953"
            ],
            [
             0.7777777777777778,
             "#fb9f3a"
            ],
            [
             0.8888888888888888,
             "#fdca26"
            ],
            [
             1,
             "#f0f921"
            ]
           ],
           "sequentialminus": [
            [
             0,
             "#0d0887"
            ],
            [
             0.1111111111111111,
             "#46039f"
            ],
            [
             0.2222222222222222,
             "#7201a8"
            ],
            [
             0.3333333333333333,
             "#9c179e"
            ],
            [
             0.4444444444444444,
             "#bd3786"
            ],
            [
             0.5555555555555556,
             "#d8576b"
            ],
            [
             0.6666666666666666,
             "#ed7953"
            ],
            [
             0.7777777777777778,
             "#fb9f3a"
            ],
            [
             0.8888888888888888,
             "#fdca26"
            ],
            [
             1,
             "#f0f921"
            ]
           ]
          },
          "colorway": [
           "#636efa",
           "#EF553B",
           "#00cc96",
           "#ab63fa",
           "#FFA15A",
           "#19d3f3",
           "#FF6692",
           "#B6E880",
           "#FF97FF",
           "#FECB52"
          ],
          "font": {
           "color": "#2a3f5f"
          },
          "geo": {
           "bgcolor": "white",
           "lakecolor": "white",
           "landcolor": "#E5ECF6",
           "showlakes": true,
           "showland": true,
           "subunitcolor": "white"
          },
          "hoverlabel": {
           "align": "left"
          },
          "hovermode": "closest",
          "mapbox": {
           "style": "light"
          },
          "paper_bgcolor": "white",
          "plot_bgcolor": "#E5ECF6",
          "polar": {
           "angularaxis": {
            "gridcolor": "white",
            "linecolor": "white",
            "ticks": ""
           },
           "bgcolor": "#E5ECF6",
           "radialaxis": {
            "gridcolor": "white",
            "linecolor": "white",
            "ticks": ""
           }
          },
          "scene": {
           "xaxis": {
            "backgroundcolor": "#E5ECF6",
            "gridcolor": "white",
            "gridwidth": 2,
            "linecolor": "white",
            "showbackground": true,
            "ticks": "",
            "zerolinecolor": "white"
           },
           "yaxis": {
            "backgroundcolor": "#E5ECF6",
            "gridcolor": "white",
            "gridwidth": 2,
            "linecolor": "white",
            "showbackground": true,
            "ticks": "",
            "zerolinecolor": "white"
           },
           "zaxis": {
            "backgroundcolor": "#E5ECF6",
            "gridcolor": "white",
            "gridwidth": 2,
            "linecolor": "white",
            "showbackground": true,
            "ticks": "",
            "zerolinecolor": "white"
           }
          },
          "shapedefaults": {
           "line": {
            "color": "#2a3f5f"
           }
          },
          "ternary": {
           "aaxis": {
            "gridcolor": "white",
            "linecolor": "white",
            "ticks": ""
           },
           "baxis": {
            "gridcolor": "white",
            "linecolor": "white",
            "ticks": ""
           },
           "bgcolor": "#E5ECF6",
           "caxis": {
            "gridcolor": "white",
            "linecolor": "white",
            "ticks": ""
           }
          },
          "title": {
           "x": 0.05
          },
          "xaxis": {
           "automargin": true,
           "gridcolor": "white",
           "linecolor": "white",
           "ticks": "",
           "title": {
            "standoff": 15
           },
           "zerolinecolor": "white",
           "zerolinewidth": 2
          },
          "yaxis": {
           "automargin": true,
           "gridcolor": "white",
           "linecolor": "white",
           "ticks": "",
           "title": {
            "standoff": 15
           },
           "zerolinecolor": "white",
           "zerolinewidth": 2
          }
         }
        },
        "title": {
         "text": "Frekuensi Penggunaan vs. Tingkat Kesulitan dan Jumlah Goresan"
        },
        "width": 800
       }
      }
     },
     "metadata": {},
     "output_type": "display_data"
    }
   ],
   "source": [
    "df['color'] = pd.cut(df['freq'], bins=[0, 500, 1000, 2000, float('inf')],\n",
    "                    labels=['biru frekuensi 0 - 500', 'hijau frekuensi 500 - 1000', 'oranye frekuensi 1000 - 2000', 'ungu frekuensi 2000 - 2500'])\n",
    "\n",
    "hover_text = []\n",
    "for index, row in df.iterrows():\n",
    "    hover_text.append(f\"Kanji: {index}<br>Frekuensi: {row['freq']}<br>Grade: {row['grade']}<br>Strokes: {row['strokes']}\")\n",
    "\n",
    "fig = px.scatter_3d(df, x='grade', y='strokes', z='freq',\n",
    "                    color='color',\n",
    "                    hover_data={'customdata': hover_text},\n",
    "                    height=800, width=800,\n",
    "                    title='Frekuensi Penggunaan vs. Tingkat Kesulitan dan Jumlah Goresan',\n",
    "                    labels={'grade': 'Tingkat Kesulitan (Grade)', 'strokes': 'Jumlah Goresan', 'freq': 'Frekuensi Penggunaan'})\n",
    "fig.update_traces(text=None, hovertemplate='%{customdata}')\n",
    "\n",
    "fig.update_layout(scene=dict(\n",
    "    xaxis=dict(title_font=dict(size=16)),\n",
    "    yaxis=dict(title_font=dict(size=16)),\n",
    "    zaxis=dict(title_font=dict(size=16))\n",
    "))\n",
    "\n",
    "fig.show()"
   ]
  },
  {
   "cell_type": "markdown",
   "metadata": {},
   "source": [
    "### **Visualisasi scatter plot**"
   ]
  },
  {
   "cell_type": "code",
   "execution_count": 12,
   "metadata": {},
   "outputs": [
    {
     "data": {
      "application/vnd.plotly.v1+json": {
       "config": {
        "plotlyServerURL": "https://plot.ly"
       },
       "data": [
        {
         "hovertemplate": "<b>%{hovertext}</b><br><br>Tingkat Kesulitan (Grade)=%{x}<br>Frekuensi Penggunaan=%{y}<extra></extra>",
         "hovertext": [
          "刀",
          "丁",
          "又",
          "矢",
          "羊",
          "氏",
          "仮",
          "級",
          "功",
          "第",
          "暑",
          "整",
          "詩",
          "器",
          "士",
          "標",
          "鏡",
          "養",
          "謝",
          "松",
          "基",
          "妥",
          "雰",
          "頑",
          "司",
          "泣",
          "紀",
          "典",
          "保",
          "弁",
          "証",
          "冒",
          "冗",
          "梅",
          "結",
          "是",
          "渉",
          "虚",
          "幻",
          "弓",
          "汽",
          "僧",
          "禅",
          "句",
          "節",
          "昆",
          "閥",
          "舌",
          "宙",
          "履",
          "善",
          "災",
          "率",
          "妨",
          "裕",
          "尾",
          "嫌",
          "臭",
          "穴",
          "笛",
          "敵",
          "挙",
          "派",
          "素",
          "評",
          "批",
          "検",
          "審",
          "条",
          "企",
          "義",
          "罰",
          "誕",
          "脱",
          "宮",
          "案",
          "価",
          "統",
          "策",
          "藤",
          "姿",
          "応",
          "提",
          "援",
          "態",
          "賀",
          "鬼",
          "護",
          "裁",
          "崎",
          "看",
          "幹",
          "張",
          "沢",
          "施",
          "俳",
          "秀",
          "製",
          "狭",
          "載",
          "視",
          "環",
          "展",
          "株",
          "影",
          "響",
          "票",
          "訴",
          "訟",
          "逮",
          "模",
          "鮮",
          "属",
          "肥",
          "絞",
          "輩",
          "隠",
          "授",
          "創",
          "往",
          "較",
          "鉛",
          "故",
          "障",
          "従",
          "我",
          "激",
          "励",
          "討",
          "徴",
          "怪",
          "獣",
          "振",
          "豚",
          "独",
          "屈",
          "暇",
          "織",
          "惑",
          "誘",
          "就",
          "睡",
          "症",
          "締",
          "迫",
          "端",
          "健",
          "康",
          "郎",
          "稚",
          "博",
          "潔",
          "隊",
          "修",
          "奇",
          "妙",
          "麗",
          "微",
          "益",
          "憲",
          "衆",
          "傘",
          "浜",
          "撃",
          "攻",
          "監",
          "催",
          "促",
          "江",
          "請",
          "雄",
          "壊",
          "診",
          "閣",
          "僚",
          "督",
          "街",
          "宗",
          "緊",
          "宴",
          "添",
          "猛",
          "烈",
          "索",
          "詳",
          "魅",
          "渇",
          "系",
          "旗",
          "乏",
          "覧",
          "懐",
          "漏",
          "購",
          "飾",
          "騒",
          "撮",
          "離",
          "融",
          "華",
          "既",
          "豪",
          "鑑",
          "尋",
          "廊",
          "驚",
          "嘆",
          "倉",
          "巣",
          "径",
          "救",
          "脈",
          "墓",
          "徳",
          "偵",
          "綺",
          "序",
          "志",
          "恩",
          "桜",
          "眼",
          "興",
          "衛",
          "酸",
          "銭",
          "飼",
          "傷",
          "厳",
          "密",
          "暖",
          "秘",
          "訳",
          "染",
          "筋",
          "垂",
          "宣",
          "忠",
          "拡",
          "操",
          "熟",
          "異",
          "皇",
          "盛",
          "漠",
          "糖",
          "納",
          "肺",
          "賃",
          "貴",
          "吐",
          "奴",
          "隷",
          "芋",
          "縮",
          "縦",
          "粋",
          "聖",
          "磁",
          "射",
          "幕",
          "薦",
          "推",
          "揮",
          "沿",
          "源",
          "歓",
          "豆",
          "腐",
          "彫",
          "舎",
          "滞",
          "己",
          "厄",
          "亀",
          "剣",
          "杉",
          "汁",
          "炎",
          "為",
          "熊",
          "獄",
          "酔",
          "酢",
          "盟",
          "遺",
          "債",
          "及",
          "奈",
          "廃",
          "摘",
          "核",
          "沖",
          "縄",
          "津",
          "献",
          "継",
          "維",
          "伎",
          "踏",
          "鹿",
          "諾",
          "跳",
          "昭",
          "償",
          "刑",
          "執",
          "塁",
          "崩",
          "抗",
          "抵",
          "旬",
          "弾",
          "聴",
          "遣",
          "闘",
          "陣",
          "臨",
          "削",
          "契",
          "恵",
          "掲",
          "葬",
          "需",
          "宜",
          "繰",
          "避",
          "妊",
          "娠",
          "致",
          "奏",
          "伴",
          "併",
          "却",
          "慮",
          "懸",
          "房",
          "扱",
          "抑",
          "択",
          "描",
          "盤",
          "称",
          "緩",
          "託",
          "賄",
          "還",
          "邦",
          "鈴",
          "岐",
          "隆",
          "控",
          "壁",
          "棋",
          "渋",
          "仙",
          "充",
          "免",
          "勧",
          "圏",
          "奪",
          "慎",
          "拒",
          "枠",
          "甲",
          "斐",
          "祉",
          "稲",
          "譲",
          "謙",
          "躍",
          "銃",
          "項",
          "鋼",
          "顧",
          "駆",
          "唱",
          "俊",
          "兼",
          "剤",
          "堀",
          "巡",
          "戒",
          "排",
          "携",
          "敏",
          "敷",
          "犠",
          "獲",
          "茂",
          "繁",
          "頻",
          "殖",
          "衝",
          "誉",
          "褒",
          "透",
          "隣",
          "雅",
          "徹",
          "瀬",
          "撤",
          "措",
          "拠",
          "儀",
          "樹",
          "棄",
          "虎",
          "蛍",
          "艦",
          "潜",
          "拳",
          "仁",
          "至",
          "誠",
          "郷",
          "侵",
          "偽",
          "克",
          "哲",
          "喪",
          "堅",
          "括",
          "弧",
          "挑",
          "揚",
          "握",
          "揺",
          "斎",
          "暫",
          "析",
          "枢",
          "軸",
          "柄",
          "滑",
          "潟",
          "焦",
          "範",
          "紛",
          "糾",
          "綱",
          "網",
          "肝",
          "芝",
          "裂",
          "襲",
          "貢",
          "趣",
          "距",
          "露",
          "牧",
          "朗",
          "潮",
          "即",
          "垣",
          "威",
          "岳",
          "慰",
          "懇",
          "懲",
          "摩",
          "擦",
          "撲",
          "斉",
          "旨",
          "沼",
          "泰",
          "滅",
          "滋",
          "炉",
          "琴",
          "寸",
          "竜",
          "縁",
          "翼",
          "吉",
          "刃",
          "忍",
          "桃",
          "侍",
          "娯",
          "斗",
          "朱",
          "丘",
          "梨",
          "僕",
          "釣",
          "嵐",
          "姫",
          "棚",
          "砲",
          "雷",
          "芽",
          "澄",
          "矛",
          "鐘",
          "凶",
          "塊",
          "狩",
          "魂",
          "脚",
          "也",
          "井",
          "嬢",
          "暦",
          "眺",
          "裸",
          "塾",
          "卓",
          "菌",
          "陰",
          "霊",
          "稼",
          "嫁",
          "溝",
          "滝",
          "狂",
          "翔",
          "墨",
          "鳩",
          "穏",
          "魔",
          "寮",
          "盆",
          "棟",
          "寧",
          "猿",
          "瞳",
          "碁",
          "租",
          "幽",
          "泡",
          "癖",
          "鍛",
          "錬",
          "穂",
          "帝",
          "瞬",
          "菊",
          "誇",
          "庄",
          "阻",
          "黙",
          "俵",
          "架",
          "砕",
          "粘",
          "欺",
          "詐",
          "霧",
          "柳",
          "伊",
          "佐",
          "尺",
          "哀",
          "唇",
          "塀",
          "墜",
          "如",
          "婆",
          "幣",
          "恨",
          "憩",
          "扇",
          "扉",
          "挿",
          "掌",
          "炊",
          "爽",
          "瞭",
          "胴",
          "虹",
          "帳",
          "蚊",
          "蛇",
          "辱",
          "鉢",
          "霜",
          "飢",
          "餓",
          "迅",
          "騎",
          "蓄",
          "尽",
          "彩",
          "憶",
          "耐",
          "輝",
          "脅",
          "麻",
          "培",
          "悔",
          "遂",
          "班",
          "斜",
          "殴",
          "盾",
          "穫",
          "駒",
          "紫",
          "抽",
          "誓",
          "悟",
          "拓",
          "拘",
          "礎",
          "鶴",
          "刈",
          "剛",
          "唯",
          "壇",
          "尼",
          "概",
          "浸",
          "淡",
          "煮",
          "覆",
          "謀",
          "陶",
          "隔",
          "征",
          "陛",
          "俗",
          "桑",
          "潤",
          "珠",
          "衰",
          "奨",
          "劣",
          "勘",
          "妃",
          "峰",
          "巧",
          "邪",
          "駄",
          "廷",
          "簿",
          "彰",
          "漫",
          "訂",
          "諮",
          "銘",
          "堤",
          "漂",
          "翻",
          "軌",
          "后",
          "奮",
          "亭",
          "仰",
          "伯",
          "墳",
          "壮",
          "把",
          "搬",
          "晶",
          "洞",
          "涯",
          "疫",
          "孔",
          "邸",
          "郡",
          "釈",
          "肪",
          "喚",
          "媛",
          "貞",
          "玄",
          "苗",
          "渦",
          "慈",
          "襟",
          "蓮",
          "亮",
          "聡",
          "浦",
          "塚",
          "陥",
          "貫",
          "覇",
          "呂",
          "擁",
          "孤",
          "賠",
          "鎖",
          "噴",
          "祥",
          "牲",
          "秩",
          "唆",
          "膨",
          "芳",
          "恒",
          "倫",
          "陳",
          "須",
          "偏",
          "遇",
          "糧",
          "殊",
          "慢",
          "没",
          "怠",
          "遭",
          "惰",
          "猟",
          "乃",
          "綾",
          "颯",
          "隼",
          "輔",
          "寛",
          "胞",
          "浄",
          "随",
          "稿",
          "丹",
          "壌",
          "舗",
          "騰",
          "緯",
          "艇",
          "披",
          "錦",
          "准",
          "剰",
          "繊",
          "諭",
          "惨",
          "虐",
          "据",
          "徐",
          "搭",
          "鯉",
          "緋",
          "曙",
          "胡",
          "帥",
          "啓",
          "葵",
          "駿",
          "諒",
          "莉",
          "鯨",
          "荘",
          "栽",
          "拐",
          "冠",
          "勲",
          "酬",
          "紋",
          "卸",
          "欄",
          "逸",
          "尚",
          "顕",
          "粛",
          "愚",
          "庶",
          "践",
          "呈",
          "疎",
          "疾",
          "謡",
          "鎌",
          "酷",
          "叙",
          "且",
          "痴",
          "茎",
          "阿",
          "悠",
          "杏",
          "茜",
          "栞",
          "伏",
          "鎮",
          "奉",
          "憂",
          "朴",
          "惜",
          "佳",
          "悼",
          "該",
          "赴",
          "髄",
          "傍",
          "累",
          "癒",
          "郭",
          "尿",
          "賓",
          "虜",
          "憾",
          "弥",
          "粗",
          "循",
          "凝",
          "昌",
          "旦",
          "愉",
          "抹",
          "栓",
          "之",
          "遼",
          "瑛",
          "那",
          "拍",
          "猶",
          "宰",
          "寂",
          "縫",
          "呉",
          "凡",
          "恭",
          "錯",
          "穀",
          "陵",
          "弊",
          "舶",
          "窮",
          "悦",
          "縛",
          "轄",
          "弦",
          "窒",
          "洪",
          "摂",
          "飽",
          "紳",
          "庸",
          "靖",
          "嘉",
          "搾",
          "蝶",
          "碑",
          "尉",
          "匠",
          "遥",
          "智",
          "賊",
          "鼓",
          "旋",
          "腸",
          "槽",
          "伐",
          "漬",
          "坪",
          "紺",
          "羅",
          "峡",
          "俸",
          "醸",
          "弔",
          "乙",
          "遍",
          "衡",
          "款",
          "閲",
          "喝",
          "敢",
          "膜",
          "盲",
          "胎",
          "酵",
          "堕",
          "遮",
          "凸",
          "凹",
          "楓",
          "哉",
          "蒼",
          "瑠",
          "萌",
          "硫",
          "赦",
          "窃",
          "慨",
          "扶",
          "戯",
          "忌",
          "濁",
          "奔",
          "肖",
          "朽",
          "殻",
          "享",
          "藩",
          "媒",
          "鶏",
          "嘱",
          "迭",
          "椎",
          "絹",
          "陪",
          "剖",
          "譜",
          "淑",
          "帆",
          "憤",
          "酌",
          "暁",
          "傑",
          "錠",
          "凌",
          "瑞",
          "璃",
          "遷",
          "拙",
          "峠",
          "篤",
          "叔",
          "雌",
          "堪",
          "吟",
          "甚",
          "崇",
          "漆",
          "岬",
          "紡",
          "礁",
          "屯",
          "姻",
          "擬",
          "睦",
          "閑",
          "曹",
          "詠",
          "卑",
          "侮",
          "鋳",
          "胆",
          "浪",
          "禍",
          "酪",
          "憧",
          "慶",
          "亜",
          "汰",
          "梓",
          "沙",
          "逝",
          "匿",
          "寡",
          "痢",
          "坑",
          "藍",
          "畔",
          "唄",
          "拷",
          "渓",
          "廉",
          "謹",
          "湧",
          "醜",
          "升",
          "殉",
          "煩",
          "劾",
          "桟",
          "婿",
          "慕",
          "罷",
          "矯",
          "某",
          "囚",
          "泌",
          "漸",
          "藻",
          "妄",
          "蛮",
          "倹",
          "渥",
          "旭",
          "絢",
          "鮎",
          "惟",
          "亥",
          "郁",
          "磯",
          "壱",
          "允",
          "胤",
          "韻",
          "卯",
          "丑",
          "叡",
          "謁",
          "艶",
          "苑",
          "於",
          "旺",
          "翁",
          "伽",
          "箇",
          "茄",
          "霞",
          "魁",
          "凱",
          "馨",
          "嚇",
          "褐",
          "叶",
          "樺",
          "茅",
          "侃",
          "棺",
          "莞",
          "巌",
          "嬉",
          "毅",
          "稀",
          "誼",
          "鞠",
          "橘",
          "亨",
          "匡",
          "喬",
          "尭",
          "桐",
          "斤",
          "欣",
          "欽",
          "芹",
          "衿",
          "玖",
          "虞",
          "栗",
          "薫",
          "袈",
          "圭",
          "慧",
          "桂",
          "絃",
          "伍",
          "梧",
          "瑚",
          "侯",
          "倖",
          "宏",
          "弘",
          "昂",
          "晃",
          "浩",
          "紘",
          "鴻",
          "墾",
          "嵯",
          "瑳",
          "裟",
          "采",
          "冴",
          "朔",
          "笹",
          "皐",
          "燦",
          "蚕",
          "嗣",
          "肢",
          "賜",
          "爾",
          "蒔",
          "汐",
          "偲",
          "紗",
          "勺",
          "爵",
          "儒",
          "愁",
          "洲",
          "峻",
          "竣",
          "舜",
          "淳",
          "遵",
          "渚",
          "恕",
          "宵",
          "抄",
          "捷",
          "梢",
          "硝",
          "菖",
          "蕉",
          "詔",
          "丞",
          "穣",
          "晋",
          "榛",
          "秦",
          "薪",
          "翠",
          "錘",
          "嵩",
          "雛",
          "畝",
          "斥",
          "碩",
          "銑",
          "繕",
          "塑",
          "惣",
          "綜",
          "黛",
          "鯛",
          "鷹",
          "啄",
          "琢",
          "只",
          "但",
          "辰",
          "巽",
          "檀",
          "逐",
          "嫡",
          "衷",
          "猪",
          "暢",
          "脹",
          "勅",
          "朕",
          "槻",
          "蔦",
          "椿",
          "紬",
          "悌",
          "禎",
          "逓",
          "杜",
          "痘",
          "謄",
          "寅",
          "酉",
          "惇",
          "敦",
          "凪",
          "捺",
          "楠",
          "弐",
          "巴",
          "萩",
          "肇",
          "頒",
          "眉",
          "柊",
          "彦",
          "彪",
          "彬",
          "芙",
          "賦",
          "附",
          "蕗",
          "丙",
          "碧",
          "甫",
          "倣",
          "朋",
          "鳳",
          "鵬",
          "槙",
          "柾",
          "亦",
          "繭",
          "麿",
          "巳",
          "稔",
          "椋",
          "孟",
          "耗",
          "匁",
          "冶",
          "耶",
          "佑",
          "宥",
          "柚",
          "祐",
          "邑",
          "楊",
          "窯",
          "耀",
          "蓉",
          "濫",
          "蘭",
          "吏",
          "李",
          "琉",
          "稜",
          "厘",
          "琳",
          "麟",
          "伶",
          "嶺",
          "怜",
          "玲",
          "楼",
          "禄",
          "倭",
          "亘",
          "侑",
          "勁",
          "奎",
          "崚",
          "彗",
          "昴",
          "晏",
          "晨",
          "晟",
          "暉",
          "椰",
          "毬",
          "洸",
          "洵",
          "滉",
          "漱",
          "澪",
          "燎",
          "燿",
          "瑶",
          "皓",
          "眸",
          "笙",
          "綸",
          "脩",
          "茉",
          "菫",
          "詢",
          "諄",
          "赳",
          "迪",
          "頌",
          "黎",
          "凜",
          "熙"
         ],
         "legendgroup": "",
         "marker": {
          "color": "#636efa",
          "line": {
           "color": "DarkSlateGrey",
           "width": 2
          },
          "size": 12,
          "symbol": "circle"
         },
         "mode": "markers",
         "name": "",
         "showlegend": false,
         "type": "scattergl",
         "x": [
          2,
          3,
          8,
          2,
          3,
          4,
          5,
          3,
          4,
          3,
          3,
          3,
          3,
          4,
          4,
          4,
          4,
          4,
          5,
          4,
          5,
          8,
          8,
          8,
          4,
          4,
          4,
          4,
          5,
          5,
          5,
          8,
          8,
          4,
          4,
          8,
          8,
          8,
          8,
          2,
          2,
          8,
          8,
          5,
          4,
          8,
          8,
          5,
          6,
          8,
          6,
          5,
          5,
          8,
          8,
          8,
          8,
          8,
          6,
          3,
          5,
          4,
          6,
          5,
          5,
          6,
          5,
          8,
          5,
          8,
          5,
          8,
          6,
          8,
          3,
          4,
          5,
          5,
          6,
          8,
          6,
          5,
          5,
          8,
          5,
          5,
          8,
          5,
          6,
          8,
          6,
          5,
          5,
          8,
          8,
          6,
          8,
          5,
          8,
          8,
          6,
          8,
          6,
          6,
          8,
          8,
          4,
          8,
          8,
          8,
          6,
          8,
          5,
          5,
          8,
          8,
          8,
          5,
          6,
          5,
          8,
          8,
          5,
          6,
          6,
          6,
          6,
          8,
          6,
          8,
          8,
          8,
          8,
          8,
          5,
          8,
          8,
          5,
          8,
          8,
          6,
          8,
          8,
          8,
          8,
          8,
          4,
          4,
          8,
          8,
          4,
          5,
          4,
          5,
          8,
          8,
          8,
          8,
          5,
          6,
          6,
          8,
          8,
          8,
          8,
          8,
          8,
          8,
          8,
          8,
          8,
          8,
          8,
          6,
          8,
          8,
          4,
          6,
          8,
          8,
          8,
          8,
          8,
          8,
          8,
          8,
          8,
          6,
          4,
          8,
          6,
          8,
          8,
          8,
          8,
          8,
          8,
          8,
          8,
          8,
          8,
          8,
          8,
          8,
          8,
          8,
          8,
          4,
          4,
          4,
          4,
          4,
          5,
          5,
          8,
          9,
          5,
          5,
          5,
          5,
          5,
          5,
          5,
          5,
          5,
          5,
          6,
          6,
          6,
          6,
          6,
          6,
          6,
          6,
          6,
          6,
          6,
          6,
          6,
          6,
          6,
          6,
          6,
          8,
          6,
          6,
          6,
          6,
          6,
          8,
          8,
          8,
          8,
          6,
          6,
          8,
          6,
          6,
          6,
          6,
          8,
          6,
          6,
          6,
          6,
          8,
          3,
          8,
          8,
          5,
          8,
          6,
          8,
          8,
          8,
          8,
          8,
          8,
          8,
          8,
          8,
          8,
          8,
          6,
          6,
          8,
          8,
          8,
          8,
          8,
          8,
          8,
          8,
          8,
          8,
          8,
          8,
          8,
          8,
          8,
          8,
          8,
          3,
          8,
          8,
          8,
          8,
          8,
          8,
          8,
          8,
          8,
          8,
          8,
          8,
          8,
          6,
          8,
          8,
          8,
          8,
          8,
          8,
          8,
          8,
          8,
          8,
          8,
          8,
          6,
          8,
          8,
          8,
          8,
          8,
          8,
          8,
          8,
          8,
          8,
          8,
          8,
          8,
          8,
          8,
          8,
          8,
          8,
          8,
          8,
          8,
          8,
          8,
          8,
          8,
          8,
          8,
          8,
          8,
          8,
          8,
          8,
          8,
          8,
          9,
          8,
          8,
          8,
          8,
          8,
          8,
          8,
          6,
          8,
          8,
          4,
          8,
          8,
          8,
          8,
          8,
          8,
          8,
          8,
          8,
          8,
          8,
          8,
          8,
          8,
          8,
          8,
          8,
          8,
          8,
          8,
          8,
          8,
          8,
          8,
          8,
          8,
          8,
          8,
          6,
          8,
          8,
          8,
          8,
          8,
          8,
          6,
          6,
          6,
          6,
          8,
          8,
          8,
          8,
          8,
          8,
          8,
          8,
          8,
          8,
          8,
          8,
          8,
          8,
          8,
          8,
          8,
          8,
          8,
          8,
          8,
          8,
          8,
          8,
          8,
          8,
          8,
          8,
          8,
          8,
          8,
          8,
          8,
          8,
          4,
          6,
          6,
          8,
          8,
          8,
          8,
          8,
          8,
          8,
          8,
          8,
          8,
          8,
          8,
          8,
          8,
          8,
          8,
          8,
          8,
          6,
          8,
          8,
          8,
          8,
          8,
          8,
          8,
          8,
          8,
          8,
          8,
          8,
          8,
          8,
          8,
          8,
          8,
          8,
          8,
          8,
          4,
          8,
          8,
          8,
          8,
          8,
          8,
          8,
          8,
          9,
          8,
          8,
          8,
          8,
          8,
          8,
          8,
          8,
          8,
          8,
          8,
          8,
          8,
          8,
          8,
          9,
          8,
          9,
          8,
          8,
          8,
          8,
          8,
          8,
          8,
          8,
          8,
          8,
          8,
          8,
          8,
          8,
          8,
          8,
          8,
          8,
          8,
          8,
          9,
          8,
          8,
          5,
          8,
          8,
          8,
          8,
          8,
          8,
          8,
          9,
          8,
          6,
          8,
          8,
          8,
          8,
          8,
          8,
          8,
          8,
          8,
          8,
          8,
          8,
          8,
          8,
          8,
          8,
          8,
          8,
          3,
          8,
          8,
          8,
          8,
          8,
          8,
          8,
          8,
          8,
          8,
          8,
          8,
          8,
          8,
          8,
          8,
          8,
          8,
          8,
          8,
          6,
          8,
          8,
          8,
          8,
          8,
          8,
          8,
          8,
          8,
          8,
          8,
          8,
          8,
          8,
          8,
          8,
          8,
          8,
          8,
          8,
          8,
          8,
          8,
          8,
          8,
          8,
          8,
          6,
          8,
          8,
          8,
          8,
          8,
          8,
          8,
          8,
          8,
          8,
          8,
          8,
          8,
          8,
          8,
          8,
          8,
          8,
          8,
          8,
          8,
          8,
          8,
          8,
          6,
          6,
          8,
          8,
          8,
          8,
          8,
          8,
          8,
          8,
          8,
          8,
          8,
          8,
          8,
          4,
          8,
          8,
          8,
          8,
          8,
          8,
          8,
          8,
          8,
          8,
          9,
          9,
          9,
          8,
          8,
          8,
          8,
          8,
          8,
          8,
          8,
          8,
          8,
          8,
          8,
          8,
          8,
          8,
          8,
          8,
          8,
          8,
          8,
          8,
          8,
          8,
          8,
          8,
          8,
          8,
          8,
          8,
          8,
          8,
          9,
          9,
          9,
          9,
          9,
          8,
          8,
          8,
          8,
          8,
          8,
          8,
          8,
          8,
          8,
          8,
          8,
          8,
          8,
          8,
          8,
          8,
          8,
          8,
          8,
          8,
          8,
          9,
          9,
          9,
          9,
          8,
          8,
          9,
          9,
          9,
          9,
          8,
          8,
          8,
          8,
          8,
          8,
          8,
          8,
          8,
          8,
          8,
          8,
          8,
          8,
          8,
          8,
          8,
          8,
          8,
          8,
          8,
          8,
          8,
          8,
          8,
          8,
          8,
          9,
          8,
          9,
          9,
          9,
          8,
          8,
          8,
          8,
          8,
          8,
          8,
          8,
          8,
          8,
          8,
          8,
          8,
          8,
          8,
          8,
          8,
          8,
          8,
          8,
          8,
          8,
          8,
          9,
          8,
          8,
          8,
          8,
          9,
          9,
          9,
          8,
          8,
          8,
          8,
          8,
          8,
          8,
          8,
          8,
          8,
          6,
          8,
          8,
          8,
          8,
          8,
          8,
          8,
          8,
          8,
          8,
          8,
          8,
          8,
          8,
          9,
          9,
          8,
          9,
          8,
          8,
          8,
          9,
          9,
          8,
          8,
          8,
          4,
          8,
          8,
          8,
          8,
          8,
          8,
          8,
          8,
          8,
          8,
          8,
          8,
          8,
          8,
          8,
          8,
          8,
          8,
          8,
          8,
          8,
          8,
          8,
          8,
          8,
          9,
          9,
          9,
          8,
          9,
          8,
          8,
          8,
          8,
          8,
          8,
          8,
          8,
          8,
          8,
          8,
          8,
          8,
          8,
          8,
          8,
          8,
          8,
          8,
          6,
          8,
          8,
          8,
          8,
          8,
          8,
          8,
          8,
          8,
          8,
          9,
          9,
          8,
          8,
          8,
          8,
          8,
          8,
          8,
          8,
          8,
          8,
          8,
          8,
          8,
          8,
          8,
          8,
          8,
          8,
          8,
          8,
          8,
          8,
          8,
          8,
          8,
          8,
          8,
          8,
          8,
          8,
          8,
          8,
          8,
          9,
          8,
          8,
          8,
          8,
          8,
          8,
          8,
          8,
          8,
          8,
          8,
          8,
          8,
          8,
          8,
          8,
          8,
          8,
          8,
          8,
          8,
          8,
          8,
          8,
          8,
          8,
          8,
          8,
          8,
          8,
          8,
          8,
          9,
          9,
          9,
          9,
          9,
          9,
          9,
          9,
          8,
          9,
          9,
          8,
          9,
          9,
          9,
          8,
          8,
          9,
          9,
          8,
          8,
          9,
          8,
          9,
          9,
          9,
          9,
          9,
          8,
          8,
          9,
          9,
          9,
          9,
          8,
          9,
          9,
          9,
          9,
          9,
          9,
          9,
          9,
          9,
          9,
          9,
          9,
          9,
          8,
          9,
          9,
          9,
          9,
          9,
          8,
          9,
          8,
          9,
          9,
          9,
          9,
          9,
          9,
          9,
          9,
          8,
          9,
          9,
          9,
          9,
          9,
          9,
          9,
          9,
          8,
          9,
          9,
          9,
          8,
          9,
          9,
          9,
          9,
          9,
          6,
          8,
          8,
          8,
          9,
          9,
          9,
          9,
          9,
          9,
          8,
          8,
          8,
          9,
          9,
          9,
          9,
          9,
          8,
          9,
          9,
          8,
          8,
          9,
          9,
          8,
          9,
          9,
          8,
          9,
          9,
          9,
          9,
          9,
          8,
          9,
          9,
          9,
          9,
          8,
          8,
          9,
          9,
          8,
          8,
          9,
          9,
          9,
          9,
          9,
          9,
          9,
          9,
          8,
          9,
          9,
          9,
          8,
          8,
          8,
          9,
          9,
          9,
          8,
          8,
          9,
          9,
          9,
          9,
          9,
          9,
          8,
          9,
          8,
          8,
          9,
          9,
          9,
          9,
          9,
          9,
          9,
          8,
          9,
          9,
          9,
          8,
          8,
          9,
          9,
          9,
          9,
          9,
          8,
          8,
          9,
          8,
          9,
          9,
          8,
          9,
          9,
          9,
          9,
          9,
          9,
          8,
          9,
          9,
          9,
          9,
          9,
          8,
          9,
          8,
          9,
          9,
          9,
          9,
          9,
          9,
          9,
          8,
          9,
          9,
          8,
          9,
          8,
          9,
          9,
          9,
          8,
          9,
          9,
          9,
          9,
          9,
          9,
          8,
          9,
          9,
          9,
          9,
          9,
          9,
          9,
          9,
          9,
          9,
          9,
          9,
          9,
          9,
          9,
          9,
          9,
          9,
          9,
          9,
          9,
          9,
          9,
          9,
          9,
          9,
          9,
          9,
          9,
          9,
          9,
          9,
          9,
          9,
          9,
          9,
          9,
          9
         ],
         "xaxis": "x",
         "y": [
          1794,
          1312,
          1874,
          1294,
          1852,
          84,
          1039,
          785,
          857,
          160,
          1442,
          478,
          1196,
          525,
          526,
          686,
          1506,
          888,
          1028,
          471,
          241,
          1102,
          1341,
          1247,
          759,
          1380,
          780,
          1055,
          146,
          619,
          306,
          1317,
          1782,
          1232,
          162,
          1045,
          499,
          1454,
          1564,
          1802,
          2020,
          1724,
          1902,
          1244,
          934,
          1688,
          1072,
          1830,
          1005,
          1619,
          765,
          976,
          383,
          1482,
          1048,
          875,
          1207,
          1760,
          1366,
          1928,
          1205,
          257,
          164,
          660,
          454,
          568,
          290,
          412,
          363,
          278,
          415,
          1220,
          1024,
          782,
          367,
          206,
          250,
          125,
          209,
          291,
          441,
          266,
          254,
          312,
          353,
          1056,
          1557,
          351,
          297,
          533,
          1060,
          364,
          403,
          296,
          323,
          1137,
          848,
          488,
          1346,
          825,
          362,
          409,
          352,
          432,
          464,
          502,
          489,
          427,
          1061,
          766,
          668,
          355,
          912,
          1469,
          1288,
          1365,
          1089,
          535,
          741,
          1421,
          1172,
          1710,
          612,
          742,
          601,
          829,
          560,
          1254,
          528,
          850,
          1634,
          1714,
          614,
          1864,
          365,
          1434,
          1386,
          608,
          777,
          993,
          624,
          1739,
          1111,
          797,
          773,
          960,
          572,
          760,
          569,
          1560,
          794,
          1595,
          605,
          603,
          1367,
          1122,
          1758,
          1108,
          674,
          551,
          450,
          1694,
          645,
          473,
          532,
          408,
          536,
          998,
          704,
          524,
          669,
          727,
          1019,
          444,
          709,
          534,
          891,
          997,
          677,
          1675,
          1501,
          1301,
          1397,
          1127,
          1178,
          1206,
          1944,
          567,
          1190,
          1646,
          1510,
          1493,
          1298,
          945,
          1193,
          1069,
          1023,
          555,
          481,
          1085,
          1081,
          1104,
          1391,
          1398,
          1598,
          1141,
          1584,
          1114,
          1588,
          1435,
          799,
          1477,
          1337,
          1091,
          1857,
          2413,
          1160,
          823,
          1418,
          1237,
          1527,
          734,
          400,
          1218,
          1008,
          1392,
          845,
          638,
          815,
          1371,
          862,
          1050,
          837,
          744,
          1720,
          695,
          1113,
          611,
          1016,
          1415,
          631,
          721,
          712,
          1611,
          1471,
          987,
          1387,
          961,
          970,
          1674,
          1932,
          2009,
          2418,
          909,
          1258,
          1768,
          1165,
          1686,
          937,
          835,
          1082,
          507,
          946,
          1121,
          738,
          1065,
          1422,
          1225,
          1533,
          1170,
          1107,
          1098,
          2123,
          1353,
          1305,
          1095,
          1843,
          1242,
          831,
          1105,
          1529,
          1640,
          1955,
          587,
          647,
          728,
          544,
          841,
          698,
          564,
          475,
          929,
          1075,
          1036,
          637,
          743,
          643,
          null,
          723,
          957,
          1490,
          1716,
          697,
          854,
          864,
          800,
          651,
          778,
          666,
          1182,
          1162,
          853,
          781,
          664,
          751,
          828,
          722,
          814,
          898,
          925,
          899,
          754,
          935,
          1766,
          872,
          756,
          1413,
          1623,
          870,
          1067,
          886,
          966,
          959,
          916,
          889,
          808,
          1057,
          834,
          847,
          876,
          881,
          985,
          933,
          1021,
          1282,
          910,
          654,
          880,
          1428,
          1109,
          1000,
          1037,
          1311,
          1011,
          1157,
          949,
          1080,
          1068,
          1216,
          974,
          999,
          863,
          922,
          1073,
          2103,
          1063,
          1038,
          984,
          1582,
          900,
          1013,
          884,
          1246,
          1058,
          1033,
          1123,
          1007,
          1164,
          1151,
          1285,
          1262,
          1062,
          1047,
          1017,
          1042,
          1212,
          1189,
          964,
          1188,
          1198,
          1590,
          1362,
          972,
          1064,
          2073,
          1035,
          1083,
          1192,
          968,
          1152,
          811,
          818,
          858,
          739,
          988,
          901,
          1653,
          2031,
          1363,
          1329,
          1935,
          1332,
          996,
          1128,
          1077,
          1025,
          1171,
          1333,
          1093,
          885,
          1049,
          1026,
          2371,
          989,
          1316,
          1003,
          1079,
          1155,
          1112,
          980,
          1791,
          1261,
          1140,
          1238,
          1204,
          973,
          1088,
          994,
          1820,
          1053,
          1194,
          1118,
          1052,
          1041,
          1130,
          956,
          1153,
          1191,
          928,
          1360,
          1374,
          1231,
          1167,
          1539,
          1103,
          1334,
          1158,
          1135,
          1303,
          1252,
          1485,
          1283,
          1209,
          1166,
          1467,
          1281,
          1222,
          1563,
          1359,
          1591,
          1669,
          1195,
          1291,
          1201,
          711,
          1763,
          1700,
          1784,
          1939,
          1827,
          1885,
          1788,
          1405,
          1331,
          1236,
          1542,
          1910,
          1566,
          1594,
          1268,
          1491,
          1691,
          1722,
          1538,
          1681,
          1673,
          1800,
          1785,
          1748,
          1228,
          1404,
          339,
          2059,
          1765,
          1726,
          1796,
          1297,
          1348,
          1586,
          1393,
          1458,
          1264,
          1581,
          1736,
          1478,
          1425,
          1936,
          1616,
          1637,
          1535,
          1514,
          1705,
          1654,
          1406,
          1697,
          1772,
          2069,
          1609,
          2089,
          1996,
          1872,
          1973,
          1793,
          2221,
          1656,
          1276,
          1265,
          1287,
          1272,
          1693,
          1280,
          1338,
          1481,
          1555,
          1579,
          1410,
          1541,
          1511,
          1747,
          1169,
          703,
          474,
          1940,
          1715,
          1992,
          1991,
          1466,
          1704,
          2435,
          1803,
          1877,
          1731,
          1805,
          1866,
          1908,
          1757,
          1777,
          2333,
          null,
          1904,
          2110,
          1459,
          2121,
          1721,
          1769,
          1890,
          2151,
          1659,
          1754,
          1888,
          1696,
          1260,
          1234,
          1251,
          1324,
          1295,
          1259,
          1183,
          1142,
          1431,
          1460,
          1423,
          1592,
          1504,
          1622,
          1476,
          1642,
          1452,
          1516,
          1437,
          1567,
          1411,
          1526,
          1336,
          1224,
          1369,
          1738,
          1576,
          1292,
          1512,
          1844,
          1335,
          1447,
          1436,
          1565,
          1378,
          1370,
          1680,
          1382,
          1578,
          1429,
          1610,
          1650,
          1644,
          1711,
          1432,
          1445,
          1620,
          1494,
          1752,
          1836,
          1537,
          1612,
          1500,
          1439,
          1358,
          1310,
          1408,
          1690,
          1345,
          1394,
          1658,
          1492,
          1465,
          1480,
          1583,
          1521,
          1627,
          1573,
          1741,
          1822,
          1657,
          1569,
          1664,
          1613,
          1618,
          1525,
          1661,
          2052,
          905,
          965,
          1097,
          1878,
          1120,
          1735,
          1389,
          1409,
          1713,
          1789,
          1811,
          2030,
          1839,
          1821,
          1507,
          977,
          869,
          1154,
          1156,
          1173,
          2055,
          1213,
          1239,
          1243,
          1250,
          1270,
          1273,
          1274,
          1275,
          1278,
          1293,
          1302,
          1314,
          1322,
          1323,
          1339,
          1340,
          1343,
          1354,
          1361,
          1368,
          1385,
          1703,
          1554,
          2336,
          1851,
          1978,
          1759,
          null,
          2224,
          1898,
          1377,
          1379,
          1383,
          1396,
          1400,
          1402,
          1407,
          1412,
          1420,
          1430,
          1433,
          1438,
          1440,
          1441,
          1448,
          1451,
          1461,
          1463,
          1464,
          1468,
          1470,
          1472,
          2369,
          2443,
          1518,
          1995,
          2016,
          1403,
          2122,
          1817,
          null,
          null,
          1486,
          1489,
          1496,
          1498,
          1503,
          1513,
          1515,
          1519,
          1520,
          1523,
          1524,
          1531,
          1536,
          1549,
          1551,
          1558,
          1570,
          1571,
          1572,
          1577,
          1580,
          1587,
          1596,
          1954,
          null,
          1663,
          2013,
          1126,
          1921,
          2159,
          2422,
          null,
          1604,
          1617,
          1624,
          1625,
          1626,
          1641,
          1643,
          1645,
          1648,
          1649,
          1652,
          1660,
          1662,
          1667,
          1670,
          1672,
          1677,
          1678,
          1682,
          1687,
          1689,
          1699,
          1712,
          1372,
          null,
          1974,
          2006,
          2199,
          1318,
          2050,
          2393,
          1621,
          1373,
          1799,
          1597,
          1599,
          1723,
          1729,
          1730,
          1737,
          1740,
          1744,
          1746,
          1750,
          1753,
          1756,
          1762,
          1764,
          1771,
          1773,
          1776,
          1778,
          1779,
          1780,
          1790,
          2038,
          1390,
          1553,
          2046,
          2011,
          1792,
          2007,
          1718,
          2376,
          1002,
          2045,
          1795,
          1801,
          1807,
          1809,
          1816,
          1818,
          1823,
          1825,
          1831,
          1833,
          1834,
          1838,
          1840,
          1841,
          1845,
          1847,
          1854,
          1855,
          1858,
          1859,
          1804,
          1767,
          1861,
          1862,
          2087,
          1865,
          2143,
          2206,
          null,
          null,
          2276,
          2352,
          2346,
          1867,
          1868,
          1871,
          1875,
          1879,
          1880,
          1882,
          1883,
          1884,
          1889,
          1891,
          1892,
          1893,
          1896,
          1900,
          1901,
          1903,
          1907,
          1911,
          1916,
          1917,
          1918,
          1919,
          1922,
          1923,
          1863,
          2271,
          1924,
          1926,
          1934,
          2423,
          1873,
          null,
          1937,
          1938,
          1941,
          1942,
          1950,
          1951,
          1953,
          1956,
          1961,
          1970,
          1971,
          1972,
          1876,
          1977,
          1980,
          1985,
          1990,
          1993,
          1994,
          1998,
          2000,
          2003,
          2004,
          2005,
          1449,
          1508,
          2010,
          2012,
          2259,
          1300,
          1509,
          null,
          2301,
          1897,
          2018,
          2024,
          2035,
          2037,
          2040,
          2043,
          2049,
          2051,
          2057,
          2063,
          2066,
          2068,
          2070,
          2074,
          2077,
          2080,
          2081,
          2085,
          2093,
          2099,
          2100,
          2104,
          2105,
          2106,
          2107,
          2112,
          2115,
          2124,
          2264,
          2339,
          2479,
          2257,
          1417,
          2315,
          2201,
          2246,
          null,
          1920,
          1444,
          2351,
          2358,
          null,
          2148,
          2400,
          2305,
          null,
          null,
          2207,
          2060,
          2113,
          2342,
          2064,
          2323,
          null,
          null,
          1603,
          2108,
          2293,
          2164,
          2141,
          2186,
          2312,
          1982,
          1895,
          null,
          2161,
          null,
          1986,
          2274,
          1770,
          2232,
          null,
          null,
          2053,
          1952,
          2176,
          1962,
          2136,
          1668,
          null,
          2071,
          2181,
          2158,
          null,
          null,
          null,
          1550,
          1849,
          null,
          1837,
          2168,
          1651,
          null,
          1881,
          null,
          null,
          2363,
          null,
          1277,
          1059,
          null,
          1666,
          1149,
          1685,
          2111,
          null,
          2191,
          null,
          null,
          null,
          2341,
          2318,
          1743,
          2240,
          null,
          2272,
          2310,
          2289,
          2190,
          null,
          2368,
          2314,
          2350,
          null,
          null,
          null,
          2162,
          2171,
          1979,
          1997,
          null,
          2384,
          1629,
          null,
          2226,
          null,
          2262,
          2328,
          null,
          null,
          2154,
          null,
          2033,
          2239,
          null,
          2464,
          1655,
          2205,
          1894,
          2182,
          2200,
          null,
          null,
          2241,
          2327,
          2231,
          null,
          null,
          2195,
          null,
          2211,
          2194,
          2254,
          2446,
          1676,
          2463,
          2022,
          2288,
          2404,
          1600,
          2061,
          2291,
          2230,
          2130,
          2229,
          1684,
          2144,
          null,
          2157,
          null,
          2008,
          2215,
          1829,
          null,
          2474,
          2083,
          1957,
          2062,
          null,
          2295,
          1975,
          2468,
          2265,
          1695,
          null,
          null,
          1927,
          null,
          2082,
          1544,
          1943,
          2287,
          2177,
          null,
          1117,
          2397,
          2174,
          2238,
          null,
          2396,
          null,
          null,
          2455,
          2270,
          2454,
          2039,
          2163,
          1707,
          1983,
          null,
          null,
          2495,
          null,
          2142,
          1775,
          null,
          2127,
          null,
          null,
          null,
          null,
          2250,
          null,
          2489,
          1706,
          2452,
          1815,
          2072,
          2253,
          null,
          null,
          1886,
          null,
          1147,
          2036,
          2091,
          1835,
          null,
          null,
          null,
          1959,
          2450,
          1931,
          2173,
          2126,
          2098,
          1728,
          null,
          null,
          null,
          null,
          2294,
          null,
          null,
          null,
          null,
          2285,
          null,
          2431,
          2430,
          null,
          null,
          2054,
          null,
          null,
          null,
          null,
          2428,
          null,
          null,
          null,
          2267,
          null,
          null,
          null,
          null,
          2114,
          null,
          null,
          2335,
          null,
          null
         ],
         "yaxis": "y"
        }
       ],
       "layout": {
        "legend": {
         "tracegroupgap": 0
        },
        "template": {
         "data": {
          "bar": [
           {
            "error_x": {
             "color": "#2a3f5f"
            },
            "error_y": {
             "color": "#2a3f5f"
            },
            "marker": {
             "line": {
              "color": "#E5ECF6",
              "width": 0.5
             },
             "pattern": {
              "fillmode": "overlay",
              "size": 10,
              "solidity": 0.2
             }
            },
            "type": "bar"
           }
          ],
          "barpolar": [
           {
            "marker": {
             "line": {
              "color": "#E5ECF6",
              "width": 0.5
             },
             "pattern": {
              "fillmode": "overlay",
              "size": 10,
              "solidity": 0.2
             }
            },
            "type": "barpolar"
           }
          ],
          "carpet": [
           {
            "aaxis": {
             "endlinecolor": "#2a3f5f",
             "gridcolor": "white",
             "linecolor": "white",
             "minorgridcolor": "white",
             "startlinecolor": "#2a3f5f"
            },
            "baxis": {
             "endlinecolor": "#2a3f5f",
             "gridcolor": "white",
             "linecolor": "white",
             "minorgridcolor": "white",
             "startlinecolor": "#2a3f5f"
            },
            "type": "carpet"
           }
          ],
          "choropleth": [
           {
            "colorbar": {
             "outlinewidth": 0,
             "ticks": ""
            },
            "type": "choropleth"
           }
          ],
          "contour": [
           {
            "colorbar": {
             "outlinewidth": 0,
             "ticks": ""
            },
            "colorscale": [
             [
              0,
              "#0d0887"
             ],
             [
              0.1111111111111111,
              "#46039f"
             ],
             [
              0.2222222222222222,
              "#7201a8"
             ],
             [
              0.3333333333333333,
              "#9c179e"
             ],
             [
              0.4444444444444444,
              "#bd3786"
             ],
             [
              0.5555555555555556,
              "#d8576b"
             ],
             [
              0.6666666666666666,
              "#ed7953"
             ],
             [
              0.7777777777777778,
              "#fb9f3a"
             ],
             [
              0.8888888888888888,
              "#fdca26"
             ],
             [
              1,
              "#f0f921"
             ]
            ],
            "type": "contour"
           }
          ],
          "contourcarpet": [
           {
            "colorbar": {
             "outlinewidth": 0,
             "ticks": ""
            },
            "type": "contourcarpet"
           }
          ],
          "heatmap": [
           {
            "colorbar": {
             "outlinewidth": 0,
             "ticks": ""
            },
            "colorscale": [
             [
              0,
              "#0d0887"
             ],
             [
              0.1111111111111111,
              "#46039f"
             ],
             [
              0.2222222222222222,
              "#7201a8"
             ],
             [
              0.3333333333333333,
              "#9c179e"
             ],
             [
              0.4444444444444444,
              "#bd3786"
             ],
             [
              0.5555555555555556,
              "#d8576b"
             ],
             [
              0.6666666666666666,
              "#ed7953"
             ],
             [
              0.7777777777777778,
              "#fb9f3a"
             ],
             [
              0.8888888888888888,
              "#fdca26"
             ],
             [
              1,
              "#f0f921"
             ]
            ],
            "type": "heatmap"
           }
          ],
          "heatmapgl": [
           {
            "colorbar": {
             "outlinewidth": 0,
             "ticks": ""
            },
            "colorscale": [
             [
              0,
              "#0d0887"
             ],
             [
              0.1111111111111111,
              "#46039f"
             ],
             [
              0.2222222222222222,
              "#7201a8"
             ],
             [
              0.3333333333333333,
              "#9c179e"
             ],
             [
              0.4444444444444444,
              "#bd3786"
             ],
             [
              0.5555555555555556,
              "#d8576b"
             ],
             [
              0.6666666666666666,
              "#ed7953"
             ],
             [
              0.7777777777777778,
              "#fb9f3a"
             ],
             [
              0.8888888888888888,
              "#fdca26"
             ],
             [
              1,
              "#f0f921"
             ]
            ],
            "type": "heatmapgl"
           }
          ],
          "histogram": [
           {
            "marker": {
             "pattern": {
              "fillmode": "overlay",
              "size": 10,
              "solidity": 0.2
             }
            },
            "type": "histogram"
           }
          ],
          "histogram2d": [
           {
            "colorbar": {
             "outlinewidth": 0,
             "ticks": ""
            },
            "colorscale": [
             [
              0,
              "#0d0887"
             ],
             [
              0.1111111111111111,
              "#46039f"
             ],
             [
              0.2222222222222222,
              "#7201a8"
             ],
             [
              0.3333333333333333,
              "#9c179e"
             ],
             [
              0.4444444444444444,
              "#bd3786"
             ],
             [
              0.5555555555555556,
              "#d8576b"
             ],
             [
              0.6666666666666666,
              "#ed7953"
             ],
             [
              0.7777777777777778,
              "#fb9f3a"
             ],
             [
              0.8888888888888888,
              "#fdca26"
             ],
             [
              1,
              "#f0f921"
             ]
            ],
            "type": "histogram2d"
           }
          ],
          "histogram2dcontour": [
           {
            "colorbar": {
             "outlinewidth": 0,
             "ticks": ""
            },
            "colorscale": [
             [
              0,
              "#0d0887"
             ],
             [
              0.1111111111111111,
              "#46039f"
             ],
             [
              0.2222222222222222,
              "#7201a8"
             ],
             [
              0.3333333333333333,
              "#9c179e"
             ],
             [
              0.4444444444444444,
              "#bd3786"
             ],
             [
              0.5555555555555556,
              "#d8576b"
             ],
             [
              0.6666666666666666,
              "#ed7953"
             ],
             [
              0.7777777777777778,
              "#fb9f3a"
             ],
             [
              0.8888888888888888,
              "#fdca26"
             ],
             [
              1,
              "#f0f921"
             ]
            ],
            "type": "histogram2dcontour"
           }
          ],
          "mesh3d": [
           {
            "colorbar": {
             "outlinewidth": 0,
             "ticks": ""
            },
            "type": "mesh3d"
           }
          ],
          "parcoords": [
           {
            "line": {
             "colorbar": {
              "outlinewidth": 0,
              "ticks": ""
             }
            },
            "type": "parcoords"
           }
          ],
          "pie": [
           {
            "automargin": true,
            "type": "pie"
           }
          ],
          "scatter": [
           {
            "fillpattern": {
             "fillmode": "overlay",
             "size": 10,
             "solidity": 0.2
            },
            "type": "scatter"
           }
          ],
          "scatter3d": [
           {
            "line": {
             "colorbar": {
              "outlinewidth": 0,
              "ticks": ""
             }
            },
            "marker": {
             "colorbar": {
              "outlinewidth": 0,
              "ticks": ""
             }
            },
            "type": "scatter3d"
           }
          ],
          "scattercarpet": [
           {
            "marker": {
             "colorbar": {
              "outlinewidth": 0,
              "ticks": ""
             }
            },
            "type": "scattercarpet"
           }
          ],
          "scattergeo": [
           {
            "marker": {
             "colorbar": {
              "outlinewidth": 0,
              "ticks": ""
             }
            },
            "type": "scattergeo"
           }
          ],
          "scattergl": [
           {
            "marker": {
             "colorbar": {
              "outlinewidth": 0,
              "ticks": ""
             }
            },
            "type": "scattergl"
           }
          ],
          "scattermapbox": [
           {
            "marker": {
             "colorbar": {
              "outlinewidth": 0,
              "ticks": ""
             }
            },
            "type": "scattermapbox"
           }
          ],
          "scatterpolar": [
           {
            "marker": {
             "colorbar": {
              "outlinewidth": 0,
              "ticks": ""
             }
            },
            "type": "scatterpolar"
           }
          ],
          "scatterpolargl": [
           {
            "marker": {
             "colorbar": {
              "outlinewidth": 0,
              "ticks": ""
             }
            },
            "type": "scatterpolargl"
           }
          ],
          "scatterternary": [
           {
            "marker": {
             "colorbar": {
              "outlinewidth": 0,
              "ticks": ""
             }
            },
            "type": "scatterternary"
           }
          ],
          "surface": [
           {
            "colorbar": {
             "outlinewidth": 0,
             "ticks": ""
            },
            "colorscale": [
             [
              0,
              "#0d0887"
             ],
             [
              0.1111111111111111,
              "#46039f"
             ],
             [
              0.2222222222222222,
              "#7201a8"
             ],
             [
              0.3333333333333333,
              "#9c179e"
             ],
             [
              0.4444444444444444,
              "#bd3786"
             ],
             [
              0.5555555555555556,
              "#d8576b"
             ],
             [
              0.6666666666666666,
              "#ed7953"
             ],
             [
              0.7777777777777778,
              "#fb9f3a"
             ],
             [
              0.8888888888888888,
              "#fdca26"
             ],
             [
              1,
              "#f0f921"
             ]
            ],
            "type": "surface"
           }
          ],
          "table": [
           {
            "cells": {
             "fill": {
              "color": "#EBF0F8"
             },
             "line": {
              "color": "white"
             }
            },
            "header": {
             "fill": {
              "color": "#C8D4E3"
             },
             "line": {
              "color": "white"
             }
            },
            "type": "table"
           }
          ]
         },
         "layout": {
          "annotationdefaults": {
           "arrowcolor": "#2a3f5f",
           "arrowhead": 0,
           "arrowwidth": 1
          },
          "autotypenumbers": "strict",
          "coloraxis": {
           "colorbar": {
            "outlinewidth": 0,
            "ticks": ""
           }
          },
          "colorscale": {
           "diverging": [
            [
             0,
             "#8e0152"
            ],
            [
             0.1,
             "#c51b7d"
            ],
            [
             0.2,
             "#de77ae"
            ],
            [
             0.3,
             "#f1b6da"
            ],
            [
             0.4,
             "#fde0ef"
            ],
            [
             0.5,
             "#f7f7f7"
            ],
            [
             0.6,
             "#e6f5d0"
            ],
            [
             0.7,
             "#b8e186"
            ],
            [
             0.8,
             "#7fbc41"
            ],
            [
             0.9,
             "#4d9221"
            ],
            [
             1,
             "#276419"
            ]
           ],
           "sequential": [
            [
             0,
             "#0d0887"
            ],
            [
             0.1111111111111111,
             "#46039f"
            ],
            [
             0.2222222222222222,
             "#7201a8"
            ],
            [
             0.3333333333333333,
             "#9c179e"
            ],
            [
             0.4444444444444444,
             "#bd3786"
            ],
            [
             0.5555555555555556,
             "#d8576b"
            ],
            [
             0.6666666666666666,
             "#ed7953"
            ],
            [
             0.7777777777777778,
             "#fb9f3a"
            ],
            [
             0.8888888888888888,
             "#fdca26"
            ],
            [
             1,
             "#f0f921"
            ]
           ],
           "sequentialminus": [
            [
             0,
             "#0d0887"
            ],
            [
             0.1111111111111111,
             "#46039f"
            ],
            [
             0.2222222222222222,
             "#7201a8"
            ],
            [
             0.3333333333333333,
             "#9c179e"
            ],
            [
             0.4444444444444444,
             "#bd3786"
            ],
            [
             0.5555555555555556,
             "#d8576b"
            ],
            [
             0.6666666666666666,
             "#ed7953"
            ],
            [
             0.7777777777777778,
             "#fb9f3a"
            ],
            [
             0.8888888888888888,
             "#fdca26"
            ],
            [
             1,
             "#f0f921"
            ]
           ]
          },
          "colorway": [
           "#636efa",
           "#EF553B",
           "#00cc96",
           "#ab63fa",
           "#FFA15A",
           "#19d3f3",
           "#FF6692",
           "#B6E880",
           "#FF97FF",
           "#FECB52"
          ],
          "font": {
           "color": "#2a3f5f"
          },
          "geo": {
           "bgcolor": "white",
           "lakecolor": "white",
           "landcolor": "#E5ECF6",
           "showlakes": true,
           "showland": true,
           "subunitcolor": "white"
          },
          "hoverlabel": {
           "align": "left"
          },
          "hovermode": "closest",
          "mapbox": {
           "style": "light"
          },
          "paper_bgcolor": "white",
          "plot_bgcolor": "#E5ECF6",
          "polar": {
           "angularaxis": {
            "gridcolor": "white",
            "linecolor": "white",
            "ticks": ""
           },
           "bgcolor": "#E5ECF6",
           "radialaxis": {
            "gridcolor": "white",
            "linecolor": "white",
            "ticks": ""
           }
          },
          "scene": {
           "xaxis": {
            "backgroundcolor": "#E5ECF6",
            "gridcolor": "white",
            "gridwidth": 2,
            "linecolor": "white",
            "showbackground": true,
            "ticks": "",
            "zerolinecolor": "white"
           },
           "yaxis": {
            "backgroundcolor": "#E5ECF6",
            "gridcolor": "white",
            "gridwidth": 2,
            "linecolor": "white",
            "showbackground": true,
            "ticks": "",
            "zerolinecolor": "white"
           },
           "zaxis": {
            "backgroundcolor": "#E5ECF6",
            "gridcolor": "white",
            "gridwidth": 2,
            "linecolor": "white",
            "showbackground": true,
            "ticks": "",
            "zerolinecolor": "white"
           }
          },
          "shapedefaults": {
           "line": {
            "color": "#2a3f5f"
           }
          },
          "ternary": {
           "aaxis": {
            "gridcolor": "white",
            "linecolor": "white",
            "ticks": ""
           },
           "baxis": {
            "gridcolor": "white",
            "linecolor": "white",
            "ticks": ""
           },
           "bgcolor": "#E5ECF6",
           "caxis": {
            "gridcolor": "white",
            "linecolor": "white",
            "ticks": ""
           }
          },
          "title": {
           "x": 0.05
          },
          "xaxis": {
           "automargin": true,
           "gridcolor": "white",
           "linecolor": "white",
           "ticks": "",
           "title": {
            "standoff": 15
           },
           "zerolinecolor": "white",
           "zerolinewidth": 2
          },
          "yaxis": {
           "automargin": true,
           "gridcolor": "white",
           "linecolor": "white",
           "ticks": "",
           "title": {
            "standoff": 15
           },
           "zerolinecolor": "white",
           "zerolinewidth": 2
          }
         }
        },
        "title": {
         "text": "Frekuensi Penggunaan vs. Tingkatan (JLPT N1)"
        },
        "xaxis": {
         "anchor": "y",
         "domain": [
          0,
          1
         ],
         "title": {
          "text": "Tingkat Kesulitan (Grade)"
         }
        },
        "yaxis": {
         "anchor": "x",
         "domain": [
          0,
          1
         ],
         "title": {
          "text": "Frekuensi Penggunaan"
         }
        }
       }
      }
     },
     "metadata": {},
     "output_type": "display_data"
    },
    {
     "data": {
      "application/vnd.plotly.v1+json": {
       "config": {
        "plotlyServerURL": "https://plot.ly"
       },
       "data": [
        {
         "hovertemplate": "<b>%{hovertext}</b><br><br>Tingkat Kesulitan (Grade)=%{x}<br>Frekuensi Penggunaan=%{y}<extra></extra>",
         "hovertext": [
          "了",
          "丸",
          "玉",
          "久",
          "戸",
          "毛",
          "央",
          "氷",
          "皮",
          "皿",
          "竹",
          "糸",
          "虫",
          "村",
          "貝",
          "池",
          "羽",
          "角",
          "谷",
          "麦",
          "林",
          "州",
          "血",
          "星",
          "札",
          "辺",
          "弱",
          "黄",
          "森",
          "雲",
          "県",
          "軽",
          "農",
          "鉄",
          "算",
          "線",
          "仲",
          "低",
          "岸",
          "波",
          "拾",
          "秒",
          "競",
          "令",
          "根",
          "倍",
          "島",
          "祭",
          "章",
          "童",
          "階",
          "植",
          "温",
          "湯",
          "短",
          "泉",
          "橋",
          "緑",
          "練",
          "億",
          "課",
          "賞",
          "輪",
          "像",
          "卒",
          "協",
          "周",
          "囲",
          "固",
          "季",
          "希",
          "材",
          "芸",
          "技",
          "骨",
          "寺",
          "岩",
          "区",
          "坂",
          "勇",
          "毒",
          "浅",
          "軍",
          "仏",
          "築",
          "門",
          "荷",
          "府",
          "浴",
          "専",
          "細",
          "鼻",
          "兵",
          "塩",
          "栄",
          "干",
          "底",
          "署",
          "恋",
          "訓",
          "祈",
          "焼",
          "胸",
          "脳",
          "枚",
          "禁",
          "喫",
          "減",
          "順",
          "布",
          "詞",
          "歴",
          "冊",
          "宇",
          "団",
          "暴",
          "混",
          "乱",
          "改",
          "絡",
          "比",
          "被",
          "震",
          "械",
          "個",
          "圧",
          "厚",
          "防",
          "史",
          "委",
          "査",
          "総",
          "設",
          "省",
          "税",
          "各",
          "勢",
          "営",
          "領",
          "副",
          "域",
          "停",
          "革",
          "律",
          "準",
          "則",
          "導",
          "乳",
          "城",
          "担",
          "額",
          "輸",
          "燃",
          "祝",
          "届",
          "肩",
          "腕",
          "腰",
          "触",
          "層",
          "型",
          "庁",
          "管",
          "象",
          "量",
          "境",
          "武",
          "述",
          "販",
          "含",
          "況",
          "補",
          "効",
          "豊",
          "巻",
          "捜",
          "替",
          "造",
          "印",
          "復",
          "筆",
          "貯",
          "刺",
          "郵",
          "針",
          "菓",
          "河",
          "汗",
          "再",
          "接",
          "占",
          "胃",
          "悩",
          "昇",
          "濃",
          "極",
          "逆",
          "巨",
          "庫",
          "児",
          "凍",
          "幼",
          "清",
          "録",
          "券",
          "移",
          "並",
          "乾",
          "欧",
          "臣",
          "略",
          "航",
          "板",
          "詰",
          "照",
          "快",
          "版",
          "預",
          "延",
          "翌",
          "符",
          "編",
          "普",
          "掃",
          "泥",
          "棒",
          "孫",
          "帯",
          "粉",
          "菜",
          "貨",
          "陸",
          "均",
          "採",
          "永",
          "液",
          "績",
          "複",
          "党",
          "卵",
          "捨",
          "汚",
          "机",
          "簡",
          "誌",
          "宝",
          "尊",
          "敬",
          "灰",
          "砂",
          "著",
          "蒸",
          "蔵",
          "装",
          "裏",
          "諸",
          "臓",
          "純",
          "紅",
          "拝",
          "劇",
          "承",
          "損",
          "枝",
          "測",
          "講",
          "紹",
          "介",
          "湖",
          "銅",
          "油",
          "旧",
          "姓",
          "貿",
          "将",
          "伸",
          "幅",
          "甘",
          "換",
          "療",
          "般",
          "依",
          "漁",
          "募",
          "患",
          "湾",
          "爆",
          "跡",
          "香",
          "兆",
          "齢",
          "刊",
          "傾",
          "奥",
          "贈",
          "超",
          "雇",
          "片",
          "群",
          "埋",
          "駐",
          "柱",
          "鋭",
          "殿",
          "薄",
          "伺",
          "炭",
          "包",
          "衣",
          "鉱",
          "双",
          "床",
          "掘",
          "泊",
          "荒",
          "袋",
          "珍",
          "籍",
          "刷",
          "封",
          "筒",
          "柔",
          "沈",
          "辛",
          "匹",
          "叫",
          "涙",
          "缶",
          "粒",
          "塔",
          "肌",
          "舟",
          "曇",
          "磨",
          "湿",
          "硬",
          "鈍",
          "涼",
          "零",
          "綿",
          "帽",
          "憎",
          "滴",
          "畳",
          "畜",
          "溶",
          "踊",
          "賢",
          "灯",
          "咲",
          "塗",
          "召",
          "挟",
          "枯",
          "沸",
          "濯",
          "燥",
          "瓶",
          "耕",
          "肯",
          "脂",
          "膚",
          "軒",
          "軟",
          "郊",
          "隅",
          "隻"
         ],
         "legendgroup": "",
         "marker": {
          "color": "#636efa",
          "line": {
           "color": "DarkSlateGrey",
           "width": 2
          },
          "size": 12,
          "symbol": "circle"
         },
         "mode": "markers",
         "name": "",
         "orientation": "v",
         "showlegend": false,
         "type": "scatter",
         "x": [
          8,
          2,
          1,
          5,
          2,
          2,
          3,
          3,
          3,
          3,
          1,
          1,
          1,
          1,
          1,
          2,
          2,
          2,
          2,
          2,
          1,
          3,
          3,
          2,
          4,
          4,
          2,
          2,
          1,
          2,
          3,
          3,
          3,
          3,
          2,
          2,
          4,
          4,
          3,
          3,
          3,
          3,
          4,
          4,
          3,
          3,
          3,
          3,
          3,
          3,
          3,
          3,
          3,
          3,
          3,
          6,
          3,
          3,
          3,
          4,
          4,
          4,
          4,
          5,
          4,
          4,
          4,
          4,
          4,
          4,
          4,
          4,
          4,
          5,
          6,
          2,
          2,
          3,
          3,
          4,
          4,
          4,
          4,
          5,
          5,
          2,
          3,
          4,
          4,
          6,
          2,
          3,
          4,
          4,
          4,
          6,
          4,
          6,
          8,
          4,
          8,
          4,
          6,
          6,
          6,
          5,
          8,
          5,
          4,
          5,
          6,
          4,
          6,
          6,
          5,
          5,
          5,
          6,
          4,
          8,
          5,
          8,
          8,
          4,
          5,
          5,
          5,
          5,
          4,
          3,
          5,
          5,
          5,
          4,
          5,
          4,
          5,
          5,
          5,
          4,
          6,
          4,
          6,
          6,
          5,
          5,
          5,
          6,
          6,
          6,
          5,
          5,
          5,
          4,
          6,
          8,
          8,
          8,
          8,
          6,
          4,
          6,
          4,
          4,
          4,
          5,
          5,
          5,
          8,
          8,
          8,
          6,
          5,
          5,
          6,
          8,
          8,
          5,
          4,
          5,
          3,
          4,
          8,
          6,
          6,
          8,
          5,
          8,
          5,
          5,
          8,
          4,
          8,
          8,
          8,
          4,
          5,
          8,
          3,
          4,
          8,
          6,
          4,
          4,
          5,
          5,
          6,
          8,
          8,
          4,
          5,
          4,
          3,
          8,
          4,
          5,
          5,
          5,
          6,
          6,
          8,
          5,
          8,
          8,
          8,
          6,
          4,
          4,
          4,
          4,
          4,
          4,
          5,
          5,
          5,
          5,
          5,
          5,
          6,
          6,
          6,
          8,
          6,
          6,
          6,
          6,
          6,
          6,
          6,
          6,
          6,
          6,
          6,
          6,
          6,
          6,
          6,
          6,
          6,
          6,
          6,
          5,
          5,
          5,
          5,
          5,
          8,
          8,
          3,
          5,
          3,
          5,
          8,
          5,
          6,
          8,
          8,
          8,
          8,
          8,
          8,
          8,
          4,
          8,
          8,
          8,
          8,
          8,
          8,
          4,
          8,
          5,
          8,
          8,
          8,
          8,
          8,
          6,
          5,
          8,
          8,
          3,
          8,
          8,
          8,
          8,
          3,
          4,
          4,
          5,
          8,
          8,
          8,
          8,
          8,
          8,
          8,
          8,
          4,
          8,
          8,
          8,
          8,
          8,
          8,
          8,
          8,
          8,
          8,
          8,
          8,
          8,
          8,
          8,
          8,
          8,
          8,
          8,
          8,
          5,
          8,
          8,
          8,
          8,
          8,
          8,
          8,
          8,
          4,
          8,
          8,
          8,
          8,
          8,
          8,
          8,
          8,
          8,
          5,
          8,
          8,
          8,
          8,
          8,
          8,
          8,
          8
         ],
         "xaxis": "x",
         "y": [
          792,
          542,
          737,
          688,
          575,
          1179,
          582,
          1450,
          1092,
          1812,
          593,
          1488,
          1351,
          253,
          1787,
          827,
          748,
          805,
          508,
          1615,
          656,
          386,
          832,
          844,
          921,
          428,
          958,
          1240,
          609,
          1256,
          140,
          790,
          385,
          672,
          361,
          382,
          919,
          435,
          556,
          740,
          1479,
          1015,
          610,
          804,
          620,
          714,
          245,
          1124,
          990,
          1138,
          513,
          699,
          838,
          1356,
          689,
          1086,
          553,
          1180,
          788,
          716,
          455,
          426,
          693,
          856,
          772,
          121,
          562,
          771,
          750,
          842,
          896,
          565,
          719,
          434,
          936,
          879,
          787,
          137,
          865,
          1319,
          1419,
          1253,
          189,
          819,
          821,
          452,
          1230,
          170,
          1136,
          506,
          537,
          1632,
          522,
          1148,
          920,
          1349,
          867,
          725,
          1296,
          1134,
          1462,
          982,
          1144,
          459,
          911,
          681,
          1347,
          261,
          779,
          877,
          1636,
          632,
          1313,
          883,
          213,
          692,
          824,
          755,
          147,
          806,
          329,
          431,
          893,
          1321,
          451,
          718,
          768,
          331,
          511,
          187,
          184,
          129,
          145,
          548,
          289,
          243,
          260,
          303,
          138,
          360,
          396,
          733,
          249,
          992,
          425,
          753,
          354,
          1289,
          795,
          422,
          407,
          371,
          948,
          1184,
          939,
          1215,
          1163,
          1306,
          904,
          801,
          482,
          793,
          517,
          394,
          469,
          346,
          387,
          379,
          627,
          466,
          490,
          332,
          538,
          762,
          944,
          592,
          979,
          429,
          682,
          438,
          1132,
          1100,
          1031,
          917,
          505,
          1719,
          663,
          1502,
          275,
          523,
          694,
          1647,
          1084,
          826,
          1200,
          460,
          683,
          892,
          852,
          679,
          1284,
          1227,
          705,
          546,
          583,
          448,
          599,
          1453,
          421,
          1249,
          774,
          665,
          926,
          1020,
          1004,
          1074,
          802,
          981,
          747,
          1070,
          1798,
          591,
          757,
          1255,
          1589,
          1455,
          1388,
          746,
          1484,
          1327,
          822,
          736,
          715,
          607,
          846,
          1210,
          820,
          915,
          39,
          1342,
          1266,
          908,
          1671,
          983,
          851,
          1139,
          1181,
          1078,
          1717,
          1146,
          849,
          1552,
          468,
          657,
          812,
          658,
          991,
          1044,
          1299,
          1443,
          662,
          775,
          807,
          1401,
          761,
          653,
          963,
          617,
          1344,
          1505,
          690,
          549,
          1628,
          652,
          634,
          730,
          641,
          1248,
          687,
          600,
          649,
          906,
          1094,
          809,
          796,
          545,
          735,
          953,
          859,
          1174,
          770,
          855,
          938,
          1018,
          1001,
          597,
          975,
          1076,
          1012,
          1110,
          955,
          1119,
          1395,
          1199,
          1009,
          2209,
          1307,
          954,
          1214,
          1376,
          1029,
          1175,
          1257,
          1233,
          1099,
          1125,
          1330,
          907,
          1352,
          1143,
          1631,
          1187,
          1271,
          1607,
          1384,
          1426,
          1381,
          1543,
          1635,
          1708,
          1559,
          1786,
          1899,
          1608,
          1517,
          1101,
          1574,
          1783,
          1217,
          1495,
          1742,
          1808,
          2019,
          1665,
          1824,
          1364,
          1308,
          1159,
          1605,
          1534,
          1414,
          1540,
          1870,
          1749,
          1709,
          1698,
          1819,
          1528,
          1568,
          1813,
          1548,
          1679,
          1416,
          1269,
          1304,
          1601,
          1546
         ],
         "yaxis": "y"
        }
       ],
       "layout": {
        "legend": {
         "tracegroupgap": 0
        },
        "template": {
         "data": {
          "bar": [
           {
            "error_x": {
             "color": "#2a3f5f"
            },
            "error_y": {
             "color": "#2a3f5f"
            },
            "marker": {
             "line": {
              "color": "#E5ECF6",
              "width": 0.5
             },
             "pattern": {
              "fillmode": "overlay",
              "size": 10,
              "solidity": 0.2
             }
            },
            "type": "bar"
           }
          ],
          "barpolar": [
           {
            "marker": {
             "line": {
              "color": "#E5ECF6",
              "width": 0.5
             },
             "pattern": {
              "fillmode": "overlay",
              "size": 10,
              "solidity": 0.2
             }
            },
            "type": "barpolar"
           }
          ],
          "carpet": [
           {
            "aaxis": {
             "endlinecolor": "#2a3f5f",
             "gridcolor": "white",
             "linecolor": "white",
             "minorgridcolor": "white",
             "startlinecolor": "#2a3f5f"
            },
            "baxis": {
             "endlinecolor": "#2a3f5f",
             "gridcolor": "white",
             "linecolor": "white",
             "minorgridcolor": "white",
             "startlinecolor": "#2a3f5f"
            },
            "type": "carpet"
           }
          ],
          "choropleth": [
           {
            "colorbar": {
             "outlinewidth": 0,
             "ticks": ""
            },
            "type": "choropleth"
           }
          ],
          "contour": [
           {
            "colorbar": {
             "outlinewidth": 0,
             "ticks": ""
            },
            "colorscale": [
             [
              0,
              "#0d0887"
             ],
             [
              0.1111111111111111,
              "#46039f"
             ],
             [
              0.2222222222222222,
              "#7201a8"
             ],
             [
              0.3333333333333333,
              "#9c179e"
             ],
             [
              0.4444444444444444,
              "#bd3786"
             ],
             [
              0.5555555555555556,
              "#d8576b"
             ],
             [
              0.6666666666666666,
              "#ed7953"
             ],
             [
              0.7777777777777778,
              "#fb9f3a"
             ],
             [
              0.8888888888888888,
              "#fdca26"
             ],
             [
              1,
              "#f0f921"
             ]
            ],
            "type": "contour"
           }
          ],
          "contourcarpet": [
           {
            "colorbar": {
             "outlinewidth": 0,
             "ticks": ""
            },
            "type": "contourcarpet"
           }
          ],
          "heatmap": [
           {
            "colorbar": {
             "outlinewidth": 0,
             "ticks": ""
            },
            "colorscale": [
             [
              0,
              "#0d0887"
             ],
             [
              0.1111111111111111,
              "#46039f"
             ],
             [
              0.2222222222222222,
              "#7201a8"
             ],
             [
              0.3333333333333333,
              "#9c179e"
             ],
             [
              0.4444444444444444,
              "#bd3786"
             ],
             [
              0.5555555555555556,
              "#d8576b"
             ],
             [
              0.6666666666666666,
              "#ed7953"
             ],
             [
              0.7777777777777778,
              "#fb9f3a"
             ],
             [
              0.8888888888888888,
              "#fdca26"
             ],
             [
              1,
              "#f0f921"
             ]
            ],
            "type": "heatmap"
           }
          ],
          "heatmapgl": [
           {
            "colorbar": {
             "outlinewidth": 0,
             "ticks": ""
            },
            "colorscale": [
             [
              0,
              "#0d0887"
             ],
             [
              0.1111111111111111,
              "#46039f"
             ],
             [
              0.2222222222222222,
              "#7201a8"
             ],
             [
              0.3333333333333333,
              "#9c179e"
             ],
             [
              0.4444444444444444,
              "#bd3786"
             ],
             [
              0.5555555555555556,
              "#d8576b"
             ],
             [
              0.6666666666666666,
              "#ed7953"
             ],
             [
              0.7777777777777778,
              "#fb9f3a"
             ],
             [
              0.8888888888888888,
              "#fdca26"
             ],
             [
              1,
              "#f0f921"
             ]
            ],
            "type": "heatmapgl"
           }
          ],
          "histogram": [
           {
            "marker": {
             "pattern": {
              "fillmode": "overlay",
              "size": 10,
              "solidity": 0.2
             }
            },
            "type": "histogram"
           }
          ],
          "histogram2d": [
           {
            "colorbar": {
             "outlinewidth": 0,
             "ticks": ""
            },
            "colorscale": [
             [
              0,
              "#0d0887"
             ],
             [
              0.1111111111111111,
              "#46039f"
             ],
             [
              0.2222222222222222,
              "#7201a8"
             ],
             [
              0.3333333333333333,
              "#9c179e"
             ],
             [
              0.4444444444444444,
              "#bd3786"
             ],
             [
              0.5555555555555556,
              "#d8576b"
             ],
             [
              0.6666666666666666,
              "#ed7953"
             ],
             [
              0.7777777777777778,
              "#fb9f3a"
             ],
             [
              0.8888888888888888,
              "#fdca26"
             ],
             [
              1,
              "#f0f921"
             ]
            ],
            "type": "histogram2d"
           }
          ],
          "histogram2dcontour": [
           {
            "colorbar": {
             "outlinewidth": 0,
             "ticks": ""
            },
            "colorscale": [
             [
              0,
              "#0d0887"
             ],
             [
              0.1111111111111111,
              "#46039f"
             ],
             [
              0.2222222222222222,
              "#7201a8"
             ],
             [
              0.3333333333333333,
              "#9c179e"
             ],
             [
              0.4444444444444444,
              "#bd3786"
             ],
             [
              0.5555555555555556,
              "#d8576b"
             ],
             [
              0.6666666666666666,
              "#ed7953"
             ],
             [
              0.7777777777777778,
              "#fb9f3a"
             ],
             [
              0.8888888888888888,
              "#fdca26"
             ],
             [
              1,
              "#f0f921"
             ]
            ],
            "type": "histogram2dcontour"
           }
          ],
          "mesh3d": [
           {
            "colorbar": {
             "outlinewidth": 0,
             "ticks": ""
            },
            "type": "mesh3d"
           }
          ],
          "parcoords": [
           {
            "line": {
             "colorbar": {
              "outlinewidth": 0,
              "ticks": ""
             }
            },
            "type": "parcoords"
           }
          ],
          "pie": [
           {
            "automargin": true,
            "type": "pie"
           }
          ],
          "scatter": [
           {
            "fillpattern": {
             "fillmode": "overlay",
             "size": 10,
             "solidity": 0.2
            },
            "type": "scatter"
           }
          ],
          "scatter3d": [
           {
            "line": {
             "colorbar": {
              "outlinewidth": 0,
              "ticks": ""
             }
            },
            "marker": {
             "colorbar": {
              "outlinewidth": 0,
              "ticks": ""
             }
            },
            "type": "scatter3d"
           }
          ],
          "scattercarpet": [
           {
            "marker": {
             "colorbar": {
              "outlinewidth": 0,
              "ticks": ""
             }
            },
            "type": "scattercarpet"
           }
          ],
          "scattergeo": [
           {
            "marker": {
             "colorbar": {
              "outlinewidth": 0,
              "ticks": ""
             }
            },
            "type": "scattergeo"
           }
          ],
          "scattergl": [
           {
            "marker": {
             "colorbar": {
              "outlinewidth": 0,
              "ticks": ""
             }
            },
            "type": "scattergl"
           }
          ],
          "scattermapbox": [
           {
            "marker": {
             "colorbar": {
              "outlinewidth": 0,
              "ticks": ""
             }
            },
            "type": "scattermapbox"
           }
          ],
          "scatterpolar": [
           {
            "marker": {
             "colorbar": {
              "outlinewidth": 0,
              "ticks": ""
             }
            },
            "type": "scatterpolar"
           }
          ],
          "scatterpolargl": [
           {
            "marker": {
             "colorbar": {
              "outlinewidth": 0,
              "ticks": ""
             }
            },
            "type": "scatterpolargl"
           }
          ],
          "scatterternary": [
           {
            "marker": {
             "colorbar": {
              "outlinewidth": 0,
              "ticks": ""
             }
            },
            "type": "scatterternary"
           }
          ],
          "surface": [
           {
            "colorbar": {
             "outlinewidth": 0,
             "ticks": ""
            },
            "colorscale": [
             [
              0,
              "#0d0887"
             ],
             [
              0.1111111111111111,
              "#46039f"
             ],
             [
              0.2222222222222222,
              "#7201a8"
             ],
             [
              0.3333333333333333,
              "#9c179e"
             ],
             [
              0.4444444444444444,
              "#bd3786"
             ],
             [
              0.5555555555555556,
              "#d8576b"
             ],
             [
              0.6666666666666666,
              "#ed7953"
             ],
             [
              0.7777777777777778,
              "#fb9f3a"
             ],
             [
              0.8888888888888888,
              "#fdca26"
             ],
             [
              1,
              "#f0f921"
             ]
            ],
            "type": "surface"
           }
          ],
          "table": [
           {
            "cells": {
             "fill": {
              "color": "#EBF0F8"
             },
             "line": {
              "color": "white"
             }
            },
            "header": {
             "fill": {
              "color": "#C8D4E3"
             },
             "line": {
              "color": "white"
             }
            },
            "type": "table"
           }
          ]
         },
         "layout": {
          "annotationdefaults": {
           "arrowcolor": "#2a3f5f",
           "arrowhead": 0,
           "arrowwidth": 1
          },
          "autotypenumbers": "strict",
          "coloraxis": {
           "colorbar": {
            "outlinewidth": 0,
            "ticks": ""
           }
          },
          "colorscale": {
           "diverging": [
            [
             0,
             "#8e0152"
            ],
            [
             0.1,
             "#c51b7d"
            ],
            [
             0.2,
             "#de77ae"
            ],
            [
             0.3,
             "#f1b6da"
            ],
            [
             0.4,
             "#fde0ef"
            ],
            [
             0.5,
             "#f7f7f7"
            ],
            [
             0.6,
             "#e6f5d0"
            ],
            [
             0.7,
             "#b8e186"
            ],
            [
             0.8,
             "#7fbc41"
            ],
            [
             0.9,
             "#4d9221"
            ],
            [
             1,
             "#276419"
            ]
           ],
           "sequential": [
            [
             0,
             "#0d0887"
            ],
            [
             0.1111111111111111,
             "#46039f"
            ],
            [
             0.2222222222222222,
             "#7201a8"
            ],
            [
             0.3333333333333333,
             "#9c179e"
            ],
            [
             0.4444444444444444,
             "#bd3786"
            ],
            [
             0.5555555555555556,
             "#d8576b"
            ],
            [
             0.6666666666666666,
             "#ed7953"
            ],
            [
             0.7777777777777778,
             "#fb9f3a"
            ],
            [
             0.8888888888888888,
             "#fdca26"
            ],
            [
             1,
             "#f0f921"
            ]
           ],
           "sequentialminus": [
            [
             0,
             "#0d0887"
            ],
            [
             0.1111111111111111,
             "#46039f"
            ],
            [
             0.2222222222222222,
             "#7201a8"
            ],
            [
             0.3333333333333333,
             "#9c179e"
            ],
            [
             0.4444444444444444,
             "#bd3786"
            ],
            [
             0.5555555555555556,
             "#d8576b"
            ],
            [
             0.6666666666666666,
             "#ed7953"
            ],
            [
             0.7777777777777778,
             "#fb9f3a"
            ],
            [
             0.8888888888888888,
             "#fdca26"
            ],
            [
             1,
             "#f0f921"
            ]
           ]
          },
          "colorway": [
           "#636efa",
           "#EF553B",
           "#00cc96",
           "#ab63fa",
           "#FFA15A",
           "#19d3f3",
           "#FF6692",
           "#B6E880",
           "#FF97FF",
           "#FECB52"
          ],
          "font": {
           "color": "#2a3f5f"
          },
          "geo": {
           "bgcolor": "white",
           "lakecolor": "white",
           "landcolor": "#E5ECF6",
           "showlakes": true,
           "showland": true,
           "subunitcolor": "white"
          },
          "hoverlabel": {
           "align": "left"
          },
          "hovermode": "closest",
          "mapbox": {
           "style": "light"
          },
          "paper_bgcolor": "white",
          "plot_bgcolor": "#E5ECF6",
          "polar": {
           "angularaxis": {
            "gridcolor": "white",
            "linecolor": "white",
            "ticks": ""
           },
           "bgcolor": "#E5ECF6",
           "radialaxis": {
            "gridcolor": "white",
            "linecolor": "white",
            "ticks": ""
           }
          },
          "scene": {
           "xaxis": {
            "backgroundcolor": "#E5ECF6",
            "gridcolor": "white",
            "gridwidth": 2,
            "linecolor": "white",
            "showbackground": true,
            "ticks": "",
            "zerolinecolor": "white"
           },
           "yaxis": {
            "backgroundcolor": "#E5ECF6",
            "gridcolor": "white",
            "gridwidth": 2,
            "linecolor": "white",
            "showbackground": true,
            "ticks": "",
            "zerolinecolor": "white"
           },
           "zaxis": {
            "backgroundcolor": "#E5ECF6",
            "gridcolor": "white",
            "gridwidth": 2,
            "linecolor": "white",
            "showbackground": true,
            "ticks": "",
            "zerolinecolor": "white"
           }
          },
          "shapedefaults": {
           "line": {
            "color": "#2a3f5f"
           }
          },
          "ternary": {
           "aaxis": {
            "gridcolor": "white",
            "linecolor": "white",
            "ticks": ""
           },
           "baxis": {
            "gridcolor": "white",
            "linecolor": "white",
            "ticks": ""
           },
           "bgcolor": "#E5ECF6",
           "caxis": {
            "gridcolor": "white",
            "linecolor": "white",
            "ticks": ""
           }
          },
          "title": {
           "x": 0.05
          },
          "xaxis": {
           "automargin": true,
           "gridcolor": "white",
           "linecolor": "white",
           "ticks": "",
           "title": {
            "standoff": 15
           },
           "zerolinecolor": "white",
           "zerolinewidth": 2
          },
          "yaxis": {
           "automargin": true,
           "gridcolor": "white",
           "linecolor": "white",
           "ticks": "",
           "title": {
            "standoff": 15
           },
           "zerolinecolor": "white",
           "zerolinewidth": 2
          }
         }
        },
        "title": {
         "text": "Frekuensi Penggunaan vs. Tingkatan (JLPT N2)"
        },
        "xaxis": {
         "anchor": "y",
         "domain": [
          0,
          1
         ],
         "title": {
          "text": "Tingkat Kesulitan (Grade)"
         }
        },
        "yaxis": {
         "anchor": "x",
         "domain": [
          0,
          1
         ],
         "title": {
          "text": "Frekuensi Penggunaan"
         }
        }
       }
      }
     },
     "metadata": {},
     "output_type": "display_data"
    },
    {
     "data": {
      "application/vnd.plotly.v1+json": {
       "config": {
        "plotlyServerURL": "https://plot.ly"
       },
       "data": [
        {
         "hovertemplate": "<b>%{hovertext}</b><br><br>Tingkat Kesulitan (Grade)=%{x}<br>Frekuensi Penggunaan=%{y}<extra></extra>",
         "hovertext": [
          "才",
          "王",
          "石",
          "内",
          "太",
          "引",
          "市",
          "他",
          "号",
          "平",
          "打",
          "申",
          "礼",
          "耳",
          "交",
          "光",
          "回",
          "当",
          "米",
          "声",
          "形",
          "草",
          "化",
          "両",
          "全",
          "向",
          "曲",
          "次",
          "直",
          "活",
          "点",
          "科",
          "首",
          "欠",
          "由",
          "民",
          "付",
          "失",
          "必",
          "未",
          "末",
          "記",
          "組",
          "船",
          "雪",
          "支",
          "助",
          "君",
          "対",
          "局",
          "役",
          "投",
          "決",
          "馬",
          "番",
          "絵",
          "数",
          "所",
          "具",
          "受",
          "和",
          "定",
          "実",
          "泳",
          "苦",
          "表",
          "部",
          "乗",
          "客",
          "相",
          "美",
          "負",
          "談",
          "要",
          "勝",
          "速",
          "配",
          "酒",
          "進",
          "落",
          "葉",
          "路",
          "鳴",
          "横",
          "調",
          "頭",
          "顔",
          "最",
          "争",
          "伝",
          "共",
          "好",
          "成",
          "老",
          "位",
          "初",
          "利",
          "努",
          "労",
          "命",
          "放",
          "昔",
          "育",
          "指",
          "神",
          "追",
          "戦",
          "良",
          "便",
          "働",
          "庭",
          "息",
          "流",
          "消",
          "都",
          "商",
          "深",
          "球",
          "陽",
          "寒",
          "悲",
          "期",
          "歯",
          "港",
          "登",
          "亡",
          "合",
          "予",
          "反",
          "返",
          "宿",
          "想",
          "感",
          "暗",
          "様",
          "福",
          "殺",
          "然",
          "熱",
          "選",
          "願",
          "情",
          "疑",
          "皆",
          "例",
          "参",
          "完",
          "念",
          "折",
          "望",
          "束",
          "残",
          "求",
          "約",
          "性",
          "格",
          "能",
          "術",
          "晴",
          "列",
          "式",
          "信",
          "単",
          "変",
          "夫",
          "昨",
          "法",
          "晩",
          "猫",
          "園",
          "遠",
          "係",
          "取",
          "守",
          "幸",
          "箱",
          "面",
          "喜",
          "治",
          "笑",
          "辞",
          "関",
          "政",
          "留",
          "険",
          "危",
          "存",
          "原",
          "薬",
          "側",
          "席",
          "敗",
          "果",
          "因",
          "常",
          "識",
          "非",
          "官",
          "察",
          "愛",
          "警",
          "覚",
          "説",
          "告",
          "種",
          "達",
          "類",
          "報",
          "等",
          "座",
          "忘",
          "洗",
          "許",
          "静",
          "煙",
          "加",
          "容",
          "易",
          "財",
          "若",
          "忙",
          "徒",
          "得",
          "続",
          "連",
          "困",
          "機",
          "飛",
          "害",
          "余",
          "難",
          "確",
          "在",
          "夢",
          "産",
          "倒",
          "妻",
          "議",
          "犯",
          "罪",
          "論",
          "経",
          "済",
          "判",
          "制",
          "務",
          "資",
          "権",
          "件",
          "断",
          "任",
          "責",
          "増",
          "解",
          "際",
          "認",
          "過",
          "寝",
          "置",
          "費",
          "示",
          "観",
          "値",
          "吸",
          "状",
          "収",
          "職",
          "規",
          "割",
          "演",
          "師",
          "備",
          "優",
          "宅",
          "現",
          "呼",
          "違",
          "差",
          "供",
          "限",
          "与",
          "渡",
          "景",
          "抜",
          "候",
          "構",
          "捕",
          "慣",
          "満",
          "掛",
          "居",
          "突",
          "招",
          "段",
          "腹",
          "痛",
          "退",
          "迷",
          "訪",
          "怒",
          "眠",
          "靴",
          "途",
          "給",
          "冷",
          "処",
          "婦",
          "程",
          "精",
          "絶",
          "杯",
          "積",
          "寄",
          "娘",
          "怖",
          "恐",
          "婚",
          "遊",
          "貧",
          "適",
          "押",
          "更",
          "浮",
          "越",
          "背",
          "盗",
          "除",
          "幾",
          "散",
          "似",
          "富",
          "探",
          "迎",
          "祖",
          "雑",
          "賛",
          "込",
          "欲",
          "閉",
          "窓",
          "否",
          "暮",
          "誤",
          "降",
          "勤",
          "刻",
          "遅",
          "破",
          "互",
          "彼",
          "恥",
          "払",
          "舞",
          "頼",
          "戻",
          "抱",
          "緒",
          "逃",
          "御",
          "吹",
          "到",
          "髪",
          "疲",
          "歳",
          "偶",
          "偉",
          "頂"
         ],
         "legendgroup": "",
         "marker": {
          "color": "#636efa",
          "line": {
           "color": "DarkSlateGrey",
           "width": 2
          },
          "size": 12,
          "symbol": "circle"
         },
         "mode": "markers",
         "name": "",
         "orientation": "v",
         "showlegend": false,
         "type": "scatter",
         "x": [
          2,
          1,
          1,
          2,
          2,
          2,
          2,
          3,
          3,
          3,
          3,
          3,
          3,
          1,
          2,
          2,
          2,
          2,
          2,
          2,
          2,
          1,
          3,
          3,
          3,
          3,
          3,
          3,
          2,
          2,
          2,
          2,
          2,
          4,
          3,
          4,
          4,
          4,
          4,
          4,
          4,
          2,
          2,
          2,
          2,
          5,
          3,
          3,
          3,
          3,
          3,
          3,
          3,
          2,
          2,
          2,
          2,
          3,
          3,
          3,
          3,
          3,
          3,
          3,
          3,
          3,
          3,
          3,
          3,
          3,
          3,
          3,
          3,
          4,
          3,
          3,
          3,
          3,
          3,
          3,
          3,
          3,
          2,
          3,
          3,
          2,
          2,
          4,
          4,
          4,
          4,
          4,
          4,
          4,
          4,
          4,
          4,
          4,
          4,
          3,
          3,
          3,
          3,
          3,
          3,
          3,
          4,
          4,
          4,
          4,
          3,
          3,
          3,
          3,
          3,
          3,
          3,
          3,
          3,
          3,
          3,
          3,
          3,
          3,
          3,
          6,
          2,
          3,
          3,
          3,
          3,
          3,
          3,
          3,
          3,
          3,
          4,
          4,
          4,
          4,
          4,
          5,
          6,
          8,
          4,
          4,
          4,
          4,
          4,
          4,
          4,
          4,
          4,
          4,
          5,
          5,
          5,
          5,
          2,
          3,
          3,
          4,
          4,
          4,
          4,
          4,
          4,
          6,
          8,
          2,
          2,
          3,
          3,
          3,
          3,
          3,
          3,
          4,
          4,
          4,
          4,
          4,
          5,
          5,
          5,
          6,
          6,
          2,
          3,
          4,
          4,
          4,
          4,
          5,
          5,
          5,
          5,
          4,
          4,
          4,
          6,
          4,
          4,
          4,
          4,
          4,
          4,
          5,
          3,
          6,
          6,
          6,
          5,
          4,
          8,
          4,
          5,
          5,
          5,
          6,
          8,
          4,
          4,
          4,
          4,
          6,
          4,
          4,
          4,
          5,
          6,
          5,
          5,
          5,
          4,
          8,
          5,
          4,
          5,
          5,
          6,
          5,
          6,
          5,
          5,
          5,
          5,
          6,
          5,
          5,
          5,
          5,
          5,
          5,
          5,
          6,
          5,
          8,
          4,
          4,
          5,
          4,
          6,
          6,
          5,
          6,
          5,
          5,
          6,
          5,
          5,
          5,
          6,
          6,
          5,
          6,
          8,
          4,
          6,
          5,
          8,
          8,
          4,
          8,
          4,
          5,
          8,
          5,
          4,
          8,
          5,
          8,
          5,
          6,
          6,
          6,
          5,
          5,
          6,
          8,
          8,
          8,
          8,
          4,
          4,
          6,
          5,
          5,
          5,
          5,
          8,
          4,
          5,
          8,
          8,
          8,
          8,
          3,
          5,
          5,
          8,
          8,
          8,
          8,
          6,
          8,
          6,
          8,
          4,
          5,
          5,
          6,
          8,
          5,
          5,
          5,
          8,
          6,
          6,
          6,
          6,
          6,
          6,
          6,
          6,
          6,
          8,
          5,
          8,
          8,
          8,
          8,
          8,
          8,
          8,
          8,
          8,
          8,
          8,
          8,
          8,
          8,
          8,
          8,
          8,
          8,
          6
         ],
         "xaxis": "x",
         "y": [
          1497,
          684,
          342,
          44,
          552,
          218,
          42,
          543,
          585,
          128,
          239,
          492,
          1185,
          1328,
          178,
          527,
          50,
          91,
          61,
          388,
          418,
          967,
          89,
          247,
          75,
          182,
          810,
          222,
          246,
          171,
          165,
          531,
          98,
          860,
          325,
          28,
          322,
          447,
          265,
          650,
          456,
          149,
          204,
          713,
          1131,
          159,
          397,
          947,
          34,
          286,
          315,
          236,
          71,
          639,
          348,
          895,
          148,
          221,
          629,
          136,
          124,
          48,
          68,
          1223,
          623,
          77,
          36,
          377,
          557,
          45,
          462,
          443,
          272,
          106,
          185,
          576,
          359,
          1006,
          142,
          420,
          414,
          529,
          1279,
          480,
          87,
          433,
          676,
          82,
          271,
          416,
          174,
          423,
          116,
          803,
          276,
          152,
          203,
          749,
          398,
          465,
          288,
          1197,
          369,
          155,
          347,
          411,
          78,
          501,
          729,
          417,
          816,
          882,
          280,
          345,
          123,
          413,
          484,
          302,
          1071,
          1456,
          1014,
          117,
          1106,
          495,
          566,
          661,
          41,
          180,
          191,
          685,
          701,
          381,
          233,
          1040,
          493,
          467,
          581,
          401,
          700,
          57,
          894,
          235,
          283,
          1267,
          399,
          201,
          595,
          390,
          962,
          470,
          918,
          380,
          220,
          94,
          104,
          281,
          273,
          350,
          1022,
          927,
          251,
          208,
          586,
          238,
          335,
          226,
          100,
          1424,
          1702,
          628,
          887,
          232,
          122,
          457,
          786,
          1357,
          186,
          769,
          109,
          913,
          633,
          70,
          17,
          731,
          707,
          606,
          577,
          172,
          702,
          216,
          370,
          516,
          258,
          636,
          293,
          496,
          472,
          230,
          477,
          640,
          366,
          710,
          326,
          188,
          461,
          500,
          678,
          167,
          798,
          588,
          1129,
          1168,
          720,
          764,
          1290,
          130,
          264,
          571,
          494,
          458,
          1475,
          817,
          175,
          141,
          30,
          843,
          127,
          580,
          358,
          680,
          330,
          252,
          211,
          943,
          161,
          791,
          691,
          25,
          874,
          732,
          227,
          79,
          168,
          197,
          108,
          111,
          179,
          156,
          212,
          338,
          217,
          598,
          231,
          176,
          183,
          198,
          285,
          1034,
          277,
          321,
          237,
          476,
          518,
          1054,
          298,
          337,
          305,
          349,
          318,
          267,
          563,
          356,
          334,
          357,
          85,
          498,
          344,
          449,
          313,
          405,
          308,
          446,
          419,
          726,
          510,
          316,
          604,
          1177,
          515,
          1027,
          836,
          521,
          840,
          479,
          1286,
          903,
          424,
          942,
          372,
          1221,
          1315,
          1561,
          717,
          615,
          667,
          547,
          671,
          514,
          752,
          784,
          1235,
          541,
          673,
          1145,
          1325,
          878,
          767,
          941,
          1211,
          670,
          789,
          861,
          776,
          897,
          696,
          1051,
          594,
          1725,
          758,
          923,
          644,
          930,
          625,
          1226,
          839,
          868,
          675,
          902,
          951,
          1186,
          561,
          978,
          1150,
          596,
          830,
          866,
          833,
          590,
          914,
          648,
          1575,
          813,
          655,
          708,
          890,
          871,
          952,
          931,
          1087,
          1133,
          1032,
          1474,
          1263,
          269,
          1602,
          1639,
          1350
         ],
         "yaxis": "y"
        }
       ],
       "layout": {
        "legend": {
         "tracegroupgap": 0
        },
        "template": {
         "data": {
          "bar": [
           {
            "error_x": {
             "color": "#2a3f5f"
            },
            "error_y": {
             "color": "#2a3f5f"
            },
            "marker": {
             "line": {
              "color": "#E5ECF6",
              "width": 0.5
             },
             "pattern": {
              "fillmode": "overlay",
              "size": 10,
              "solidity": 0.2
             }
            },
            "type": "bar"
           }
          ],
          "barpolar": [
           {
            "marker": {
             "line": {
              "color": "#E5ECF6",
              "width": 0.5
             },
             "pattern": {
              "fillmode": "overlay",
              "size": 10,
              "solidity": 0.2
             }
            },
            "type": "barpolar"
           }
          ],
          "carpet": [
           {
            "aaxis": {
             "endlinecolor": "#2a3f5f",
             "gridcolor": "white",
             "linecolor": "white",
             "minorgridcolor": "white",
             "startlinecolor": "#2a3f5f"
            },
            "baxis": {
             "endlinecolor": "#2a3f5f",
             "gridcolor": "white",
             "linecolor": "white",
             "minorgridcolor": "white",
             "startlinecolor": "#2a3f5f"
            },
            "type": "carpet"
           }
          ],
          "choropleth": [
           {
            "colorbar": {
             "outlinewidth": 0,
             "ticks": ""
            },
            "type": "choropleth"
           }
          ],
          "contour": [
           {
            "colorbar": {
             "outlinewidth": 0,
             "ticks": ""
            },
            "colorscale": [
             [
              0,
              "#0d0887"
             ],
             [
              0.1111111111111111,
              "#46039f"
             ],
             [
              0.2222222222222222,
              "#7201a8"
             ],
             [
              0.3333333333333333,
              "#9c179e"
             ],
             [
              0.4444444444444444,
              "#bd3786"
             ],
             [
              0.5555555555555556,
              "#d8576b"
             ],
             [
              0.6666666666666666,
              "#ed7953"
             ],
             [
              0.7777777777777778,
              "#fb9f3a"
             ],
             [
              0.8888888888888888,
              "#fdca26"
             ],
             [
              1,
              "#f0f921"
             ]
            ],
            "type": "contour"
           }
          ],
          "contourcarpet": [
           {
            "colorbar": {
             "outlinewidth": 0,
             "ticks": ""
            },
            "type": "contourcarpet"
           }
          ],
          "heatmap": [
           {
            "colorbar": {
             "outlinewidth": 0,
             "ticks": ""
            },
            "colorscale": [
             [
              0,
              "#0d0887"
             ],
             [
              0.1111111111111111,
              "#46039f"
             ],
             [
              0.2222222222222222,
              "#7201a8"
             ],
             [
              0.3333333333333333,
              "#9c179e"
             ],
             [
              0.4444444444444444,
              "#bd3786"
             ],
             [
              0.5555555555555556,
              "#d8576b"
             ],
             [
              0.6666666666666666,
              "#ed7953"
             ],
             [
              0.7777777777777778,
              "#fb9f3a"
             ],
             [
              0.8888888888888888,
              "#fdca26"
             ],
             [
              1,
              "#f0f921"
             ]
            ],
            "type": "heatmap"
           }
          ],
          "heatmapgl": [
           {
            "colorbar": {
             "outlinewidth": 0,
             "ticks": ""
            },
            "colorscale": [
             [
              0,
              "#0d0887"
             ],
             [
              0.1111111111111111,
              "#46039f"
             ],
             [
              0.2222222222222222,
              "#7201a8"
             ],
             [
              0.3333333333333333,
              "#9c179e"
             ],
             [
              0.4444444444444444,
              "#bd3786"
             ],
             [
              0.5555555555555556,
              "#d8576b"
             ],
             [
              0.6666666666666666,
              "#ed7953"
             ],
             [
              0.7777777777777778,
              "#fb9f3a"
             ],
             [
              0.8888888888888888,
              "#fdca26"
             ],
             [
              1,
              "#f0f921"
             ]
            ],
            "type": "heatmapgl"
           }
          ],
          "histogram": [
           {
            "marker": {
             "pattern": {
              "fillmode": "overlay",
              "size": 10,
              "solidity": 0.2
             }
            },
            "type": "histogram"
           }
          ],
          "histogram2d": [
           {
            "colorbar": {
             "outlinewidth": 0,
             "ticks": ""
            },
            "colorscale": [
             [
              0,
              "#0d0887"
             ],
             [
              0.1111111111111111,
              "#46039f"
             ],
             [
              0.2222222222222222,
              "#7201a8"
             ],
             [
              0.3333333333333333,
              "#9c179e"
             ],
             [
              0.4444444444444444,
              "#bd3786"
             ],
             [
              0.5555555555555556,
              "#d8576b"
             ],
             [
              0.6666666666666666,
              "#ed7953"
             ],
             [
              0.7777777777777778,
              "#fb9f3a"
             ],
             [
              0.8888888888888888,
              "#fdca26"
             ],
             [
              1,
              "#f0f921"
             ]
            ],
            "type": "histogram2d"
           }
          ],
          "histogram2dcontour": [
           {
            "colorbar": {
             "outlinewidth": 0,
             "ticks": ""
            },
            "colorscale": [
             [
              0,
              "#0d0887"
             ],
             [
              0.1111111111111111,
              "#46039f"
             ],
             [
              0.2222222222222222,
              "#7201a8"
             ],
             [
              0.3333333333333333,
              "#9c179e"
             ],
             [
              0.4444444444444444,
              "#bd3786"
             ],
             [
              0.5555555555555556,
              "#d8576b"
             ],
             [
              0.6666666666666666,
              "#ed7953"
             ],
             [
              0.7777777777777778,
              "#fb9f3a"
             ],
             [
              0.8888888888888888,
              "#fdca26"
             ],
             [
              1,
              "#f0f921"
             ]
            ],
            "type": "histogram2dcontour"
           }
          ],
          "mesh3d": [
           {
            "colorbar": {
             "outlinewidth": 0,
             "ticks": ""
            },
            "type": "mesh3d"
           }
          ],
          "parcoords": [
           {
            "line": {
             "colorbar": {
              "outlinewidth": 0,
              "ticks": ""
             }
            },
            "type": "parcoords"
           }
          ],
          "pie": [
           {
            "automargin": true,
            "type": "pie"
           }
          ],
          "scatter": [
           {
            "fillpattern": {
             "fillmode": "overlay",
             "size": 10,
             "solidity": 0.2
            },
            "type": "scatter"
           }
          ],
          "scatter3d": [
           {
            "line": {
             "colorbar": {
              "outlinewidth": 0,
              "ticks": ""
             }
            },
            "marker": {
             "colorbar": {
              "outlinewidth": 0,
              "ticks": ""
             }
            },
            "type": "scatter3d"
           }
          ],
          "scattercarpet": [
           {
            "marker": {
             "colorbar": {
              "outlinewidth": 0,
              "ticks": ""
             }
            },
            "type": "scattercarpet"
           }
          ],
          "scattergeo": [
           {
            "marker": {
             "colorbar": {
              "outlinewidth": 0,
              "ticks": ""
             }
            },
            "type": "scattergeo"
           }
          ],
          "scattergl": [
           {
            "marker": {
             "colorbar": {
              "outlinewidth": 0,
              "ticks": ""
             }
            },
            "type": "scattergl"
           }
          ],
          "scattermapbox": [
           {
            "marker": {
             "colorbar": {
              "outlinewidth": 0,
              "ticks": ""
             }
            },
            "type": "scattermapbox"
           }
          ],
          "scatterpolar": [
           {
            "marker": {
             "colorbar": {
              "outlinewidth": 0,
              "ticks": ""
             }
            },
            "type": "scatterpolar"
           }
          ],
          "scatterpolargl": [
           {
            "marker": {
             "colorbar": {
              "outlinewidth": 0,
              "ticks": ""
             }
            },
            "type": "scatterpolargl"
           }
          ],
          "scatterternary": [
           {
            "marker": {
             "colorbar": {
              "outlinewidth": 0,
              "ticks": ""
             }
            },
            "type": "scatterternary"
           }
          ],
          "surface": [
           {
            "colorbar": {
             "outlinewidth": 0,
             "ticks": ""
            },
            "colorscale": [
             [
              0,
              "#0d0887"
             ],
             [
              0.1111111111111111,
              "#46039f"
             ],
             [
              0.2222222222222222,
              "#7201a8"
             ],
             [
              0.3333333333333333,
              "#9c179e"
             ],
             [
              0.4444444444444444,
              "#bd3786"
             ],
             [
              0.5555555555555556,
              "#d8576b"
             ],
             [
              0.6666666666666666,
              "#ed7953"
             ],
             [
              0.7777777777777778,
              "#fb9f3a"
             ],
             [
              0.8888888888888888,
              "#fdca26"
             ],
             [
              1,
              "#f0f921"
             ]
            ],
            "type": "surface"
           }
          ],
          "table": [
           {
            "cells": {
             "fill": {
              "color": "#EBF0F8"
             },
             "line": {
              "color": "white"
             }
            },
            "header": {
             "fill": {
              "color": "#C8D4E3"
             },
             "line": {
              "color": "white"
             }
            },
            "type": "table"
           }
          ]
         },
         "layout": {
          "annotationdefaults": {
           "arrowcolor": "#2a3f5f",
           "arrowhead": 0,
           "arrowwidth": 1
          },
          "autotypenumbers": "strict",
          "coloraxis": {
           "colorbar": {
            "outlinewidth": 0,
            "ticks": ""
           }
          },
          "colorscale": {
           "diverging": [
            [
             0,
             "#8e0152"
            ],
            [
             0.1,
             "#c51b7d"
            ],
            [
             0.2,
             "#de77ae"
            ],
            [
             0.3,
             "#f1b6da"
            ],
            [
             0.4,
             "#fde0ef"
            ],
            [
             0.5,
             "#f7f7f7"
            ],
            [
             0.6,
             "#e6f5d0"
            ],
            [
             0.7,
             "#b8e186"
            ],
            [
             0.8,
             "#7fbc41"
            ],
            [
             0.9,
             "#4d9221"
            ],
            [
             1,
             "#276419"
            ]
           ],
           "sequential": [
            [
             0,
             "#0d0887"
            ],
            [
             0.1111111111111111,
             "#46039f"
            ],
            [
             0.2222222222222222,
             "#7201a8"
            ],
            [
             0.3333333333333333,
             "#9c179e"
            ],
            [
             0.4444444444444444,
             "#bd3786"
            ],
            [
             0.5555555555555556,
             "#d8576b"
            ],
            [
             0.6666666666666666,
             "#ed7953"
            ],
            [
             0.7777777777777778,
             "#fb9f3a"
            ],
            [
             0.8888888888888888,
             "#fdca26"
            ],
            [
             1,
             "#f0f921"
            ]
           ],
           "sequentialminus": [
            [
             0,
             "#0d0887"
            ],
            [
             0.1111111111111111,
             "#46039f"
            ],
            [
             0.2222222222222222,
             "#7201a8"
            ],
            [
             0.3333333333333333,
             "#9c179e"
            ],
            [
             0.4444444444444444,
             "#bd3786"
            ],
            [
             0.5555555555555556,
             "#d8576b"
            ],
            [
             0.6666666666666666,
             "#ed7953"
            ],
            [
             0.7777777777777778,
             "#fb9f3a"
            ],
            [
             0.8888888888888888,
             "#fdca26"
            ],
            [
             1,
             "#f0f921"
            ]
           ]
          },
          "colorway": [
           "#636efa",
           "#EF553B",
           "#00cc96",
           "#ab63fa",
           "#FFA15A",
           "#19d3f3",
           "#FF6692",
           "#B6E880",
           "#FF97FF",
           "#FECB52"
          ],
          "font": {
           "color": "#2a3f5f"
          },
          "geo": {
           "bgcolor": "white",
           "lakecolor": "white",
           "landcolor": "#E5ECF6",
           "showlakes": true,
           "showland": true,
           "subunitcolor": "white"
          },
          "hoverlabel": {
           "align": "left"
          },
          "hovermode": "closest",
          "mapbox": {
           "style": "light"
          },
          "paper_bgcolor": "white",
          "plot_bgcolor": "#E5ECF6",
          "polar": {
           "angularaxis": {
            "gridcolor": "white",
            "linecolor": "white",
            "ticks": ""
           },
           "bgcolor": "#E5ECF6",
           "radialaxis": {
            "gridcolor": "white",
            "linecolor": "white",
            "ticks": ""
           }
          },
          "scene": {
           "xaxis": {
            "backgroundcolor": "#E5ECF6",
            "gridcolor": "white",
            "gridwidth": 2,
            "linecolor": "white",
            "showbackground": true,
            "ticks": "",
            "zerolinecolor": "white"
           },
           "yaxis": {
            "backgroundcolor": "#E5ECF6",
            "gridcolor": "white",
            "gridwidth": 2,
            "linecolor": "white",
            "showbackground": true,
            "ticks": "",
            "zerolinecolor": "white"
           },
           "zaxis": {
            "backgroundcolor": "#E5ECF6",
            "gridcolor": "white",
            "gridwidth": 2,
            "linecolor": "white",
            "showbackground": true,
            "ticks": "",
            "zerolinecolor": "white"
           }
          },
          "shapedefaults": {
           "line": {
            "color": "#2a3f5f"
           }
          },
          "ternary": {
           "aaxis": {
            "gridcolor": "white",
            "linecolor": "white",
            "ticks": ""
           },
           "baxis": {
            "gridcolor": "white",
            "linecolor": "white",
            "ticks": ""
           },
           "bgcolor": "#E5ECF6",
           "caxis": {
            "gridcolor": "white",
            "linecolor": "white",
            "ticks": ""
           }
          },
          "title": {
           "x": 0.05
          },
          "xaxis": {
           "automargin": true,
           "gridcolor": "white",
           "linecolor": "white",
           "ticks": "",
           "title": {
            "standoff": 15
           },
           "zerolinecolor": "white",
           "zerolinewidth": 2
          },
          "yaxis": {
           "automargin": true,
           "gridcolor": "white",
           "linecolor": "white",
           "ticks": "",
           "title": {
            "standoff": 15
           },
           "zerolinecolor": "white",
           "zerolinewidth": 2
          }
         }
        },
        "title": {
         "text": "Frekuensi Penggunaan vs. Tingkatan (JLPT N3)"
        },
        "xaxis": {
         "anchor": "y",
         "domain": [
          0,
          1
         ],
         "title": {
          "text": "Tingkat Kesulitan (Grade)"
         }
        },
        "yaxis": {
         "anchor": "x",
         "domain": [
          0,
          1
         ],
         "title": {
          "text": "Frekuensi Penggunaan"
         }
        }
       }
      }
     },
     "metadata": {},
     "output_type": "display_data"
    },
    {
     "data": {
      "application/vnd.plotly.v1+json": {
       "config": {
        "plotlyServerURL": "https://plot.ly"
       },
       "data": [
        {
         "hovertemplate": "<b>%{hovertext}</b><br><br>Tingkat Kesulitan (Grade)=%{x}<br>Frekuensi Penggunaan=%{y}<extra></extra>",
         "hovertext": [
          "力",
          "口",
          "工",
          "夕",
          "手",
          "文",
          "犬",
          "正",
          "田",
          "目",
          "立",
          "元",
          "公",
          "切",
          "少",
          "心",
          "方",
          "牛",
          "止",
          "兄",
          "冬",
          "古",
          "台",
          "広",
          "用",
          "世",
          "主",
          "代",
          "写",
          "去",
          "字",
          "早",
          "町",
          "花",
          "赤",
          "足",
          "不",
          "仕",
          "会",
          "同",
          "多",
          "考",
          "肉",
          "自",
          "色",
          "体",
          "作",
          "図",
          "売",
          "弟",
          "社",
          "言",
          "走",
          "近",
          "空",
          "青",
          "音",
          "地",
          "安",
          "有",
          "死",
          "京",
          "夜",
          "妹",
          "姉",
          "店",
          "明",
          "歩",
          "画",
          "知",
          "室",
          "思",
          "海",
          "茶",
          "以",
          "夏",
          "家",
          "紙",
          "通",
          "強",
          "教",
          "理",
          "週",
          "魚",
          "鳥",
          "黒",
          "住",
          "医",
          "究",
          "者",
          "研",
          "場",
          "朝",
          "答",
          "買",
          "道",
          "楽",
          "事",
          "使",
          "始",
          "服",
          "物",
          "屋",
          "度",
          "待",
          "持",
          "界",
          "発",
          "送",
          "重",
          "起",
          "院",
          "終",
          "習",
          "転",
          "運",
          "開",
          "集",
          "飲",
          "業",
          "漢",
          "歌",
          "親",
          "病",
          "別",
          "注",
          "洋",
          "特",
          "意",
          "味",
          "勉",
          "旅",
          "員",
          "動",
          "悪",
          "族",
          "着",
          "野",
          "風",
          "新",
          "問",
          "銀",
          "題",
          "館",
          "駅",
          "料",
          "映",
          "私",
          "帰",
          "春",
          "昼",
          "秋",
          "計",
          "建",
          "英",
          "飯",
          "曜",
          "品",
          "急",
          "真",
          "堂",
          "試",
          "借",
          "験",
          "質",
          "貸"
         ],
         "legendgroup": "",
         "marker": {
          "color": "#636efa",
          "line": {
           "color": "DarkSlateGrey",
           "width": 2
          },
          "size": 12,
          "symbol": "circle"
         },
         "mode": "markers",
         "name": "",
         "orientation": "v",
         "showlegend": false,
         "type": "scatter",
         "x": [
          1,
          1,
          2,
          1,
          1,
          1,
          1,
          1,
          1,
          1,
          1,
          2,
          2,
          2,
          2,
          2,
          2,
          2,
          2,
          2,
          2,
          2,
          2,
          2,
          2,
          3,
          3,
          3,
          3,
          3,
          1,
          1,
          1,
          1,
          1,
          1,
          4,
          3,
          2,
          2,
          2,
          2,
          2,
          2,
          2,
          2,
          2,
          2,
          2,
          2,
          2,
          2,
          2,
          2,
          1,
          1,
          1,
          2,
          3,
          3,
          3,
          2,
          2,
          2,
          2,
          2,
          2,
          2,
          2,
          2,
          2,
          2,
          2,
          2,
          4,
          2,
          2,
          2,
          2,
          2,
          2,
          2,
          2,
          2,
          2,
          2,
          3,
          3,
          3,
          3,
          3,
          2,
          2,
          2,
          2,
          2,
          2,
          3,
          3,
          3,
          3,
          3,
          3,
          3,
          3,
          3,
          3,
          3,
          3,
          3,
          3,
          3,
          3,
          3,
          3,
          3,
          3,
          3,
          3,
          3,
          3,
          2,
          2,
          3,
          4,
          3,
          3,
          4,
          3,
          3,
          3,
          3,
          3,
          3,
          3,
          3,
          3,
          2,
          2,
          2,
          3,
          3,
          3,
          3,
          3,
          4,
          6,
          6,
          2,
          2,
          2,
          2,
          2,
          4,
          4,
          4,
          2,
          3,
          3,
          3,
          4,
          4,
          4,
          4,
          5,
          5
         ],
         "xaxis": "x",
         "y": [
          62,
          284,
          299,
          924,
          60,
          190,
          1326,
          143,
          90,
          76,
          58,
          192,
          118,
          324,
          287,
          157,
          46,
          1202,
          310,
          1219,
          1090,
          509,
          262,
          263,
          107,
          135,
          95,
          66,
          453,
          440,
          485,
          402,
          292,
          578,
          584,
          343,
          101,
          439,
          4,
          15,
          139,
          196,
          986,
          19,
          621,
          88,
          103,
          539,
          202,
          1161,
          21,
          83,
          626,
          194,
          304,
          589,
          491,
          40,
          144,
          282,
          229,
          74,
          487,
          1446,
          1473,
          378,
          67,
          554,
          199,
          205,
          550,
          132,
          200,
          1116,
          126,
          659,
          133,
          559,
          80,
          112,
          166,
          86,
          540,
          1208,
          1043,
          573,
          270,
          437,
          368,
          38,
          336,
          52,
          248,
          486,
          520,
          207,
          373,
          18,
          219,
          244,
          873,
          215,
          616,
          110,
          391,
          119,
          158,
          32,
          311,
          193,
          374,
          150,
          256,
          706,
          327,
          255,
          59,
          210,
          969,
          43,
          1487,
          519,
          406,
          384,
          214,
          497,
          763,
          234,
          99,
          442,
          1066,
          783,
          54,
          73,
          530,
          393,
          376,
          120,
          558,
          51,
          64,
          395,
          96,
          613,
          724,
          295,
          404,
          242,
          504,
          579,
          1115,
          635,
          228,
          300,
          430,
          1046,
          940,
          225,
          309,
          279,
          1010,
          392,
          932,
          410,
          389,
          995
         ],
         "yaxis": "y"
        }
       ],
       "layout": {
        "legend": {
         "tracegroupgap": 0
        },
        "template": {
         "data": {
          "bar": [
           {
            "error_x": {
             "color": "#2a3f5f"
            },
            "error_y": {
             "color": "#2a3f5f"
            },
            "marker": {
             "line": {
              "color": "#E5ECF6",
              "width": 0.5
             },
             "pattern": {
              "fillmode": "overlay",
              "size": 10,
              "solidity": 0.2
             }
            },
            "type": "bar"
           }
          ],
          "barpolar": [
           {
            "marker": {
             "line": {
              "color": "#E5ECF6",
              "width": 0.5
             },
             "pattern": {
              "fillmode": "overlay",
              "size": 10,
              "solidity": 0.2
             }
            },
            "type": "barpolar"
           }
          ],
          "carpet": [
           {
            "aaxis": {
             "endlinecolor": "#2a3f5f",
             "gridcolor": "white",
             "linecolor": "white",
             "minorgridcolor": "white",
             "startlinecolor": "#2a3f5f"
            },
            "baxis": {
             "endlinecolor": "#2a3f5f",
             "gridcolor": "white",
             "linecolor": "white",
             "minorgridcolor": "white",
             "startlinecolor": "#2a3f5f"
            },
            "type": "carpet"
           }
          ],
          "choropleth": [
           {
            "colorbar": {
             "outlinewidth": 0,
             "ticks": ""
            },
            "type": "choropleth"
           }
          ],
          "contour": [
           {
            "colorbar": {
             "outlinewidth": 0,
             "ticks": ""
            },
            "colorscale": [
             [
              0,
              "#0d0887"
             ],
             [
              0.1111111111111111,
              "#46039f"
             ],
             [
              0.2222222222222222,
              "#7201a8"
             ],
             [
              0.3333333333333333,
              "#9c179e"
             ],
             [
              0.4444444444444444,
              "#bd3786"
             ],
             [
              0.5555555555555556,
              "#d8576b"
             ],
             [
              0.6666666666666666,
              "#ed7953"
             ],
             [
              0.7777777777777778,
              "#fb9f3a"
             ],
             [
              0.8888888888888888,
              "#fdca26"
             ],
             [
              1,
              "#f0f921"
             ]
            ],
            "type": "contour"
           }
          ],
          "contourcarpet": [
           {
            "colorbar": {
             "outlinewidth": 0,
             "ticks": ""
            },
            "type": "contourcarpet"
           }
          ],
          "heatmap": [
           {
            "colorbar": {
             "outlinewidth": 0,
             "ticks": ""
            },
            "colorscale": [
             [
              0,
              "#0d0887"
             ],
             [
              0.1111111111111111,
              "#46039f"
             ],
             [
              0.2222222222222222,
              "#7201a8"
             ],
             [
              0.3333333333333333,
              "#9c179e"
             ],
             [
              0.4444444444444444,
              "#bd3786"
             ],
             [
              0.5555555555555556,
              "#d8576b"
             ],
             [
              0.6666666666666666,
              "#ed7953"
             ],
             [
              0.7777777777777778,
              "#fb9f3a"
             ],
             [
              0.8888888888888888,
              "#fdca26"
             ],
             [
              1,
              "#f0f921"
             ]
            ],
            "type": "heatmap"
           }
          ],
          "heatmapgl": [
           {
            "colorbar": {
             "outlinewidth": 0,
             "ticks": ""
            },
            "colorscale": [
             [
              0,
              "#0d0887"
             ],
             [
              0.1111111111111111,
              "#46039f"
             ],
             [
              0.2222222222222222,
              "#7201a8"
             ],
             [
              0.3333333333333333,
              "#9c179e"
             ],
             [
              0.4444444444444444,
              "#bd3786"
             ],
             [
              0.5555555555555556,
              "#d8576b"
             ],
             [
              0.6666666666666666,
              "#ed7953"
             ],
             [
              0.7777777777777778,
              "#fb9f3a"
             ],
             [
              0.8888888888888888,
              "#fdca26"
             ],
             [
              1,
              "#f0f921"
             ]
            ],
            "type": "heatmapgl"
           }
          ],
          "histogram": [
           {
            "marker": {
             "pattern": {
              "fillmode": "overlay",
              "size": 10,
              "solidity": 0.2
             }
            },
            "type": "histogram"
           }
          ],
          "histogram2d": [
           {
            "colorbar": {
             "outlinewidth": 0,
             "ticks": ""
            },
            "colorscale": [
             [
              0,
              "#0d0887"
             ],
             [
              0.1111111111111111,
              "#46039f"
             ],
             [
              0.2222222222222222,
              "#7201a8"
             ],
             [
              0.3333333333333333,
              "#9c179e"
             ],
             [
              0.4444444444444444,
              "#bd3786"
             ],
             [
              0.5555555555555556,
              "#d8576b"
             ],
             [
              0.6666666666666666,
              "#ed7953"
             ],
             [
              0.7777777777777778,
              "#fb9f3a"
             ],
             [
              0.8888888888888888,
              "#fdca26"
             ],
             [
              1,
              "#f0f921"
             ]
            ],
            "type": "histogram2d"
           }
          ],
          "histogram2dcontour": [
           {
            "colorbar": {
             "outlinewidth": 0,
             "ticks": ""
            },
            "colorscale": [
             [
              0,
              "#0d0887"
             ],
             [
              0.1111111111111111,
              "#46039f"
             ],
             [
              0.2222222222222222,
              "#7201a8"
             ],
             [
              0.3333333333333333,
              "#9c179e"
             ],
             [
              0.4444444444444444,
              "#bd3786"
             ],
             [
              0.5555555555555556,
              "#d8576b"
             ],
             [
              0.6666666666666666,
              "#ed7953"
             ],
             [
              0.7777777777777778,
              "#fb9f3a"
             ],
             [
              0.8888888888888888,
              "#fdca26"
             ],
             [
              1,
              "#f0f921"
             ]
            ],
            "type": "histogram2dcontour"
           }
          ],
          "mesh3d": [
           {
            "colorbar": {
             "outlinewidth": 0,
             "ticks": ""
            },
            "type": "mesh3d"
           }
          ],
          "parcoords": [
           {
            "line": {
             "colorbar": {
              "outlinewidth": 0,
              "ticks": ""
             }
            },
            "type": "parcoords"
           }
          ],
          "pie": [
           {
            "automargin": true,
            "type": "pie"
           }
          ],
          "scatter": [
           {
            "fillpattern": {
             "fillmode": "overlay",
             "size": 10,
             "solidity": 0.2
            },
            "type": "scatter"
           }
          ],
          "scatter3d": [
           {
            "line": {
             "colorbar": {
              "outlinewidth": 0,
              "ticks": ""
             }
            },
            "marker": {
             "colorbar": {
              "outlinewidth": 0,
              "ticks": ""
             }
            },
            "type": "scatter3d"
           }
          ],
          "scattercarpet": [
           {
            "marker": {
             "colorbar": {
              "outlinewidth": 0,
              "ticks": ""
             }
            },
            "type": "scattercarpet"
           }
          ],
          "scattergeo": [
           {
            "marker": {
             "colorbar": {
              "outlinewidth": 0,
              "ticks": ""
             }
            },
            "type": "scattergeo"
           }
          ],
          "scattergl": [
           {
            "marker": {
             "colorbar": {
              "outlinewidth": 0,
              "ticks": ""
             }
            },
            "type": "scattergl"
           }
          ],
          "scattermapbox": [
           {
            "marker": {
             "colorbar": {
              "outlinewidth": 0,
              "ticks": ""
             }
            },
            "type": "scattermapbox"
           }
          ],
          "scatterpolar": [
           {
            "marker": {
             "colorbar": {
              "outlinewidth": 0,
              "ticks": ""
             }
            },
            "type": "scatterpolar"
           }
          ],
          "scatterpolargl": [
           {
            "marker": {
             "colorbar": {
              "outlinewidth": 0,
              "ticks": ""
             }
            },
            "type": "scatterpolargl"
           }
          ],
          "scatterternary": [
           {
            "marker": {
             "colorbar": {
              "outlinewidth": 0,
              "ticks": ""
             }
            },
            "type": "scatterternary"
           }
          ],
          "surface": [
           {
            "colorbar": {
             "outlinewidth": 0,
             "ticks": ""
            },
            "colorscale": [
             [
              0,
              "#0d0887"
             ],
             [
              0.1111111111111111,
              "#46039f"
             ],
             [
              0.2222222222222222,
              "#7201a8"
             ],
             [
              0.3333333333333333,
              "#9c179e"
             ],
             [
              0.4444444444444444,
              "#bd3786"
             ],
             [
              0.5555555555555556,
              "#d8576b"
             ],
             [
              0.6666666666666666,
              "#ed7953"
             ],
             [
              0.7777777777777778,
              "#fb9f3a"
             ],
             [
              0.8888888888888888,
              "#fdca26"
             ],
             [
              1,
              "#f0f921"
             ]
            ],
            "type": "surface"
           }
          ],
          "table": [
           {
            "cells": {
             "fill": {
              "color": "#EBF0F8"
             },
             "line": {
              "color": "white"
             }
            },
            "header": {
             "fill": {
              "color": "#C8D4E3"
             },
             "line": {
              "color": "white"
             }
            },
            "type": "table"
           }
          ]
         },
         "layout": {
          "annotationdefaults": {
           "arrowcolor": "#2a3f5f",
           "arrowhead": 0,
           "arrowwidth": 1
          },
          "autotypenumbers": "strict",
          "coloraxis": {
           "colorbar": {
            "outlinewidth": 0,
            "ticks": ""
           }
          },
          "colorscale": {
           "diverging": [
            [
             0,
             "#8e0152"
            ],
            [
             0.1,
             "#c51b7d"
            ],
            [
             0.2,
             "#de77ae"
            ],
            [
             0.3,
             "#f1b6da"
            ],
            [
             0.4,
             "#fde0ef"
            ],
            [
             0.5,
             "#f7f7f7"
            ],
            [
             0.6,
             "#e6f5d0"
            ],
            [
             0.7,
             "#b8e186"
            ],
            [
             0.8,
             "#7fbc41"
            ],
            [
             0.9,
             "#4d9221"
            ],
            [
             1,
             "#276419"
            ]
           ],
           "sequential": [
            [
             0,
             "#0d0887"
            ],
            [
             0.1111111111111111,
             "#46039f"
            ],
            [
             0.2222222222222222,
             "#7201a8"
            ],
            [
             0.3333333333333333,
             "#9c179e"
            ],
            [
             0.4444444444444444,
             "#bd3786"
            ],
            [
             0.5555555555555556,
             "#d8576b"
            ],
            [
             0.6666666666666666,
             "#ed7953"
            ],
            [
             0.7777777777777778,
             "#fb9f3a"
            ],
            [
             0.8888888888888888,
             "#fdca26"
            ],
            [
             1,
             "#f0f921"
            ]
           ],
           "sequentialminus": [
            [
             0,
             "#0d0887"
            ],
            [
             0.1111111111111111,
             "#46039f"
            ],
            [
             0.2222222222222222,
             "#7201a8"
            ],
            [
             0.3333333333333333,
             "#9c179e"
            ],
            [
             0.4444444444444444,
             "#bd3786"
            ],
            [
             0.5555555555555556,
             "#d8576b"
            ],
            [
             0.6666666666666666,
             "#ed7953"
            ],
            [
             0.7777777777777778,
             "#fb9f3a"
            ],
            [
             0.8888888888888888,
             "#fdca26"
            ],
            [
             1,
             "#f0f921"
            ]
           ]
          },
          "colorway": [
           "#636efa",
           "#EF553B",
           "#00cc96",
           "#ab63fa",
           "#FFA15A",
           "#19d3f3",
           "#FF6692",
           "#B6E880",
           "#FF97FF",
           "#FECB52"
          ],
          "font": {
           "color": "#2a3f5f"
          },
          "geo": {
           "bgcolor": "white",
           "lakecolor": "white",
           "landcolor": "#E5ECF6",
           "showlakes": true,
           "showland": true,
           "subunitcolor": "white"
          },
          "hoverlabel": {
           "align": "left"
          },
          "hovermode": "closest",
          "mapbox": {
           "style": "light"
          },
          "paper_bgcolor": "white",
          "plot_bgcolor": "#E5ECF6",
          "polar": {
           "angularaxis": {
            "gridcolor": "white",
            "linecolor": "white",
            "ticks": ""
           },
           "bgcolor": "#E5ECF6",
           "radialaxis": {
            "gridcolor": "white",
            "linecolor": "white",
            "ticks": ""
           }
          },
          "scene": {
           "xaxis": {
            "backgroundcolor": "#E5ECF6",
            "gridcolor": "white",
            "gridwidth": 2,
            "linecolor": "white",
            "showbackground": true,
            "ticks": "",
            "zerolinecolor": "white"
           },
           "yaxis": {
            "backgroundcolor": "#E5ECF6",
            "gridcolor": "white",
            "gridwidth": 2,
            "linecolor": "white",
            "showbackground": true,
            "ticks": "",
            "zerolinecolor": "white"
           },
           "zaxis": {
            "backgroundcolor": "#E5ECF6",
            "gridcolor": "white",
            "gridwidth": 2,
            "linecolor": "white",
            "showbackground": true,
            "ticks": "",
            "zerolinecolor": "white"
           }
          },
          "shapedefaults": {
           "line": {
            "color": "#2a3f5f"
           }
          },
          "ternary": {
           "aaxis": {
            "gridcolor": "white",
            "linecolor": "white",
            "ticks": ""
           },
           "baxis": {
            "gridcolor": "white",
            "linecolor": "white",
            "ticks": ""
           },
           "bgcolor": "#E5ECF6",
           "caxis": {
            "gridcolor": "white",
            "linecolor": "white",
            "ticks": ""
           }
          },
          "title": {
           "x": 0.05
          },
          "xaxis": {
           "automargin": true,
           "gridcolor": "white",
           "linecolor": "white",
           "ticks": "",
           "title": {
            "standoff": 15
           },
           "zerolinecolor": "white",
           "zerolinewidth": 2
          },
          "yaxis": {
           "automargin": true,
           "gridcolor": "white",
           "linecolor": "white",
           "ticks": "",
           "title": {
            "standoff": 15
           },
           "zerolinecolor": "white",
           "zerolinewidth": 2
          }
         }
        },
        "title": {
         "text": "Frekuensi Penggunaan vs. Tingkatan (JLPT N4)"
        },
        "xaxis": {
         "anchor": "y",
         "domain": [
          0,
          1
         ],
         "title": {
          "text": "Tingkat Kesulitan (Grade)"
         }
        },
        "yaxis": {
         "anchor": "x",
         "domain": [
          0,
          1
         ],
         "title": {
          "text": "Frekuensi Penggunaan"
         }
        }
       }
      }
     },
     "metadata": {},
     "output_type": "display_data"
    },
    {
     "data": {
      "application/vnd.plotly.v1+json": {
       "config": {
        "plotlyServerURL": "https://plot.ly"
       },
       "data": [
        {
         "hovertemplate": "<b>%{hovertext}</b><br><br>Tingkat Kesulitan (Grade)=%{x}<br>Frekuensi Penggunaan=%{y}<extra></extra>",
         "hovertext": [
          "一",
          "二",
          "九",
          "七",
          "人",
          "入",
          "八",
          "十",
          "三",
          "上",
          "下",
          "大",
          "女",
          "山",
          "川",
          "土",
          "千",
          "子",
          "小",
          "中",
          "五",
          "六",
          "円",
          "天",
          "日",
          "月",
          "木",
          "水",
          "火",
          "出",
          "右",
          "四",
          "左",
          "本",
          "白",
          "万",
          "今",
          "午",
          "友",
          "父",
          "北",
          "半",
          "外",
          "母",
          "休",
          "先",
          "名",
          "年",
          "気",
          "百",
          "男",
          "見",
          "車",
          "毎",
          "行",
          "西",
          "何",
          "来",
          "学",
          "金",
          "雨",
          "国",
          "東",
          "長",
          "前",
          "南",
          "後",
          "食",
          "校",
          "時",
          "高",
          "間",
          "話",
          "電",
          "聞",
          "語",
          "読",
          "生",
          "書"
         ],
         "legendgroup": "",
         "marker": {
          "color": "#636efa",
          "line": {
           "color": "DarkSlateGrey",
           "width": 2
          },
          "size": 12,
          "symbol": "circle"
         },
         "mode": "markers",
         "name": "",
         "orientation": "v",
         "showlegend": false,
         "type": "scatter",
         "x": [
          1,
          1,
          1,
          1,
          1,
          1,
          1,
          1,
          1,
          1,
          1,
          1,
          1,
          1,
          1,
          1,
          1,
          1,
          1,
          1,
          1,
          1,
          1,
          1,
          1,
          1,
          1,
          1,
          1,
          1,
          1,
          1,
          1,
          1,
          1,
          2,
          2,
          2,
          2,
          2,
          2,
          2,
          2,
          2,
          1,
          1,
          1,
          1,
          1,
          1,
          1,
          1,
          1,
          2,
          2,
          2,
          2,
          2,
          1,
          1,
          1,
          2,
          2,
          2,
          2,
          2,
          2,
          2,
          1,
          2,
          2,
          2,
          2,
          2,
          2,
          2,
          2,
          1,
          2
         ],
         "xaxis": "x",
         "y": [
          2,
          9,
          55,
          115,
          5,
          56,
          92,
          8,
          14,
          35,
          97,
          7,
          151,
          131,
          181,
          307,
          195,
          72,
          114,
          11,
          31,
          93,
          69,
          512,
          1,
          23,
          317,
          223,
          574,
          13,
          602,
          47,
          630,
          10,
          483,
          375,
          49,
          154,
          622,
          646,
          153,
          224,
          81,
          570,
          642,
          173,
          177,
          6,
          113,
          163,
          240,
          22,
          333,
          436,
          20,
          259,
          340,
          102,
          63,
          53,
          950,
          3,
          37,
          12,
          27,
          341,
          26,
          328,
          294,
          16,
          65,
          33,
          134,
          268,
          319,
          301,
          618,
          29,
          169
         ],
         "yaxis": "y"
        }
       ],
       "layout": {
        "legend": {
         "tracegroupgap": 0
        },
        "template": {
         "data": {
          "bar": [
           {
            "error_x": {
             "color": "#2a3f5f"
            },
            "error_y": {
             "color": "#2a3f5f"
            },
            "marker": {
             "line": {
              "color": "#E5ECF6",
              "width": 0.5
             },
             "pattern": {
              "fillmode": "overlay",
              "size": 10,
              "solidity": 0.2
             }
            },
            "type": "bar"
           }
          ],
          "barpolar": [
           {
            "marker": {
             "line": {
              "color": "#E5ECF6",
              "width": 0.5
             },
             "pattern": {
              "fillmode": "overlay",
              "size": 10,
              "solidity": 0.2
             }
            },
            "type": "barpolar"
           }
          ],
          "carpet": [
           {
            "aaxis": {
             "endlinecolor": "#2a3f5f",
             "gridcolor": "white",
             "linecolor": "white",
             "minorgridcolor": "white",
             "startlinecolor": "#2a3f5f"
            },
            "baxis": {
             "endlinecolor": "#2a3f5f",
             "gridcolor": "white",
             "linecolor": "white",
             "minorgridcolor": "white",
             "startlinecolor": "#2a3f5f"
            },
            "type": "carpet"
           }
          ],
          "choropleth": [
           {
            "colorbar": {
             "outlinewidth": 0,
             "ticks": ""
            },
            "type": "choropleth"
           }
          ],
          "contour": [
           {
            "colorbar": {
             "outlinewidth": 0,
             "ticks": ""
            },
            "colorscale": [
             [
              0,
              "#0d0887"
             ],
             [
              0.1111111111111111,
              "#46039f"
             ],
             [
              0.2222222222222222,
              "#7201a8"
             ],
             [
              0.3333333333333333,
              "#9c179e"
             ],
             [
              0.4444444444444444,
              "#bd3786"
             ],
             [
              0.5555555555555556,
              "#d8576b"
             ],
             [
              0.6666666666666666,
              "#ed7953"
             ],
             [
              0.7777777777777778,
              "#fb9f3a"
             ],
             [
              0.8888888888888888,
              "#fdca26"
             ],
             [
              1,
              "#f0f921"
             ]
            ],
            "type": "contour"
           }
          ],
          "contourcarpet": [
           {
            "colorbar": {
             "outlinewidth": 0,
             "ticks": ""
            },
            "type": "contourcarpet"
           }
          ],
          "heatmap": [
           {
            "colorbar": {
             "outlinewidth": 0,
             "ticks": ""
            },
            "colorscale": [
             [
              0,
              "#0d0887"
             ],
             [
              0.1111111111111111,
              "#46039f"
             ],
             [
              0.2222222222222222,
              "#7201a8"
             ],
             [
              0.3333333333333333,
              "#9c179e"
             ],
             [
              0.4444444444444444,
              "#bd3786"
             ],
             [
              0.5555555555555556,
              "#d8576b"
             ],
             [
              0.6666666666666666,
              "#ed7953"
             ],
             [
              0.7777777777777778,
              "#fb9f3a"
             ],
             [
              0.8888888888888888,
              "#fdca26"
             ],
             [
              1,
              "#f0f921"
             ]
            ],
            "type": "heatmap"
           }
          ],
          "heatmapgl": [
           {
            "colorbar": {
             "outlinewidth": 0,
             "ticks": ""
            },
            "colorscale": [
             [
              0,
              "#0d0887"
             ],
             [
              0.1111111111111111,
              "#46039f"
             ],
             [
              0.2222222222222222,
              "#7201a8"
             ],
             [
              0.3333333333333333,
              "#9c179e"
             ],
             [
              0.4444444444444444,
              "#bd3786"
             ],
             [
              0.5555555555555556,
              "#d8576b"
             ],
             [
              0.6666666666666666,
              "#ed7953"
             ],
             [
              0.7777777777777778,
              "#fb9f3a"
             ],
             [
              0.8888888888888888,
              "#fdca26"
             ],
             [
              1,
              "#f0f921"
             ]
            ],
            "type": "heatmapgl"
           }
          ],
          "histogram": [
           {
            "marker": {
             "pattern": {
              "fillmode": "overlay",
              "size": 10,
              "solidity": 0.2
             }
            },
            "type": "histogram"
           }
          ],
          "histogram2d": [
           {
            "colorbar": {
             "outlinewidth": 0,
             "ticks": ""
            },
            "colorscale": [
             [
              0,
              "#0d0887"
             ],
             [
              0.1111111111111111,
              "#46039f"
             ],
             [
              0.2222222222222222,
              "#7201a8"
             ],
             [
              0.3333333333333333,
              "#9c179e"
             ],
             [
              0.4444444444444444,
              "#bd3786"
             ],
             [
              0.5555555555555556,
              "#d8576b"
             ],
             [
              0.6666666666666666,
              "#ed7953"
             ],
             [
              0.7777777777777778,
              "#fb9f3a"
             ],
             [
              0.8888888888888888,
              "#fdca26"
             ],
             [
              1,
              "#f0f921"
             ]
            ],
            "type": "histogram2d"
           }
          ],
          "histogram2dcontour": [
           {
            "colorbar": {
             "outlinewidth": 0,
             "ticks": ""
            },
            "colorscale": [
             [
              0,
              "#0d0887"
             ],
             [
              0.1111111111111111,
              "#46039f"
             ],
             [
              0.2222222222222222,
              "#7201a8"
             ],
             [
              0.3333333333333333,
              "#9c179e"
             ],
             [
              0.4444444444444444,
              "#bd3786"
             ],
             [
              0.5555555555555556,
              "#d8576b"
             ],
             [
              0.6666666666666666,
              "#ed7953"
             ],
             [
              0.7777777777777778,
              "#fb9f3a"
             ],
             [
              0.8888888888888888,
              "#fdca26"
             ],
             [
              1,
              "#f0f921"
             ]
            ],
            "type": "histogram2dcontour"
           }
          ],
          "mesh3d": [
           {
            "colorbar": {
             "outlinewidth": 0,
             "ticks": ""
            },
            "type": "mesh3d"
           }
          ],
          "parcoords": [
           {
            "line": {
             "colorbar": {
              "outlinewidth": 0,
              "ticks": ""
             }
            },
            "type": "parcoords"
           }
          ],
          "pie": [
           {
            "automargin": true,
            "type": "pie"
           }
          ],
          "scatter": [
           {
            "fillpattern": {
             "fillmode": "overlay",
             "size": 10,
             "solidity": 0.2
            },
            "type": "scatter"
           }
          ],
          "scatter3d": [
           {
            "line": {
             "colorbar": {
              "outlinewidth": 0,
              "ticks": ""
             }
            },
            "marker": {
             "colorbar": {
              "outlinewidth": 0,
              "ticks": ""
             }
            },
            "type": "scatter3d"
           }
          ],
          "scattercarpet": [
           {
            "marker": {
             "colorbar": {
              "outlinewidth": 0,
              "ticks": ""
             }
            },
            "type": "scattercarpet"
           }
          ],
          "scattergeo": [
           {
            "marker": {
             "colorbar": {
              "outlinewidth": 0,
              "ticks": ""
             }
            },
            "type": "scattergeo"
           }
          ],
          "scattergl": [
           {
            "marker": {
             "colorbar": {
              "outlinewidth": 0,
              "ticks": ""
             }
            },
            "type": "scattergl"
           }
          ],
          "scattermapbox": [
           {
            "marker": {
             "colorbar": {
              "outlinewidth": 0,
              "ticks": ""
             }
            },
            "type": "scattermapbox"
           }
          ],
          "scatterpolar": [
           {
            "marker": {
             "colorbar": {
              "outlinewidth": 0,
              "ticks": ""
             }
            },
            "type": "scatterpolar"
           }
          ],
          "scatterpolargl": [
           {
            "marker": {
             "colorbar": {
              "outlinewidth": 0,
              "ticks": ""
             }
            },
            "type": "scatterpolargl"
           }
          ],
          "scatterternary": [
           {
            "marker": {
             "colorbar": {
              "outlinewidth": 0,
              "ticks": ""
             }
            },
            "type": "scatterternary"
           }
          ],
          "surface": [
           {
            "colorbar": {
             "outlinewidth": 0,
             "ticks": ""
            },
            "colorscale": [
             [
              0,
              "#0d0887"
             ],
             [
              0.1111111111111111,
              "#46039f"
             ],
             [
              0.2222222222222222,
              "#7201a8"
             ],
             [
              0.3333333333333333,
              "#9c179e"
             ],
             [
              0.4444444444444444,
              "#bd3786"
             ],
             [
              0.5555555555555556,
              "#d8576b"
             ],
             [
              0.6666666666666666,
              "#ed7953"
             ],
             [
              0.7777777777777778,
              "#fb9f3a"
             ],
             [
              0.8888888888888888,
              "#fdca26"
             ],
             [
              1,
              "#f0f921"
             ]
            ],
            "type": "surface"
           }
          ],
          "table": [
           {
            "cells": {
             "fill": {
              "color": "#EBF0F8"
             },
             "line": {
              "color": "white"
             }
            },
            "header": {
             "fill": {
              "color": "#C8D4E3"
             },
             "line": {
              "color": "white"
             }
            },
            "type": "table"
           }
          ]
         },
         "layout": {
          "annotationdefaults": {
           "arrowcolor": "#2a3f5f",
           "arrowhead": 0,
           "arrowwidth": 1
          },
          "autotypenumbers": "strict",
          "coloraxis": {
           "colorbar": {
            "outlinewidth": 0,
            "ticks": ""
           }
          },
          "colorscale": {
           "diverging": [
            [
             0,
             "#8e0152"
            ],
            [
             0.1,
             "#c51b7d"
            ],
            [
             0.2,
             "#de77ae"
            ],
            [
             0.3,
             "#f1b6da"
            ],
            [
             0.4,
             "#fde0ef"
            ],
            [
             0.5,
             "#f7f7f7"
            ],
            [
             0.6,
             "#e6f5d0"
            ],
            [
             0.7,
             "#b8e186"
            ],
            [
             0.8,
             "#7fbc41"
            ],
            [
             0.9,
             "#4d9221"
            ],
            [
             1,
             "#276419"
            ]
           ],
           "sequential": [
            [
             0,
             "#0d0887"
            ],
            [
             0.1111111111111111,
             "#46039f"
            ],
            [
             0.2222222222222222,
             "#7201a8"
            ],
            [
             0.3333333333333333,
             "#9c179e"
            ],
            [
             0.4444444444444444,
             "#bd3786"
            ],
            [
             0.5555555555555556,
             "#d8576b"
            ],
            [
             0.6666666666666666,
             "#ed7953"
            ],
            [
             0.7777777777777778,
             "#fb9f3a"
            ],
            [
             0.8888888888888888,
             "#fdca26"
            ],
            [
             1,
             "#f0f921"
            ]
           ],
           "sequentialminus": [
            [
             0,
             "#0d0887"
            ],
            [
             0.1111111111111111,
             "#46039f"
            ],
            [
             0.2222222222222222,
             "#7201a8"
            ],
            [
             0.3333333333333333,
             "#9c179e"
            ],
            [
             0.4444444444444444,
             "#bd3786"
            ],
            [
             0.5555555555555556,
             "#d8576b"
            ],
            [
             0.6666666666666666,
             "#ed7953"
            ],
            [
             0.7777777777777778,
             "#fb9f3a"
            ],
            [
             0.8888888888888888,
             "#fdca26"
            ],
            [
             1,
             "#f0f921"
            ]
           ]
          },
          "colorway": [
           "#636efa",
           "#EF553B",
           "#00cc96",
           "#ab63fa",
           "#FFA15A",
           "#19d3f3",
           "#FF6692",
           "#B6E880",
           "#FF97FF",
           "#FECB52"
          ],
          "font": {
           "color": "#2a3f5f"
          },
          "geo": {
           "bgcolor": "white",
           "lakecolor": "white",
           "landcolor": "#E5ECF6",
           "showlakes": true,
           "showland": true,
           "subunitcolor": "white"
          },
          "hoverlabel": {
           "align": "left"
          },
          "hovermode": "closest",
          "mapbox": {
           "style": "light"
          },
          "paper_bgcolor": "white",
          "plot_bgcolor": "#E5ECF6",
          "polar": {
           "angularaxis": {
            "gridcolor": "white",
            "linecolor": "white",
            "ticks": ""
           },
           "bgcolor": "#E5ECF6",
           "radialaxis": {
            "gridcolor": "white",
            "linecolor": "white",
            "ticks": ""
           }
          },
          "scene": {
           "xaxis": {
            "backgroundcolor": "#E5ECF6",
            "gridcolor": "white",
            "gridwidth": 2,
            "linecolor": "white",
            "showbackground": true,
            "ticks": "",
            "zerolinecolor": "white"
           },
           "yaxis": {
            "backgroundcolor": "#E5ECF6",
            "gridcolor": "white",
            "gridwidth": 2,
            "linecolor": "white",
            "showbackground": true,
            "ticks": "",
            "zerolinecolor": "white"
           },
           "zaxis": {
            "backgroundcolor": "#E5ECF6",
            "gridcolor": "white",
            "gridwidth": 2,
            "linecolor": "white",
            "showbackground": true,
            "ticks": "",
            "zerolinecolor": "white"
           }
          },
          "shapedefaults": {
           "line": {
            "color": "#2a3f5f"
           }
          },
          "ternary": {
           "aaxis": {
            "gridcolor": "white",
            "linecolor": "white",
            "ticks": ""
           },
           "baxis": {
            "gridcolor": "white",
            "linecolor": "white",
            "ticks": ""
           },
           "bgcolor": "#E5ECF6",
           "caxis": {
            "gridcolor": "white",
            "linecolor": "white",
            "ticks": ""
           }
          },
          "title": {
           "x": 0.05
          },
          "xaxis": {
           "automargin": true,
           "gridcolor": "white",
           "linecolor": "white",
           "ticks": "",
           "title": {
            "standoff": 15
           },
           "zerolinecolor": "white",
           "zerolinewidth": 2
          },
          "yaxis": {
           "automargin": true,
           "gridcolor": "white",
           "linecolor": "white",
           "ticks": "",
           "title": {
            "standoff": 15
           },
           "zerolinecolor": "white",
           "zerolinewidth": 2
          }
         }
        },
        "title": {
         "text": "Frekuensi Penggunaan vs. Tingkatan (JLPT N5)"
        },
        "xaxis": {
         "anchor": "y",
         "domain": [
          0,
          1
         ],
         "title": {
          "text": "Tingkat Kesulitan (Grade)"
         }
        },
        "yaxis": {
         "anchor": "x",
         "domain": [
          0,
          1
         ],
         "title": {
          "text": "Frekuensi Penggunaan"
         }
        }
       }
      }
     },
     "metadata": {},
     "output_type": "display_data"
    }
   ],
   "source": [
    "fig1 = px.scatter(df[df['jlpt_new']==1], x='grade', y='freq', hover_name=df[df['jlpt_new']==1].index,\n",
    "                 title='Frekuensi Penggunaan vs. Tingkatan (JLPT N1)',\n",
    "                 labels={'grade': 'Tingkat Kesulitan (Grade)', 'freq': 'Frekuensi Penggunaan'})\n",
    "fig1.update_traces(marker=dict(size=12,\n",
    "                              line=dict(width=2,\n",
    "                                        color='DarkSlateGrey')),\n",
    "                  selector=dict(mode='markers'))\n",
    "fig1.show()\n",
    "\n",
    "fig2 = px.scatter(df[df['jlpt_new']==2], x='grade', y='freq', hover_name=df[df['jlpt_new']==2].index,\n",
    "                 title='Frekuensi Penggunaan vs. Tingkatan (JLPT N2)',\n",
    "                 labels={'grade': 'Tingkat Kesulitan (Grade)', 'freq': 'Frekuensi Penggunaan'})\n",
    "fig2.update_traces(marker=dict(size=12,\n",
    "                              line=dict(width=2,\n",
    "                                        color='DarkSlateGrey')),\n",
    "                  selector=dict(mode='markers'))\n",
    "fig2.show()\n",
    "\n",
    "fig3 = px.scatter(df[df['jlpt_new']==3], x='grade', y='freq', hover_name=df[df['jlpt_new']==3].index,\n",
    "                 title='Frekuensi Penggunaan vs. Tingkatan (JLPT N3)',\n",
    "                 labels={'grade': 'Tingkat Kesulitan (Grade)', 'freq': 'Frekuensi Penggunaan'})\n",
    "fig3.update_traces(marker=dict(size=12,\n",
    "                              line=dict(width=2,\n",
    "                                        color='DarkSlateGrey')),\n",
    "                  selector=dict(mode='markers'))\n",
    "fig3.show()\n",
    "\n",
    "fig4 = px.scatter(df[df['jlpt_new']==4], x='grade', y='freq', hover_name=df[df['jlpt_new']==4].index,\n",
    "                 title='Frekuensi Penggunaan vs. Tingkatan (JLPT N4)',\n",
    "                 labels={'grade': 'Tingkat Kesulitan (Grade)', 'freq': 'Frekuensi Penggunaan'})\n",
    "fig4.update_traces(marker=dict(size=12,\n",
    "                              line=dict(width=2,\n",
    "                                        color='DarkSlateGrey')),\n",
    "                  selector=dict(mode='markers'))\n",
    "fig4.show()\n",
    "\n",
    "fig5 = px.scatter(df[df['jlpt_new']==5], x='grade', y='freq', hover_name=df[df['jlpt_new']==5].index,\n",
    "                 title='Frekuensi Penggunaan vs. Tingkatan (JLPT N5)',\n",
    "                 labels={'grade': 'Tingkat Kesulitan (Grade)', 'freq': 'Frekuensi Penggunaan'})\n",
    "fig5.update_traces(marker=dict(size=12,\n",
    "                              line=dict(width=2,\n",
    "                                        color='DarkSlateGrey')),\n",
    "                  selector=dict(mode='markers'))\n",
    "fig5.show()"
   ]
  },
  {
   "cell_type": "markdown",
   "metadata": {},
   "source": [
    "### **Visualisasi Seaborn Histogram with KDE**"
   ]
  },
  {
   "cell_type": "code",
   "execution_count": 14,
   "metadata": {},
   "outputs": [
    {
     "data": {
      "image/png": "[encoded data removed]",
      "text/plain": [
       "<Figure size 800x500 with 1 Axes>"
      ]
     },
     "metadata": {},
     "output_type": "display_data"
    },
    {
     "data": {
      "image/png": "[encoded data removed]",
      "text/plain": [
       "<Figure size 800x500 with 1 Axes>"
      ]
     },
     "metadata": {},
     "output_type": "display_data"
    },
    {
     "data": {
      "image/png": "[encoded data removed]",
      "text/plain": [
       "<Figure size 800x500 with 1 Axes>"
      ]
     },
     "metadata": {},
     "output_type": "display_data"
    },
    {
     "data": {
      "image/png": "[encoded data removed]",
      "text/plain": [
       "<Figure size 800x500 with 1 Axes>"
      ]
     },
     "metadata": {},
     "output_type": "display_data"
    },
    {
     "data": {
      "image/png": "[encoded data removed]",
      "text/plain": [
       "<Figure size 800x500 with 1 Axes>"
      ]
     },
     "metadata": {},
     "output_type": "display_data"
    }
   ],
   "source": [
    "for level in range(1, 6):\n",
    "    filtered_df = df[df['jlpt_new'] == level]\n",
    "\n",
    "    plt.figure(figsize=(8, 5))  # Atur ukuran plot\n",
    "    sns.histplot(filtered_df['freq'], bins=10, kde=True)\n",
    "    plt.title(f'Distribusi Frekuensi Penggunaan Kanji (JLPT N{level})')\n",
    "    plt.xlabel('Frekuensi Penggunaan')\n",
    "    plt.ylabel('Jumlah Kanji')\n",
    "    plt.show()"
   ]
  },
  {
   "cell_type": "markdown",
   "metadata": {},
   "source": [
    "### **Visualisasi heatmap**"
   ]
  },
  {
   "cell_type": "code",
   "execution_count": 11,
   "metadata": {},
   "outputs": [
    {
     "data": {
      "image/png": "[encoded data removed]",
      "text/plain": [
       "<Figure size 1600x1200 with 2 Axes>"
      ]
     },
     "metadata": {},
     "output_type": "display_data"
    }
   ],
   "source": [
    "pivot_table = df.pivot_table(index='strokes', columns='grade', aggfunc='size', fill_value=0)\n",
    "\n",
    "plt.figure(figsize=(16, 12))\n",
    "sns.heatmap(pivot_table, annot=True, fmt='d', cmap='YlGnBu', cbar_kws={'label': 'Jumlah Kanji'})\n",
    "plt.title('Jumlah Goresan vs Tingkat Kesulitan Kanji')\n",
    "plt.xlabel('Tingkat Kesulitan (Grade)')\n",
    "plt.ylabel('Jumlah Goresan')\n",
    "plt.show()"
   ]
  }
 ],
 "metadata": {
  "kernelspec": {
   "display_name": ".venv",
   "language": "python",
   "name": "python3"
  },
  "language_info": {
   "codemirror_mode": {
    "name": "ipython",
    "version": 3
   },
   "file_extension": ".py",
   "mimetype": "text/x-python",
   "name": "python",
   "nbconvert_exporter": "python",
   "pygments_lexer": "ipython3",
   "version": "3.11.8"
  }
 },
 "nbformat": 4,
 "nbformat_minor": 2
}
